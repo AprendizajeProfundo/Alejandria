{
 "cells": [
  {
   "cell_type": "markdown",
   "id": "0cc0ea0f-a39a-4f42-99e4-8882fb274470",
   "metadata": {},
   "source": [
    "## Pruebas Agentes"
   ]
  },
  {
   "cell_type": "code",
   "execution_count": 1,
   "id": "e3981fb3-7d5d-45d2-8842-4484b8c5fc0d",
   "metadata": {
    "tags": []
   },
   "outputs": [],
   "source": [
    "class AgenteUsuario:\n",
    "    def __init__(self):\n",
    "        self.instrucciones = []\n",
    "\n",
    "    def dar_instruccion(self, instruccion):\n",
    "        self.instrucciones.append(instruccion)\n",
    "        return instruccion\n",
    "\n",
    "class AgenteAsistente:\n",
    "    def __init__(self):\n",
    "        self.acciones = []\n",
    "\n",
    "    def ejecutar_accion(self, instruccion):\n",
    "        # Aquí, el agente asistente procesaría la instrucción y realizaría una acción.\n",
    "        accion = f\"Acción basada en: {instruccion}\"\n",
    "        self.acciones.append(accion)\n",
    "        return accion\n"
   ]
  },
  {
   "cell_type": "code",
   "execution_count": 2,
   "id": "f6f6db69-dff8-4abc-b952-45387c0874de",
   "metadata": {
    "tags": []
   },
   "outputs": [
    {
     "name": "stdout",
     "output_type": "stream",
     "text": [
      "Instrucción dada: Ejemplo de instrucción\n",
      "Acción realizada: Acción basada en: Ejemplo de instrucción\n"
     ]
    }
   ],
   "source": [
    "def interaccion_role_playing(agente_usuario, agente_asistente):\n",
    "    instruccion = agente_usuario.dar_instruccion(\"Ejemplo de instrucción\")\n",
    "    accion = agente_asistente.ejecutar_accion(instruccion)\n",
    "    return instruccion, accion\n",
    "\n",
    "# Crear instancias de los agentes\n",
    "usuario = AgenteUsuario()\n",
    "asistente = AgenteAsistente()\n",
    "\n",
    "# Ejemplo de interacción\n",
    "instruccion, accion = interaccion_role_playing(usuario, asistente)\n",
    "print(f\"Instrucción dada: {instruccion}\")\n",
    "print(f\"Acción realizada: {accion}\")"
   ]
  },
  {
   "cell_type": "code",
   "execution_count": 4,
   "id": "227fb02a-09e8-4a6b-9a13-b35d77d3642f",
   "metadata": {
    "tags": []
   },
   "outputs": [],
   "source": [
    "import pandas as pd"
   ]
  },
  {
   "cell_type": "code",
   "execution_count": 7,
   "id": "f8b32dc4-6772-4d98-93b2-68b682271fb7",
   "metadata": {
    "tags": []
   },
   "outputs": [],
   "source": [
    "data = pd.read_csv(\"resultados y distancias.csv\", index_col=0)"
   ]
  },
  {
   "cell_type": "code",
   "execution_count": 13,
   "id": "68b2f283-9fbf-426b-8512-142fa7bb14cc",
   "metadata": {
    "tags": []
   },
   "outputs": [
    {
     "data": {
      "text/plain": [
       "array([[3059,\n",
       "        '832002496##cundinamarca__instituto_municipal_de_deporte_y_recreacion__ubala##CUNDINAMARCA',\n",
       "        3335168, 0.97790277,\n",
       "        '832003469:2##instituto_municipal_de_deportes_y_recreacion_-_el_rosal##cundinamarca'],\n",
       "       [361,\n",
       "        '823000399##sucre__instituto_municipal_de_deporte_y_recreacion_de_since##SUCRE',\n",
       "        3335467, 0.9772712,\n",
       "        '823000588:4##instituto_municipal_del_deporte_y_recreacion_de_san_onofre##sucre'],\n",
       "       [7565,\n",
       "        'NoDefinid##bolivar__instituto_departamental_de_deportes_y_recreacion_de_bolivar##BOLIVAR',\n",
       "        3334449, 0.9764135,\n",
       "        '806005353:1##instituto_departamental_de_deportes_y_recreacion_de_bolivar##bolivar'],\n",
       "       [2970,\n",
       "        'NoDefinid##atlantico__instituto_departamental_de_recreacion_y_deportes_del_atlantico##ATLANTICO',\n",
       "        3333202, 0.9762933,\n",
       "        '802011084:5##instituto_departamental_de_recreacion_y_deportes_del_atlantico##atlantico'],\n",
       "       [2144,\n",
       "        '823003268##sucre__instituto_municipal_para_el_deporte_la_recreacion_el_aprovechamiento_del_tiempo_libre_y_la_educacion_extraescolar_de_caimito##SUCRE',\n",
       "        3335480, 0.97321725,\n",
       "        '901263945:1##instituto_municipal_del_deporte_y_la_recreacion,_el_aprovechamiento_del_tiempo_libre,_la_educacion_extraescolar_y_la_educacion_fisica_de_corozal##sucre']],\n",
       "      dtype=object)"
      ]
     },
     "execution_count": 13,
     "metadata": {},
     "output_type": "execute_result"
    }
   ],
   "source": [
    "data.sort_values(by=\"Top 1 Similarity Score\", ascending=False).head().values"
   ]
  }
 ],
 "metadata": {
  "kernelspec": {
   "display_name": "Python 3 (ipykernel)",
   "language": "python",
   "name": "python3"
  },
  "language_info": {
   "codemirror_mode": {
    "name": "ipython",
    "version": 3
   },
   "file_extension": ".py",
   "mimetype": "text/x-python",
   "name": "python",
   "nbconvert_exporter": "python",
   "pygments_lexer": "ipython3",
   "version": "3.9.18"
  }
 },
 "nbformat": 4,
 "nbformat_minor": 5
}
