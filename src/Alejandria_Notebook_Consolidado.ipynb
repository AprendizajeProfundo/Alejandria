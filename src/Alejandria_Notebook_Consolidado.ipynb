{
 "cells": [
  {
   "cell_type": "markdown",
   "id": "intro",
   "metadata": {},
   "source": [
    "# Análisis Comparativo de Sistemas RAPTOR y Aplicaciones\n",
    "\n",
    "\n",
    "\n",
    "Este notebook explora diferentes implementaciones del sistema RAPTOR en Various Contextos Técnicos, incluyendo la extracción de tablas, mejoras en decodificación ML y estructuras jerárquicas para recuperación de información.\n"
   ]
  },
  {
   "cell_type": "markdown",
   "id": "toc",
   "metadata": {},
   "source": [
    "## Tabla de Contenidos\n",
    "\n",
    "\n",
    "\n",
    "1. [Introducción a los Sistemas RAPTOR](#introduccion)\n",
    "\n",
    "2. [Extracción de Tablas con RAPTOR](#tablas)\n",
    "\n",
    "3. [Mejora en Decodificación ML](#decodificacion)\n",
    "\n",
    "4. [Comparación de Métodos](#comparacion)\n",
    "\n",
    "5. [Conclusión General](#conclusiones)"
   ]
  },
  {
   "cell_type": "markdown",
   "id": "introduccion",
   "metadata": {},
   "source": [
    "# Introducción\n",
    "\n",
    "\n",
    "\n",
    "Los sistemas RAPTOR representan avances significativos en tareas de procesamiento de lenguaje natural y extracción de información. Este notebook analiza tres implementaciones clave:\n",
    "\n",
    "- RAPTOR para recuperación jerárquica de información.\n",
    "\n",
    "- Sistemas RAPTOR para detección de tablas en documentos.\n",
    "\n",
    "- Análisis de desempeño de códigos Raptor en decodificación ML."
   ]
  },
  {
   "cell_type": "markdown",
   "id": "metodos",
   "metadata": {},
   "source": [
    "# Métodos y Detalles\n",
    "\n",
    "\n",
    "\n",
    "## 1. RAPTOR: Recuperación Jerárquica de Información\n",
    "\n",
    "- **Método**: Sumarización recursiva y clustering con GMMs.\n",
    "\n",
    "- **Algoritmos**: Uso de BIC para selección de modelos en clustering."
   ]
  },
  {
   "cell_type": "markdown",
   "id": "ejemplo1",
   "metadata": {},
   "source": [
    "# Ejemplo de Implementación: RAPTOR para Recuperación Jerárquica\n"
   ]
  },
  {
   "cell_type": "code",
   "execution_count": 1,
   "id": "codigo1",
   "metadata": {
    "execution": {
     "iopub.execute_input": "2025-02-28T22:09:03.256100Z",
     "iopub.status.busy": "2025-02-28T22:09:03.255618Z",
     "iopub.status.idle": "2025-02-28T22:09:03.269004Z",
     "shell.execute_reply": "2025-02-28T22:09:03.267916Z"
    }
   },
   "outputs": [
    {
     "name": "stdout",
     "output_type": "stream",
     "text": [
      "Ejemplo de código para recuperación jerárquica\n"
     ]
    }
   ],
   "source": [
    "print('Ejemplo de código para recuperación jerárquica')"
   ]
  },
  {
   "cell_type": "markdown",
   "id": "comparacion",
   "metadata": {},
   "source": [
    "# Comparación con Métodos Tradicionales\n",
    "\n",
    "\n",
    "\n",
    "- **Comparación**: Mejor rendimiento en tareas complejas de razonamiento multi-paso."
   ]
  },
  {
   "cell_type": "markdown",
   "id": "tablas",
   "metadata": {},
   "source": [
    "# Detección de Tablas con RAPTOR\n",
    "\n",
    "\n",
    "\n",
    "- **Método**: Uso de DETR y TATR para detección y estructura."
   ]
  },
  {
   "cell_type": "markdown",
   "id": "ejemplo2",
   "metadata": {},
   "source": [
    "# Ejemplo de Implementación: Detección de Tablas"
   ]
  },
  {
   "cell_type": "code",
   "execution_count": 2,
   "id": "codigo2",
   "metadata": {
    "execution": {
     "iopub.execute_input": "2025-02-28T22:09:03.272580Z",
     "iopub.status.busy": "2025-02-28T22:09:03.272226Z",
     "iopub.status.idle": "2025-02-28T22:09:03.276281Z",
     "shell.execute_reply": "2025-02-28T22:09:03.275586Z"
    }
   },
   "outputs": [
    {
     "name": "stdout",
     "output_type": "stream",
     "text": [
      "Ejemplo de detección de tablas\n"
     ]
    }
   ],
   "source": [
    "print('Ejemplo de detección de tablas')"
   ]
  },
  {
   "cell_type": "markdown",
   "id": "decodificacion",
   "metadata": {},
   "source": [
    "# Mejora en Decodificación ML\n",
    "\n",
    "\n",
    "\n",
    "- **Método**: Límites superior e inferior para probabilidad de éxito."
   ]
  },
  {
   "cell_type": "markdown",
   "id": "ejemplo3",
   "metadata": {},
   "source": [
    "# Ejemplo de Implementación: Decodificación ML"
   ]
  },
  {
   "cell_type": "code",
   "execution_count": 3,
   "id": "codigo3",
   "metadata": {
    "execution": {
     "iopub.execute_input": "2025-02-28T22:09:03.279919Z",
     "iopub.status.busy": "2025-02-28T22:09:03.279643Z",
     "iopub.status.idle": "2025-02-28T22:09:03.282657Z",
     "shell.execute_reply": "2025-02-28T22:09:03.282174Z"
    }
   },
   "outputs": [
    {
     "name": "stdout",
     "output_type": "stream",
     "text": [
      "Ejemplo de decodificación ML\n"
     ]
    }
   ],
   "source": [
    "print('Ejemplo de decodificación ML')"
   ]
  },
  {
   "cell_type": "markdown",
   "id": "conclusiones",
   "metadata": {},
   "source": [
    "# Conclusión General\n",
    "\n",
    "\n",
    "\n",
    "Los sistemas RAPTOR representan avances significativos en recuperación de información, detección de tablas y decodificación ML. Cada implementación aborda desafíos específicos con soluciones innovadoras."
   ]
  }
 ],
 "metadata": {
  "kernelspec": {
   "display_name": "Python 3 (ipykernel)",
   "language": "python",
   "name": "python3"
  },
  "language_info": {
   "codemirror_mode": {
    "name": "ipython",
    "version": 3
   },
   "file_extension": ".py",
   "mimetype": "text/x-python",
   "name": "python",
   "nbconvert_exporter": "python",
   "pygments_lexer": "ipython3",
   "version": "3.10.15"
  }
 },
 "nbformat": 4,
 "nbformat_minor": 5
}
