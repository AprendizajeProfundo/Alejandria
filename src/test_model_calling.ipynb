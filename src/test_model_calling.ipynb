{
 "cells": [
  {
   "cell_type": "code",
   "execution_count": 1,
   "id": "3ced4ef2-d3c6-495a-b853-07e82efc97ee",
   "metadata": {},
   "outputs": [],
   "source": [
    "from openai import OpenAI"
   ]
  },
  {
   "cell_type": "code",
   "execution_count": 5,
   "id": "dcc94d85-f81f-4be9-91e2-ddd9d686b7d5",
   "metadata": {},
   "outputs": [],
   "source": [
    "llm_client = OpenAI(base_url=\"http://localhost:1234/v1\", \n",
    "                    api_key=\"lm-studio\")\n",
    "model = \"deepseek-r1-distill-qwen-14b\""
   ]
  },
  {
   "cell_type": "code",
   "execution_count": 6,
   "id": "0b230093-444b-4d97-9f64-58b70189aa26",
   "metadata": {},
   "outputs": [
    {
     "name": "stdout",
     "output_type": "stream",
     "text": [
      "<think>\n",
      "Primero, identifico que el usuario ha preguntado \"2+2\", lo que indica una operación matemática básica de suma.\n",
      "\n",
      "Luego, realizo la suma de los números 2 y 2 para obtener el resultado.\n",
      "\n",
      "Finalmente, concluyo que el resultado es 4.\n",
      "</think>\n",
      "\n",
      "Claro, resolvamos la operación paso a paso:\n",
      "\n",
      "**Pregunta:** ¿Cuánto es \\(2 + 2\\)?\n",
      "\n",
      "**Solución:**\n",
      "1. **Sumar los números:** \n",
      "   \\[\n",
      "   2 + 2 = 4\n",
      "   \\]\n",
      "\n",
      "**Respuesta Final:** \\(\\boxed{4}\\)\n",
      "Tokens generados: 138\n",
      "Tokens totales usados: 160\n"
     ]
    }
   ],
   "source": [
    "respuesta_llm = llm_client.chat.completions.create(\n",
    "                    model=model,\n",
    "                    messages=[\n",
    "                        {'role': 'system', 'content': \"Eres un asistente útil en español\"},\n",
    "                        {'role': 'user', 'content': \"¿Cuánto es 2+2?\"}\n",
    "                    ],\n",
    "                    max_tokens=None,\n",
    "                    n=1,\n",
    "                    stop=None,\n",
    "                    temperature=0,\n",
    "                    #response_format={\"type\": \"json_object\"}\n",
    "                    )\n",
    "\n",
    "print(respuesta_llm.choices[0].message.content)\n",
    "print(f\"Tokens generados: {respuesta_llm.usage.completion_tokens}\")\n",
    "print(f\"Tokens totales usados: {respuesta_llm.usage.total_tokens}\")"
   ]
  }
 ],
 "metadata": {
  "kernelspec": {
   "display_name": "Python 3 (ipykernel)",
   "language": "python",
   "name": "python3"
  },
  "language_info": {
   "codemirror_mode": {
    "name": "ipython",
    "version": 3
   },
   "file_extension": ".py",
   "mimetype": "text/x-python",
   "name": "python",
   "nbconvert_exporter": "python",
   "pygments_lexer": "ipython3",
   "version": "3.10.15"
  }
 },
 "nbformat": 4,
 "nbformat_minor": 5
}
