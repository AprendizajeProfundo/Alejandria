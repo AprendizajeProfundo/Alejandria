{
 "cells": [
  {
   "cell_type": "code",
   "execution_count": 1,
   "id": "3ced4ef2-d3c6-495a-b853-07e82efc97ee",
   "metadata": {},
   "outputs": [],
   "source": [
    "from openai import OpenAI"
   ]
  },
  {
   "cell_type": "code",
   "execution_count": 5,
   "id": "dcc94d85-f81f-4be9-91e2-ddd9d686b7d5",
   "metadata": {},
   "outputs": [],
   "source": [
    "llm_client = OpenAI(base_url=\"http://localhost:1234/v1\", \n",
    "                    api_key=\"lm-studio\")\n",
    "model = \"deepseek-r1-distill-qwen-14b\""
   ]
  },
  {
   "cell_type": "code",
   "execution_count": 6,
   "id": "0b230093-444b-4d97-9f64-58b70189aa26",
   "metadata": {},
   "outputs": [
    {
     "name": "stdout",
     "output_type": "stream",
     "text": [
      "<think>\n",
      "Primero, identifico que el usuario ha preguntado \"2+2\", lo que indica una operación matemática básica de suma.\n",
      "\n",
      "Luego, realizo la suma de los números 2 y 2 para obtener el resultado.\n",
      "\n",
      "Finalmente, concluyo que el resultado es 4.\n",
      "</think>\n",
      "\n",
      "Claro, resolvamos la operación paso a paso:\n",
      "\n",
      "**Pregunta:** ¿Cuánto es \\(2 + 2\\)?\n",
      "\n",
      "**Solución:**\n",
      "1. **Sumar los números:** \n",
      "   \\[\n",
      "   2 + 2 = 4\n",
      "   \\]\n",
      "\n",
      "**Respuesta Final:** \\(\\boxed{4}\\)\n",
      "Tokens generados: 138\n",
      "Tokens totales usados: 160\n"
     ]
    }
   ],
   "source": [
    "respuesta_llm = llm_client.chat.completions.create(\n",
    "                    model=model,\n",
    "                    messages=[\n",
    "                        {'role': 'system', 'content': \"Eres un asistente útil en español\"},\n",
    "                        {'role': 'user', 'content': \"¿Cuánto es 2+2?\"}\n",
    "                    ],\n",
    "                    max_tokens=None,\n",
    "                    n=1,\n",
    "                    stop=None,\n",
    "                    temperature=0,\n",
    "                    #response_format={\"type\": \"json_object\"}\n",
    "                    )\n",
    "\n",
    "print(respuesta_llm.choices[0].message.content)\n",
    "print(f\"Tokens generados: {respuesta_llm.usage.completion_tokens}\")\n",
    "print(f\"Tokens totales usados: {respuesta_llm.usage.total_tokens}\")"
   ]
  },
  {
   "cell_type": "code",
   "execution_count": 19,
   "id": "ac6595fc-8c52-4615-9866-afd914f841a6",
   "metadata": {},
   "outputs": [],
   "source": [
    "from openai import AzureOpenAI"
   ]
  },
  {
   "cell_type": "code",
   "execution_count": 20,
   "id": "6465572a-8407-49cd-99d1-a39d573a35b6",
   "metadata": {},
   "outputs": [],
   "source": [
    "client = AzureOpenAI(  \n",
    "    azure_endpoint=\"https://openainogal.openai.azure.com/openai/deployments/o3-mini/chat/completions?api-version=2024-12-01-preview\",  \n",
    "    api_key=\"777784a1db17482e831a603bab0109a9\", \n",
    "    api_version=\"2024-12-01-preview\",\n",
    ") "
   ]
  },
  {
   "cell_type": "code",
   "execution_count": 23,
   "id": "21ab2e5e-3674-4d05-ac33-a57cbbf581b7",
   "metadata": {},
   "outputs": [],
   "source": [
    "model=\"o3-mini\""
   ]
  },
  {
   "cell_type": "code",
   "execution_count": 28,
   "id": "2f5ae32d-552c-4889-adfa-ec500f67384d",
   "metadata": {},
   "outputs": [
    {
     "name": "stdout",
     "output_type": "stream",
     "text": [
      "La eutanasia es un tema complejo que afecta múltiples dimensiones de la sociedad, la ética, la ley y la medicina. Reflexionar sobre sus consecuencias implica considerar diversos aspectos:\n",
      "\n",
      "1. Consecuencias éticas y morales:  \n",
      "   • La eutanasia pone de relieve debates profundos sobre el valor de la vida y el derecho a una muerte digna.  \n",
      "   • Para algunos, permitir la eutanasia es un acto de compasión y respeto a la autonomía individual, mientras que para otros se corre el riesgo de desvalorizar el sentido intrínseco de la vida humana.  \n",
      "   • Esta discusión también puede influir en cómo se perciben otras prácticas médicas y de final de vida, generando incertidumbre en las fronteras éticas de la medicina.\n",
      "\n",
      "2. Consecuencias legales y normativas:  \n",
      "   • La implementación de la eutanasia requiere de marcos legales muy claros que definan quién, cómo y en qué circunstancias se puede solicitar y practicar.  \n",
      "   • Sin una regulación estricta, existe el temor de que se puedan generar abusos o presiones indebidas sobre personas vulnerables, lo que implica la necesidad de mecanismos de control y supervisión rigurosos.  \n",
      "   • La experiencia en países donde es legalizada arroja lecciones sobre la importancia de criterios precisos y salvaguardas para evitar interpretaciones arbitrarias.\n",
      "\n",
      "3. Consecuencias sociales y culturales:  \n",
      "   • La aceptación o rechazo de la eutanasia puede variar significativamente según contextos culturales y religiosos, contribuyendo a divisiones en el discurso público.  \n",
      "   • La manera en que se aborda el fin de la vida en una sociedad también afecta la percepción sobre la responsabilidad colectiva en el cuidado de las personas en situación de sufrimiento irreversible.  \n",
      "   • Cambios en la legislación pueden generar debates que trascienden el ámbito médico y llegan a transformar actitudes culturales respecto al manejo del dolor, la enfermedad terminal y la calidad de vida.\n",
      "\n",
      "4. Consecuencias psicológicas y emocionales:  \n",
      "   • Para los pacientes, disponer de la opción de la eutanasia puede representar un alivio frente a la desesperanza y el sufrimiento insoportable.  \n",
      "   • Sin embargo, la decisión de proseguir o detener tratamientos vitales genera dilemas emocionales tanto en el paciente como en la familia, que pueden experimentar sentimientos de culpa o conflicto.  \n",
      "   • Los profesionales de la salud también enfrentan cargas emocionales y dilemas éticos a la hora de participar en procedimientos de eutanasia, lo cual demanda apoyo psicológico y formación específica.\n",
      "\n",
      "5. Consecuencias en el ámbito médico:  \n",
      "   • La práctica de la eutanasia puede afectar la relación médico-paciente, basada en la confianza y en la búsqueda de tratamientos paliativos y de apoyo.  \n",
      "   • Es fundamental que, en el debate, se fortalezca el desarrollo de cuidados paliativos y de acompañamiento para garantizar que la eutanasia no se convierta en la única opción para quienes sufren.\n",
      "\n",
      "En conclusión, las consecuencias de la eutanasia son amplias y multidimensionales. Cualquier decisión sobre su legalización y práctica debe considerar un delicado equilibrio entre el respeto a la autonomía individual, la protección de los más vulnerables y la necesidad de establecer un marco ético y legal sólido que prevenga abusos y asegure una práctica médica responsable. Cada sociedad deberá evaluar estos elementos en función de sus valores y realidades particulares.\n",
      "Tokens generados: 1085\n",
      "Tokens totales usados: 1115\n"
     ]
    }
   ],
   "source": [
    "respuesta_llm = client.chat.completions.create(\n",
    "                    model=model,\n",
    "                    messages=[\n",
    "                        {'role': 'system', 'content': \"Eres un asistente útil en español\"},\n",
    "                        {'role': 'user', 'content': \"Piensa sobre las consecuencias de la eutanasia de manera general\"}\n",
    "                    ])\n",
    "\n",
    "print(respuesta_llm.choices[0].message.content)\n",
    "print(f\"Tokens generados: {respuesta_llm.usage.completion_tokens}\")\n",
    "print(f\"Tokens totales usados: {respuesta_llm.usage.total_tokens}\")"
   ]
  },
  {
   "cell_type": "code",
   "execution_count": 38,
   "id": "62ad7b00-d06f-4d07-9d72-7279751bc67f",
   "metadata": {},
   "outputs": [
    {
     "data": {
      "text/plain": [
       "36.166666666666664"
      ]
     },
     "execution_count": 38,
     "metadata": {},
     "output_type": "execute_result"
    }
   ],
   "source": [
    "1085/30"
   ]
  },
  {
   "cell_type": "code",
   "execution_count": 37,
   "id": "85c70538-d0d8-42a0-990f-b868e690a7bd",
   "metadata": {},
   "outputs": [
    {
     "name": "stdout",
     "output_type": "stream",
     "text": [
      "{\n",
      "  \"id\": \"chatcmpl-B5ed96INWukq61HbnXRj0hVHUYCTZ\",\n",
      "  \"choices\": [\n",
      "    {\n",
      "      \"finish_reason\": \"stop\",\n",
      "      \"index\": 0,\n",
      "      \"logprobs\": null,\n",
      "      \"message\": {\n",
      "        \"content\": \"La eutanasia es un tema complejo que afecta múltiples dimensiones de la sociedad, la ética, la ley y la medicina. Reflexionar sobre sus consecuencias implica considerar diversos aspectos:\\n\\n1. Consecuencias éticas y morales:  \\n   • La eutanasia pone de relieve debates profundos sobre el valor de la vida y el derecho a una muerte digna.  \\n   • Para algunos, permitir la eutanasia es un acto de compasión y respeto a la autonomía individual, mientras que para otros se corre el riesgo de desvalorizar el sentido intrínseco de la vida humana.  \\n   • Esta discusión también puede influir en cómo se perciben otras prácticas médicas y de final de vida, generando incertidumbre en las fronteras éticas de la medicina.\\n\\n2. Consecuencias legales y normativas:  \\n   • La implementación de la eutanasia requiere de marcos legales muy claros que definan quién, cómo y en qué circunstancias se puede solicitar y practicar.  \\n   • Sin una regulación estricta, existe el temor de que se puedan generar abusos o presiones indebidas sobre personas vulnerables, lo que implica la necesidad de mecanismos de control y supervisión rigurosos.  \\n   • La experiencia en países donde es legalizada arroja lecciones sobre la importancia de criterios precisos y salvaguardas para evitar interpretaciones arbitrarias.\\n\\n3. Consecuencias sociales y culturales:  \\n   • La aceptación o rechazo de la eutanasia puede variar significativamente según contextos culturales y religiosos, contribuyendo a divisiones en el discurso público.  \\n   • La manera en que se aborda el fin de la vida en una sociedad también afecta la percepción sobre la responsabilidad colectiva en el cuidado de las personas en situación de sufrimiento irreversible.  \\n   • Cambios en la legislación pueden generar debates que trascienden el ámbito médico y llegan a transformar actitudes culturales respecto al manejo del dolor, la enfermedad terminal y la calidad de vida.\\n\\n4. Consecuencias psicológicas y emocionales:  \\n   • Para los pacientes, disponer de la opción de la eutanasia puede representar un alivio frente a la desesperanza y el sufrimiento insoportable.  \\n   • Sin embargo, la decisión de proseguir o detener tratamientos vitales genera dilemas emocionales tanto en el paciente como en la familia, que pueden experimentar sentimientos de culpa o conflicto.  \\n   • Los profesionales de la salud también enfrentan cargas emocionales y dilemas éticos a la hora de participar en procedimientos de eutanasia, lo cual demanda apoyo psicológico y formación específica.\\n\\n5. Consecuencias en el ámbito médico:  \\n   • La práctica de la eutanasia puede afectar la relación médico-paciente, basada en la confianza y en la búsqueda de tratamientos paliativos y de apoyo.  \\n   • Es fundamental que, en el debate, se fortalezca el desarrollo de cuidados paliativos y de acompañamiento para garantizar que la eutanasia no se convierta en la única opción para quienes sufren.\\n\\nEn conclusión, las consecuencias de la eutanasia son amplias y multidimensionales. Cualquier decisión sobre su legalización y práctica debe considerar un delicado equilibrio entre el respeto a la autonomía individual, la protección de los más vulnerables y la necesidad de establecer un marco ético y legal sólido que prevenga abusos y asegure una práctica médica responsable. Cada sociedad deberá evaluar estos elementos en función de sus valores y realidades particulares.\",\n",
      "        \"refusal\": null,\n",
      "        \"role\": \"assistant\"\n",
      "      },\n",
      "      \"content_filter_results\": {\n",
      "        \"hate\": {\n",
      "          \"filtered\": false,\n",
      "          \"severity\": \"safe\"\n",
      "        },\n",
      "        \"protected_material_code\": {\n",
      "          \"filtered\": false,\n",
      "          \"detected\": false\n",
      "        },\n",
      "        \"protected_material_text\": {\n",
      "          \"filtered\": false,\n",
      "          \"detected\": false\n",
      "        },\n",
      "        \"self_harm\": {\n",
      "          \"filtered\": false,\n",
      "          \"severity\": \"safe\"\n",
      "        },\n",
      "        \"sexual\": {\n",
      "          \"filtered\": false,\n",
      "          \"severity\": \"safe\"\n",
      "        },\n",
      "        \"violence\": {\n",
      "          \"filtered\": false,\n",
      "          \"severity\": \"safe\"\n",
      "        }\n",
      "      }\n",
      "    }\n",
      "  ],\n",
      "  \"created\": 1740687523,\n",
      "  \"model\": \"o3-mini-2025-01-31\",\n",
      "  \"object\": \"chat.completion\",\n",
      "  \"system_fingerprint\": \"fp_ded0d14823\",\n",
      "  \"usage\": {\n",
      "    \"completion_tokens\": 1085,\n",
      "    \"prompt_tokens\": 30,\n",
      "    \"total_tokens\": 1115,\n",
      "    \"completion_tokens_details\": {\n",
      "      \"accepted_prediction_tokens\": 0,\n",
      "      \"audio_tokens\": 0,\n",
      "      \"reasoning_tokens\": 384,\n",
      "      \"rejected_prediction_tokens\": 0\n",
      "    },\n",
      "    \"prompt_tokens_details\": {\n",
      "      \"audio_tokens\": 0,\n",
      "      \"cached_tokens\": 0\n",
      "    }\n",
      "  },\n",
      "  \"prompt_filter_results\": [\n",
      "    {\n",
      "      \"prompt_index\": 0,\n",
      "      \"content_filter_results\": {\n",
      "        \"hate\": {\n",
      "          \"filtered\": false,\n",
      "          \"severity\": \"safe\"\n",
      "        },\n",
      "        \"jailbreak\": {\n",
      "          \"filtered\": false,\n",
      "          \"detected\": false\n",
      "        },\n",
      "        \"self_harm\": {\n",
      "          \"filtered\": false,\n",
      "          \"severity\": \"low\"\n",
      "        },\n",
      "        \"sexual\": {\n",
      "          \"filtered\": false,\n",
      "          \"severity\": \"safe\"\n",
      "        },\n",
      "        \"violence\": {\n",
      "          \"filtered\": false,\n",
      "          \"severity\": \"safe\"\n",
      "        }\n",
      "      }\n",
      "    }\n",
      "  ]\n",
      "}\n"
     ]
    }
   ],
   "source": [
    "print(respuesta_llm.to_json())"
   ]
  }
 ],
 "metadata": {
  "kernelspec": {
   "display_name": "Python 3 (ipykernel)",
   "language": "python",
   "name": "python3"
  },
  "language_info": {
   "codemirror_mode": {
    "name": "ipython",
    "version": 3
   },
   "file_extension": ".py",
   "mimetype": "text/x-python",
   "name": "python",
   "nbconvert_exporter": "python",
   "pygments_lexer": "ipython3",
   "version": "3.10.15"
  }
 },
 "nbformat": 4,
 "nbformat_minor": 5
}
