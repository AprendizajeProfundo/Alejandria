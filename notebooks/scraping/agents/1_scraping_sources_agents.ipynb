{
 "cells": [
  {
   "cell_type": "markdown",
   "metadata": {},
   "source": [
    "<figure>\n",
    "    <img src=\"../../../figures/logo_ap.png\"  width=\"80\" height=\"80\" align=\"left\"/>\n",
    "</figure>\n",
    "\n",
    "# <span style=\"color:blue\"><blue><br><br><br><br><center>&nbsp;&nbsp;&nbsp;Aprendizaje Profundo</center></span>"
   ]
  },
  {
   "cell_type": "markdown",
   "metadata": {},
   "source": [
    "# <span style=\"color:red\"><center>Biblioteca Alejandría</center></span>"
   ]
  },
  {
   "cell_type": "markdown",
   "metadata": {},
   "source": [
    "## <span style=\"color:green\"><center>Scraping Web de Fuentes Académicas con Agentes</center></span>"
   ]
  },
  {
   "cell_type": "markdown",
   "metadata": {},
   "source": [
    "## <span style=\"color:blue\">Autores</span>"
   ]
  },
  {
   "cell_type": "markdown",
   "metadata": {},
   "source": [
    "1. Álvaro Montenegro, alvaro.montenegro@aprendizajeprofundo.ai\n",
    "1. Daniel Montenegro, daniel.montenegro@aprendizajeprofundo.ai"
   ]
  },
  {
   "cell_type": "markdown",
   "metadata": {},
   "source": [
    "## <span style=\"color:blue\">Contenido</span>"
   ]
  },
  {
   "cell_type": "markdown",
   "metadata": {},
   "source": [
    "* [Librerías Necesarias](#Librerías-Necesarias)\n",
    "* [Realizar Consultas](#Realizar-Consultas)\n",
    "* [Extraer Metadata](#Extraer-Metadata)\n",
    "* [Convertir en DataFrame](#Convertir-en-DataFrame)\n",
    "    * [Subsección X](#Subsección-X)\n",
    "* [Automatización](#Automatización)\n",
    "* [Conclusiones](#Conclusiones)\n",
    "* [Recomendaciones](#Recomendaciones)"
   ]
  },
  {
   "cell_type": "markdown",
   "metadata": {},
   "source": [
    "## <span style=\"color:blue\">Librerías Necesarias</span>"
   ]
  },
  {
   "cell_type": "code",
   "execution_count": 1,
   "metadata": {},
   "outputs": [
    {
     "data": {
      "text/plain": [
       "True"
      ]
     },
     "execution_count": 1,
     "metadata": {},
     "output_type": "execute_result"
    }
   ],
   "source": [
    "import os\n",
    "import urllib\n",
    "import autogen\n",
    "import pandas as pd\n",
    "from dotenv import load_dotenv\n",
    "from serpapi import GoogleSearch\n",
    "from autogen import AssistantAgent, UserProxyAgent\n",
    "\n",
    "load_dotenv(\"../../../.env\")"
   ]
  },
  {
   "cell_type": "markdown",
   "metadata": {},
   "source": [
    "[[Volver]](#Contenido)"
   ]
  },
  {
   "cell_type": "markdown",
   "metadata": {},
   "source": [
    "## <span style=\"color:blue\">Realizar Consultas</span>"
   ]
  },
  {
   "cell_type": "markdown",
   "metadata": {},
   "source": [
    "Texto de la sección X"
   ]
  },
  {
   "cell_type": "code",
   "execution_count": 2,
   "metadata": {},
   "outputs": [],
   "source": [
    "from typing import Annotated\n",
    "import requests\n",
    "\n",
    "def fetch_html(\n",
    "    url: Annotated[str, \"La URL a la que se hará la solicitud\"]\n",
    ") -> str:\n",
    "    \"\"\"\n",
    "    Realiza una solicitud HTTP GET usando urllib y devuelve el contenido HTML.\n",
    "    \"\"\"\n",
    "    try:\n",
    "        # Realizar la solicitud\n",
    "        data = requests.get(url)\n",
    "        # Leer y decodificar el contenido\n",
    "        html = data.text\n",
    "        return html\n",
    "    except Exception as e:\n",
    "        # Manejo básico de errores\n",
    "        return f\"Error al hacer la solicitud: {str(e)}\"\n",
    "\n",
    "# Ejemplo de uso\n",
    "type_query = \"all\"\n",
    "query = \"RAG\"\n",
    "start = 0\n",
    "max_results = 1\n",
    "sortby = \"submittedDate\"\n",
    "sortorder = \"descending\"\n",
    "url = f'http://export.arxiv.org/api/query?search_query={type_query}:{query}&start={start}&max_results={max_results}&sortBy={sortby}&sortOrder={sortorder}'\n",
    "url = f\"https://towardsdatascience.com/search?q={query}\"\n",
    "\n",
    "html_content = fetch_html(url=url)\n",
    "#print(html_content)"
   ]
  },
  {
   "cell_type": "code",
   "execution_count": null,
   "metadata": {},
   "outputs": [],
   "source": [
    "import os\n",
    "from autogen import ConversableAgent\n",
    "\n",
    "### SHOULD BE REPLACED BY AN AGENT ##\n",
    "type_query = \"all\"\n",
    "query = \"RAG\"\n",
    "start = 0\n",
    "max_results = 10\n",
    "sortby = \"submittedDate\"\n",
    "sortorder = \"descending\"\n",
    "### SE DEBE CONSTRUIR EL HTML DEPENDIENDO DE LA FUENTE Y ORGANIZAR EN DICCIONARIOS LAS FUENTES ASÍ COMO LAS PALABRAS CLAVE###\n",
    "url = f'http://export.arxiv.org/api/query?search_query={type_query}:{query}&start={start}&max_results={max_results}&sortBy={sortby}&sortOrder={sortorder}'\n",
    "#url = f\"https://towardsdatascience.com/search?q={query}\"\n",
    "\n",
    "# Let's first define the assistant agent that suggests tool calls.\n",
    "assistant = ConversableAgent(\n",
    "    name=\"Assistant\",\n",
    "    system_message=\"You are a helpful AI assistant.\"\n",
    "    \"You can help with web scraping\"\n",
    "    \"Please scrape the given link. You won't scrape twice.\"\n",
    "    \"Return 'TERMINATE' when the task is done.\",\n",
    "    #llm_config={\"config_list\": [{\"model\": \"gpt-4o\", \"api_key\": os.environ[\"OPENAI_API_KEY\"]}]},\n",
    "    #llm_config={\"config_list\": [{\"model\": \"llama3.1:latest\", \"api_type\": \"ollama\", \"client_host\":\"http://localhost:11434\"}]},\n",
    "    llm_config={\"config_list\": [{\"model\": \"deepseek-r1-distill-qwen-14b\", \"api_key\": \"lm-studio\", \"base_url\":\"http://localhost:1234\"}]},\n",
    ")\n",
    "\n",
    "# The user proxy agent is used for interacting with the assistant agent\n",
    "# and executes tool calls.\n",
    "user_proxy = ConversableAgent(\n",
    "    name=\"User\",\n",
    "    llm_config=False,\n",
    "    is_termination_msg=lambda msg: msg.get(\"content\") is not None and \"TERMINATE\" in msg[\"content\"],\n",
    "    human_input_mode=\"NEVER\",\n",
    ")\n",
    "\n",
    "# Register the tool signature with the assistant agent.\n",
    "assistant.register_for_llm(name=\"web_scraper_agent\", description=\"A web scraping tool\")(fetch_html)\n",
    "\n",
    "# Register the tool function with the user proxy agent.\n",
    "user_proxy.register_for_execution(name=\"web_scraper_agent\")(fetch_html)\n",
    "\n",
    "chat_result = user_proxy.initiate_chat(assistant, message=f\"What are ALL the raw pdf links and titles present in {url}?. Just give the link and title, not markdown links.\")"
   ]
  },
  {
   "cell_type": "code",
   "execution_count": 8,
   "metadata": {},
   "outputs": [
    {
     "data": {
      "text/plain": [
       "{'usage_including_cached_inference': {'total_cost': 0.024127499999999996,\n",
       "  'gpt-4o-2024-08-06': {'cost': 0.024127499999999996,\n",
       "   'prompt_tokens': 7891,\n",
       "   'completion_tokens': 440,\n",
       "   'total_tokens': 8331}},\n",
       " 'usage_excluding_cached_inference': {'total_cost': 0.024127499999999996,\n",
       "  'gpt-4o-2024-08-06': {'cost': 0.024127499999999996,\n",
       "   'prompt_tokens': 7891,\n",
       "   'completion_tokens': 440,\n",
       "   'total_tokens': 8331}}}"
      ]
     },
     "execution_count": 8,
     "metadata": {},
     "output_type": "execute_result"
    }
   ],
   "source": [
    "chat_result.cost"
   ]
  },
  {
   "cell_type": "code",
   "execution_count": 8,
   "metadata": {},
   "outputs": [
    {
     "name": "stdout",
     "output_type": "stream",
     "text": [
      "Advanced System Integration: Analyzing OpenAPI Chunking for Retrieval-Augmented Generation\n",
      "CantorNet: A Sandbox for Testing Geometrical and Topological Complexity Measures\n",
      "TERMINATE\n"
     ]
    }
   ],
   "source": [
    "print(chat_result.chat_history[-1][\"content\"])"
   ]
  },
  {
   "cell_type": "code",
   "execution_count": 8,
   "metadata": {},
   "outputs": [
    {
     "data": {
      "text/plain": [
       "'params = {\\n  \"api_key\": os.environ[\"GOOGLE_SCHOLAR_API_KEY\"],\\n  \"engine\": \"google_scholar\",\\n  \"q\": \"RAG AI\",\\n  \"hl\": \"en\"\\n}\\n\\nsearch = GoogleSearch(params)\\nresults = search.get_dict()\\nresults'"
      ]
     },
     "execution_count": 8,
     "metadata": {},
     "output_type": "execute_result"
    }
   ],
   "source": [
    "\"\"\"params = {\n",
    "  \"api_key\": os.environ[\"GOOGLE_SCHOLAR_API_KEY\"],\n",
    "  \"engine\": \"google_scholar\",\n",
    "  \"q\": \"RAG AI\",\n",
    "  \"hl\": \"en\"\n",
    "}\n",
    "\n",
    "search = GoogleSearch(params)\n",
    "results = search.get_dict()\n",
    "results\"\"\""
   ]
  },
  {
   "cell_type": "markdown",
   "metadata": {},
   "source": [
    "[[Volver]](#Contenido)"
   ]
  },
  {
   "cell_type": "markdown",
   "metadata": {},
   "source": [
    "## <span style=\"color:blue\">Extraer Metadata</span>"
   ]
  },
  {
   "cell_type": "markdown",
   "metadata": {},
   "source": [
    "Texto de la sección X"
   ]
  },
  {
   "cell_type": "code",
   "execution_count": 103,
   "metadata": {},
   "outputs": [],
   "source": [
    "soup = BeautifulSoup(html, \"lxml-xml\")\n",
    "articles = soup.find_all(\"entry\")\n",
    "\n",
    "data_json = []\n",
    "for entry in articles:\n",
    "    prim_category = entry.find(\"primary_category\").get(\"term\")\n",
    "    published = entry.find(\"published\").text\n",
    "    updated = entry.find(\"updated\").text\n",
    "    title = entry.find(\"title\").text\n",
    "    summary = entry.find(\"summary\").text\n",
    "    authors = entry.find_all(\"author\")\n",
    "    authors = [auth.find(\"name\").text for auth in authors]\n",
    "    link_article = entry.select('link[title=\"pdf\"]')[0].get(\"href\")\n",
    "    data_json.append({\"primary_category\": prim_category, \n",
    "                      \"published\": published,\n",
    "                      \"updated\": updated,\n",
    "                      \"title\": title, \n",
    "                      \"summary\": summary,\n",
    "                      \"authors\": authors, \n",
    "                      \"link_article\": link_article})"
   ]
  },
  {
   "cell_type": "markdown",
   "metadata": {},
   "source": [
    "[[Volver]](#Contenido)"
   ]
  },
  {
   "cell_type": "markdown",
   "metadata": {},
   "source": [
    "## <span style=\"color:blue\">Convertir en DataFrame</span>"
   ]
  },
  {
   "cell_type": "markdown",
   "metadata": {},
   "source": [
    "Texto de la sección X"
   ]
  },
  {
   "cell_type": "code",
   "execution_count": 104,
   "metadata": {},
   "outputs": [
    {
     "name": "stdout",
     "output_type": "stream",
     "text": [
      "<class 'pandas.core.frame.DataFrame'>\n",
      "RangeIndex: 20 entries, 0 to 19\n",
      "Data columns (total 9 columns):\n",
      " #   Column            Non-Null Count  Dtype              \n",
      "---  ------            --------------  -----              \n",
      " 0   id                20 non-null     int64              \n",
      " 1   version           20 non-null     object             \n",
      " 2   primary_category  20 non-null     object             \n",
      " 3   published         20 non-null     datetime64[ns, UTC]\n",
      " 4   updated           20 non-null     datetime64[ns, UTC]\n",
      " 5   title             20 non-null     object             \n",
      " 6   summary           20 non-null     object             \n",
      " 7   authors           20 non-null     object             \n",
      " 8   link_article      20 non-null     object             \n",
      "dtypes: datetime64[ns, UTC](2), int64(1), object(6)\n",
      "memory usage: 1.5+ KB\n"
     ]
    },
    {
     "data": {
      "text/html": [
       "<div>\n",
       "<style scoped>\n",
       "    .dataframe tbody tr th:only-of-type {\n",
       "        vertical-align: middle;\n",
       "    }\n",
       "\n",
       "    .dataframe tbody tr th {\n",
       "        vertical-align: top;\n",
       "    }\n",
       "\n",
       "    .dataframe thead th {\n",
       "        text-align: right;\n",
       "    }\n",
       "</style>\n",
       "<table border=\"1\" class=\"dataframe\">\n",
       "  <thead>\n",
       "    <tr style=\"text-align: right;\">\n",
       "      <th></th>\n",
       "      <th>id</th>\n",
       "      <th>version</th>\n",
       "      <th>primary_category</th>\n",
       "      <th>published</th>\n",
       "      <th>updated</th>\n",
       "      <th>title</th>\n",
       "      <th>summary</th>\n",
       "      <th>authors</th>\n",
       "      <th>link_article</th>\n",
       "    </tr>\n",
       "  </thead>\n",
       "  <tbody>\n",
       "    <tr>\n",
       "      <th>0</th>\n",
       "      <td>198041</td>\n",
       "      <td>1</td>\n",
       "      <td>cs.SE</td>\n",
       "      <td>2024-11-29 16:09:43+00:00</td>\n",
       "      <td>2024-11-29 16:09:43+00:00</td>\n",
       "      <td>Advanced System Integration: Analyzing OpenAPI...</td>\n",
       "      <td>Integrating multiple (sub-)systems is essent...</td>\n",
       "      <td>[Robin D. Pesl, Jerin G. Mathew, Massimo Mecel...</td>\n",
       "      <td>http://arxiv.org/pdf/2411.19804v1</td>\n",
       "    </tr>\n",
       "    <tr>\n",
       "      <th>1</th>\n",
       "      <td>197131</td>\n",
       "      <td>1</td>\n",
       "      <td>cs.NE</td>\n",
       "      <td>2024-11-29 14:01:34+00:00</td>\n",
       "      <td>2024-11-29 14:01:34+00:00</td>\n",
       "      <td>CantorNet: A Sandbox for Testing Topological a...</td>\n",
       "      <td>Many natural phenomena are characterized by ...</td>\n",
       "      <td>[Michal Lewandowski, Hamid Eghbalzadeh, Bernha...</td>\n",
       "      <td>http://arxiv.org/pdf/2411.19713v1</td>\n",
       "    </tr>\n",
       "    <tr>\n",
       "      <th>2</th>\n",
       "      <td>197101</td>\n",
       "      <td>1</td>\n",
       "      <td>cs.IR</td>\n",
       "      <td>2024-11-29 13:57:07+00:00</td>\n",
       "      <td>2024-11-29 13:57:07+00:00</td>\n",
       "      <td>Know Your RAG: Dataset Taxonomy and Generation...</td>\n",
       "      <td>Retrieval Augmented Generation (RAG) systems...</td>\n",
       "      <td>[Rafael Teixeira de Lima, Shubham Gupta, Cesar...</td>\n",
       "      <td>http://arxiv.org/pdf/2411.19710v1</td>\n",
       "    </tr>\n",
       "    <tr>\n",
       "      <th>3</th>\n",
       "      <td>195541</td>\n",
       "      <td>1</td>\n",
       "      <td>cs.HC</td>\n",
       "      <td>2024-11-29 09:07:21+00:00</td>\n",
       "      <td>2024-11-29 09:07:21+00:00</td>\n",
       "      <td>Unimib Assistant: designing a student-friendly...</td>\n",
       "      <td>Natural language processing skills of Large ...</td>\n",
       "      <td>[Chiara Antico, Stefano Giordano, Cansu Koyutu...</td>\n",
       "      <td>http://arxiv.org/pdf/2411.19554v1</td>\n",
       "    </tr>\n",
       "    <tr>\n",
       "      <th>4</th>\n",
       "      <td>195391</td>\n",
       "      <td>1</td>\n",
       "      <td>cs.AI</td>\n",
       "      <td>2024-11-29 08:34:07+00:00</td>\n",
       "      <td>2024-11-29 08:34:07+00:00</td>\n",
       "      <td>Knowledge Management for Automobile Failure An...</td>\n",
       "      <td>This paper presents a knowledge management s...</td>\n",
       "      <td>[Yuta Ojima, Hiroki Sakaji, Tadashi Nakamura, ...</td>\n",
       "      <td>http://arxiv.org/pdf/2411.19539v1</td>\n",
       "    </tr>\n",
       "    <tr>\n",
       "      <th>5</th>\n",
       "      <td>195281</td>\n",
       "      <td>1</td>\n",
       "      <td>cs.CV</td>\n",
       "      <td>2024-11-29 07:57:32+00:00</td>\n",
       "      <td>2024-11-29 07:57:32+00:00</td>\n",
       "      <td>RAGDiffusion: Faithful Cloth Generation via Ex...</td>\n",
       "      <td>Standard clothing asset generation involves ...</td>\n",
       "      <td>[Xianfeng Tan, Yuhan Li, Wenxiang Shang, Yubo ...</td>\n",
       "      <td>http://arxiv.org/pdf/2411.19528v1</td>\n",
       "    </tr>\n",
       "    <tr>\n",
       "      <th>6</th>\n",
       "      <td>194631</td>\n",
       "      <td>1</td>\n",
       "      <td>cs.SE</td>\n",
       "      <td>2024-11-29 04:25:31+00:00</td>\n",
       "      <td>2024-11-29 04:25:31+00:00</td>\n",
       "      <td>Towards Understanding Retrieval Accuracy and P...</td>\n",
       "      <td>Retrieval-Augmented Generation (RAG) is a pi...</td>\n",
       "      <td>[Shengming Zhao, Yuheng Huang, Jiayang Song, Z...</td>\n",
       "      <td>http://arxiv.org/pdf/2411.19463v1</td>\n",
       "    </tr>\n",
       "    <tr>\n",
       "      <th>7</th>\n",
       "      <td>194431</td>\n",
       "      <td>1</td>\n",
       "      <td>cs.CL</td>\n",
       "      <td>2024-11-29 03:01:05+00:00</td>\n",
       "      <td>2024-11-29 03:01:05+00:00</td>\n",
       "      <td>Auto-RAG: Autonomous Retrieval-Augmented Gener...</td>\n",
       "      <td>Iterative retrieval refers to the process in...</td>\n",
       "      <td>[Tian Yu, Shaolei Zhang, Yang Feng]</td>\n",
       "      <td>http://arxiv.org/pdf/2411.19443v1</td>\n",
       "    </tr>\n",
       "    <tr>\n",
       "      <th>8</th>\n",
       "      <td>192291</td>\n",
       "      <td>1</td>\n",
       "      <td>cs.HC</td>\n",
       "      <td>2024-11-28 15:53:27+00:00</td>\n",
       "      <td>2024-11-28 15:53:27+00:00</td>\n",
       "      <td>Habit Coach: Customising RAG-based chatbots to...</td>\n",
       "      <td>This paper presents the iterative developmen...</td>\n",
       "      <td>[Arian Fooroogh Mand Arabi, Cansu Koyuturk, Mi...</td>\n",
       "      <td>http://arxiv.org/pdf/2411.19229v1</td>\n",
       "    </tr>\n",
       "    <tr>\n",
       "      <th>9</th>\n",
       "      <td>189481</td>\n",
       "      <td>1</td>\n",
       "      <td>cs.CR</td>\n",
       "      <td>2024-11-28 06:29:46+00:00</td>\n",
       "      <td>2024-11-28 06:29:46+00:00</td>\n",
       "      <td>Knowledge Database or Poison Base? Detecting R...</td>\n",
       "      <td>As Large Language Models (LLMs) are progress...</td>\n",
       "      <td>[Xue Tan, Hao Luan, Mingyu Luo, Xiaoyan Sun, P...</td>\n",
       "      <td>http://arxiv.org/pdf/2411.18948v1</td>\n",
       "    </tr>\n",
       "    <tr>\n",
       "      <th>10</th>\n",
       "      <td>189471</td>\n",
       "      <td>1</td>\n",
       "      <td>cs.LG</td>\n",
       "      <td>2024-11-28 06:28:45+00:00</td>\n",
       "      <td>2024-11-28 06:28:45+00:00</td>\n",
       "      <td>ICLERB: In-Context Learning Embedding and Rera...</td>\n",
       "      <td>In-Context Learning (ICL) enables Large Lang...</td>\n",
       "      <td>[Marie Al Ghossein, Emile Contal, Alexandre Ro...</td>\n",
       "      <td>http://arxiv.org/pdf/2411.18947v1</td>\n",
       "    </tr>\n",
       "    <tr>\n",
       "      <th>11</th>\n",
       "      <td>185831</td>\n",
       "      <td>1</td>\n",
       "      <td>cs.CL</td>\n",
       "      <td>2024-11-27 18:27:07+00:00</td>\n",
       "      <td>2024-11-27 18:27:07+00:00</td>\n",
       "      <td>Automated Literature Review Using NLP Techniqu...</td>\n",
       "      <td>This research presents and compares multiple...</td>\n",
       "      <td>[Nurshat Fateh Ali, Md. Mahdi Mohtasim, Shakil...</td>\n",
       "      <td>http://arxiv.org/pdf/2411.18583v1</td>\n",
       "    </tr>\n",
       "    <tr>\n",
       "      <th>12</th>\n",
       "      <td>182161</td>\n",
       "      <td>1</td>\n",
       "      <td>cs.SE</td>\n",
       "      <td>2024-11-27 10:48:37+00:00</td>\n",
       "      <td>2024-11-27 10:48:37+00:00</td>\n",
       "      <td>Evaluating and Improving the Robustness of Sec...</td>\n",
       "      <td>Large Language Models (LLMs) are increasingl...</td>\n",
       "      <td>[Samuele Pasini, Jinhan Kim, Tommaso Aiello, R...</td>\n",
       "      <td>http://arxiv.org/pdf/2411.18216v1</td>\n",
       "    </tr>\n",
       "    <tr>\n",
       "      <th>13</th>\n",
       "      <td>170731</td>\n",
       "      <td>1</td>\n",
       "      <td>cs.CV</td>\n",
       "      <td>2024-11-26 03:22:01+00:00</td>\n",
       "      <td>2024-11-26 03:22:01+00:00</td>\n",
       "      <td>Path-RAG: Knowledge-Guided Key Region Retrieva...</td>\n",
       "      <td>Accurate diagnosis and prognosis assisted by...</td>\n",
       "      <td>[Awais Naeem, Tianhao Li, Huang-Ru Liao, Jiawe...</td>\n",
       "      <td>http://arxiv.org/pdf/2411.17073v1</td>\n",
       "    </tr>\n",
       "    <tr>\n",
       "      <th>14</th>\n",
       "      <td>165231</td>\n",
       "      <td>1</td>\n",
       "      <td>cs.CV</td>\n",
       "      <td>2024-11-25 16:10:05+00:00</td>\n",
       "      <td>2024-11-25 16:10:05+00:00</td>\n",
       "      <td>LaB-RAG: Label Boosted Retrieval Augmented Gen...</td>\n",
       "      <td>In the current paradigm of image captioning,...</td>\n",
       "      <td>[Steven Song, Anirudh Subramanyam, Irene Madej...</td>\n",
       "      <td>http://arxiv.org/pdf/2411.16523v1</td>\n",
       "    </tr>\n",
       "    <tr>\n",
       "      <th>15</th>\n",
       "      <td>164951</td>\n",
       "      <td>1</td>\n",
       "      <td>cs.CL</td>\n",
       "      <td>2024-11-25 15:35:51+00:00</td>\n",
       "      <td>2024-11-25 15:35:51+00:00</td>\n",
       "      <td>AtomR: Atomic Operator-Empowered Large Languag...</td>\n",
       "      <td>Recent advancements in large language models...</td>\n",
       "      <td>[Amy Xin, Jinxin Liu, Zijun Yao, Zhicheng Li, ...</td>\n",
       "      <td>http://arxiv.org/pdf/2411.16495v1</td>\n",
       "    </tr>\n",
       "    <tr>\n",
       "      <th>16</th>\n",
       "      <td>163911</td>\n",
       "      <td>1</td>\n",
       "      <td>cs.CL</td>\n",
       "      <td>2024-11-25 13:53:36+00:00</td>\n",
       "      <td>2024-11-25 13:53:36+00:00</td>\n",
       "      <td>Human-Calibrated Automated Testing and Validat...</td>\n",
       "      <td>This paper introduces a comprehensive framew...</td>\n",
       "      <td>[Agus Sudjianto, Aijun Zhang, Srinivas Neppall...</td>\n",
       "      <td>http://arxiv.org/pdf/2411.16391v1</td>\n",
       "    </tr>\n",
       "    <tr>\n",
       "      <th>17</th>\n",
       "      <td>163651</td>\n",
       "      <td>1</td>\n",
       "      <td>cs.CL</td>\n",
       "      <td>2024-11-25 13:20:19+00:00</td>\n",
       "      <td>2024-11-25 13:20:19+00:00</td>\n",
       "      <td>Multi-modal Retrieval Augmented Multi-modal Ge...</td>\n",
       "      <td>This paper investigates an intriguing task o...</td>\n",
       "      <td>[Zi-Ao Ma, Tian Lan, Rong-Cheng Tu, Yong Hu, H...</td>\n",
       "      <td>http://arxiv.org/pdf/2411.16365v1</td>\n",
       "    </tr>\n",
       "    <tr>\n",
       "      <th>18</th>\n",
       "      <td>161331</td>\n",
       "      <td>1</td>\n",
       "      <td>cs.LG</td>\n",
       "      <td>2024-11-25 06:48:38+00:00</td>\n",
       "      <td>2024-11-25 06:48:38+00:00</td>\n",
       "      <td>Context Awareness Gate For Retrieval Augmented...</td>\n",
       "      <td>Retrieval Augmented Generation (RAG) has eme...</td>\n",
       "      <td>[Mohammad Hassan Heydari, Arshia Hemmat, Erfan...</td>\n",
       "      <td>http://arxiv.org/pdf/2411.16133v1</td>\n",
       "    </tr>\n",
       "    <tr>\n",
       "      <th>19</th>\n",
       "      <td>157001</td>\n",
       "      <td>1</td>\n",
       "      <td>cs.CL</td>\n",
       "      <td>2024-11-24 03:56:43+00:00</td>\n",
       "      <td>2024-11-24 03:56:43+00:00</td>\n",
       "      <td>RAMIE: Retrieval-Augmented Multi-task Informat...</td>\n",
       "      <td>\\textbf{Objective:} We aimed to develop an a...</td>\n",
       "      <td>[Zaifu Zhan, Shuang Zhou, Mingchen Li, Rui Zhang]</td>\n",
       "      <td>http://arxiv.org/pdf/2411.15700v1</td>\n",
       "    </tr>\n",
       "  </tbody>\n",
       "</table>\n",
       "</div>"
      ],
      "text/plain": [
       "        id version primary_category                 published  \\\n",
       "0   198041       1            cs.SE 2024-11-29 16:09:43+00:00   \n",
       "1   197131       1            cs.NE 2024-11-29 14:01:34+00:00   \n",
       "2   197101       1            cs.IR 2024-11-29 13:57:07+00:00   \n",
       "3   195541       1            cs.HC 2024-11-29 09:07:21+00:00   \n",
       "4   195391       1            cs.AI 2024-11-29 08:34:07+00:00   \n",
       "5   195281       1            cs.CV 2024-11-29 07:57:32+00:00   \n",
       "6   194631       1            cs.SE 2024-11-29 04:25:31+00:00   \n",
       "7   194431       1            cs.CL 2024-11-29 03:01:05+00:00   \n",
       "8   192291       1            cs.HC 2024-11-28 15:53:27+00:00   \n",
       "9   189481       1            cs.CR 2024-11-28 06:29:46+00:00   \n",
       "10  189471       1            cs.LG 2024-11-28 06:28:45+00:00   \n",
       "11  185831       1            cs.CL 2024-11-27 18:27:07+00:00   \n",
       "12  182161       1            cs.SE 2024-11-27 10:48:37+00:00   \n",
       "13  170731       1            cs.CV 2024-11-26 03:22:01+00:00   \n",
       "14  165231       1            cs.CV 2024-11-25 16:10:05+00:00   \n",
       "15  164951       1            cs.CL 2024-11-25 15:35:51+00:00   \n",
       "16  163911       1            cs.CL 2024-11-25 13:53:36+00:00   \n",
       "17  163651       1            cs.CL 2024-11-25 13:20:19+00:00   \n",
       "18  161331       1            cs.LG 2024-11-25 06:48:38+00:00   \n",
       "19  157001       1            cs.CL 2024-11-24 03:56:43+00:00   \n",
       "\n",
       "                     updated  \\\n",
       "0  2024-11-29 16:09:43+00:00   \n",
       "1  2024-11-29 14:01:34+00:00   \n",
       "2  2024-11-29 13:57:07+00:00   \n",
       "3  2024-11-29 09:07:21+00:00   \n",
       "4  2024-11-29 08:34:07+00:00   \n",
       "5  2024-11-29 07:57:32+00:00   \n",
       "6  2024-11-29 04:25:31+00:00   \n",
       "7  2024-11-29 03:01:05+00:00   \n",
       "8  2024-11-28 15:53:27+00:00   \n",
       "9  2024-11-28 06:29:46+00:00   \n",
       "10 2024-11-28 06:28:45+00:00   \n",
       "11 2024-11-27 18:27:07+00:00   \n",
       "12 2024-11-27 10:48:37+00:00   \n",
       "13 2024-11-26 03:22:01+00:00   \n",
       "14 2024-11-25 16:10:05+00:00   \n",
       "15 2024-11-25 15:35:51+00:00   \n",
       "16 2024-11-25 13:53:36+00:00   \n",
       "17 2024-11-25 13:20:19+00:00   \n",
       "18 2024-11-25 06:48:38+00:00   \n",
       "19 2024-11-24 03:56:43+00:00   \n",
       "\n",
       "                                                title  \\\n",
       "0   Advanced System Integration: Analyzing OpenAPI...   \n",
       "1   CantorNet: A Sandbox for Testing Topological a...   \n",
       "2   Know Your RAG: Dataset Taxonomy and Generation...   \n",
       "3   Unimib Assistant: designing a student-friendly...   \n",
       "4   Knowledge Management for Automobile Failure An...   \n",
       "5   RAGDiffusion: Faithful Cloth Generation via Ex...   \n",
       "6   Towards Understanding Retrieval Accuracy and P...   \n",
       "7   Auto-RAG: Autonomous Retrieval-Augmented Gener...   \n",
       "8   Habit Coach: Customising RAG-based chatbots to...   \n",
       "9   Knowledge Database or Poison Base? Detecting R...   \n",
       "10  ICLERB: In-Context Learning Embedding and Rera...   \n",
       "11  Automated Literature Review Using NLP Techniqu...   \n",
       "12  Evaluating and Improving the Robustness of Sec...   \n",
       "13  Path-RAG: Knowledge-Guided Key Region Retrieva...   \n",
       "14  LaB-RAG: Label Boosted Retrieval Augmented Gen...   \n",
       "15  AtomR: Atomic Operator-Empowered Large Languag...   \n",
       "16  Human-Calibrated Automated Testing and Validat...   \n",
       "17  Multi-modal Retrieval Augmented Multi-modal Ge...   \n",
       "18  Context Awareness Gate For Retrieval Augmented...   \n",
       "19  RAMIE: Retrieval-Augmented Multi-task Informat...   \n",
       "\n",
       "                                              summary  \\\n",
       "0     Integrating multiple (sub-)systems is essent...   \n",
       "1     Many natural phenomena are characterized by ...   \n",
       "2     Retrieval Augmented Generation (RAG) systems...   \n",
       "3     Natural language processing skills of Large ...   \n",
       "4     This paper presents a knowledge management s...   \n",
       "5     Standard clothing asset generation involves ...   \n",
       "6     Retrieval-Augmented Generation (RAG) is a pi...   \n",
       "7     Iterative retrieval refers to the process in...   \n",
       "8     This paper presents the iterative developmen...   \n",
       "9     As Large Language Models (LLMs) are progress...   \n",
       "10    In-Context Learning (ICL) enables Large Lang...   \n",
       "11    This research presents and compares multiple...   \n",
       "12    Large Language Models (LLMs) are increasingl...   \n",
       "13    Accurate diagnosis and prognosis assisted by...   \n",
       "14    In the current paradigm of image captioning,...   \n",
       "15    Recent advancements in large language models...   \n",
       "16    This paper introduces a comprehensive framew...   \n",
       "17    This paper investigates an intriguing task o...   \n",
       "18    Retrieval Augmented Generation (RAG) has eme...   \n",
       "19    \\textbf{Objective:} We aimed to develop an a...   \n",
       "\n",
       "                                              authors  \\\n",
       "0   [Robin D. Pesl, Jerin G. Mathew, Massimo Mecel...   \n",
       "1   [Michal Lewandowski, Hamid Eghbalzadeh, Bernha...   \n",
       "2   [Rafael Teixeira de Lima, Shubham Gupta, Cesar...   \n",
       "3   [Chiara Antico, Stefano Giordano, Cansu Koyutu...   \n",
       "4   [Yuta Ojima, Hiroki Sakaji, Tadashi Nakamura, ...   \n",
       "5   [Xianfeng Tan, Yuhan Li, Wenxiang Shang, Yubo ...   \n",
       "6   [Shengming Zhao, Yuheng Huang, Jiayang Song, Z...   \n",
       "7                 [Tian Yu, Shaolei Zhang, Yang Feng]   \n",
       "8   [Arian Fooroogh Mand Arabi, Cansu Koyuturk, Mi...   \n",
       "9   [Xue Tan, Hao Luan, Mingyu Luo, Xiaoyan Sun, P...   \n",
       "10  [Marie Al Ghossein, Emile Contal, Alexandre Ro...   \n",
       "11  [Nurshat Fateh Ali, Md. Mahdi Mohtasim, Shakil...   \n",
       "12  [Samuele Pasini, Jinhan Kim, Tommaso Aiello, R...   \n",
       "13  [Awais Naeem, Tianhao Li, Huang-Ru Liao, Jiawe...   \n",
       "14  [Steven Song, Anirudh Subramanyam, Irene Madej...   \n",
       "15  [Amy Xin, Jinxin Liu, Zijun Yao, Zhicheng Li, ...   \n",
       "16  [Agus Sudjianto, Aijun Zhang, Srinivas Neppall...   \n",
       "17  [Zi-Ao Ma, Tian Lan, Rong-Cheng Tu, Yong Hu, H...   \n",
       "18  [Mohammad Hassan Heydari, Arshia Hemmat, Erfan...   \n",
       "19  [Zaifu Zhan, Shuang Zhou, Mingchen Li, Rui Zhang]   \n",
       "\n",
       "                         link_article  \n",
       "0   http://arxiv.org/pdf/2411.19804v1  \n",
       "1   http://arxiv.org/pdf/2411.19713v1  \n",
       "2   http://arxiv.org/pdf/2411.19710v1  \n",
       "3   http://arxiv.org/pdf/2411.19554v1  \n",
       "4   http://arxiv.org/pdf/2411.19539v1  \n",
       "5   http://arxiv.org/pdf/2411.19528v1  \n",
       "6   http://arxiv.org/pdf/2411.19463v1  \n",
       "7   http://arxiv.org/pdf/2411.19443v1  \n",
       "8   http://arxiv.org/pdf/2411.19229v1  \n",
       "9   http://arxiv.org/pdf/2411.18948v1  \n",
       "10  http://arxiv.org/pdf/2411.18947v1  \n",
       "11  http://arxiv.org/pdf/2411.18583v1  \n",
       "12  http://arxiv.org/pdf/2411.18216v1  \n",
       "13  http://arxiv.org/pdf/2411.17073v1  \n",
       "14  http://arxiv.org/pdf/2411.16523v1  \n",
       "15  http://arxiv.org/pdf/2411.16495v1  \n",
       "16  http://arxiv.org/pdf/2411.16391v1  \n",
       "17  http://arxiv.org/pdf/2411.16365v1  \n",
       "18  http://arxiv.org/pdf/2411.16133v1  \n",
       "19  http://arxiv.org/pdf/2411.15700v1  "
      ]
     },
     "execution_count": 104,
     "metadata": {},
     "output_type": "execute_result"
    }
   ],
   "source": [
    "data_df = pd.DataFrame.from_dict(data_json)\n",
    "columns_to_convert = ['published', 'updated']\n",
    "data_df[columns_to_convert] = data_df[columns_to_convert].apply(pd.to_datetime)\n",
    "data_df.insert(0, \"id\", data_df[\"link_article\"].str.split(\".\").str[-1].str.replace(\"v*\",\"\", regex=True))\n",
    "data_df[\"id\"] = data_df[\"id\"].astype(\"int\")\n",
    "data_df.insert(1, \"version\", data_df[\"link_article\"].str.split(\".\").str[-1].str.split(\"v\").str[-1])\n",
    "data_df.info()\n",
    "data_df.sort_values(by=\"published\", ascending=False)"
   ]
  },
  {
   "cell_type": "markdown",
   "metadata": {},
   "source": [
    "[[Volver]](#Contenido)"
   ]
  },
  {
   "cell_type": "markdown",
   "metadata": {},
   "source": [
    "### <span style=\"color:#4CC9F0\">Subsección X</span>"
   ]
  },
  {
   "cell_type": "markdown",
   "metadata": {},
   "source": [
    "Texto de la subsección X"
   ]
  },
  {
   "cell_type": "code",
   "execution_count": null,
   "metadata": {},
   "outputs": [],
   "source": [
    "# Código de la subsección X"
   ]
  },
  {
   "cell_type": "markdown",
   "metadata": {},
   "source": [
    "## <span style=\"color:blue\">Automatización</span>"
   ]
  },
  {
   "cell_type": "markdown",
   "metadata": {},
   "source": [
    "Automatización del proceso"
   ]
  },
  {
   "cell_type": "markdown",
   "metadata": {},
   "source": [
    "## <span style=\"color:blue\">Uso de la Automatización</span>"
   ]
  },
  {
   "cell_type": "markdown",
   "metadata": {},
   "source": [
    "Uso de la Automatización explicada"
   ]
  },
  {
   "cell_type": "markdown",
   "metadata": {},
   "source": [
    "## <span style=\"color:blue\">Conclusiones</span>"
   ]
  },
  {
   "cell_type": "markdown",
   "metadata": {},
   "source": [
    "Conclusiones del Notebook"
   ]
  },
  {
   "cell_type": "markdown",
   "metadata": {},
   "source": [
    "## <span style=\"color:blue\">Recomendaciones</span>"
   ]
  },
  {
   "cell_type": "markdown",
   "metadata": {},
   "source": [
    "Recomendaciones del estudio hecho."
   ]
  },
  {
   "cell_type": "markdown",
   "metadata": {},
   "source": [
    "## <span style=\"color:blue\">Referencias</span>"
   ]
  },
  {
   "cell_type": "markdown",
   "metadata": {},
   "source": [
    "1. [Referencia]()"
   ]
  }
 ],
 "metadata": {
  "kernelspec": {
   "display_name": "alejandria",
   "language": "python",
   "name": "python3"
  },
  "language_info": {
   "codemirror_mode": {
    "name": "ipython",
    "version": 3
   },
   "file_extension": ".py",
   "mimetype": "text/x-python",
   "name": "python",
   "nbconvert_exporter": "python",
   "pygments_lexer": "ipython3",
   "version": "3.10.15"
  }
 },
 "nbformat": 4,
 "nbformat_minor": 4
}
