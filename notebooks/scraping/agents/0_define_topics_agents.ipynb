{
 "cells": [
  {
   "cell_type": "markdown",
   "metadata": {},
   "source": [
    "<figure>\n",
    "    <img src=\"../../../figures/logo_ap.png\"  width=\"80\" height=\"80\" align=\"left\"/>\n",
    "</figure>\n",
    "\n",
    "# <span style=\"color:blue\"><blue><br><br><br><br><center>&nbsp;&nbsp;&nbsp;Aprendizaje Profundo</center></span>"
   ]
  },
  {
   "cell_type": "markdown",
   "metadata": {},
   "source": [
    "# <span style=\"color:red\"><center>Biblioteca Alejandría</center></span>"
   ]
  },
  {
   "cell_type": "markdown",
   "metadata": {},
   "source": [
    "## <span style=\"color:green\"><center>Definición de Tópicos en AI</center></span>"
   ]
  },
  {
   "cell_type": "markdown",
   "metadata": {},
   "source": [
    "## <span style=\"color:blue\">Autores</span>"
   ]
  },
  {
   "cell_type": "markdown",
   "metadata": {},
   "source": [
    "1. Álvaro Montenegro, alvaro.montenegro@aprendizajeprofundo.ai\n",
    "1. Daniel Montenegro, daniel.montenegro@aprendizajeprofundo.ai"
   ]
  },
  {
   "cell_type": "markdown",
   "metadata": {},
   "source": [
    "## <span style=\"color:blue\">Contenido</span>"
   ]
  },
  {
   "cell_type": "markdown",
   "metadata": {},
   "source": [
    "* [Obtención de Conocimiento en Autoaprendizaje](#Obtención-de-Conocimiento-en-Autoaprendizaje)\n",
    "    * [Fases del Autoaprendizaje](#Fases-del-Autoaprendizaje)\n",
    "    * [Beneficios de Comenzar con Recursos Simples](#Beneficios-de-Comenzar-con-Recursos-Simples)\n",
    "    * [Aspectos Cognitivos del Autoaprendizaje](#Aspectos-Cognitivos-del-Autoaprendizaje)\n",
    "* [Extracción de Blogs en Towards Data Science](#Extracción-de-Blogs-en-Towards-Data-Science)\n",
    "* [Convertir en DataFrame](#Convertir-en-DataFrame)\n",
    "    * [Subsección X](#Subsección-X)\n",
    "* [Automatización](#Automatización)\n",
    "* [Conclusiones](#Conclusiones)\n",
    "* [Recomendaciones](#Recomendaciones)"
   ]
  },
  {
   "cell_type": "markdown",
   "metadata": {},
   "source": [
    "## <span style=\"color:blue\">Librerías Necesarias</span>"
   ]
  },
  {
   "cell_type": "code",
   "execution_count": 1,
   "metadata": {},
   "outputs": [
    {
     "data": {
      "text/plain": [
       "True"
      ]
     },
     "execution_count": 1,
     "metadata": {},
     "output_type": "execute_result"
    }
   ],
   "source": [
    "import os\n",
    "import json\n",
    "import requests\n",
    "from openai import OpenAI\n",
    "from bs4 import BeautifulSoup\n",
    "from dotenv import load_dotenv\n",
    "\n",
    "load_dotenv(\"../../../.env\")"
   ]
  },
  {
   "cell_type": "markdown",
   "metadata": {},
   "source": [
    "[[Volver]](#Contenido)"
   ]
  },
  {
   "cell_type": "markdown",
   "metadata": {},
   "source": [
    "## <span style=\"color:blue\">Obtención de Conocimiento en Autoaprendizaje</span>"
   ]
  },
  {
   "cell_type": "markdown",
   "metadata": {},
   "source": [
    "El proceso de autoaprendizaje comienza de manera natural con una exploración inicial en recursos accesibles como blogs, libros introductorios y videos. Este enfoque permite al cerebro asimilar nueva información de manera progresiva y efectiva. A continuación, describimos las fases principales de este proceso, con ejemplos aplicados al aprendizaje de inteligencia artificial."
   ]
  },
  {
   "cell_type": "markdown",
   "metadata": {},
   "source": [
    "[[Volver]](#Contenido)"
   ]
  },
  {
   "cell_type": "markdown",
   "metadata": {},
   "source": [
    "### <span style=\"color:#4CC9F0\">Fases del Autoaprendizaje</span>"
   ]
  },
  {
   "cell_type": "markdown",
   "metadata": {},
   "source": [
    "1. **Exploración Inicial (Curiosidad e Inmersión)**\n",
    "\n",
    "   - En esta etapa, buscamos recursos sencillos y atractivos para familiarizarnos con los conceptos básicos.\n",
    "   - Ejemplos: \n",
    "     - Blogs como *Towards Data Science* en Medium.\n",
    "     - Videos de canales educativos como *DeepLearning.AI* en YouTube.\n",
    "   - Objetivo: Despertar el interés y obtener una visión general.\n",
    "\n",
    "2. **Construcción de un Marco Mental (Organización Básica)**\n",
    "   - A medida que adquirimos conceptos iniciales, nuestro cerebro organiza la información en un esquema básico.\n",
    "   - Recurso ideal: Libros introductorios como [*Artificial Intelligence: A Modern Approach*](https://aima.cs.berkeley.edu/index.html).\n",
    "   - Objetivo: Establecer una estructura mental para conectar temas y subtemas.\n",
    "\n",
    "3. **Ampliación y Profundización (Aprendizaje Guiado)**\n",
    "   - Esta fase implica profundizar en áreas específicas utilizando recursos más estructurados, como cursos en línea (Coursera, edX).\n",
    "   - Ejemplo: Un curso introductorio en Machine Learning utilizando Python y bibliotecas como scikit-learn.\n",
    "   - Objetivo: Consolidar y ampliar el conocimiento adquirido.\n",
    "\n",
    "4. **Validación y Especialización (Aplicación y Práctica)**\n",
    "   - El aprendizaje activo se refuerza mediante la práctica y la interacción con comunidades en línea.\n",
    "   - Ejemplo: Implementar un modelo básico en Python y participar en discusiones en foros como Reddit o Stack Overflow.\n",
    "   - Objetivo: Validar lo aprendido y adaptar el conocimiento a aplicaciones reales.\n",
    "\n",
    "5. **Retroalimentación e Iteración (Perfeccionamiento)**\n",
    "   - La revisión constante de lo aprendido, junto con la búsqueda de nuevas fuentes, permite refinar y expandir el conocimiento.\n",
    "   - Ejemplo: Leer artículos científicos, asistir a conferencias y explorar tendencias emergentes en inteligencia artificial, de fuentes como ArXiv, Google Scholar, etc."
   ]
  },
  {
   "cell_type": "markdown",
   "metadata": {},
   "source": [
    "[[Volver]](#Contenido)"
   ]
  },
  {
   "cell_type": "markdown",
   "metadata": {},
   "source": [
    "### <span style=\"color:#4CC9F0\">Beneficios de Comenzar con Recursos Simples</span>"
   ]
  },
  {
   "cell_type": "markdown",
   "metadata": {},
   "source": [
    "- **Facilidad de Comprensión**: Blogs y videos simplifican conceptos complejos, haciéndolos accesibles para principiantes.\n",
    "- **Motivación**: Entender lo básico rápidamente refuerza la confianza y mantiene el interés.\n",
    "- **Accesibilidad**: Están diseñados para ser atractivos y adaptables a diferentes niveles de conocimiento."
   ]
  },
  {
   "cell_type": "markdown",
   "metadata": {},
   "source": [
    "[[Volver]](#Contenido)"
   ]
  },
  {
   "cell_type": "markdown",
   "metadata": {},
   "source": [
    "### <span style=\"color:#4CC9F0\">Aspectos Cognitivos del Autoaprendizaje</span>"
   ]
  },
  {
   "cell_type": "markdown",
   "metadata": {},
   "source": [
    "\n",
    "- **Activación de Esquemas Previos**: El cerebro conecta la nueva información con conocimientos previos para facilitar la comprensión.\n",
    "- **División en \"Bloques Manejables\"**: Las fuentes introductorias fragmentan conceptos complejos, haciendo el aprendizaje menos abrumador.\n",
    "- **Construcción de Modelos Mentales**: Se desarrollan esquemas que organizan la información en estructuras lógicas y coherentes.\n",
    "- **Consolidación mediante Práctica**: Aplicar el conocimiento refuerza las conexiones neuronales, facilitando el aprendizaje duradero."
   ]
  },
  {
   "cell_type": "markdown",
   "metadata": {},
   "source": [
    "[[Volver]](#Contenido)"
   ]
  },
  {
   "cell_type": "markdown",
   "metadata": {},
   "source": [
    "Siguiendo esta línea argumentativa, lo esencial es comenzar desde un contenido amigable como lo es Towards Data Science y otros blogs."
   ]
  },
  {
   "cell_type": "markdown",
   "metadata": {},
   "source": [
    "## <span style=\"color:blue\">Extracción de Blogs en Towards Data Science</span>"
   ]
  },
  {
   "cell_type": "markdown",
   "metadata": {},
   "source": [
    "Una excelente forma de iniciar el aprendizaje sobre inteligencia artificial y análisis de datos es a través de blogs especializados que presentan conceptos de manera accesible y orientada a la práctica.\n",
    "\n",
    "Uno de los recursos más recomendados es *Towards Data Science*, una plataforma en Medium donde expertos y profesionales comparten conocimientos, casos de estudio, y guías prácticas sobre temas como:\n",
    "\n",
    "- **Inteligencia Artificial (IA)**\n",
    "- **Aprendizaje Automático (Machine Learning)**\n",
    "- **Aprendizaje Profundo (Deep Learning)**\n",
    "- **Procesamiento de Lenguaje Natural (NLP)**\n",
    "- **Visualización de Datos**\n",
    "- **Herramientas y Bibliotecas de Python**\n",
    "\n",
    "El contenido de *Towards Data Science* se destaca por su enfoque directo, ejemplos aplicados y explicaciones claras, lo que lo convierte en una fuente ideal para investigadores y profesionales en formación. La plataforma también permite filtrar publicaciones por temas específicos y seguir autores reconocidos, facilitando la personalización del aprendizaje.\n",
    "\n",
    "En esta sección, exploraremos cómo extraer contenido relevante de blogs como *Towards Data Science* y utilizarlos como puntos de partida para profundizar en temas de interés. Además, aprenderemos a identificar palabras clave y temas relacionados que pueden ser útiles para búsquedas más avanzadas en literatura académica y proyectos de investigación."
   ]
  },
  {
   "cell_type": "markdown",
   "metadata": {},
   "source": [
    "### <span style=\"color:#4CC9F0\">Realizar Consultas en Towards Data Science</span>"
   ]
  },
  {
   "cell_type": "markdown",
   "metadata": {},
   "source": [
    "Para obtener información desde Towards Data Science, podemos hacer la consulta directa por petición desde python:"
   ]
  },
  {
   "cell_type": "code",
   "execution_count": null,
   "metadata": {},
   "outputs": [],
   "source": [
    "## Aquí debe haber un agente que realice las consultas desde tu curiosidad y descubrimiento\n",
    "query = \"RAG\"\n",
    "url = f\"https://towardsdatascience.com/search?q={query}\"\n",
    "\n",
    "resp = requests.get(url)\n",
    "html_content = resp.text"
   ]
  },
  {
   "cell_type": "markdown",
   "metadata": {},
   "source": [
    "Luego de esto, es posible utilizar Beautiful Soup para obtener la información de metadata relevante de los blogs:"
   ]
  },
  {
   "cell_type": "code",
   "execution_count": null,
   "metadata": {},
   "outputs": [
    {
     "name": "stdout",
     "output_type": "stream",
     "text": [
      "{'ROOT_QUERY': {'__typename': 'Query', 'variantFlags': [{'__typename': 'VariantFlag', 'name': 'goliath_externalsearch_enable_comment_deindexation', 'valueType': {'__typename': 'VariantFlagBoolean', 'value': True}}, {'__typename': 'VariantFlag', 'name': 'ios_enable_verified_book_author', 'valueType': {'__typename': 'VariantFlagBoolean', 'value': True}}, {'__typename': 'VariantFlag', 'name': 'limit_user_follows', 'valueType': {'__typename': 'VariantFlagBoolean', 'value': True}}, {'__typename': 'VariantFlag', 'name': 'mobile_custom_app_icon', 'valueType': {'__typename': 'VariantFlagBoolean', 'value': True}}, {'__typename': 'VariantFlag', 'name': 'reader_fair_distribution_non_qp', 'valueType': {'__typename': 'VariantFlagBoolean', 'value': True}}, {'__typename': 'VariantFlag', 'name': 'browsable_stream_config_bucket', 'valueType': {'__typename': 'VariantFlagString', 'value': 'curated-topics'}}, {'__typename': 'VariantFlag', 'name': 'enable_braintree_apple_pay', 'valueType': {'__typename': 'VariantFlagBoolean', 'value': True}}, {'__typename': 'VariantFlag', 'name': 'can_receive_tips_v0', 'valueType': {'__typename': 'VariantFlagBoolean', 'value': True}}, {'__typename': 'VariantFlag', 'name': 'price_smoke_test_monthly', 'valueType': {'__typename': 'VariantFlagString', 'value': ''}}, {'__typename': 'VariantFlag', 'name': 'enable_author_cards', 'valueType': {'__typename': 'VariantFlagBoolean', 'value': True}}, {'__typename': 'VariantFlag', 'name': 'enable_ios_easy_resubscribe', 'valueType': {'__typename': 'VariantFlagBoolean', 'value': True}}, {'__typename': 'VariantFlag', 'name': 'enable_lite_archive_page', 'valueType': {'__typename': 'VariantFlagBoolean', 'value': True}}, {'__typename': 'VariantFlag', 'name': 'enable_ml_rank_rex_anno', 'valueType': {'__typename': 'VariantFlagBoolean', 'value': True}}, {'__typename': 'VariantFlag', 'name': 'android_enable_friend_links_postpage_banners', 'valueType': {'__typename': 'VariantFlagBoolean', 'value': True}}, {'__typename': 'VariantFlag', 'name': 'available_monthly_plan', 'valueType': {'__typename': 'VariantFlagString', 'value': '60e220181034'}}, {'__typename': 'VariantFlag', 'name': 'enable_lo_homepage', 'valueType': {'__typename': 'VariantFlagString', 'value': 'control'}}, {'__typename': 'VariantFlag', 'name': 'enable_rex_new_push_notification_endpoint', 'valueType': {'__typename': 'VariantFlagBoolean', 'value': True}}, {'__typename': 'VariantFlag', 'name': 'enable_auto_follow_on_subscribe', 'valueType': {'__typename': 'VariantFlagBoolean', 'value': True}}, {'__typename': 'VariantFlag', 'name': 'enable_marketing_emails', 'valueType': {'__typename': 'VariantFlagBoolean', 'value': True}}, {'__typename': 'VariantFlag', 'name': 'enable_new_manage_membership_flow', 'valueType': {'__typename': 'VariantFlagBoolean', 'value': True}}, {'__typename': 'VariantFlag', 'name': 'enable_post_bottom_responses_input', 'valueType': {'__typename': 'VariantFlagBoolean', 'value': True}}, {'__typename': 'VariantFlag', 'name': 'enable_legacy_feed_in_iceland', 'valueType': {'__typename': 'VariantFlagBoolean', 'value': True}}, {'__typename': 'VariantFlag', 'name': 'allow_signup', 'valueType': {'__typename': 'VariantFlagBoolean', 'value': True}}, {'__typename': 'VariantFlag', 'name': 'enable_recirc_model', 'valueType': {'__typename': 'VariantFlagBoolean', 'value': True}}, {'__typename': 'VariantFlag', 'name': 'enable_author_cards_byline', 'valueType': {'__typename': 'VariantFlagBoolean', 'value': True}}, {'__typename': 'VariantFlag', 'name': 'enable_speechify_ios', 'valueType': {'__typename': 'VariantFlagBoolean', 'value': True}}, {'__typename': 'VariantFlag', 'name': 'glyph_font_set', 'valueType': {'__typename': 'VariantFlagString', 'value': 'm2-unbound-source-serif-pro'}}, {'__typename': 'VariantFlag', 'name': 'enable_braintree_paypal', 'valueType': {'__typename': 'VariantFlagBoolean', 'value': True}}, {'__typename': 'VariantFlag', 'name': 'enable_import', 'valueType': {'__typename': 'VariantFlagBoolean', 'value': True}}, {'__typename': 'VariantFlag', 'name': 'allow_access', 'valueType': {'__typename': 'VariantFlagBoolean', 'value': True}}, {'__typename': 'VariantFlag', 'name': 'enable_boost_nia_v01', 'valueType': {'__typename': 'VariantFlagBoolean', 'value': True}}, {'__typename': 'VariantFlag', 'name': 'enable_braintree_integration', 'valueType': {'__typename': 'VariantFlagBoolean', 'value': True}}, {'__typename': 'VariantFlag', 'name': 'enable_tipping_v0_ios', 'valueType': {'__typename': 'VariantFlagBoolean', 'value': True}}, {'__typename': 'VariantFlag', 'name': 'enable_lite_server_upstream_deadlines', 'valueType': {'__typename': 'VariantFlagBoolean', 'value': True}}, {'__typename': 'VariantFlag', 'name': 'enable_premium_tier_badge', 'valueType': {'__typename': 'VariantFlagBoolean', 'value': True}}, {'__typename': 'VariantFlag', 'name': 'android_two_hour_refresh', 'valueType': {'__typename': 'VariantFlagBoolean', 'value': True}}, {'__typename': 'VariantFlag', 'name': 'enable_switch_plan_premium_tier', 'valueType': {'__typename': 'VariantFlagBoolean', 'value': True}}, {'__typename': 'VariantFlag', 'name': 'ios_remove_twitter_onboarding_step', 'valueType': {'__typename': 'VariantFlagBoolean', 'value': True}}, {'__typename': 'VariantFlag', 'name': 'ios_social_share_sheet', 'valueType': {'__typename': 'VariantFlagBoolean', 'value': True}}, {'__typename': 'VariantFlag', 'name': 'enable_pp_country_expansion', 'valueType': {'__typename': 'VariantFlagBoolean', 'value': True}}, {'__typename': 'VariantFlag', 'name': 'enable_sprig', 'valueType': {'__typename': 'VariantFlagBoolean', 'value': True}}, {'__typename': 'VariantFlag', 'name': 'enable_diversification_rex', 'valueType': {'__typename': 'VariantFlagBoolean', 'value': True}}, {'__typename': 'VariantFlag', 'name': 'ios_iceland_nux', 'valueType': {'__typename': 'VariantFlagBoolean', 'value': True}}, {'__typename': 'VariantFlag', 'name': 'enable_branch_io', 'valueType': {'__typename': 'VariantFlagBoolean', 'value': True}}, {'__typename': 'VariantFlag', 'name': 'enable_updated_pub_recs_ui', 'valueType': {'__typename': 'VariantFlagBoolean', 'value': True}}, {'__typename': 'VariantFlag', 'name': 'enable_recommended_publishers_query', 'valueType': {'__typename': 'VariantFlagBoolean', 'value': True}}, {'__typename': 'VariantFlag', 'name': 'enable_update_explore_wtf', 'valueType': {'__typename': 'VariantFlagBoolean', 'value': True}}, {'__typename': 'VariantFlag', 'name': 'enable_braintree_trial_membership', 'valueType': {'__typename': 'VariantFlagBoolean', 'value': True}}, {'__typename': 'VariantFlag', 'name': 'ios_enable_friend_links_creation', 'valueType': {'__typename': 'VariantFlagBoolean', 'value': True}}, {'__typename': 'VariantFlag', 'name': 'android_enable_editor_new_publishing_flow', 'valueType': {'__typename': 'VariantFlagBoolean', 'value': True}}, {'__typename': 'VariantFlag', 'name': 'enable_intrinsic_automatic_actions', 'valueType': {'__typename': 'VariantFlagBoolean', 'value': True}}, {'__typename': 'VariantFlag', 'name': 'enable_android_dynamic_programming_paywall', 'valueType': {'__typename': 'VariantFlagBoolean', 'value': True}}, {'__typename': 'VariantFlag', 'name': 'enable_update_topic_portals_wtf', 'valueType': {'__typename': 'VariantFlagBoolean', 'value': True}}, {'__typename': 'VariantFlag', 'name': 'enable_speechify_widget', 'valueType': {'__typename': 'VariantFlagBoolean', 'value': True}}, {'__typename': 'VariantFlag', 'name': 'enable_deprecate_legacy_providers_v3', 'valueType': {'__typename': 'VariantFlagBoolean', 'value': True}}, {'__typename': 'VariantFlag', 'name': 'enable_moc_load_processor_all_recs_surfaces', 'valueType': {'__typename': 'VariantFlagBoolean', 'value': True}}, {'__typename': 'VariantFlag', 'name': 'limit_post_referrers', 'valueType': {'__typename': 'VariantFlagBoolean', 'value': True}}, {'__typename': 'VariantFlag', 'name': 'reengagement_notification_duration', 'valueType': {'__typename': 'VariantFlagNumber', 'value': 3}}, {'__typename': 'VariantFlag', 'name': 'can_send_tips_v0', 'valueType': {'__typename': 'VariantFlagBoolean', 'value': True}}, {'__typename': 'VariantFlag', 'name': 'enable_automod', 'valueType': {'__typename': 'VariantFlagBoolean', 'value': True}}, {'__typename': 'VariantFlag', 'name': 'enable_susi_redesign_android', 'valueType': {'__typename': 'VariantFlagBoolean', 'value': True}}, {'__typename': 'VariantFlag', 'name': 'ios_enable_friend_links_postpage_banners', 'valueType': {'__typename': 'VariantFlagBoolean', 'value': True}}, {'__typename': 'VariantFlag', 'name': 'signin_services', 'valueType': {'__typename': 'VariantFlagString', 'value': 'twitter,facebook,google,email,google-fastidv,google-one-tap,apple'}}, {'__typename': 'VariantFlag', 'name': 'enable_android_dynamic_aspirational_paywall', 'valueType': {'__typename': 'VariantFlagBoolean', 'value': True}}, {'__typename': 'VariantFlag', 'name': 'enable_apple_webhook', 'valueType': {'__typename': 'VariantFlagBoolean', 'value': True}}, {'__typename': 'VariantFlag', 'name': 'enable_post_bottom_responses', 'valueType': {'__typename': 'VariantFlagBoolean', 'value': True}}, {'__typename': 'VariantFlag', 'name': 'enable_bayesian_average_pub_search', 'valueType': {'__typename': 'VariantFlagBoolean', 'value': True}}, {'__typename': 'VariantFlag', 'name': 'enable_premium_tier', 'valueType': {'__typename': 'VariantFlagBoolean', 'value': True}}, {'__typename': 'VariantFlag', 'name': 'available_annual_plan', 'valueType': {'__typename': 'VariantFlagString', 'value': '2c754bcc2995'}}, {'__typename': 'VariantFlag', 'name': 'enable_tipping_v0_android', 'valueType': {'__typename': 'VariantFlagBoolean', 'value': True}}, {'__typename': 'VariantFlag', 'name': 'enable_app_flirty_thirty', 'valueType': {'__typename': 'VariantFlagBoolean', 'value': True}}, {'__typename': 'VariantFlag', 'name': 'enable_lite_homepage', 'valueType': {'__typename': 'VariantFlagBoolean', 'value': True}}, {'__typename': 'VariantFlag', 'name': 'enable_mastodon_avatar_upload', 'valueType': {'__typename': 'VariantFlagBoolean', 'value': True}}, {'__typename': 'VariantFlag', 'name': 'enable_see_pronouns', 'valueType': {'__typename': 'VariantFlagBoolean', 'value': True}}, {'__typename': 'VariantFlag', 'name': 'skip_fs_cache_user_vals', 'valueType': {'__typename': 'VariantFlagBoolean', 'value': True}}, {'__typename': 'VariantFlag', 'name': 'enable_sharer_validate_post_share_key', 'valueType': {'__typename': 'VariantFlagBoolean', 'value': True}}, {'__typename': 'VariantFlag', 'name': 'enable_rex_reading_history', 'valueType': {'__typename': 'VariantFlagBoolean', 'value': True}}, {'__typename': 'VariantFlag', 'name': 'enable_pp_v4', 'valueType': {'__typename': 'VariantFlagBoolean', 'value': True}}, {'__typename': 'VariantFlag', 'name': 'enable_seamless_social_sharing', 'valueType': {'__typename': 'VariantFlagBoolean', 'value': True}}, {'__typename': 'VariantFlag', 'name': 'enable_abandoned_cart_promotion_email', 'valueType': {'__typename': 'VariantFlagBoolean', 'value': True}}, {'__typename': 'VariantFlag', 'name': 'enable_moc_load_processor_c', 'valueType': {'__typename': 'VariantFlagBoolean', 'value': True}}, {'__typename': 'VariantFlag', 'name': 'num_post_bottom_responses_to_show', 'valueType': {'__typename': 'VariantFlagString', 'value': '1'}}, {'__typename': 'VariantFlag', 'name': 'rex_generator_max_candidates', 'valueType': {'__typename': 'VariantFlagNumber', 'value': 1000}}, {'__typename': 'VariantFlag', 'name': 'enable_google_webhook', 'valueType': {'__typename': 'VariantFlagBoolean', 'value': True}}, {'__typename': 'VariantFlag', 'name': 'enable_ios_autorefresh', 'valueType': {'__typename': 'VariantFlagBoolean', 'value': True}}, {'__typename': 'VariantFlag', 'name': 'enable_android_miro_v2', 'valueType': {'__typename': 'VariantFlagBoolean', 'value': True}}, {'__typename': 'VariantFlag', 'name': 'enable_entities_to_follow_v2', 'valueType': {'__typename': 'VariantFlagBoolean', 'value': True}}, {'__typename': 'VariantFlag', 'name': 'enable_mastodon_for_members', 'valueType': {'__typename': 'VariantFlagBoolean', 'value': True}}, {'__typename': 'VariantFlag', 'name': 'enable_iceland_forced_android', 'valueType': {'__typename': 'VariantFlagBoolean', 'value': True}}, {'__typename': 'VariantFlag', 'name': 'enable_aurora_pub_follower_page', 'valueType': {'__typename': 'VariantFlagBoolean', 'value': True}}, {'__typename': 'VariantFlag', 'name': 'enable_tag_recs', 'valueType': {'__typename': 'VariantFlagBoolean', 'value': True}}, {'__typename': 'VariantFlag', 'name': 'enable_pre_pp_v4', 'valueType': {'__typename': 'VariantFlagBoolean', 'value': True}}, {'__typename': 'VariantFlag', 'name': 'enable_creator_welcome_email', 'valueType': {'__typename': 'VariantFlagBoolean', 'value': True}}, {'__typename': 'VariantFlag', 'name': 'enable_members_only_audio', 'valueType': {'__typename': 'VariantFlagBoolean', 'value': True}}, {'__typename': 'VariantFlag', 'name': 'enable_rito_upstream_deadlines', 'valueType': {'__typename': 'VariantFlagBoolean', 'value': True}}, {'__typename': 'VariantFlag', 'name': 'disable_partner_program_enrollment', 'valueType': {'__typename': 'VariantFlagBoolean', 'value': True}}, {'__typename': 'VariantFlag', 'name': 'enable_eventstats_event_processing', 'valueType': {'__typename': 'VariantFlagBoolean', 'value': True}}, {'__typename': 'VariantFlag', 'name': 'enable_newsletter_lo_flow_custom_domains', 'valueType': {'__typename': 'VariantFlagBoolean', 'value': True}}, {'__typename': 'VariantFlag', 'name': 'android_rating_prompt_stories_read_threshold', 'valueType': {'__typename': 'VariantFlagNumber', 'value': 2}}, {'__typename': 'VariantFlag', 'name': 'enable_braintree_google_pay', 'valueType': {'__typename': 'VariantFlagBoolean', 'value': True}}, {'__typename': 'VariantFlag', 'name': 'android_enable_syntax_highlight', 'valueType': {'__typename': 'VariantFlagBoolean', 'value': True}}, {'__typename': 'VariantFlag', 'name': 'enable_simplified_digest_v2_b', 'valueType': {'__typename': 'VariantFlagBoolean', 'value': True}}, {'__typename': 'VariantFlag', 'name': 'enable_susi_redesign_ios', 'valueType': {'__typename': 'VariantFlagBoolean', 'value': True}}, {'__typename': 'VariantFlag', 'name': 'ios_display_paywall_after_onboarding', 'valueType': {'__typename': 'VariantFlagBoolean', 'value': True}}, {'__typename': 'VariantFlag', 'name': 'android_enable_image_sharer', 'valueType': {'__typename': 'VariantFlagBoolean', 'value': True}}, {'__typename': 'VariantFlag', 'name': 'enable_ios_offline_reading', 'valueType': {'__typename': 'VariantFlagBoolean', 'value': True}}, {'__typename': 'VariantFlag', 'name': 'enable_maim_the_meter', 'valueType': {'__typename': 'VariantFlagBoolean', 'value': True}}, {'__typename': 'VariantFlag', 'name': 'enable_recaptcha_enterprise', 'valueType': {'__typename': 'VariantFlagBoolean', 'value': True}}, {'__typename': 'VariantFlag', 'name': 'enable_verifications_service', 'valueType': {'__typename': 'VariantFlagBoolean', 'value': True}}, {'__typename': 'VariantFlag', 'name': 'available_monthly_premium_plan', 'valueType': {'__typename': 'VariantFlagString', 'value': '12a660186432'}}, {'__typename': 'VariantFlag', 'name': 'price_smoke_test_yearly', 'valueType': {'__typename': 'VariantFlagString', 'value': ''}}, {'__typename': 'VariantFlag', 'name': 'enable_starspace', 'valueType': {'__typename': 'VariantFlagBoolean', 'value': True}}, {'__typename': 'VariantFlag', 'name': 'enable_google_one_tap', 'valueType': {'__typename': 'VariantFlagBoolean', 'value': True}}, {'__typename': 'VariantFlag', 'name': 'android_enable_lists_v2', 'valueType': {'__typename': 'VariantFlagBoolean', 'value': True}}, {'__typename': 'VariantFlag', 'name': 'enable_sharer_create_post_share_key', 'valueType': {'__typename': 'VariantFlagBoolean', 'value': True}}, {'__typename': 'VariantFlag', 'name': 'signup_services', 'valueType': {'__typename': 'VariantFlagString', 'value': 'twitter,facebook,google,email,google-fastidv,google-one-tap,apple'}}, {'__typename': 'VariantFlag', 'name': 'textshots_userid', 'valueType': {'__typename': 'VariantFlagString', 'value': ''}}, {'__typename': 'VariantFlag', 'name': 'enable_explicit_signals_updated_post_previews', 'valueType': {'__typename': 'VariantFlagBoolean', 'value': True}}, {'__typename': 'VariantFlag', 'name': 'enable_ios_dynamic_paywall_aspiriational', 'valueType': {'__typename': 'VariantFlagBoolean', 'value': True}}, {'__typename': 'VariantFlag', 'name': 'enable_apple_sign_in', 'valueType': {'__typename': 'VariantFlagBoolean', 'value': True}}, {'__typename': 'VariantFlag', 'name': 'enable_conversion_model_v2', 'valueType': {'__typename': 'VariantFlagString', 'value': 'group_2'}}, {'__typename': 'VariantFlag', 'name': 'enable_new_stripe_customers', 'valueType': {'__typename': 'VariantFlagBoolean', 'value': True}}, {'__typename': 'VariantFlag', 'name': 'enable_explicit_signals', 'valueType': {'__typename': 'VariantFlagBoolean', 'value': True}}, {'__typename': 'VariantFlag', 'name': 'enable_rex_aggregator_v2', 'valueType': {'__typename': 'VariantFlagBoolean', 'value': True}}, {'__typename': 'VariantFlag', 'name': 'available_annual_premium_plan', 'valueType': {'__typename': 'VariantFlagString', 'value': '4a442ace1476'}}, {'__typename': 'VariantFlag', 'name': 'enable_configure_pronouns', 'valueType': {'__typename': 'VariantFlagBoolean', 'value': True}}, {'__typename': 'VariantFlag', 'name': 'enable_medium2_kbfd', 'valueType': {'__typename': 'VariantFlagBoolean', 'value': True}}, {'__typename': 'VariantFlag', 'name': 'enable_ranker_v10', 'valueType': {'__typename': 'VariantFlagString', 'value': 'control'}}, {'__typename': 'VariantFlag', 'name': 'enable_tick_landing_page', 'valueType': {'__typename': 'VariantFlagBoolean', 'value': True}}, {'__typename': 'VariantFlag', 'name': 'enable_braintree_client', 'valueType': {'__typename': 'VariantFlagBoolean', 'value': True}}, {'__typename': 'VariantFlag', 'name': 'enable_lite_response_markup', 'valueType': {'__typename': 'VariantFlagBoolean', 'value': True}}, {'__typename': 'VariantFlag', 'name': 'ios_in_app_free_trial', 'valueType': {'__typename': 'VariantFlagBoolean', 'value': True}}, {'__typename': 'VariantFlag', 'name': 'enable_lite_continue_this_thread', 'valueType': {'__typename': 'VariantFlagBoolean', 'value': True}}, {'__typename': 'VariantFlag', 'name': 'enable_publication_hierarchy_web', 'valueType': {'__typename': 'VariantFlagBoolean', 'value': True}}, {'__typename': 'VariantFlag', 'name': 'ios_enable_home_post_menu', 'valueType': {'__typename': 'VariantFlagBoolean', 'value': True}}, {'__typename': 'VariantFlag', 'name': 'android_enable_topic_portals', 'valueType': {'__typename': 'VariantFlagBoolean', 'value': True}}, {'__typename': 'VariantFlag', 'name': 'enable_braintree_webhook', 'valueType': {'__typename': 'VariantFlagBoolean', 'value': True}}, {'__typename': 'VariantFlag', 'name': 'enable_ios_dynamic_paywall_programming', 'valueType': {'__typename': 'VariantFlagBoolean', 'value': True}}, {'__typename': 'VariantFlag', 'name': 'allow_test_auth', 'valueType': {'__typename': 'VariantFlagString', 'value': 'disallow'}}, {'__typename': 'VariantFlag', 'name': 'enable_moc_load_processor_first_story', 'valueType': {'__typename': 'VariantFlagBoolean', 'value': True}}, {'__typename': 'VariantFlag', 'name': 'enable_bg_post_post', 'valueType': {'__typename': 'VariantFlagBoolean', 'value': True}}, {'__typename': 'VariantFlag', 'name': 'coronavirus_topic_recirc', 'valueType': {'__typename': 'VariantFlagBoolean', 'value': True}}, {'__typename': 'VariantFlag', 'name': 'onboarding_tags_from_top_views', 'valueType': {'__typename': 'VariantFlagBoolean', 'value': True}}, {'__typename': 'VariantFlag', 'name': 'redefined_top_posts', 'valueType': {'__typename': 'VariantFlagBoolean', 'value': True}}, {'__typename': 'VariantFlag', 'name': 'enable_mastodon_for_members_username_selection', 'valueType': {'__typename': 'VariantFlagBoolean', 'value': True}}, {'__typename': 'VariantFlag', 'name': 'enable_conversion_ranker_v2', 'valueType': {'__typename': 'VariantFlagString', 'value': 'control'}}, {'__typename': 'VariantFlag', 'name': 'enable_tribute_landing_page', 'valueType': {'__typename': 'VariantFlagBoolean', 'value': True}}, {'__typename': 'VariantFlag', 'name': 'android_enable_friend_links_creation', 'valueType': {'__typename': 'VariantFlagBoolean', 'value': True}}, {'__typename': 'VariantFlag', 'name': 'enable_group_gifting', 'valueType': {'__typename': 'VariantFlagBoolean', 'value': True}}, {'__typename': 'VariantFlag', 'name': 'enable_pill_based_home_feed', 'valueType': {'__typename': 'VariantFlagBoolean', 'value': True}}, {'__typename': 'VariantFlag', 'name': 'ios_enable_lock_responses', 'valueType': {'__typename': 'VariantFlagBoolean', 'value': True}}, {'__typename': 'VariantFlag', 'name': 'enable_android_offline_reading', 'valueType': {'__typename': 'VariantFlagBoolean', 'value': True}}, {'__typename': 'VariantFlag', 'name': 'enable_footer_app_buttons', 'valueType': {'__typename': 'VariantFlagBoolean', 'value': True}}, {'__typename': 'VariantFlag', 'name': 'enable_android_verified_author', 'valueType': {'__typename': 'VariantFlagBoolean', 'value': True}}, {'__typename': 'VariantFlag', 'name': 'enable_cache_less_following_feed', 'valueType': {'__typename': 'VariantFlagBoolean', 'value': True}}], 'viewer': None, 'collectionByDomainOrSlug({\"domainOrSlug\":\"towardsdatascience.com\"})': {'__typename': 'Collection', 'name': 'Towards Data Science'}, 'searchInCollection({\"domainOrSlug\":\"towardsdatascience.com\",\"query\":\"RAG\"})': {'__ref': 'Search:{}'}}, 'User:a67b10ad1762': {'__typename': 'User', 'id': 'a67b10ad1762', 'name': 'Dr. Leon Eversberg', 'username': 'leoneversberg', 'imageId': '1*s0Z_EQ6__8CxvIXDd2tYGg.png', 'mediumMemberAt': 1704885188000, 'customDomainState': None, 'hasSubdomain': False, 'membership': {'__ref': 'Membership:7d4d4e4cb414'}, 'verifications': {'__typename': 'VerifiedInfo', 'isBookAuthor': False}, 'bio': '🤖 Machine Learning PhD | AI Software Engineer | Research & Development Specialist | Data Scientist | LLM Enthusiast', 'viewerEdge': {'__ref': 'UserViewerEdge:userId:a67b10ad1762-viewerId:lo_7d320bce56a5'}}, 'ImageMetadata:1*CJe3891yB1A1mzMdqemkdg.jpeg': {'__typename': 'ImageMetadata', 'id': '1*CJe3891yB1A1mzMdqemkdg.jpeg'}, 'ImageMetadata:1*cFFKn8rFH4ZndmaYeAs6iQ.png': {'__typename': 'ImageMetadata', 'id': '1*cFFKn8rFH4ZndmaYeAs6iQ.png'}, 'Collection:7f60cf5620c9': {'__typename': 'Collection', 'id': '7f60cf5620c9', 'name': 'Towards Data Science', 'domain': 'towardsdatascience.com', 'slug': 'towards-data-science', 'avatar': {'__ref': 'ImageMetadata:1*CJe3891yB1A1mzMdqemkdg.jpeg'}, 'logo': {'__ref': 'ImageMetadata:1*cFFKn8rFH4ZndmaYeAs6iQ.png'}, 'navItems': [{'__typename': 'NavItem', 'url': 'https://towardsdatascience.com/latest'}, {'__typename': 'NavItem', 'url': 'https://towardsdatascience.com/editors-picks/home'}, {'__typename': 'NavItem', 'url': 'https://towardsdatascience.com/deep-dives/home'}, {'__typename': 'NavItem', 'url': 'https://towardsdatascience.com/about-us/home'}, {'__typename': 'NavItem', 'url': 'https://towardsdatascience.com/questions-96667b06af5'}, {'__typename': 'NavItem', 'url': 'https://medium.com/towards-data-science/newsletter'}], 'description': 'Your home for data science and AI. The world’s leading publication for data science, data analytics, data engineering, machine learning, and artificial intelligence professionals.', 'subscriberCount': 771479, 'customStyleSheet': None, 'viewerEdge': {'__ref': 'CollectionViewerEdge:collectionId:7f60cf5620c9-viewerId:lo_7d320bce56a5'}}, 'Membership:7d4d4e4cb414': {'__typename': 'Membership', 'tier': 'MEMBER', 'id': '7d4d4e4cb414'}, 'Post:426a2e0dd82b': {'__typename': 'Post', 'id': '426a2e0dd82b', 'algoliaObjectId': '426a2e0dd82b', 'title': 'Improved RAG Document Processing With Markdown', 'createdAt': 1731832949033, 'readingTime': 9.282075471698112, 'visibility': 'LOCKED', 'creator': {'__ref': 'User:a67b10ad1762'}, 'collection': {'__ref': 'Collection:7f60cf5620c9'}, 'isSeries': False, 'mediumUrl': 'https://towardsdatascience.com/improved-rag-document-processing-with-markdown-426a2e0dd82b', 'sequence': None, 'uniqueSlug': 'improved-rag-document-processing-with-markdown-426a2e0dd82b', 'isLocked': True, 'firstPublishedAt': 1732024914442, 'latestPublishedAt': 1732024914442, 'pinnedAt': 0, 'previewImage': {'__ref': 'ImageMetadata:0*jrOt6sJucS-m5Yce'}, 'extendedPreviewContent': {'__typename': 'PreviewContent', 'subtitle': 'How to read and convert PDFs to Markdown for better RAG results with LLMs', 'isFullContent': False}, 'isPublished': True, 'isLimitedState': False, 'allowResponses': True, 'postResponses': {'__typename': 'PostResponses', 'count': 6}, 'clapCount': 640}, 'Post:140daa3cbe71': {'__typename': 'Post', 'id': '140daa3cbe71', 'algoliaObjectId': '140daa3cbe71', 'title': 'How to Create a RAG Evaluation Dataset From Documents', 'createdAt': 1730046108966, 'readingTime': 11.58805031446541, 'visibility': 'LOCKED', 'creator': {'__ref': 'User:a67b10ad1762'}, 'collection': {'__ref': 'Collection:7f60cf5620c9'}, 'isSeries': False, 'mediumUrl': 'https://towardsdatascience.com/how-to-create-a-rag-evaluation-dataset-from-documents-140daa3cbe71', 'sequence': None, 'uniqueSlug': 'how-to-create-a-rag-evaluation-dataset-from-documents-140daa3cbe71', 'isLocked': True, 'firstPublishedAt': 1730668313345, 'latestPublishedAt': 1730668313345, 'pinnedAt': 0, 'previewImage': {'__ref': 'ImageMetadata:1*aYb8AgzctiTtUYofqQq9ug.png'}, 'extendedPreviewContent': {'__typename': 'PreviewContent', 'subtitle': 'Automatically create domain-specific datasets in any language using LLMs', 'isFullContent': False}, 'isPublished': True, 'isLimitedState': False, 'allowResponses': True, 'postResponses': {'__typename': 'PostResponses', 'count': 7}, 'clapCount': 649}, 'User:14cfcbfbf82b': {'__typename': 'User', 'id': '14cfcbfbf82b', 'name': 'Vignesh Baskaran', 'username': 'vignesh865', 'imageId': '1*tYzAvHGMfGJdeXUfQiR-HQ.jpeg', 'mediumMemberAt': 1702648088000, 'customDomainState': None, 'hasSubdomain': False, 'membership': {'__ref': 'Membership:166c201a4f39'}, 'verifications': {'__typename': 'VerifiedInfo', 'isBookAuthor': False}, 'bio': 'Senior Technology Associate - GenAI Engineer @ Synechron', 'viewerEdge': {'__ref': 'UserViewerEdge:userId:14cfcbfbf82b-viewerId:lo_7d320bce56a5'}}, 'Membership:166c201a4f39': {'__typename': 'Membership', 'tier': 'MEMBER', 'id': '166c201a4f39'}, 'Post:5d4a8f583f32': {'__typename': 'Post', 'id': '5d4a8f583f32', 'algoliaObjectId': '5d4a8f583f32', 'title': 'Improve Your RAG Context Recall by 95% with an Adapted Embedding Model.', 'createdAt': 1728396662366, 'readingTime': 9.329245283018869, 'visibility': 'LOCKED', 'creator': {'__ref': 'User:14cfcbfbf82b'}, 'collection': {'__ref': 'Collection:7f60cf5620c9'}, 'isSeries': False, 'mediumUrl': 'https://towardsdatascience.com/improve-your-rag-context-recall-by-40-with-an-adapted-embedding-model-5d4a8f583f32', 'sequence': None, 'uniqueSlug': 'improve-your-rag-context-recall-by-40-with-an-adapted-embedding-model-5d4a8f583f32', 'isLocked': True, 'firstPublishedAt': 1728700207453, 'latestPublishedAt': 1729037127073, 'pinnedAt': 0, 'previewImage': {'__ref': 'ImageMetadata:1*wO9_v_1pUsZKsy6nktd0ug.png'}, 'extendedPreviewContent': {'__typename': 'PreviewContent', 'subtitle': 'Step by Step Model Adaptation Code and Results Attached.', 'isFullContent': False}, 'isPublished': True, 'isLimitedState': False, 'allowResponses': True, 'postResponses': {'__typename': 'PostResponses', 'count': 11}, 'clapCount': 847}, 'Search:{}': {'__typename': 'Search', 'tags-RAG(limit:6)(algoliaOptions:analyticsTags:web-right-column,clickAnalytics:true,numericFilters:postCount>=1)(searchInCollection:true)': {'__typename': 'SearchTag', 'items': [], 'queryId': '54851f67f7642e56338ac64c0e9fc374'}, 'people-RAG(limit:3)(algoliaOptions:analyticsTags:web-right-column,clickAnalytics:true,numericFilters:peopleType!=2)(searchInCollection:true)': {'__typename': 'SearchPeople', 'items': [], 'queryId': 'f4e4a4ae171aa89db0f0f1c1aa5a4434'}, 'collections-RAG(limit:3)(algoliaOptions:analyticsTags:web-right-column,clickAnalytics:true)(searchInCollection:true)': {'__typename': 'SearchCollection', 'items': [], 'queryId': '8de90158f89c3e7dad54fc26ce896e73'}, 'posts-RAG(limit:3)(algoliaOptions:analyticsTags:web-right-column,clickAnalytics:true)(searchInCollection:true)': {'__typename': 'SearchPost', 'items': [{'__ref': 'Post:426a2e0dd82b'}, {'__ref': 'Post:140daa3cbe71'}, {'__ref': 'Post:5d4a8f583f32'}], 'queryId': 'b1991d3e2de60d8cf2fef3e5a0a6c386'}, 'posts-RAG(limit:10)(algoliaOptions:analyticsTags:web-main-content,clickAnalytics:true)(searchInCollection:true)': {'__typename': 'SearchPost', 'pagingInfo': {'__typename': 'Paging', 'next': {'__typename': 'PageParams', 'limit': 10, 'page': 1}}, 'items': [{'__ref': 'Post:426a2e0dd82b'}, {'__ref': 'Post:140daa3cbe71'}, {'__ref': 'Post:5d4a8f583f32'}, {'__ref': 'Post:31bd45d195c8'}, {'__ref': 'Post:c4fbcf8718b8'}, {'__ref': 'Post:bfc03f29ede3'}, {'__ref': 'Post:fdc6f6c2aaec'}, {'__ref': 'Post:60bb69a22759'}, {'__ref': 'Post:3fe71fb4a98e'}, {'__ref': 'Post:6a03c555f063'}], 'queryId': '0806fafd1228aa1c133025cf2cd4a9ff'}}, 'ImageMetadata:0*jrOt6sJucS-m5Yce': {'__typename': 'ImageMetadata', 'id': '0*jrOt6sJucS-m5Yce', 'focusPercentX': None, 'focusPercentY': None, 'alt': None}, 'UserViewerEdge:userId:a67b10ad1762-viewerId:lo_7d320bce56a5': {'__typename': 'UserViewerEdge', 'id': 'userId:a67b10ad1762-viewerId:lo_7d320bce56a5', 'isMuting': False}, 'CollectionViewerEdge:collectionId:7f60cf5620c9-viewerId:lo_7d320bce56a5': {'__typename': 'CollectionViewerEdge', 'id': 'collectionId:7f60cf5620c9-viewerId:lo_7d320bce56a5', 'isMuting': False}, 'ImageMetadata:1*aYb8AgzctiTtUYofqQq9ug.png': {'__typename': 'ImageMetadata', 'id': '1*aYb8AgzctiTtUYofqQq9ug.png', 'focusPercentX': None, 'focusPercentY': None, 'alt': 'The HuggingFace dataset card showing an example RAG evaluation dataset that we generated.'}, 'ImageMetadata:1*wO9_v_1pUsZKsy6nktd0ug.png': {'__typename': 'ImageMetadata', 'id': '1*wO9_v_1pUsZKsy6nktd0ug.png', 'focusPercentX': None, 'focusPercentY': None, 'alt': None}, 'UserViewerEdge:userId:14cfcbfbf82b-viewerId:lo_7d320bce56a5': {'__typename': 'UserViewerEdge', 'id': 'userId:14cfcbfbf82b-viewerId:lo_7d320bce56a5', 'isMuting': False}, 'ImageMetadata:0*33pjuHPUAC-01Hik': {'__typename': 'ImageMetadata', 'id': '0*33pjuHPUAC-01Hik', 'focusPercentX': None, 'focusPercentY': None, 'alt': None}, 'User:122376ea00fe': {'__typename': 'User', 'id': '122376ea00fe', 'name': 'Anurag Bhagat', 'viewerEdge': {'__ref': 'UserViewerEdge:userId:122376ea00fe-viewerId:lo_7d320bce56a5'}, 'verifications': {'__typename': 'VerifiedInfo', 'isBookAuthor': False}, 'customDomainState': None, 'hasSubdomain': False, 'username': 'bhagatanurag03', 'bio': 'AI Leader | AWS | McKinsey | IITK | All views are my own. https://www.linkedin.com/in/anuragbhagat/ | https://x.com/B_H_A_G_A_T', 'imageId': '1*8uoJyDv2KSQC_czPcsr8cA.jpeg', 'membership': {'__ref': 'Membership:28e69130-314d-4888-aa86-020c19aae8ee'}}, 'UserViewerEdge:userId:122376ea00fe-viewerId:lo_7d320bce56a5': {'__typename': 'UserViewerEdge', 'id': 'userId:122376ea00fe-viewerId:lo_7d320bce56a5', 'isMuting': False}, 'Membership:28e69130-314d-4888-aa86-020c19aae8ee': {'__typename': 'Membership', 'tier': 'MEMBER', 'id': '28e69130-314d-4888-aa86-020c19aae8ee'}, 'Post:31bd45d195c8': {'__typename': 'Post', 'id': '31bd45d195c8', 'algoliaObjectId': '31bd45d195c8', 'title': 'Scaling RAG from POC to Production', 'previewImage': {'__ref': 'ImageMetadata:0*33pjuHPUAC-01Hik'}, 'extendedPreviewContent': {'__typename': 'PreviewContent', 'subtitle': 'Common challenges and architectural components to enable scaling', 'isFullContent': False}, 'creator': {'__ref': 'User:122376ea00fe'}, 'isPublished': True, 'mediumUrl': 'https://towardsdatascience.com/scaling-rag-from-poc-to-production-31bd45d195c8', 'collection': {'__ref': 'Collection:7f60cf5620c9'}, 'isLimitedState': False, 'allowResponses': True, 'postResponses': {'__typename': 'PostResponses', 'count': 7}, 'visibility': 'PUBLIC', 'clapCount': 644, 'isLocked': False, 'firstPublishedAt': 1728326456004, 'latestPublishedAt': 1728420038657, 'pinnedAt': 0, 'readingTime': 6.833018867924529, 'sequence': None, 'isSeries': False, 'uniqueSlug': 'scaling-rag-from-poc-to-production-31bd45d195c8'}, 'ImageMetadata:1*duvogS-pcVfvBJOs1S1Tgg.png': {'__typename': 'ImageMetadata', 'id': '1*duvogS-pcVfvBJOs1S1Tgg.png', 'focusPercentX': None, 'focusPercentY': None, 'alt': None}, 'User:d11c06040ced': {'__typename': 'User', 'id': 'd11c06040ced', 'name': 'Abhinav Kimothi', 'viewerEdge': {'__ref': 'UserViewerEdge:userId:d11c06040ced-viewerId:lo_7d320bce56a5'}, 'verifications': {'__typename': 'VerifiedInfo', 'isBookAuthor': True}, 'customDomainState': None, 'hasSubdomain': False, 'username': 'abhinavkimothi', 'bio': 'Co-founder and Head of AI @ Yarnit.app || Author : A Simple Guide to RAG (https://mng.bz/jXJ9) || AIML since 2007 || BITS-Pilani, ISB-Hyderabad', 'imageId': '1*NXr2cLlsDxBc665b7SEKeA.png', 'membership': {'__ref': 'Membership:a4beb70d87bf'}}, 'UserViewerEdge:userId:d11c06040ced-viewerId:lo_7d320bce56a5': {'__typename': 'UserViewerEdge', 'id': 'userId:d11c06040ced-viewerId:lo_7d320bce56a5', 'isMuting': False}, 'Membership:a4beb70d87bf': {'__typename': 'Membership', 'tier': 'MEMBER', 'id': 'a4beb70d87bf'}, 'Post:c4fbcf8718b8': {'__typename': 'Post', 'id': 'c4fbcf8718b8', 'algoliaObjectId': 'c4fbcf8718b8', 'title': 'Beyond Naïve RAG: Advanced Techniques for Building Smarter and Reliable AI Systems', 'previewImage': {'__ref': 'ImageMetadata:1*duvogS-pcVfvBJOs1S1Tgg.png'}, 'extendedPreviewContent': {'__typename': 'PreviewContent', 'subtitle': 'A deep dive into advanced indexing, pre-retrieval, retrieval, and post-retrieval techniques to enhance RAG performance', 'isFullContent': False}, 'creator': {'__ref': 'User:d11c06040ced'}, 'isPublished': True, 'mediumUrl': 'https://towardsdatascience.com/beyond-na%C3%AFve-rag-advanced-techniques-for-building-smarter-and-reliable-ai-systems-c4fbcf8718b8', 'collection': {'__ref': 'Collection:7f60cf5620c9'}, 'isLimitedState': False, 'allowResponses': True, 'postResponses': {'__typename': 'PostResponses', 'count': 4}, 'visibility': 'LOCKED', 'clapCount': 662, 'isLocked': True, 'firstPublishedAt': 1729036985499, 'latestPublishedAt': 1729036985499, 'pinnedAt': 0, 'readingTime': 26.74245283018868, 'sequence': None, 'isSeries': False, 'uniqueSlug': 'beyond-naïve-rag-advanced-techniques-for-building-smarter-and-reliable-ai-systems-c4fbcf8718b8'}, 'ImageMetadata:1*hIAGB1CL06BpXyYLZm09UQ.png': {'__typename': 'ImageMetadata', 'id': '1*hIAGB1CL06BpXyYLZm09UQ.png', 'focusPercentX': None, 'focusPercentY': None, 'alt': None}, 'Post:bfc03f29ede3': {'__typename': 'Post', 'id': 'bfc03f29ede3', 'algoliaObjectId': 'bfc03f29ede3', 'title': 'Stop Guessing and Measure Your RAG System to Drive Real Improvements', 'previewImage': {'__ref': 'ImageMetadata:1*hIAGB1CL06BpXyYLZm09UQ.png'}, 'extendedPreviewContent': {'__typename': 'PreviewContent', 'subtitle': 'Key metrics and techniques to elevate your retrieval-augmented generation performance', 'isFullContent': False}, 'creator': {'__ref': 'User:d11c06040ced'}, 'isPublished': True, 'mediumUrl': 'https://towardsdatascience.com/stop-guessing-and-measure-your-rag-system-to-drive-real-improvements-bfc03f29ede3', 'collection': {'__ref': 'Collection:7f60cf5620c9'}, 'isLimitedState': False, 'allowResponses': True, 'postResponses': {'__typename': 'PostResponses', 'count': 11}, 'visibility': 'LOCKED', 'clapCount': 686, 'isLocked': True, 'firstPublishedAt': 1728017567236, 'latestPublishedAt': 1728017567236, 'pinnedAt': 0, 'readingTime': 23.78490566037736, 'sequence': None, 'isSeries': False, 'uniqueSlug': 'stop-guessing-and-measure-your-rag-system-to-drive-real-improvements-bfc03f29ede3'}, 'ImageMetadata:1*4T9GoHUA2jZwlrATD_7vKw.png': {'__typename': 'ImageMetadata', 'id': '1*4T9GoHUA2jZwlrATD_7vKw.png', 'focusPercentX': None, 'focusPercentY': None, 'alt': None}, 'User:e66e65937063': {'__typename': 'User', 'id': 'e66e65937063', 'name': 'Shanmukha Ranganath', 'viewerEdge': {'__ref': 'UserViewerEdge:userId:e66e65937063-viewerId:lo_7d320bce56a5'}, 'verifications': {'__typename': 'VerifiedInfo', 'isBookAuthor': False}, 'customDomainState': {'__typename': 'CustomDomainState', 'live': {'__typename': 'CustomDomain', 'domain': 'memsranga.com'}}, 'hasSubdomain': False, 'username': 'memsranga', 'bio': '[Shan-mu-kha] Tinkerer of code. Engineer at LinkedIn with 9+ years experience in exploring and coding various stacks', 'imageId': '1*Ea-PGdRQUP5MwrzY9dF_1g.png', 'membership': {'__ref': 'Membership:d725c71c6f21'}}, 'UserViewerEdge:userId:e66e65937063-viewerId:lo_7d320bce56a5': {'__typename': 'UserViewerEdge', 'id': 'userId:e66e65937063-viewerId:lo_7d320bce56a5', 'isMuting': False}, 'Membership:d725c71c6f21': {'__typename': 'Membership', 'tier': 'MEMBER', 'id': 'd725c71c6f21'}, 'Post:fdc6f6c2aaec': {'__typename': 'Post', 'id': 'fdc6f6c2aaec', 'algoliaObjectId': 'fdc6f6c2aaec', 'title': 'RAG 101: Chunking Strategies', 'previewImage': {'__ref': 'ImageMetadata:1*4T9GoHUA2jZwlrATD_7vKw.png'}, 'extendedPreviewContent': {'__typename': 'PreviewContent', 'subtitle': 'Why, When, and How to chunk for enhanced RAG. Build intuition to develop chunking strategies.', 'isFullContent': False}, 'creator': {'__ref': 'User:e66e65937063'}, 'isPublished': True, 'mediumUrl': 'https://towardsdatascience.com/rag-101-chunking-strategies-fdc6f6c2aaec', 'collection': {'__ref': 'Collection:7f60cf5620c9'}, 'isLimitedState': False, 'allowResponses': True, 'postResponses': {'__typename': 'PostResponses', 'count': 1}, 'visibility': 'PUBLIC', 'clapCount': 484, 'isLocked': False, 'firstPublishedAt': 1728126124775, 'latestPublishedAt': 1728126124775, 'pinnedAt': 0, 'readingTime': 11.049056603773584, 'sequence': None, 'isSeries': False, 'uniqueSlug': 'rag-101-chunking-strategies-fdc6f6c2aaec'}, 'ImageMetadata:1*hrwv6zmmgogVNpQQlOIwIA.png': {'__typename': 'ImageMetadata', 'id': '1*hrwv6zmmgogVNpQQlOIwIA.png', 'focusPercentX': None, 'focusPercentY': None, 'alt': None}, 'User:2c634ce75a74': {'__typename': 'User', 'id': '2c634ce75a74', 'name': 'Steve Hedden', 'viewerEdge': {'__ref': 'UserViewerEdge:userId:2c634ce75a74-viewerId:lo_7d320bce56a5'}, 'verifications': {'__typename': 'VerifiedInfo', 'isBookAuthor': False}, 'customDomainState': {'__typename': 'CustomDomainState', 'live': {'__typename': 'CustomDomain', 'domain': 'stevehedden.medium.com'}}, 'hasSubdomain': True, 'username': 'stevehedden', 'bio': 'Product management, international development, data science and network analysis.', 'imageId': '1*O80NSnmxNIhFhPEm9Kd0cA.png', 'membership': {'__ref': 'Membership:25c299cf-411b-41ea-89a2-9e8d35801335'}}, 'UserViewerEdge:userId:2c634ce75a74-viewerId:lo_7d320bce56a5': {'__typename': 'UserViewerEdge', 'id': 'userId:2c634ce75a74-viewerId:lo_7d320bce56a5', 'isMuting': False}, 'Membership:25c299cf-411b-41ea-89a2-9e8d35801335': {'__typename': 'Membership', 'tier': 'MEMBER', 'id': '25c299cf-411b-41ea-89a2-9e8d35801335'}, 'Post:60bb69a22759': {'__typename': 'Post', 'id': '60bb69a22759', 'algoliaObjectId': '60bb69a22759', 'title': 'How to Implement Graph RAG Using Knowledge Graphs and Vector Databases', 'previewImage': {'__ref': 'ImageMetadata:1*hrwv6zmmgogVNpQQlOIwIA.png'}, 'extendedPreviewContent': {'__typename': 'PreviewContent', 'subtitle': 'A Step-by-Step Tutorial on Implementing Retrieval-Augmented Generation (RAG), Semantic Search, and Recommendations', 'isFullContent': False}, 'creator': {'__ref': 'User:2c634ce75a74'}, 'isPublished': True, 'mediumUrl': 'https://towardsdatascience.com/how-to-implement-graph-rag-using-knowledge-graphs-and-vector-databases-60bb69a22759', 'collection': {'__ref': 'Collection:7f60cf5620c9'}, 'isLimitedState': False, 'allowResponses': True, 'postResponses': {'__typename': 'PostResponses', 'count': 16}, 'visibility': 'PUBLIC', 'clapCount': 1596, 'isLocked': False, 'firstPublishedAt': 1725642520149, 'latestPublishedAt': 1725642520149, 'pinnedAt': 0, 'readingTime': 38.540880503144656, 'sequence': None, 'isSeries': False, 'uniqueSlug': 'how-to-implement-graph-rag-using-knowledge-graphs-and-vector-databases-60bb69a22759'}, 'ImageMetadata:0*pmxJS7NSZWB_HLvX': {'__typename': 'ImageMetadata', 'id': '0*pmxJS7NSZWB_HLvX', 'focusPercentX': None, 'focusPercentY': None, 'alt': None}, 'User:242dbe999b8c': {'__typename': 'User', 'id': '242dbe999b8c', 'name': 'Jakob Pörschmann', 'viewerEdge': {'__ref': 'UserViewerEdge:userId:242dbe999b8c-viewerId:lo_7d320bce56a5'}, 'verifications': {'__typename': 'VerifiedInfo', 'isBookAuthor': False}, 'customDomainState': {'__typename': 'CustomDomainState', 'live': {'__typename': 'CustomDomain', 'domain': 'jakobpoerschmann.medium.com'}}, 'hasSubdomain': True, 'username': 'jakobpoerschmann', 'bio': 'Building Gen AI stuff @ Google - https://hello-jp.net', 'imageId': '1*TBuIfc2jgp3Nra7DtrgVgw.jpeg', 'membership': {'__ref': 'Membership:c8955524-8312-4864-ba29-0f8812f28ca6'}}, 'UserViewerEdge:userId:242dbe999b8c-viewerId:lo_7d320bce56a5': {'__typename': 'UserViewerEdge', 'id': 'userId:242dbe999b8c-viewerId:lo_7d320bce56a5', 'isMuting': False}, 'Membership:c8955524-8312-4864-ba29-0f8812f28ca6': {'__typename': 'Membership', 'tier': 'MEMBER', 'id': 'c8955524-8312-4864-ba29-0f8812f28ca6'}, 'Post:3fe71fb4a98e': {'__typename': 'Post', 'id': '3fe71fb4a98e', 'algoliaObjectId': '3fe71fb4a98e', 'title': 'Graph RAG into Production\\u200a—\\u200astep-by-step', 'previewImage': {'__ref': 'ImageMetadata:0*pmxJS7NSZWB_HLvX'}, 'extendedPreviewContent': {'__typename': 'PreviewContent', 'subtitle': 'A GCP native, fully serverless implementation that you will replicate in minutes', 'isFullContent': False}, 'creator': {'__ref': 'User:242dbe999b8c'}, 'isPublished': True, 'mediumUrl': 'https://towardsdatascience.com/graph-rag-into-production-step-by-step-3fe71fb4a98e', 'collection': {'__ref': 'Collection:7f60cf5620c9'}, 'isLimitedState': False, 'allowResponses': True, 'postResponses': {'__typename': 'PostResponses', 'count': 7}, 'visibility': 'PUBLIC', 'clapCount': 790, 'isLocked': False, 'firstPublishedAt': 1727115725633, 'latestPublishedAt': 1727115725633, 'pinnedAt': 0, 'readingTime': 13.44811320754717, 'sequence': None, 'isSeries': False, 'uniqueSlug': 'graph-rag-into-production-step-by-step-3fe71fb4a98e'}, 'ImageMetadata:1*-XTaV5zV_bR-tXr8au3bcg.png': {'__typename': 'ImageMetadata', 'id': '1*-XTaV5zV_bR-tXr8au3bcg.png', 'focusPercentX': None, 'focusPercentY': None, 'alt': None}, 'User:a94651549f47': {'__typename': 'User', 'id': 'a94651549f47', 'name': 'Hui Wen Goh', 'viewerEdge': {'__ref': 'UserViewerEdge:userId:a94651549f47-viewerId:lo_7d320bce56a5'}, 'verifications': {'__typename': 'VerifiedInfo', 'isBookAuthor': False}, 'customDomainState': None, 'hasSubdomain': False, 'username': 'hwgoh', 'bio': 'Machine Learning Engineer at Cleanlab, focused on enhancing data and LLM reliability to improve the dependability of ML and AI applications.', 'imageId': '1*DnwXd_dTxlg2z4-9FjdvMQ.jpeg', 'membership': None}, 'UserViewerEdge:userId:a94651549f47-viewerId:lo_7d320bce56a5': {'__typename': 'UserViewerEdge', 'id': 'userId:a94651549f47-viewerId:lo_7d320bce56a5', 'isMuting': False}, 'Post:6a03c555f063': {'__typename': 'Post', 'id': '6a03c555f063', 'algoliaObjectId': '6a03c555f063', 'title': 'Benchmarking Hallucination Detection Methods in RAG', 'previewImage': {'__ref': 'ImageMetadata:1*-XTaV5zV_bR-tXr8au3bcg.png'}, 'extendedPreviewContent': {'__typename': 'PreviewContent', 'subtitle': 'Evaluating methods to enhance reliability in LLM-generated responses.', 'isFullContent': False}, 'creator': {'__ref': 'User:a94651549f47'}, 'isPublished': True, 'mediumUrl': 'https://towardsdatascience.com/benchmarking-hallucination-detection-methods-in-rag-6a03c555f063', 'collection': {'__ref': 'Collection:7f60cf5620c9'}, 'isLimitedState': False, 'allowResponses': True, 'postResponses': {'__typename': 'PostResponses', 'count': 7}, 'visibility': 'PUBLIC', 'clapCount': 1118, 'isLocked': False, 'firstPublishedAt': 1725893074669, 'latestPublishedAt': 1725893074669, 'pinnedAt': 0, 'readingTime': 8.871069182389938, 'sequence': None, 'isSeries': False, 'uniqueSlug': 'benchmarking-hallucination-detection-methods-in-rag-6a03c555f063'}}\n",
      "{'__typename': 'Post', 'id': '426a2e0dd82b', 'algoliaObjectId': '426a2e0dd82b', 'title': 'Improved RAG Document Processing With Markdown', 'createdAt': 1731832949033, 'readingTime': 9.282075471698112, 'visibility': 'LOCKED', 'creator': {'__ref': 'User:a67b10ad1762'}, 'collection': {'__ref': 'Collection:7f60cf5620c9'}, 'isSeries': False, 'mediumUrl': 'https://towardsdatascience.com/improved-rag-document-processing-with-markdown-426a2e0dd82b', 'sequence': None, 'uniqueSlug': 'improved-rag-document-processing-with-markdown-426a2e0dd82b', 'isLocked': True, 'firstPublishedAt': 1732024914442, 'latestPublishedAt': 1732024914442, 'pinnedAt': 0, 'previewImage': {'__ref': 'ImageMetadata:0*jrOt6sJucS-m5Yce'}, 'extendedPreviewContent': {'__typename': 'PreviewContent', 'subtitle': 'How to read and convert PDFs to Markdown for better RAG results with LLMs', 'isFullContent': False}, 'isPublished': True, 'isLimitedState': False, 'allowResponses': True, 'postResponses': {'__typename': 'PostResponses', 'count': 6}, 'clapCount': 640}\n",
      "{'__typename': 'Post', 'id': '140daa3cbe71', 'algoliaObjectId': '140daa3cbe71', 'title': 'How to Create a RAG Evaluation Dataset From Documents', 'createdAt': 1730046108966, 'readingTime': 11.58805031446541, 'visibility': 'LOCKED', 'creator': {'__ref': 'User:a67b10ad1762'}, 'collection': {'__ref': 'Collection:7f60cf5620c9'}, 'isSeries': False, 'mediumUrl': 'https://towardsdatascience.com/how-to-create-a-rag-evaluation-dataset-from-documents-140daa3cbe71', 'sequence': None, 'uniqueSlug': 'how-to-create-a-rag-evaluation-dataset-from-documents-140daa3cbe71', 'isLocked': True, 'firstPublishedAt': 1730668313345, 'latestPublishedAt': 1730668313345, 'pinnedAt': 0, 'previewImage': {'__ref': 'ImageMetadata:1*aYb8AgzctiTtUYofqQq9ug.png'}, 'extendedPreviewContent': {'__typename': 'PreviewContent', 'subtitle': 'Automatically create domain-specific datasets in any language using LLMs', 'isFullContent': False}, 'isPublished': True, 'isLimitedState': False, 'allowResponses': True, 'postResponses': {'__typename': 'PostResponses', 'count': 7}, 'clapCount': 649}\n",
      "{'__typename': 'Post', 'id': '5d4a8f583f32', 'algoliaObjectId': '5d4a8f583f32', 'title': 'Improve Your RAG Context Recall by 95% with an Adapted Embedding Model.', 'createdAt': 1728396662366, 'readingTime': 9.329245283018869, 'visibility': 'LOCKED', 'creator': {'__ref': 'User:14cfcbfbf82b'}, 'collection': {'__ref': 'Collection:7f60cf5620c9'}, 'isSeries': False, 'mediumUrl': 'https://towardsdatascience.com/improve-your-rag-context-recall-by-40-with-an-adapted-embedding-model-5d4a8f583f32', 'sequence': None, 'uniqueSlug': 'improve-your-rag-context-recall-by-40-with-an-adapted-embedding-model-5d4a8f583f32', 'isLocked': True, 'firstPublishedAt': 1728700207453, 'latestPublishedAt': 1729037127073, 'pinnedAt': 0, 'previewImage': {'__ref': 'ImageMetadata:1*wO9_v_1pUsZKsy6nktd0ug.png'}, 'extendedPreviewContent': {'__typename': 'PreviewContent', 'subtitle': 'Step by Step Model Adaptation Code and Results Attached.', 'isFullContent': False}, 'isPublished': True, 'isLimitedState': False, 'allowResponses': True, 'postResponses': {'__typename': 'PostResponses', 'count': 11}, 'clapCount': 847}\n",
      "{'__typename': 'Post', 'id': '31bd45d195c8', 'algoliaObjectId': '31bd45d195c8', 'title': 'Scaling RAG from POC to Production', 'previewImage': {'__ref': 'ImageMetadata:0*33pjuHPUAC-01Hik'}, 'extendedPreviewContent': {'__typename': 'PreviewContent', 'subtitle': 'Common challenges and architectural components to enable scaling', 'isFullContent': False}, 'creator': {'__ref': 'User:122376ea00fe'}, 'isPublished': True, 'mediumUrl': 'https://towardsdatascience.com/scaling-rag-from-poc-to-production-31bd45d195c8', 'collection': {'__ref': 'Collection:7f60cf5620c9'}, 'isLimitedState': False, 'allowResponses': True, 'postResponses': {'__typename': 'PostResponses', 'count': 7}, 'visibility': 'PUBLIC', 'clapCount': 644, 'isLocked': False, 'firstPublishedAt': 1728326456004, 'latestPublishedAt': 1728420038657, 'pinnedAt': 0, 'readingTime': 6.833018867924529, 'sequence': None, 'isSeries': False, 'uniqueSlug': 'scaling-rag-from-poc-to-production-31bd45d195c8'}\n",
      "{'__typename': 'Post', 'id': 'c4fbcf8718b8', 'algoliaObjectId': 'c4fbcf8718b8', 'title': 'Beyond Naïve RAG: Advanced Techniques for Building Smarter and Reliable AI Systems', 'previewImage': {'__ref': 'ImageMetadata:1*duvogS-pcVfvBJOs1S1Tgg.png'}, 'extendedPreviewContent': {'__typename': 'PreviewContent', 'subtitle': 'A deep dive into advanced indexing, pre-retrieval, retrieval, and post-retrieval techniques to enhance RAG performance', 'isFullContent': False}, 'creator': {'__ref': 'User:d11c06040ced'}, 'isPublished': True, 'mediumUrl': 'https://towardsdatascience.com/beyond-na%C3%AFve-rag-advanced-techniques-for-building-smarter-and-reliable-ai-systems-c4fbcf8718b8', 'collection': {'__ref': 'Collection:7f60cf5620c9'}, 'isLimitedState': False, 'allowResponses': True, 'postResponses': {'__typename': 'PostResponses', 'count': 4}, 'visibility': 'LOCKED', 'clapCount': 662, 'isLocked': True, 'firstPublishedAt': 1729036985499, 'latestPublishedAt': 1729036985499, 'pinnedAt': 0, 'readingTime': 26.74245283018868, 'sequence': None, 'isSeries': False, 'uniqueSlug': 'beyond-naïve-rag-advanced-techniques-for-building-smarter-and-reliable-ai-systems-c4fbcf8718b8'}\n",
      "{'__typename': 'Post', 'id': 'bfc03f29ede3', 'algoliaObjectId': 'bfc03f29ede3', 'title': 'Stop Guessing and Measure Your RAG System to Drive Real Improvements', 'previewImage': {'__ref': 'ImageMetadata:1*hIAGB1CL06BpXyYLZm09UQ.png'}, 'extendedPreviewContent': {'__typename': 'PreviewContent', 'subtitle': 'Key metrics and techniques to elevate your retrieval-augmented generation performance', 'isFullContent': False}, 'creator': {'__ref': 'User:d11c06040ced'}, 'isPublished': True, 'mediumUrl': 'https://towardsdatascience.com/stop-guessing-and-measure-your-rag-system-to-drive-real-improvements-bfc03f29ede3', 'collection': {'__ref': 'Collection:7f60cf5620c9'}, 'isLimitedState': False, 'allowResponses': True, 'postResponses': {'__typename': 'PostResponses', 'count': 11}, 'visibility': 'LOCKED', 'clapCount': 686, 'isLocked': True, 'firstPublishedAt': 1728017567236, 'latestPublishedAt': 1728017567236, 'pinnedAt': 0, 'readingTime': 23.78490566037736, 'sequence': None, 'isSeries': False, 'uniqueSlug': 'stop-guessing-and-measure-your-rag-system-to-drive-real-improvements-bfc03f29ede3'}\n",
      "{'__typename': 'Post', 'id': 'fdc6f6c2aaec', 'algoliaObjectId': 'fdc6f6c2aaec', 'title': 'RAG 101: Chunking Strategies', 'previewImage': {'__ref': 'ImageMetadata:1*4T9GoHUA2jZwlrATD_7vKw.png'}, 'extendedPreviewContent': {'__typename': 'PreviewContent', 'subtitle': 'Why, When, and How to chunk for enhanced RAG. Build intuition to develop chunking strategies.', 'isFullContent': False}, 'creator': {'__ref': 'User:e66e65937063'}, 'isPublished': True, 'mediumUrl': 'https://towardsdatascience.com/rag-101-chunking-strategies-fdc6f6c2aaec', 'collection': {'__ref': 'Collection:7f60cf5620c9'}, 'isLimitedState': False, 'allowResponses': True, 'postResponses': {'__typename': 'PostResponses', 'count': 1}, 'visibility': 'PUBLIC', 'clapCount': 484, 'isLocked': False, 'firstPublishedAt': 1728126124775, 'latestPublishedAt': 1728126124775, 'pinnedAt': 0, 'readingTime': 11.049056603773584, 'sequence': None, 'isSeries': False, 'uniqueSlug': 'rag-101-chunking-strategies-fdc6f6c2aaec'}\n",
      "{'__typename': 'Post', 'id': '60bb69a22759', 'algoliaObjectId': '60bb69a22759', 'title': 'How to Implement Graph RAG Using Knowledge Graphs and Vector Databases', 'previewImage': {'__ref': 'ImageMetadata:1*hrwv6zmmgogVNpQQlOIwIA.png'}, 'extendedPreviewContent': {'__typename': 'PreviewContent', 'subtitle': 'A Step-by-Step Tutorial on Implementing Retrieval-Augmented Generation (RAG), Semantic Search, and Recommendations', 'isFullContent': False}, 'creator': {'__ref': 'User:2c634ce75a74'}, 'isPublished': True, 'mediumUrl': 'https://towardsdatascience.com/how-to-implement-graph-rag-using-knowledge-graphs-and-vector-databases-60bb69a22759', 'collection': {'__ref': 'Collection:7f60cf5620c9'}, 'isLimitedState': False, 'allowResponses': True, 'postResponses': {'__typename': 'PostResponses', 'count': 16}, 'visibility': 'PUBLIC', 'clapCount': 1596, 'isLocked': False, 'firstPublishedAt': 1725642520149, 'latestPublishedAt': 1725642520149, 'pinnedAt': 0, 'readingTime': 38.540880503144656, 'sequence': None, 'isSeries': False, 'uniqueSlug': 'how-to-implement-graph-rag-using-knowledge-graphs-and-vector-databases-60bb69a22759'}\n",
      "{'__typename': 'Post', 'id': '3fe71fb4a98e', 'algoliaObjectId': '3fe71fb4a98e', 'title': 'Graph RAG into Production\\u200a—\\u200astep-by-step', 'previewImage': {'__ref': 'ImageMetadata:0*pmxJS7NSZWB_HLvX'}, 'extendedPreviewContent': {'__typename': 'PreviewContent', 'subtitle': 'A GCP native, fully serverless implementation that you will replicate in minutes', 'isFullContent': False}, 'creator': {'__ref': 'User:242dbe999b8c'}, 'isPublished': True, 'mediumUrl': 'https://towardsdatascience.com/graph-rag-into-production-step-by-step-3fe71fb4a98e', 'collection': {'__ref': 'Collection:7f60cf5620c9'}, 'isLimitedState': False, 'allowResponses': True, 'postResponses': {'__typename': 'PostResponses', 'count': 7}, 'visibility': 'PUBLIC', 'clapCount': 790, 'isLocked': False, 'firstPublishedAt': 1727115725633, 'latestPublishedAt': 1727115725633, 'pinnedAt': 0, 'readingTime': 13.44811320754717, 'sequence': None, 'isSeries': False, 'uniqueSlug': 'graph-rag-into-production-step-by-step-3fe71fb4a98e'}\n",
      "{'__typename': 'Post', 'id': '6a03c555f063', 'algoliaObjectId': '6a03c555f063', 'title': 'Benchmarking Hallucination Detection Methods in RAG', 'previewImage': {'__ref': 'ImageMetadata:1*-XTaV5zV_bR-tXr8au3bcg.png'}, 'extendedPreviewContent': {'__typename': 'PreviewContent', 'subtitle': 'Evaluating methods to enhance reliability in LLM-generated responses.', 'isFullContent': False}, 'creator': {'__ref': 'User:a94651549f47'}, 'isPublished': True, 'mediumUrl': 'https://towardsdatascience.com/benchmarking-hallucination-detection-methods-in-rag-6a03c555f063', 'collection': {'__ref': 'Collection:7f60cf5620c9'}, 'isLimitedState': False, 'allowResponses': True, 'postResponses': {'__typename': 'PostResponses', 'count': 7}, 'visibility': 'PUBLIC', 'clapCount': 1118, 'isLocked': False, 'firstPublishedAt': 1725893074669, 'latestPublishedAt': 1725893074669, 'pinnedAt': 0, 'readingTime': 8.871069182389938, 'sequence': None, 'isSeries': False, 'uniqueSlug': 'benchmarking-hallucination-detection-methods-in-rag-6a03c555f063'}\n"
     ]
    },
    {
     "name": "stderr",
     "output_type": "stream",
     "text": [
      "/var/folders/d_/hfs18jf54371qfmf54zq289c0000gq/T/ipykernel_63325/661312022.py:5: DeprecationWarning: The 'text' argument to find()-type methods is deprecated. Use 'string' instead.\n",
      "  script_tag = soup.find(\"script\", text=lambda t: t and \"window.__APOLLO_STATE__\" in t)\n"
     ]
    }
   ],
   "source": [
    "# Analizar el HTML\n",
    "soup = BeautifulSoup(html_content, \"html.parser\")\n",
    "\n",
    "# Buscar el JSON dentro de la etiqueta <script>\n",
    "script_tag = soup.find(\"script\", text=lambda t: t and \"window.__APOLLO_STATE__\" in t)\n",
    "\n",
    "# Extraer el contenido JSON\n",
    "if script_tag:\n",
    "    script_content = script_tag.string\n",
    "    # Dividir y limpiar el JSON\n",
    "    json_start = script_content.find(\"{\")  # Encontrar el inicio del JSON\n",
    "    json_content = script_content[json_start:]  # Extraer el JSON\n",
    "    try:\n",
    "        data = json.loads(json_content)\n",
    "        print(data)  # Ahora tienes un diccionario en Python\n",
    "    except json.JSONDecodeError as e:\n",
    "        print(\"Error al decodificar el JSON:\", e)\n",
    "\n",
    "import re\n",
    "\n",
    "keys_to_search = [re.search(\"Post.*\", key).group() for key in data.keys() if re.search(\"Post.*\", key)]\n",
    "#keys_to_search\n",
    "\n",
    "for ks in keys_to_search:\n",
    "    print(data[ks])"
   ]
  },
  {
   "cell_type": "markdown",
   "metadata": {},
   "source": [
    "[[Volver]](#Contenido)"
   ]
  },
  {
   "cell_type": "code",
   "execution_count": null,
   "metadata": {},
   "outputs": [
    {
     "data": {
      "text/plain": [
       "{'Generative AI': ['Generative Algorithms',\n",
       "  'Generative Content Creation',\n",
       "  'DALL-E',\n",
       "  'ChatGPT',\n",
       "  '3D Printing',\n",
       "  'Generative AI in Healthcare',\n",
       "  'Generative AI Trends 2024'],\n",
       " 'Conversational AI': ['Chatbots',\n",
       "  'Conversational AI Trends',\n",
       "  'Customer Experience',\n",
       "  'Product Efficiency'],\n",
       " 'Predictive Analytics': ['Predictive Maintenance',\n",
       "  'Predictive Analytics in Manufacturing',\n",
       "  'AI in Inventory Management',\n",
       "  'AI in Business Operations'],\n",
       " 'Explainable AI': ['AI Transparency',\n",
       "  'AI Black Box Problem',\n",
       "  'Explainability in AI',\n",
       "  'Explainable AI Systems'],\n",
       " 'Multi-Modal AI': ['Multi-Modal Systems',\n",
       "  'Natural Language Understanding',\n",
       "  'Visual Perception',\n",
       "  'Voice Recognition',\n",
       "  'Google DeepMind Gato'],\n",
       " 'Digital Twins': ['Digital Twin Technology',\n",
       "  'Virtual Replicas',\n",
       "  'Industry 4.0',\n",
       "  'NVIDIA and Siemens'],\n",
       " 'Collaborative Robots (Cobots)': ['Human-Robot Synergy',\n",
       "  'COBOT Applications',\n",
       "  'AI-Powered Cobots',\n",
       "  'AI in Manufacturing'],\n",
       " 'AI-powered Cybersecurity': ['Cyber Threat Detection',\n",
       "  'AI in Cybersecurity',\n",
       "  'Facial Recognition',\n",
       "  'AI Guardman'],\n",
       " 'Low-Code & No-Code AI': ['AI App Development',\n",
       "  'Drag-and-Drop Methods',\n",
       "  'Google Cloud AI Trends'],\n",
       " 'Quantum AI': ['Quantum Computing',\n",
       "  'Quantum AI Developments',\n",
       "  'Zapata and D-Wave'],\n",
       " 'Autonomous Systems': ['Agentic AI',\n",
       "  'AI in Autonomous Vehicles',\n",
       "  'AI Decision-Making'],\n",
       " 'Retrieval-Augmented Generation (RAG)': ['RAG Technology',\n",
       "  'Hybrid AI Approach',\n",
       "  'AI Content Generation'],\n",
       " 'Sentimental AI': ['AI Emotion Analysis',\n",
       "  'AI in Customer Service',\n",
       "  'Mental Health Applications'],\n",
       " 'AI in Finance': ['Credit Risk Assessment',\n",
       "  'Fraud Detection',\n",
       "  'AI in Trading'],\n",
       " 'AI in Education': ['Personalized Learning',\n",
       "  'AI in Tutoring',\n",
       "  'AI Assessment Tools'],\n",
       " 'AI in Transportation': ['Autonomous Vehicles',\n",
       "  'Traffic Management',\n",
       "  'Smart Tracks']}"
      ]
     },
     "execution_count": 48,
     "metadata": {},
     "output_type": "execute_result"
    }
   ],
   "source": [
    "client = OpenAI(api_key=os.getenv(\"OPENAI_API_KEY\"))\n",
    "\n",
    "## TODO: HAY QUE TRABAJAR TODAVIA EN EL PROMPT\n",
    "syst_prompt = \"\"\"Eres un asistente que sabe transformar textos en JSON según la información que requiera el usuario y que le ayuda a guiar al usuario para construir consultas que le sirvan para generar material educativo técnico guiado hacia el ámbito de la programación y conceptos innovadores o en marcha. Ejemplos son RAG, grafos semánticos, agentes, etc.\"\"\"\n",
    "user_prompt = f\"\"\"Dame en un JSON las palabras clave (que pueden ser listas en los valores de las llaves) que debería hacer a un buscador académico para construir materiales educativos tipo notebook sobre los nuevos avances en AI partir del siguiente texto: {text}. No des explicaciones adicionales, sólo el diccionario y recuerda que debe ser útil para hacer búsquedads en buscadores de artículos científicos como ArXiv, Scielo, Google Scholar, etc. Agrega AI a las palabras claves si no las tienen para asegurarse que el buscador busque correctamente. Las llaves del JSON deben ser las áreas de la IA que se desarrollan en la actualidad.\"\"\"\n",
    "\n",
    "completion = client.chat.completions.create(messages=[\n",
    "        {\"role\": \"system\", \"content\": syst_prompt},\n",
    "        {\"role\": \"user\", \"content\": user_prompt}\n",
    "    ],\n",
    "    model=\"gpt-4o\")\n",
    "\n",
    "areas_str = completion.choices[0].message.content\n",
    "areas_cln = areas_str.replace(\"```json\",\"\").replace(\"```\",\"\").strip()\n",
    "areas = eval(areas_cln)\n",
    "areas"
   ]
  },
  {
   "cell_type": "code",
   "execution_count": 46,
   "metadata": {},
   "outputs": [
    {
     "name": "stdout",
     "output_type": "stream",
     "text": [
      "```json\n",
      "{\n",
      "  \"Generative AI\": [\n",
      "    \"Generative AI applications\",\n",
      "    \"Generative AI in healthcare\",\n",
      "    \"DALL-E\",\n",
      "    \"ChatGPT\"\n",
      "  ],\n",
      "  \"Predictive Analytics\": [\n",
      "    \"Predictive analytics in business\",\n",
      "    \"Predictive maintenance\",\n",
      "    \"Predictive analytics in manufacturing\"\n",
      "  ],\n",
      "  \"Conversational AI\": [\n",
      "    \"Conversational AI applications\",\n",
      "    \"Chatbot market\",\n",
      "    \"Conversational AI trends\"\n",
      "  ],\n",
      "  \"Explainable AI\": [\n",
      "    \"Explainable AI transparency\",\n",
      "    \"Explainable AI ethics\",\n",
      "    \"Black Box problem AI\"\n",
      "  ],\n",
      "  \"Multi-modal AI\": [\n",
      "    \"Multi-modal AI applications\",\n",
      "    \"Google DeepMind Gato\",\n",
      "    \"Meta AI models\"\n",
      "  ],\n",
      "  \"Digital Twins\": [\n",
      "    \"AI Digital Twins\",\n",
      "    \"Industry 4.0 AI\",\n",
      "    \"NVIDIA Siemens industrial metaverse\"\n",
      "  ],\n",
      "  \"Collaborative Robots (Cobots) AI\": [\n",
      "    \"AI Cobots applications\",\n",
      "    \"AI Cobots in manufacturing\",\n",
      "    \"AI Robotics synergy\"\n",
      "  ],\n",
      "  \"AI Cybersecurity\": [\n",
      "    \"AI in cybersecurity\",\n",
      "    \"AI threat detection\",\n",
      "    \"AI facial recognition\"\n",
      "  ],\n",
      "  \"AI and Internet of Things (AIoT)\": [\n",
      "    \"AIoT market growth\",\n",
      "    \"AI IoT integration\"\n",
      "  ],\n",
      "  \"Quantum AI\": [\n",
      "    \"Quantum AI computing\",\n",
      "    \"Quantum AI in optimization\",\n",
      "    \"Zapata D-Wave quantum AI\"\n",
      "  ],\n",
      "  \"Sentimental AI\": [\n",
      "    \"Sentimental AI in marketing\",\n",
      "    \"AI emotion analysis\",\n",
      "    \"Smart customer interactions AI\"\n",
      "  ],\n",
      "  \"Retrieval Augmented Generation (RAG)\": [\n",
      "    \"RAG AI applications\",\n",
      "    \"RAG AI content generation\"\n",
      "  ],\n",
      "  \"IoT and AI Integration\": [\n",
      "    \"AI IoT applications\",\n",
      "    \"AI IoT real-time processing\"\n",
      "  ],\n",
      "  \"AI in Finance\": [\n",
      "    \"AI credit risk assessment\",\n",
      "    \"AI fraud detection\",\n",
      "    \"AI financial security\"\n",
      "  ],\n",
      "  \"AI in Healthcare\": [\n",
      "    \"AI diagnostics\",\n",
      "    \"AI drug discovery\",\n",
      "    \"AI remote monitoring\"\n",
      "  ],\n",
      "  \"AI in Retail\": [\n",
      "    \"AI personalized marketing\",\n",
      "    \"AI visual search\"\n",
      "  ],\n",
      "  \"AI in Automotive\": [\n",
      "    \"AI autonomous vehicles\",\n",
      "    \"AI traffic management\"\n",
      "  ],\n",
      "  \"AI in Manufacturing\": [\n",
      "    \"AI predictive maintenance\",\n",
      "    \"AI quality control\"\n",
      "  ],\n",
      "  \"AI in Education\": [\n",
      "    \"AI personalized learning\",\n",
      "    \"AI tutoring systems\"\n",
      "  ],\n",
      "  \"AI in Agriculture\": [\n",
      "    \"AI precision farming\",\n",
      "    \"AI pest management\"\n",
      "  ]\n",
      "}\n",
      "```\n"
     ]
    }
   ],
   "source": [
    "print(areas_str)"
   ]
  },
  {
   "cell_type": "code",
   "execution_count": null,
   "metadata": {},
   "outputs": [],
   "source": [
    "# Manual areas\n",
    "areas = {\n",
    "    \"Generative AI\": [\n",
    "        \"generative AI models 2024\",\n",
    "        \"automating tasks with generative AI\",\n",
    "        \"improving workplace productivity with generative AI\",\n",
    "        \"applications of generative artificial intelligence\"\n",
    "    ],\n",
    "    \"Small Language Models (SLMs)\": [\n",
    "        \"small language models advantages\",\n",
    "        \"SLMs vs large language models\",\n",
    "        \"offline small language models\",\n",
    "        \"cost-effective language models\"\n",
    "    ],\n",
    "    \"Retrieval-Augmented Generation (RAG)\": [\n",
    "        \"retrieval-augmented generation\",\n",
    "        \"RAG hybrid approach\",\n",
    "        \"retrieval-based methods in AI\",\n",
    "        \"RAG models for external datasets\"\n",
    "    ],\n",
    "    \"Multimodal AI\": [\n",
    "        \"multimodal artificial intelligence\",\n",
    "        \"processing text, audio, video, and images with AI\",\n",
    "        \"multimodal models applications\"\n",
    "    ],\n",
    "    \"AI in Science and Health Care\": [\n",
    "        \"AI applications in health care\",\n",
    "        \"AI tools for weather prediction\",\n",
    "        \"AI for sustainable farming\",\n",
    "        \"carbon emissions estimation with AI\"\n",
    "    ],\n",
    "    \"Regulation and Ethics\": [\n",
    "        \"responsible use of AI\",\n",
    "        \"AI ethics and governance\",\n",
    "        \"AI regulation by government agencies\",\n",
    "        \"ethical challenges in artificial intelligence\"\n",
    "    ],\n",
    "    \"Graph Neural Networks (GNNs)\": [\n",
    "        \"graph neural networks in protein design\",\n",
    "        \"GNNs applications in biology\",\n",
    "        \"RosettaFoldDiffusion and protein design\",\n",
    "        \"AI tools for custom protein structures\"\n",
    "    ]\n",
    "}\n"
   ]
  }
 ],
 "metadata": {
  "kernelspec": {
   "display_name": "alejandria",
   "language": "python",
   "name": "python3"
  },
  "language_info": {
   "codemirror_mode": {
    "name": "ipython",
    "version": 3
   },
   "file_extension": ".py",
   "mimetype": "text/x-python",
   "name": "python",
   "nbconvert_exporter": "python",
   "pygments_lexer": "ipython3",
   "version": "3.10.15"
  }
 },
 "nbformat": 4,
 "nbformat_minor": 2
}
