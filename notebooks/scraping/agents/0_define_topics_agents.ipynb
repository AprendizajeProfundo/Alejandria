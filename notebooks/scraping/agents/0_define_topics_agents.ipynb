{
 "cells": [
  {
   "cell_type": "markdown",
   "metadata": {},
   "source": [
    "<figure>\n",
    "    <img src=\"../../../figures/logo_ap.png\"  width=\"80\" height=\"80\" align=\"left\"/>\n",
    "</figure>\n",
    "\n",
    "# <span style=\"color:blue\"><blue><br><br><br><br><center>&nbsp;&nbsp;&nbsp;Aprendizaje Profundo</center></span>"
   ]
  },
  {
   "cell_type": "markdown",
   "metadata": {},
   "source": [
    "# <span style=\"color:red\"><center>Biblioteca Alejandría</center></span>"
   ]
  },
  {
   "cell_type": "markdown",
   "metadata": {},
   "source": [
    "## <span style=\"color:green\"><center>Definición de Tópicos en AI</center></span>"
   ]
  },
  {
   "cell_type": "markdown",
   "metadata": {},
   "source": [
    "## <span style=\"color:blue\">Autores</span>"
   ]
  },
  {
   "cell_type": "markdown",
   "metadata": {},
   "source": [
    "1. Álvaro Montenegro, alvaro.montenegro@aprendizajeprofundo.ai\n",
    "1. Daniel Montenegro, daniel.montenegro@aprendizajeprofundo.ai"
   ]
  },
  {
   "cell_type": "markdown",
   "metadata": {},
   "source": [
    "## <span style=\"color:blue\">Contenido</span>"
   ]
  },
  {
   "cell_type": "markdown",
   "metadata": {},
   "source": [
    "* [Definir Palabras Clave](#Definir-Palabras-Clave)\n",
    "* [Realizar Consultas](#Realizar-Consultas)\n",
    "* [Extraer Metadata](#Extraer-Metadata)\n",
    "* [Convertir en DataFrame](#Convertir-en-DataFrame)\n",
    "    * [Subsección X](#Subsección-X)\n",
    "* [Automatización](#Automatización)\n",
    "* [Conclusiones](#Conclusiones)\n",
    "* [Recomendaciones](#Recomendaciones)"
   ]
  },
  {
   "cell_type": "markdown",
   "metadata": {},
   "source": [
    "## <span style=\"color:blue\">Librerías Necesarias</span>"
   ]
  },
  {
   "cell_type": "code",
   "execution_count": 20,
   "metadata": {},
   "outputs": [
    {
     "data": {
      "text/plain": [
       "True"
      ]
     },
     "execution_count": 20,
     "metadata": {},
     "output_type": "execute_result"
    }
   ],
   "source": [
    "import os\n",
    "import re\n",
    "import requests\n",
    "from openai import OpenAI\n",
    "from bs4 import BeautifulSoup\n",
    "from dotenv import load_dotenv\n",
    "\n",
    "load_dotenv(\"../../../.env\")"
   ]
  },
  {
   "cell_type": "markdown",
   "metadata": {},
   "source": [
    "[[Volver]](#Contenido)"
   ]
  },
  {
   "cell_type": "markdown",
   "metadata": {},
   "source": [
    "## <span style=\"color:blue\">Definir Palabras Clave</span>"
   ]
  },
  {
   "cell_type": "code",
   "execution_count": 27,
   "metadata": {},
   "outputs": [],
   "source": [
    "\n",
    "### Toca construir la estrategia para preguntar qué palabras clave requiero para buscar en los latest trends\n",
    "### No sirve buscar \"latest trends in ai 2024\" en los buscadores académicos. Pero sí se puede buscar en Google, para obtenerlos\n",
    "\n",
    "## TODO: Hacer un agente que revise en la web lo más citado y devolver la página de los resultados\n",
    "url = \"https://appinventiv.com/blog/ai-trends/#:~:text=it%20develops%20further.-,Retrieval%2DAugmented%20Generation%20(RAG),%2C%20content%20creation%2C%20and%20research.\"\n",
    "\n",
    "resp = requests.get(url)\n",
    "html_content = resp.text\n",
    "soup = BeautifulSoup(html_content, \"html\")\n",
    "par = soup.find_all(\"p\")\n",
    "text=\"\\n\".join(p.text for p in par)\n",
    "text = re.sub(\"\\n+\",\"\\n\",text)\n",
    "#print(text.strip())"
   ]
  },
  {
   "cell_type": "code",
   "execution_count": null,
   "metadata": {},
   "outputs": [
    {
     "data": {
      "text/plain": [
       "{'Generative AI': ['Generative Algorithms',\n",
       "  'Generative Content Creation',\n",
       "  'DALL-E',\n",
       "  'ChatGPT',\n",
       "  '3D Printing',\n",
       "  'Generative AI in Healthcare',\n",
       "  'Generative AI Trends 2024'],\n",
       " 'Conversational AI': ['Chatbots',\n",
       "  'Conversational AI Trends',\n",
       "  'Customer Experience',\n",
       "  'Product Efficiency'],\n",
       " 'Predictive Analytics': ['Predictive Maintenance',\n",
       "  'Predictive Analytics in Manufacturing',\n",
       "  'AI in Inventory Management',\n",
       "  'AI in Business Operations'],\n",
       " 'Explainable AI': ['AI Transparency',\n",
       "  'AI Black Box Problem',\n",
       "  'Explainability in AI',\n",
       "  'Explainable AI Systems'],\n",
       " 'Multi-Modal AI': ['Multi-Modal Systems',\n",
       "  'Natural Language Understanding',\n",
       "  'Visual Perception',\n",
       "  'Voice Recognition',\n",
       "  'Google DeepMind Gato'],\n",
       " 'Digital Twins': ['Digital Twin Technology',\n",
       "  'Virtual Replicas',\n",
       "  'Industry 4.0',\n",
       "  'NVIDIA and Siemens'],\n",
       " 'Collaborative Robots (Cobots)': ['Human-Robot Synergy',\n",
       "  'COBOT Applications',\n",
       "  'AI-Powered Cobots',\n",
       "  'AI in Manufacturing'],\n",
       " 'AI-powered Cybersecurity': ['Cyber Threat Detection',\n",
       "  'AI in Cybersecurity',\n",
       "  'Facial Recognition',\n",
       "  'AI Guardman'],\n",
       " 'Low-Code & No-Code AI': ['AI App Development',\n",
       "  'Drag-and-Drop Methods',\n",
       "  'Google Cloud AI Trends'],\n",
       " 'Quantum AI': ['Quantum Computing',\n",
       "  'Quantum AI Developments',\n",
       "  'Zapata and D-Wave'],\n",
       " 'Autonomous Systems': ['Agentic AI',\n",
       "  'AI in Autonomous Vehicles',\n",
       "  'AI Decision-Making'],\n",
       " 'Retrieval-Augmented Generation (RAG)': ['RAG Technology',\n",
       "  'Hybrid AI Approach',\n",
       "  'AI Content Generation'],\n",
       " 'Sentimental AI': ['AI Emotion Analysis',\n",
       "  'AI in Customer Service',\n",
       "  'Mental Health Applications'],\n",
       " 'AI in Finance': ['Credit Risk Assessment',\n",
       "  'Fraud Detection',\n",
       "  'AI in Trading'],\n",
       " 'AI in Education': ['Personalized Learning',\n",
       "  'AI in Tutoring',\n",
       "  'AI Assessment Tools'],\n",
       " 'AI in Transportation': ['Autonomous Vehicles',\n",
       "  'Traffic Management',\n",
       "  'Smart Tracks']}"
      ]
     },
     "execution_count": 48,
     "metadata": {},
     "output_type": "execute_result"
    }
   ],
   "source": [
    "client = OpenAI(api_key=os.getenv(\"OPENAI_API_KEY\"))\n",
    "\n",
    "## TODO: HAY QUE TRABAJAR TODAVIA EN EL PROMPT\n",
    "syst_prompt = \"\"\"Eres un asistente que sabe transformar textos en JSON según la información que requiera el usuario y que le ayuda a guiar al usuario para construir consultas que le sirvan para generar material educativo técnico guiado hacia el ámbito de la programación y conceptos innovadores o en marcha. Ejemplos son RAG, grafos semánticos, agentes, etc.\"\"\"\n",
    "user_prompt = f\"\"\"Dame en un JSON las palabras clave (que pueden ser listas en los valores de las llaves) que debería hacer a un buscador académico para construir materiales educativos tipo notebook sobre los nuevos avances en AI partir del siguiente texto: {text}. No des explicaciones adicionales, sólo el diccionario y recuerda que debe ser útil para hacer búsquedads en buscadores de artículos científicos como ArXiv, Scielo, Google Scholar, etc. Agrega AI a las palabras claves si no las tienen para asegurarse que el buscador busque correctamente. Las llaves del JSON deben ser las áreas de la IA que se desarrollan en la actualidad.\"\"\"\n",
    "\n",
    "completion = client.chat.completions.create(messages=[\n",
    "        {\"role\": \"system\", \"content\": syst_prompt},\n",
    "        {\"role\": \"user\", \"content\": user_prompt}\n",
    "    ],\n",
    "    model=\"gpt-4o\")\n",
    "\n",
    "areas_str = completion.choices[0].message.content\n",
    "areas_cln = areas_str.replace(\"```json\",\"\").replace(\"```\",\"\").strip()\n",
    "areas = eval(areas_cln)\n",
    "areas"
   ]
  },
  {
   "cell_type": "code",
   "execution_count": 46,
   "metadata": {},
   "outputs": [
    {
     "name": "stdout",
     "output_type": "stream",
     "text": [
      "```json\n",
      "{\n",
      "  \"Generative AI\": [\n",
      "    \"Generative AI applications\",\n",
      "    \"Generative AI in healthcare\",\n",
      "    \"DALL-E\",\n",
      "    \"ChatGPT\"\n",
      "  ],\n",
      "  \"Predictive Analytics\": [\n",
      "    \"Predictive analytics in business\",\n",
      "    \"Predictive maintenance\",\n",
      "    \"Predictive analytics in manufacturing\"\n",
      "  ],\n",
      "  \"Conversational AI\": [\n",
      "    \"Conversational AI applications\",\n",
      "    \"Chatbot market\",\n",
      "    \"Conversational AI trends\"\n",
      "  ],\n",
      "  \"Explainable AI\": [\n",
      "    \"Explainable AI transparency\",\n",
      "    \"Explainable AI ethics\",\n",
      "    \"Black Box problem AI\"\n",
      "  ],\n",
      "  \"Multi-modal AI\": [\n",
      "    \"Multi-modal AI applications\",\n",
      "    \"Google DeepMind Gato\",\n",
      "    \"Meta AI models\"\n",
      "  ],\n",
      "  \"Digital Twins\": [\n",
      "    \"AI Digital Twins\",\n",
      "    \"Industry 4.0 AI\",\n",
      "    \"NVIDIA Siemens industrial metaverse\"\n",
      "  ],\n",
      "  \"Collaborative Robots (Cobots) AI\": [\n",
      "    \"AI Cobots applications\",\n",
      "    \"AI Cobots in manufacturing\",\n",
      "    \"AI Robotics synergy\"\n",
      "  ],\n",
      "  \"AI Cybersecurity\": [\n",
      "    \"AI in cybersecurity\",\n",
      "    \"AI threat detection\",\n",
      "    \"AI facial recognition\"\n",
      "  ],\n",
      "  \"AI and Internet of Things (AIoT)\": [\n",
      "    \"AIoT market growth\",\n",
      "    \"AI IoT integration\"\n",
      "  ],\n",
      "  \"Quantum AI\": [\n",
      "    \"Quantum AI computing\",\n",
      "    \"Quantum AI in optimization\",\n",
      "    \"Zapata D-Wave quantum AI\"\n",
      "  ],\n",
      "  \"Sentimental AI\": [\n",
      "    \"Sentimental AI in marketing\",\n",
      "    \"AI emotion analysis\",\n",
      "    \"Smart customer interactions AI\"\n",
      "  ],\n",
      "  \"Retrieval Augmented Generation (RAG)\": [\n",
      "    \"RAG AI applications\",\n",
      "    \"RAG AI content generation\"\n",
      "  ],\n",
      "  \"IoT and AI Integration\": [\n",
      "    \"AI IoT applications\",\n",
      "    \"AI IoT real-time processing\"\n",
      "  ],\n",
      "  \"AI in Finance\": [\n",
      "    \"AI credit risk assessment\",\n",
      "    \"AI fraud detection\",\n",
      "    \"AI financial security\"\n",
      "  ],\n",
      "  \"AI in Healthcare\": [\n",
      "    \"AI diagnostics\",\n",
      "    \"AI drug discovery\",\n",
      "    \"AI remote monitoring\"\n",
      "  ],\n",
      "  \"AI in Retail\": [\n",
      "    \"AI personalized marketing\",\n",
      "    \"AI visual search\"\n",
      "  ],\n",
      "  \"AI in Automotive\": [\n",
      "    \"AI autonomous vehicles\",\n",
      "    \"AI traffic management\"\n",
      "  ],\n",
      "  \"AI in Manufacturing\": [\n",
      "    \"AI predictive maintenance\",\n",
      "    \"AI quality control\"\n",
      "  ],\n",
      "  \"AI in Education\": [\n",
      "    \"AI personalized learning\",\n",
      "    \"AI tutoring systems\"\n",
      "  ],\n",
      "  \"AI in Agriculture\": [\n",
      "    \"AI precision farming\",\n",
      "    \"AI pest management\"\n",
      "  ]\n",
      "}\n",
      "```\n"
     ]
    }
   ],
   "source": [
    "print(areas_str)"
   ]
  },
  {
   "cell_type": "code",
   "execution_count": null,
   "metadata": {},
   "outputs": [],
   "source": [
    "# Manual areas\n",
    "areas = {\n",
    "    \"Generative AI\": [\n",
    "        \"generative AI models 2024\",\n",
    "        \"automating tasks with generative AI\",\n",
    "        \"improving workplace productivity with generative AI\",\n",
    "        \"applications of generative artificial intelligence\"\n",
    "    ],\n",
    "    \"Small Language Models (SLMs)\": [\n",
    "        \"small language models advantages\",\n",
    "        \"SLMs vs large language models\",\n",
    "        \"offline small language models\",\n",
    "        \"cost-effective language models\"\n",
    "    ],\n",
    "    \"Retrieval-Augmented Generation (RAG)\": [\n",
    "        \"retrieval-augmented generation\",\n",
    "        \"RAG hybrid approach\",\n",
    "        \"retrieval-based methods in AI\",\n",
    "        \"RAG models for external datasets\"\n",
    "    ],\n",
    "    \"Multimodal AI\": [\n",
    "        \"multimodal artificial intelligence\",\n",
    "        \"processing text, audio, video, and images with AI\",\n",
    "        \"multimodal models applications\"\n",
    "    ],\n",
    "    \"AI in Science and Health Care\": [\n",
    "        \"AI applications in health care\",\n",
    "        \"AI tools for weather prediction\",\n",
    "        \"AI for sustainable farming\",\n",
    "        \"carbon emissions estimation with AI\"\n",
    "    ],\n",
    "    \"Regulation and Ethics\": [\n",
    "        \"responsible use of AI\",\n",
    "        \"AI ethics and governance\",\n",
    "        \"AI regulation by government agencies\",\n",
    "        \"ethical challenges in artificial intelligence\"\n",
    "    ],\n",
    "    \"Graph Neural Networks (GNNs)\": [\n",
    "        \"graph neural networks in protein design\",\n",
    "        \"GNNs applications in biology\",\n",
    "        \"RosettaFoldDiffusion and protein design\",\n",
    "        \"AI tools for custom protein structures\"\n",
    "    ]\n",
    "}\n"
   ]
  }
 ],
 "metadata": {
  "kernelspec": {
   "display_name": "alejandria",
   "language": "python",
   "name": "python3"
  },
  "language_info": {
   "codemirror_mode": {
    "name": "ipython",
    "version": 3
   },
   "file_extension": ".py",
   "mimetype": "text/x-python",
   "name": "python",
   "nbconvert_exporter": "python",
   "pygments_lexer": "ipython3",
   "version": "3.10.15"
  }
 },
 "nbformat": 4,
 "nbformat_minor": 2
}
