{
 "cells": [
  {
   "cell_type": "markdown",
   "metadata": {},
   "source": [
    "<figure>\n",
    "    <img src=\"../../../figures/logo_ap.png\"  width=\"80\" height=\"80\" align=\"left\"/>\n",
    "</figure>\n",
    "\n",
    "# <span style=\"color:blue\"><blue><br><br><br><br><center>&nbsp;&nbsp;&nbsp;Aprendizaje Profundo</center></span>"
   ]
  },
  {
   "cell_type": "markdown",
   "metadata": {},
   "source": [
    "# <span style=\"color:red\"><center>Biblioteca Alejandría</center></span>"
   ]
  },
  {
   "cell_type": "markdown",
   "metadata": {},
   "source": [
    "## <span style=\"color:green\"><center>Definición de Tópicos en AI</center></span>"
   ]
  },
  {
   "cell_type": "markdown",
   "metadata": {},
   "source": [
    "## <span style=\"color:blue\">Autores</span>"
   ]
  },
  {
   "cell_type": "markdown",
   "metadata": {},
   "source": [
    "1. Álvaro Montenegro, alvaro.montenegro@aprendizajeprofundo.ai\n",
    "1. Daniel Montenegro, daniel.montenegro@aprendizajeprofundo.ai"
   ]
  },
  {
   "cell_type": "markdown",
   "metadata": {},
   "source": [
    "## <span style=\"color:blue\">Contenido</span>"
   ]
  },
  {
   "cell_type": "markdown",
   "metadata": {},
   "source": [
    "* [Obtención de Conocimiento en Autoaprendizaje](#Obtención-de-Conocimiento-en-Autoaprendizaje)\n",
    "    * [Fases del Autoaprendizaje](#Fases-del-Autoaprendizaje)\n",
    "    * [Beneficios de Comenzar con Recursos Simples](#Beneficios-de-Comenzar-con-Recursos-Simples)\n",
    "    * [Aspectos Cognitivos del Autoaprendizaje](#Aspectos-Cognitivos-del-Autoaprendizaje)\n",
    "* [Extracción de Blogs en Towards Data Science](#Extracción-de-Blogs-en-Towards-Data-Science)\n",
    "* [Convertir en DataFrame](#Convertir-en-DataFrame)\n",
    "    * [Subsección X](#Subsección-X)\n",
    "* [Automatización](#Automatización)\n",
    "* [Conclusiones](#Conclusiones)\n",
    "* [Recomendaciones](#Recomendaciones)"
   ]
  },
  {
   "cell_type": "markdown",
   "metadata": {},
   "source": [
    "## <span style=\"color:blue\">Librerías Necesarias</span>"
   ]
  },
  {
   "cell_type": "code",
   "execution_count": 11,
   "metadata": {},
   "outputs": [
    {
     "data": {
      "text/plain": [
       "True"
      ]
     },
     "execution_count": 11,
     "metadata": {},
     "output_type": "execute_result"
    }
   ],
   "source": [
    "import os\n",
    "import re\n",
    "import json\n",
    "import requests\n",
    "import pandas as pd\n",
    "from openai import OpenAI\n",
    "from bs4 import BeautifulSoup\n",
    "from dotenv import load_dotenv\n",
    "\n",
    "load_dotenv(\"../../../.env\")"
   ]
  },
  {
   "cell_type": "markdown",
   "metadata": {},
   "source": [
    "[[Volver]](#Contenido)"
   ]
  },
  {
   "cell_type": "markdown",
   "metadata": {},
   "source": [
    "## <span style=\"color:blue\">Obtención de Conocimiento en Autoaprendizaje</span>"
   ]
  },
  {
   "cell_type": "markdown",
   "metadata": {},
   "source": [
    "El proceso de autoaprendizaje comienza de manera natural con una exploración inicial en recursos accesibles como blogs, libros introductorios y videos. Este enfoque permite al cerebro asimilar nueva información de manera progresiva y efectiva. A continuación, describimos las fases principales de este proceso, con ejemplos aplicados al aprendizaje de inteligencia artificial."
   ]
  },
  {
   "cell_type": "markdown",
   "metadata": {},
   "source": [
    "[[Volver]](#Contenido)"
   ]
  },
  {
   "cell_type": "markdown",
   "metadata": {},
   "source": [
    "### <span style=\"color:#4CC9F0\">Fases del Autoaprendizaje</span>"
   ]
  },
  {
   "cell_type": "markdown",
   "metadata": {},
   "source": [
    "1. **Exploración Inicial (Curiosidad e Inmersión)**\n",
    "\n",
    "   - En esta etapa, buscamos recursos sencillos y atractivos para familiarizarnos con los conceptos básicos.\n",
    "   - Ejemplos: \n",
    "     - Blogs como *Towards Data Science* en Medium. Algunas palabras clave podrían ser:\n",
    "         - Aprendizaje automático (Machine Learning)\n",
    "         - Aprendizaje profundo (Deep Learning)\n",
    "         - Procesamiento de lenguaje natural (Natural Language Processing)\n",
    "         - Visión por computadora (Computer Vision)\n",
    "         - Robótica\n",
    "         - Sistemas multiagente\n",
    "         - Representación del conocimiento y razonamiento\n",
    "     - Videos de canales educativos como *DeepLearning.AI* en YouTube.\n",
    "   - Objetivo: Despertar el interés y obtener una visión general.\n",
    "\n",
    "2. **Construcción de un Marco Mental (Organización Básica)**\n",
    "   - A medida que adquirimos conceptos iniciales, nuestro cerebro organiza la información en un esquema básico.\n",
    "   - Recurso ideal: Libros introductorios como [*Artificial Intelligence: A Modern Approach*](https://aima.cs.berkeley.edu/index.html).\n",
    "   - Objetivo: Establecer una estructura mental para conectar temas y subtemas.\n",
    "\n",
    "3. **Ampliación y Profundización (Aprendizaje Guiado)**\n",
    "   - Esta fase implica profundizar en áreas específicas utilizando recursos más estructurados, como cursos en línea (Coursera, edX).\n",
    "   - Ejemplo: Un curso introductorio en Machine Learning utilizando Python y bibliotecas como scikit-learn.\n",
    "   - Objetivo: Consolidar y ampliar el conocimiento adquirido.\n",
    "\n",
    "4. **Validación y Especialización (Aplicación y Práctica)**\n",
    "   - El aprendizaje activo se refuerza mediante la práctica y la interacción con comunidades en línea.\n",
    "   - Ejemplo: Implementar un modelo básico en Python y participar en discusiones en foros como Reddit o Stack Overflow.\n",
    "   - Objetivo: Validar lo aprendido y adaptar el conocimiento a aplicaciones reales.\n",
    "\n",
    "5. **Retroalimentación e Iteración (Perfeccionamiento)**\n",
    "   - La revisión constante de lo aprendido, junto con la búsqueda de nuevas fuentes, permite refinar y expandir el conocimiento.\n",
    "   - Ejemplo: Leer artículos científicos, asistir a conferencias y explorar tendencias emergentes en inteligencia artificial, de fuentes como ArXiv, Google Scholar, etc."
   ]
  },
  {
   "cell_type": "markdown",
   "metadata": {},
   "source": [
    "[[Volver]](#Contenido)"
   ]
  },
  {
   "cell_type": "markdown",
   "metadata": {},
   "source": [
    "### <span style=\"color:#4CC9F0\">Beneficios de Comenzar con Recursos Simples</span>"
   ]
  },
  {
   "cell_type": "markdown",
   "metadata": {},
   "source": [
    "- **Facilidad de Comprensión**: Blogs y videos simplifican conceptos complejos, haciéndolos accesibles para principiantes.\n",
    "- **Motivación**: Entender lo básico rápidamente refuerza la confianza y mantiene el interés.\n",
    "- **Accesibilidad**: Están diseñados para ser atractivos y adaptables a diferentes niveles de conocimiento."
   ]
  },
  {
   "cell_type": "markdown",
   "metadata": {},
   "source": [
    "[[Volver]](#Contenido)"
   ]
  },
  {
   "cell_type": "markdown",
   "metadata": {},
   "source": [
    "### <span style=\"color:#4CC9F0\">Aspectos Cognitivos del Autoaprendizaje</span>"
   ]
  },
  {
   "cell_type": "markdown",
   "metadata": {},
   "source": [
    "\n",
    "- **Activación de Esquemas Previos**: El cerebro conecta la nueva información con conocimientos previos para facilitar la comprensión.\n",
    "- **División en \"Bloques Manejables\"**: Las fuentes introductorias fragmentan conceptos complejos, haciendo el aprendizaje menos abrumador.\n",
    "- **Construcción de Modelos Mentales**: Se desarrollan esquemas que organizan la información en estructuras lógicas y coherentes.\n",
    "- **Consolidación mediante Práctica**: Aplicar el conocimiento refuerza las conexiones neuronales, facilitando el aprendizaje duradero."
   ]
  },
  {
   "cell_type": "markdown",
   "metadata": {},
   "source": [
    "[[Volver]](#Contenido)"
   ]
  },
  {
   "cell_type": "markdown",
   "metadata": {},
   "source": [
    "Siguiendo esta línea argumentativa, lo esencial es comenzar desde un contenido amigable como lo es Towards Data Science y otros blogs."
   ]
  },
  {
   "cell_type": "markdown",
   "metadata": {},
   "source": [
    "## <span style=\"color:blue\">Extracción de Blogs en Towards Data Science</span>"
   ]
  },
  {
   "cell_type": "markdown",
   "metadata": {},
   "source": [
    "Una excelente forma de iniciar el aprendizaje sobre inteligencia artificial y análisis de datos es a través de blogs especializados que presentan conceptos de manera accesible y orientada a la práctica.\n",
    "\n",
    "Uno de los recursos más recomendados es *Towards Data Science*, una plataforma en Medium donde expertos y profesionales comparten conocimientos, casos de estudio, y guías prácticas sobre temas como:\n",
    "\n",
    "- **Inteligencia Artificial (IA)**\n",
    "- **Aprendizaje Automático (Machine Learning)**\n",
    "- **Aprendizaje Profundo (Deep Learning)**\n",
    "- **Procesamiento de Lenguaje Natural (NLP)**\n",
    "- **Visualización de Datos**\n",
    "- **Herramientas y Bibliotecas de Python**\n",
    "\n",
    "El contenido de *Towards Data Science* se destaca por su enfoque directo, ejemplos aplicados y explicaciones claras, lo que lo convierte en una fuente ideal para investigadores y profesionales en formación. La plataforma también permite filtrar publicaciones por temas específicos y seguir autores reconocidos, facilitando la personalización del aprendizaje.\n",
    "\n",
    "En esta sección, exploraremos cómo extraer contenido relevante de blogs como *Towards Data Science* y utilizarlos como puntos de partida para profundizar en temas de interés. Además, aprenderemos a identificar palabras clave y temas relacionados que pueden ser útiles para búsquedas más avanzadas en literatura académica y proyectos de investigación."
   ]
  },
  {
   "cell_type": "markdown",
   "metadata": {},
   "source": [
    "[[Volver]](#Contenido)"
   ]
  },
  {
   "cell_type": "markdown",
   "metadata": {},
   "source": [
    "### <span style=\"color:#4CC9F0\">Realizar Consultas en Towards Data Science</span>"
   ]
  },
  {
   "cell_type": "markdown",
   "metadata": {},
   "source": [
    "Para obtener información desde Towards Data Science, podemos hacer la consulta directa por petición desde python:"
   ]
  },
  {
   "cell_type": "code",
   "execution_count": 31,
   "metadata": {},
   "outputs": [],
   "source": [
    "# Se generan de manera manual las palabras claves que inician el proceso de descubrimiento\n",
    "queries_priori = [\n",
    "    \"Machine Learning\",\n",
    "    \"Deep Learning\",\n",
    "    \"Natural Language Processing (NLP)\",\n",
    "    \"Computer Vision\",\n",
    "    \"Robotics\",\n",
    "    \"Multi-Agent Systems\",\n",
    "    \"Knowledge Representation and Reasoning\"]\n",
    "\n",
    "for query in queries_priori[1:]:\n",
    "    url = f\"https://towardsdatascience.com/search?q={query}\"\n",
    "    resp = requests.get(url)\n",
    "    html_content = resp.text\n",
    "    break"
   ]
  },
  {
   "cell_type": "markdown",
   "metadata": {},
   "source": [
    "Luego de esto, es posible utilizar Beautiful Soup para obtener la información de metadata relevante de los blogs:"
   ]
  },
  {
   "cell_type": "code",
   "execution_count": 32,
   "metadata": {},
   "outputs": [],
   "source": [
    "# Analizar el HTML\n",
    "soup = BeautifulSoup(html_content, \"html.parser\")\n",
    "\n",
    "# Buscar el JSON dentro de la etiqueta <script>\n",
    "script_tag = soup.find(\"script\", string=lambda t: t and \"window.__APOLLO_STATE__\" in t)\n",
    "\n",
    "# Extraer el contenido JSON\n",
    "if script_tag:\n",
    "    script_content = script_tag.string\n",
    "    # Dividir y limpiar el JSON\n",
    "    json_start = script_content.find(\"{\")  # Encontrar el inicio del JSON\n",
    "    json_content = script_content[json_start:]  # Extraer el JSON\n",
    "    try:\n",
    "        data = json.loads(json_content)\n",
    "        #print(data)  # Ahora tienes un diccionario en Python\n",
    "    except json.JSONDecodeError as e:\n",
    "        print(\"Error al decodificar el JSON:\", e)\n",
    "\n",
    "keys_to_search = [re.search(\"Post.*\", key).group() for key in data.keys() if re.search(\"Post.*\", key)]\n",
    "#keys_to_search\n",
    "\n",
    "data_json = []\n",
    "for ks in keys_to_search:\n",
    "\n",
    "    try:\n",
    "        title = data[ks][\"title\"]\n",
    "        published = data[ks][\"firstPublishedAt\"]\n",
    "        updated = data[ks][\"latestPublishedAt\"]\n",
    "        creator = data[ks][\"creator\"][\"__ref\"]\n",
    "        link_article = data[ks][\"mediumUrl\"]\n",
    "        reading_time = data[ks][\"readingTime\"]\n",
    "        clap_count = data[ks][\"clapCount\"]\n",
    "        data_json.append({\"published\": published, \n",
    "                          \"updated\": updated, \n",
    "                          \"title\": title, \n",
    "                          \"authors\": creator, \n",
    "                          \"link_article\": link_article, \n",
    "                          \"reading_time\": reading_time, \n",
    "                          \"clap_count\":clap_count})\n",
    "    except:\n",
    "        pass"
   ]
  },
  {
   "cell_type": "markdown",
   "metadata": {},
   "source": [
    "[[Volver]](#Contenido)"
   ]
  },
  {
   "cell_type": "markdown",
   "metadata": {},
   "source": [
    "### <span style=\"color:#4CC9F0\">Convertir en DataFrame en TDS</span>"
   ]
  },
  {
   "cell_type": "markdown",
   "metadata": {},
   "source": [
    "Texto de la sección X"
   ]
  },
  {
   "cell_type": "code",
   "execution_count": 33,
   "metadata": {},
   "outputs": [
    {
     "name": "stdout",
     "output_type": "stream",
     "text": [
      "<class 'pandas.core.frame.DataFrame'>\n",
      "RangeIndex: 10 entries, 0 to 9\n",
      "Data columns (total 7 columns):\n",
      " #   Column        Non-Null Count  Dtype         \n",
      "---  ------        --------------  -----         \n",
      " 0   published     10 non-null     datetime64[ns]\n",
      " 1   updated       10 non-null     datetime64[ns]\n",
      " 2   title         10 non-null     object        \n",
      " 3   authors       10 non-null     object        \n",
      " 4   link_article  10 non-null     object        \n",
      " 5   reading_time  10 non-null     float64       \n",
      " 6   clap_count    10 non-null     int64         \n",
      "dtypes: datetime64[ns](2), float64(1), int64(1), object(3)\n",
      "memory usage: 688.0+ bytes\n"
     ]
    },
    {
     "data": {
      "text/html": [
       "<div>\n",
       "<style scoped>\n",
       "    .dataframe tbody tr th:only-of-type {\n",
       "        vertical-align: middle;\n",
       "    }\n",
       "\n",
       "    .dataframe tbody tr th {\n",
       "        vertical-align: top;\n",
       "    }\n",
       "\n",
       "    .dataframe thead th {\n",
       "        text-align: right;\n",
       "    }\n",
       "</style>\n",
       "<table border=\"1\" class=\"dataframe\">\n",
       "  <thead>\n",
       "    <tr style=\"text-align: right;\">\n",
       "      <th></th>\n",
       "      <th>published</th>\n",
       "      <th>updated</th>\n",
       "      <th>title</th>\n",
       "      <th>authors</th>\n",
       "      <th>link_article</th>\n",
       "      <th>reading_time</th>\n",
       "      <th>clap_count</th>\n",
       "    </tr>\n",
       "  </thead>\n",
       "  <tbody>\n",
       "    <tr>\n",
       "      <th>0</th>\n",
       "      <td>2024-10-22 11:02:16.434</td>\n",
       "      <td>2024-10-22 11:02:16.434</td>\n",
       "      <td>Deep Learning vs Data Science: Who Will Win?</td>\n",
       "      <td>User:fed347b7eebd</td>\n",
       "      <td>https://towardsdatascience.com/deep-learning-v...</td>\n",
       "      <td>11.488050</td>\n",
       "      <td>1838</td>\n",
       "    </tr>\n",
       "    <tr>\n",
       "      <th>1</th>\n",
       "      <td>2024-08-15 15:19:50.250</td>\n",
       "      <td>2024-08-15 15:19:50.250</td>\n",
       "      <td>A Fresh Look at Nonlinearity in Deep Learning</td>\n",
       "      <td>User:eb1320a8b904</td>\n",
       "      <td>https://towardsdatascience.com/a-fresh-look-at...</td>\n",
       "      <td>7.050314</td>\n",
       "      <td>428</td>\n",
       "    </tr>\n",
       "    <tr>\n",
       "      <th>2</th>\n",
       "      <td>2024-06-20 17:10:08.636</td>\n",
       "      <td>2024-06-20 17:10:08.636</td>\n",
       "      <td>Why You (Currently) Do Not Need Deep Learning ...</td>\n",
       "      <td>User:9f4927da760a</td>\n",
       "      <td>https://towardsdatascience.com/why-you-current...</td>\n",
       "      <td>10.603774</td>\n",
       "      <td>1028</td>\n",
       "    </tr>\n",
       "    <tr>\n",
       "      <th>3</th>\n",
       "      <td>2024-05-11 16:51:47.422</td>\n",
       "      <td>2024-05-30 06:49:35.526</td>\n",
       "      <td>N-BEATS — The First Interpretable Deep Learnin...</td>\n",
       "      <td>User:9f4927da760a</td>\n",
       "      <td>https://towardsdatascience.com/n-beats-the-fir...</td>\n",
       "      <td>10.691509</td>\n",
       "      <td>696</td>\n",
       "    </tr>\n",
       "    <tr>\n",
       "      <th>4</th>\n",
       "      <td>2024-05-11 05:33:02.273</td>\n",
       "      <td>2024-08-31 02:25:39.153</td>\n",
       "      <td>Deep Learning Illustrated, Part 3: Convolution...</td>\n",
       "      <td>User:99b63de2f2c3</td>\n",
       "      <td>https://towardsdatascience.com/deep-learning-i...</td>\n",
       "      <td>14.264151</td>\n",
       "      <td>629</td>\n",
       "    </tr>\n",
       "    <tr>\n",
       "      <th>5</th>\n",
       "      <td>2024-04-17 17:34:35.416</td>\n",
       "      <td>2024-04-24 16:46:40.344</td>\n",
       "      <td>Why Deep Learning Models Run Faster on GPUs: A...</td>\n",
       "      <td>User:7149b141467c</td>\n",
       "      <td>https://towardsdatascience.com/why-deep-learni...</td>\n",
       "      <td>14.550943</td>\n",
       "      <td>1452</td>\n",
       "    </tr>\n",
       "    <tr>\n",
       "      <th>6</th>\n",
       "      <td>2024-02-08 20:15:15.532</td>\n",
       "      <td>2024-11-18 01:38:04.341</td>\n",
       "      <td>Deep Learning Illustrated, Part 2: How Does a ...</td>\n",
       "      <td>User:99b63de2f2c3</td>\n",
       "      <td>https://towardsdatascience.com/deep-learning-i...</td>\n",
       "      <td>13.112264</td>\n",
       "      <td>682</td>\n",
       "    </tr>\n",
       "    <tr>\n",
       "      <th>7</th>\n",
       "      <td>2024-01-31 22:02:59.854</td>\n",
       "      <td>2024-12-01 05:44:59.463</td>\n",
       "      <td>Deep Learning Illustrated, Part 1: How Does a ...</td>\n",
       "      <td>User:99b63de2f2c3</td>\n",
       "      <td>https://towardsdatascience.com/neural-networks...</td>\n",
       "      <td>14.936792</td>\n",
       "      <td>1464</td>\n",
       "    </tr>\n",
       "    <tr>\n",
       "      <th>8</th>\n",
       "      <td>2023-12-30 16:44:16.926</td>\n",
       "      <td>2023-12-30 16:44:16.926</td>\n",
       "      <td>Understanding Deep Learning Optimizers: Moment...</td>\n",
       "      <td>User:c8a0ca9d85d8</td>\n",
       "      <td>https://towardsdatascience.com/understanding-d...</td>\n",
       "      <td>7.154717</td>\n",
       "      <td>456</td>\n",
       "    </tr>\n",
       "    <tr>\n",
       "      <th>9</th>\n",
       "      <td>2023-12-08 18:28:35.759</td>\n",
       "      <td>2024-04-29 20:46:10.259</td>\n",
       "      <td>Exploding &amp; Vanishing Gradient Problem in Deep...</td>\n",
       "      <td>User:1cac491223b2</td>\n",
       "      <td>https://towardsdatascience.com/vanishing-explo...</td>\n",
       "      <td>8.271698</td>\n",
       "      <td>262</td>\n",
       "    </tr>\n",
       "  </tbody>\n",
       "</table>\n",
       "</div>"
      ],
      "text/plain": [
       "                published                 updated  \\\n",
       "0 2024-10-22 11:02:16.434 2024-10-22 11:02:16.434   \n",
       "1 2024-08-15 15:19:50.250 2024-08-15 15:19:50.250   \n",
       "2 2024-06-20 17:10:08.636 2024-06-20 17:10:08.636   \n",
       "3 2024-05-11 16:51:47.422 2024-05-30 06:49:35.526   \n",
       "4 2024-05-11 05:33:02.273 2024-08-31 02:25:39.153   \n",
       "5 2024-04-17 17:34:35.416 2024-04-24 16:46:40.344   \n",
       "6 2024-02-08 20:15:15.532 2024-11-18 01:38:04.341   \n",
       "7 2024-01-31 22:02:59.854 2024-12-01 05:44:59.463   \n",
       "8 2023-12-30 16:44:16.926 2023-12-30 16:44:16.926   \n",
       "9 2023-12-08 18:28:35.759 2024-04-29 20:46:10.259   \n",
       "\n",
       "                                               title            authors  \\\n",
       "0       Deep Learning vs Data Science: Who Will Win?  User:fed347b7eebd   \n",
       "1      A Fresh Look at Nonlinearity in Deep Learning  User:eb1320a8b904   \n",
       "2  Why You (Currently) Do Not Need Deep Learning ...  User:9f4927da760a   \n",
       "3  N-BEATS — The First Interpretable Deep Learnin...  User:9f4927da760a   \n",
       "4  Deep Learning Illustrated, Part 3: Convolution...  User:99b63de2f2c3   \n",
       "5  Why Deep Learning Models Run Faster on GPUs: A...  User:7149b141467c   \n",
       "6  Deep Learning Illustrated, Part 2: How Does a ...  User:99b63de2f2c3   \n",
       "7  Deep Learning Illustrated, Part 1: How Does a ...  User:99b63de2f2c3   \n",
       "8  Understanding Deep Learning Optimizers: Moment...  User:c8a0ca9d85d8   \n",
       "9  Exploding & Vanishing Gradient Problem in Deep...  User:1cac491223b2   \n",
       "\n",
       "                                        link_article  reading_time  clap_count  \n",
       "0  https://towardsdatascience.com/deep-learning-v...     11.488050        1838  \n",
       "1  https://towardsdatascience.com/a-fresh-look-at...      7.050314         428  \n",
       "2  https://towardsdatascience.com/why-you-current...     10.603774        1028  \n",
       "3  https://towardsdatascience.com/n-beats-the-fir...     10.691509         696  \n",
       "4  https://towardsdatascience.com/deep-learning-i...     14.264151         629  \n",
       "5  https://towardsdatascience.com/why-deep-learni...     14.550943        1452  \n",
       "6  https://towardsdatascience.com/deep-learning-i...     13.112264         682  \n",
       "7  https://towardsdatascience.com/neural-networks...     14.936792        1464  \n",
       "8  https://towardsdatascience.com/understanding-d...      7.154717         456  \n",
       "9  https://towardsdatascience.com/vanishing-explo...      8.271698         262  "
      ]
     },
     "execution_count": 33,
     "metadata": {},
     "output_type": "execute_result"
    }
   ],
   "source": [
    "data_df = pd.DataFrame.from_dict(data_json)\n",
    "columns_to_convert = ['published', 'updated']\n",
    "data_df[columns_to_convert] = data_df[columns_to_convert].apply(pd.to_datetime, unit='ms')\n",
    "data_df.info()\n",
    "data_df.sort_values(by=\"published\", ascending=False)"
   ]
  },
  {
   "cell_type": "code",
   "execution_count": 34,
   "metadata": {},
   "outputs": [
    {
     "data": {
      "text/plain": [
       "array(['https://towardsdatascience.com/deep-learning-vs-data-science-who-will-win-103bfbad0a65',\n",
       "       'https://towardsdatascience.com/a-fresh-look-at-nonlinearity-in-deep-learning-a79b6955d2ad',\n",
       "       'https://towardsdatascience.com/why-you-currently-do-not-need-deep-learning-for-time-series-forecasting-0de57f2bc0ed',\n",
       "       'https://towardsdatascience.com/n-beats-the-first-interpretable-deep-learning-model-that-worked-for-time-series-forecasting-06920daadac2',\n",
       "       'https://towardsdatascience.com/deep-learning-illustrated-part-3-convolutional-neural-networks-96b900b0b9e0',\n",
       "       'https://towardsdatascience.com/why-deep-learning-models-run-faster-on-gpus-a-brief-introduction-to-cuda-programming-035272906d66',\n",
       "       'https://towardsdatascience.com/deep-learning-illustrated-part-2-how-does-a-neural-network-learn-481f70c1b474',\n",
       "       'https://towardsdatascience.com/neural-networks-illustrated-part-1-how-does-a-neural-network-work-c3f92ce3b462',\n",
       "       'https://towardsdatascience.com/understanding-deep-learning-optimizers-momentum-adagrad-rmsprop-adam-e311e377e9c2',\n",
       "       'https://towardsdatascience.com/vanishing-exploding-gradient-problem-neural-networks-101-c8f48ec6a80b'],\n",
       "      dtype=object)"
      ]
     },
     "execution_count": 34,
     "metadata": {},
     "output_type": "execute_result"
    }
   ],
   "source": [
    "data_df[\"link_article\"].values"
   ]
  },
  {
   "cell_type": "markdown",
   "metadata": {},
   "source": [
    "[[Volver]](#Contenido)"
   ]
  },
  {
   "cell_type": "markdown",
   "metadata": {},
   "source": [
    "## <span style=\"color:blue\">Obtención de Palabras Clave</span>"
   ]
  },
  {
   "cell_type": "code",
   "execution_count": null,
   "metadata": {},
   "outputs": [
    {
     "data": {
      "text/plain": [
       "{'Generative AI': ['Generative Algorithms',\n",
       "  'Generative Content Creation',\n",
       "  'DALL-E',\n",
       "  'ChatGPT',\n",
       "  '3D Printing',\n",
       "  'Generative AI in Healthcare',\n",
       "  'Generative AI Trends 2024'],\n",
       " 'Conversational AI': ['Chatbots',\n",
       "  'Conversational AI Trends',\n",
       "  'Customer Experience',\n",
       "  'Product Efficiency'],\n",
       " 'Predictive Analytics': ['Predictive Maintenance',\n",
       "  'Predictive Analytics in Manufacturing',\n",
       "  'AI in Inventory Management',\n",
       "  'AI in Business Operations'],\n",
       " 'Explainable AI': ['AI Transparency',\n",
       "  'AI Black Box Problem',\n",
       "  'Explainability in AI',\n",
       "  'Explainable AI Systems'],\n",
       " 'Multi-Modal AI': ['Multi-Modal Systems',\n",
       "  'Natural Language Understanding',\n",
       "  'Visual Perception',\n",
       "  'Voice Recognition',\n",
       "  'Google DeepMind Gato'],\n",
       " 'Digital Twins': ['Digital Twin Technology',\n",
       "  'Virtual Replicas',\n",
       "  'Industry 4.0',\n",
       "  'NVIDIA and Siemens'],\n",
       " 'Collaborative Robots (Cobots)': ['Human-Robot Synergy',\n",
       "  'COBOT Applications',\n",
       "  'AI-Powered Cobots',\n",
       "  'AI in Manufacturing'],\n",
       " 'AI-powered Cybersecurity': ['Cyber Threat Detection',\n",
       "  'AI in Cybersecurity',\n",
       "  'Facial Recognition',\n",
       "  'AI Guardman'],\n",
       " 'Low-Code & No-Code AI': ['AI App Development',\n",
       "  'Drag-and-Drop Methods',\n",
       "  'Google Cloud AI Trends'],\n",
       " 'Quantum AI': ['Quantum Computing',\n",
       "  'Quantum AI Developments',\n",
       "  'Zapata and D-Wave'],\n",
       " 'Autonomous Systems': ['Agentic AI',\n",
       "  'AI in Autonomous Vehicles',\n",
       "  'AI Decision-Making'],\n",
       " 'Retrieval-Augmented Generation (RAG)': ['RAG Technology',\n",
       "  'Hybrid AI Approach',\n",
       "  'AI Content Generation'],\n",
       " 'Sentimental AI': ['AI Emotion Analysis',\n",
       "  'AI in Customer Service',\n",
       "  'Mental Health Applications'],\n",
       " 'AI in Finance': ['Credit Risk Assessment',\n",
       "  'Fraud Detection',\n",
       "  'AI in Trading'],\n",
       " 'AI in Education': ['Personalized Learning',\n",
       "  'AI in Tutoring',\n",
       "  'AI Assessment Tools'],\n",
       " 'AI in Transportation': ['Autonomous Vehicles',\n",
       "  'Traffic Management',\n",
       "  'Smart Tracks']}"
      ]
     },
     "metadata": {},
     "output_type": "display_data"
    }
   ],
   "source": [
    "client = OpenAI(api_key=os.getenv(\"OPENAI_API_KEY\"))\n",
    "\n",
    "## TODO: HAY QUE TRABAJAR TODAVIA EN EL PROMPT\n",
    "syst_prompt = \"\"\"Eres un asistente que sabe transformar textos en JSON según la información que requiera el usuario y que le ayuda a guiar al usuario para construir consultas que le sirvan para generar material educativo técnico guiado hacia el ámbito de la programación y conceptos innovadores o en marcha. Ejemplos son RAG, grafos semánticos, agentes, etc.\"\"\"\n",
    "user_prompt = f\"\"\"Dame en un JSON las palabras clave (que pueden ser listas en los valores de las llaves) que debería hacer a un buscador académico para construir materiales educativos tipo notebook sobre los nuevos avances en AI partir del siguiente texto: {text}. No des explicaciones adicionales, sólo el diccionario y recuerda que debe ser útil para hacer búsquedads en buscadores de artículos científicos como ArXiv, Scielo, Google Scholar, etc. Agrega AI a las palabras claves si no las tienen para asegurarse que el buscador busque correctamente. Las llaves del JSON deben ser las áreas de la IA que se desarrollan en la actualidad.\"\"\"\n",
    "\n",
    "completion = client.chat.completions.create(messages=[\n",
    "        {\"role\": \"system\", \"content\": syst_prompt},\n",
    "        {\"role\": \"user\", \"content\": user_prompt}\n",
    "    ],\n",
    "    model=\"gpt-4o\")\n",
    "\n",
    "areas_str = completion.choices[0].message.content\n",
    "areas_cln = areas_str.replace(\"```json\",\"\").replace(\"```\",\"\").strip()\n",
    "areas = eval(areas_cln)\n",
    "areas"
   ]
  },
  {
   "cell_type": "markdown",
   "metadata": {},
   "source": [
    "[[Volver]](#Contenido)"
   ]
  },
  {
   "cell_type": "code",
   "execution_count": 39,
   "metadata": {},
   "outputs": [
    {
     "name": "stdout",
     "output_type": "stream",
     "text": [
      "¡Fácil!\n",
      "\n",
      "La respuesta es: 4\n"
     ]
    }
   ],
   "source": [
    "from openai import OpenAI\n",
    "\n",
    "llm_client = OpenAI(base_url=\"http://localhost:11434/v1\",\n",
    "                                      api_key=\"ollama\")\n",
    "\n",
    "resp = llm_client.chat.completions.create(messages=[\n",
    "        {\"role\": \"system\", \"content\": \"Eres un asistente cool\"},\n",
    "        {\"role\": \"user\", \"content\": \"¿Cuánto es 2+2?\"}\n",
    "    ],\n",
    "    model=\"llama3.2:latest\")\n",
    "\n",
    "print(resp.choices[0].message.content)"
   ]
  }
 ],
 "metadata": {
  "kernelspec": {
   "display_name": "alejandria",
   "language": "python",
   "name": "python3"
  },
  "language_info": {
   "codemirror_mode": {
    "name": "ipython",
    "version": 3
   },
   "file_extension": ".py",
   "mimetype": "text/x-python",
   "name": "python",
   "nbconvert_exporter": "python",
   "pygments_lexer": "ipython3",
   "version": "3.10.15"
  }
 },
 "nbformat": 4,
 "nbformat_minor": 2
}
