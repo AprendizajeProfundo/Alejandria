{
 "cells": [
  {
   "cell_type": "markdown",
   "metadata": {},
   "source": [
    "<figure>\n",
    "    <img src=\"../../../figures/logo_ap.png\"  width=\"80\" height=\"80\" align=\"left\"/>\n",
    "</figure>\n",
    "\n",
    "# <span style=\"color:blue\"><blue><br><br><br><br><center>&nbsp;&nbsp;&nbsp;Aprendizaje Profundo</center></span>"
   ]
  },
  {
   "cell_type": "markdown",
   "metadata": {},
   "source": [
    "# <span style=\"color:red\"><center>Biblioteca Alejandría</center></span>"
   ]
  },
  {
   "cell_type": "markdown",
   "metadata": {},
   "source": [
    "## <span style=\"color:green\"><center>Definición de Tópicos en AI</center></span>"
   ]
  },
  {
   "cell_type": "markdown",
   "metadata": {},
   "source": [
    "## <span style=\"color:blue\">Autores</span>"
   ]
  },
  {
   "cell_type": "markdown",
   "metadata": {},
   "source": [
    "1. Álvaro Montenegro, alvaro.montenegro@aprendizajeprofundo.ai\n",
    "1. Daniel Montenegro, daniel.montenegro@aprendizajeprofundo.ai"
   ]
  },
  {
   "cell_type": "markdown",
   "metadata": {},
   "source": [
    "## <span style=\"color:blue\">Contenido</span>"
   ]
  },
  {
   "cell_type": "markdown",
   "metadata": {},
   "source": [
    "* [Definir Palabras Clave](#Definir-Palabras-Clave)\n",
    "* [Realizar Consultas](#Realizar-Consultas)\n",
    "* [Extraer Metadata](#Extraer-Metadata)\n",
    "* [Convertir en DataFrame](#Convertir-en-DataFrame)\n",
    "    * [Subsección X](#Subsección-X)\n",
    "* [Automatización](#Automatización)\n",
    "* [Conclusiones](#Conclusiones)\n",
    "* [Recomendaciones](#Recomendaciones)"
   ]
  },
  {
   "cell_type": "markdown",
   "metadata": {},
   "source": [
    "## <span style=\"color:blue\">Librerías Necesarias</span>"
   ]
  },
  {
   "cell_type": "code",
   "execution_count": 20,
   "metadata": {},
   "outputs": [
    {
     "data": {
      "text/plain": [
       "True"
      ]
     },
     "execution_count": 20,
     "metadata": {},
     "output_type": "execute_result"
    }
   ],
   "source": [
    "import os\n",
    "import re\n",
    "import requests\n",
    "from openai import OpenAI\n",
    "from bs4 import BeautifulSoup\n",
    "from dotenv import load_dotenv\n",
    "\n",
    "load_dotenv(\"../../../.env\")"
   ]
  },
  {
   "cell_type": "markdown",
   "metadata": {},
   "source": [
    "[[Volver]](#Contenido)"
   ]
  },
  {
   "cell_type": "markdown",
   "metadata": {},
   "source": [
    "## <span style=\"color:blue\">Definir Palabras Clave</span>"
   ]
  },
  {
   "cell_type": "code",
   "execution_count": null,
   "metadata": {},
   "outputs": [],
   "source": [
    "# Manual areas\n",
    "areas = {\n",
    "    \"Generative AI\": [\n",
    "        \"generative AI models 2024\",\n",
    "        \"automating tasks with generative AI\",\n",
    "        \"improving workplace productivity with generative AI\",\n",
    "        \"applications of generative artificial intelligence\"\n",
    "    ],\n",
    "    \"Small Language Models (SLMs)\": [\n",
    "        \"small language models advantages\",\n",
    "        \"SLMs vs large language models\",\n",
    "        \"offline small language models\",\n",
    "        \"cost-effective language models\"\n",
    "    ],\n",
    "    \"Retrieval-Augmented Generation (RAG)\": [\n",
    "        \"retrieval-augmented generation\",\n",
    "        \"RAG hybrid approach\",\n",
    "        \"retrieval-based methods in AI\",\n",
    "        \"RAG models for external datasets\"\n",
    "    ],\n",
    "    \"Multimodal AI\": [\n",
    "        \"multimodal artificial intelligence\",\n",
    "        \"processing text, audio, video, and images with AI\",\n",
    "        \"multimodal models applications\"\n",
    "    ],\n",
    "    \"AI in Science and Health Care\": [\n",
    "        \"AI applications in health care\",\n",
    "        \"AI tools for weather prediction\",\n",
    "        \"AI for sustainable farming\",\n",
    "        \"carbon emissions estimation with AI\"\n",
    "    ],\n",
    "    \"Regulation and Ethics\": [\n",
    "        \"responsible use of AI\",\n",
    "        \"AI ethics and governance\",\n",
    "        \"AI regulation by government agencies\",\n",
    "        \"ethical challenges in artificial intelligence\"\n",
    "    ],\n",
    "    \"Graph Neural Networks (GNNs)\": [\n",
    "        \"graph neural networks in protein design\",\n",
    "        \"GNNs applications in biology\",\n",
    "        \"RosettaFoldDiffusion and protein design\",\n",
    "        \"AI tools for custom protein structures\"\n",
    "    ]\n",
    "}"
   ]
  }
 ],
 "metadata": {
  "kernelspec": {
   "display_name": "alejandria",
   "language": "python",
   "name": "python3"
  },
  "language_info": {
   "codemirror_mode": {
    "name": "ipython",
    "version": 3
   },
   "file_extension": ".py",
   "mimetype": "text/x-python",
   "name": "python",
   "nbconvert_exporter": "python",
   "pygments_lexer": "ipython3",
   "version": "3.10.15"
  }
 },
 "nbformat": 4,
 "nbformat_minor": 2
}
