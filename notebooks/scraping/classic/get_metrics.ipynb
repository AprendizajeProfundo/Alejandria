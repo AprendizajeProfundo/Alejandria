{
 "cells": [
  {
   "cell_type": "code",
   "execution_count": 1,
   "metadata": {},
   "outputs": [],
   "source": [
    "import pandas as pd "
   ]
  },
  {
   "cell_type": "code",
   "execution_count": 2,
   "metadata": {},
   "outputs": [],
   "source": [
    "data=pd.read_pickle('D:/Alejandria/output/models_hf_4.pkl')"
   ]
  },
  {
   "cell_type": "code",
   "execution_count": 3,
   "metadata": {},
   "outputs": [],
   "source": [
    "data_sample = data.head(10)"
   ]
  },
  {
   "cell_type": "code",
   "execution_count": 4,
   "metadata": {},
   "outputs": [],
   "source": [
    "import os\n",
    "from autogen import ConversableAgent"
   ]
  },
  {
   "cell_type": "code",
   "execution_count": 13,
   "metadata": {},
   "outputs": [],
   "source": [
    "assistant = ConversableAgent(\n",
    "    name=\"Assistant\",\n",
    "    system_message=(\n",
    "        \"You are a data processing assistant. Your role is to extract evaluation metrics from text-based documentation and structure them into a well-formatted JSON file.\"\n",
    "        \n",
    "    ),\n",
    "    #llm_config={\"config_list\": [{\"model\": \"gpt-4o\", \"api_key\": os.environ[\"OPENAI_API_KEY\"]}]},\n",
    "    llm_config={\"config_list\": [{\"model\": \"llama3.2:3b-instruct-q8_0\", \"api_type\": \"ollama\", \"client_host\":\"http://localhost:11434\"}]}\n",
    ")"
   ]
  },
  {
   "cell_type": "code",
   "execution_count": 16,
   "metadata": {},
   "outputs": [
    {
     "data": {
      "text/plain": [
       "'---\\nlanguage:\\n- en\\nlicense: other\\nlicense_name: flux-1-dev-non-commercial-license\\nlicense_link: LICENSE.md\\nextra_gated_prompt: By clicking \"Agree\", you agree to the [FluxDev Non-Commercial License Agreement](https://huggingface.co/black-forest-labs/FLUX.1-dev/blob/main/LICENSE.md)\\n  and acknowledge the [Acceptable Use Policy](https://huggingface.co/black-forest-labs/FLUX.1-dev/blob/main/POLICY.md).\\ntags:\\n- text-to-image\\n- image-generation\\n- flux\\n---\\n\\n![FLUX.1 [dev] Grid](./dev_grid.jpg)\\n\\n`FLUX.1 [dev]` is a 12 billion parameter rectified flow transformer capable of generating images from text descriptions.\\nFor more information, please read our [blog post](https://blackforestlabs.ai/announcing-black-forest-labs/).\\n\\n# Key Features\\n1. Cutting-edge output quality, second only to our state-of-the-art model `FLUX.1 [pro]`.\\n2. Competitive prompt following, matching the performance of closed source alternatives .\\n3. Trained using guidance distillation, making `FLUX.1 [dev]` more efficient.\\n4. Open weights to drive new scientific research, and empower artists to develop innovative workflows.\\n5. Generated outputs can be used for personal, scientific, and commercial purposes as described in the [`FLUX.1 [dev]` Non-Commercial License](https://huggingface.co/black-forest-labs/FLUX.1-dev/blob/main/LICENSE.md).\\n\\n# Usage\\nWe provide a reference implementation of `FLUX.1 [dev]`, as well as sampling code, in a dedicated [github repository](https://github.com/black-forest-labs/flux).\\nDevelopers and creatives looking to build on top of `FLUX.1 [dev]` are encouraged to use this as a starting point.\\n\\n## API Endpoints\\nThe FLUX.1 models are also available via API from the following sources\\n- [bfl.ml](https://docs.bfl.ml/) (currently `FLUX.1 [pro]`)\\n- [replicate.com](https://replicate.com/collections/flux)\\n- [fal.ai](https://fal.ai/models/fal-ai/flux/dev)\\n- [mystic.ai](https://www.mystic.ai/black-forest-labs/flux1-dev)\\n\\n## ComfyUI\\n`FLUX.1 [dev]` is also available in [Comfy UI](https://github.com/comfyanonymous/ComfyUI) for local inference with a node-based workflow.\\n\\n## Diffusers\\n\\nTo use `FLUX.1 [dev]` with the 🧨 diffusers python library, first install or upgrade diffusers\\n\\n```shell\\npip install -U diffusers\\n```\\n\\nThen you can use `FluxPipeline` to run the model\\n\\n```python\\nimport torch\\nfrom diffusers import FluxPipeline\\n\\npipe = FluxPipeline.from_pretrained(\"black-forest-labs/FLUX.1-dev\", torch_dtype=torch.bfloat16)\\npipe.enable_model_cpu_offload() #save some VRAM by offloading the model to CPU. Remove this if you have enough GPU power\\n\\nprompt = \"A cat holding a sign that says hello world\"\\nimage = pipe(\\n    prompt,\\n    height=1024,\\n    width=1024,\\n    guidance_scale=3.5,\\n    num_inference_steps=50,\\n    max_sequence_length=512,\\n    generator=torch.Generator(\"cpu\").manual_seed(0)\\n).images[0]\\nimage.save(\"flux-dev.png\")\\n```\\n\\nTo learn more check out the [diffusers](https://huggingface.co/docs/diffusers/main/en/api/pipelines/flux) documentation\\n\\n---\\n# Limitations\\n- This model is not intended or able to provide factual information.\\n- As a statistical model this checkpoint might amplify existing societal biases.\\n- The model may fail to generate output that matches the prompts.\\n- Prompt following is heavily influenced by the prompting-style.\\n\\n# Out-of-Scope Use\\nThe model and its derivatives may not be used\\n\\n- In any way that violates any applicable national, federal, state, local or international law or regulation.\\n- For the purpose of exploiting, harming or attempting to exploit or harm minors in any way; including but not limited to the solicitation, creation, acquisition, or dissemination of child exploitative content.\\n- To generate or disseminate verifiably false information and/or content with the purpose of harming others.\\n- To generate or disseminate personal identifiable information that can be used to harm an individual.\\n- To harass, abuse, threaten, stalk, or bully individuals or groups of individuals.\\n- To create non-consensual nudity or illegal pornographic content.\\n- For fully automated decision making that adversely impacts an individual\\'s legal rights or otherwise creates or modifies a binding, enforceable obligation.\\n- Generating or facilitating large-scale disinformation campaigns.\\n\\n# License\\nThis model falls under the [`FLUX.1 [dev]` Non-Commercial License](https://huggingface.co/black-forest-labs/FLUX.1-dev/blob/main/LICENSE.md).'"
      ]
     },
     "execution_count": 16,
     "metadata": {},
     "output_type": "execute_result"
    }
   ],
   "source": [
    "readme = data_sample['readme'].values[5]\n",
    "readme"
   ]
  },
  {
   "cell_type": "code",
   "execution_count": 17,
   "metadata": {},
   "outputs": [
    {
     "name": "stdout",
     "output_type": "stream",
     "text": [
      "\u001b[31m\n",
      ">>>>>>>> USING AUTO REPLY...\u001b[0m\n",
      "{'content': '```\\n{\\n  \"dataset_name\": {\\n    \"metric\": {\\n      \"description\": \"\",\\n      \"value\": \"\"\\n    }\\n  }\\n}\\n```', 'refusal': None, 'role': 'assistant', 'audio': None, 'function_call': None, 'tool_calls': None}\n"
     ]
    }
   ],
   "source": [
    "reply = assistant.generate_reply(messages=[{\"content\": f'''Based on the following README, extract and format the evaluation metrics of the model into a JSON file. The JSON structure must meet the following criteria:\n",
    "                                            1. Use the dataset name as the top-level key.\n",
    "                                            2. Inside each dataset key, include metric names as sub-keys and their corresponding values as the associated values.\n",
    "                                            Ensure the JSON is well-formatted and adheres to standard JSON syntax. Provide only the JSON output. Don't include any other information.\n",
    "                                            If there's not metric in the README, please provide an empty JSON.\n",
    "                                            This is the readme: {readme}''', \"role\": \"user\"}])\n",
    "print(reply)"
   ]
  }
 ],
 "metadata": {
  "kernelspec": {
   "display_name": "alejandria",
   "language": "python",
   "name": "python3"
  },
  "language_info": {
   "codemirror_mode": {
    "name": "ipython",
    "version": 3
   },
   "file_extension": ".py",
   "mimetype": "text/x-python",
   "name": "python",
   "nbconvert_exporter": "python",
   "pygments_lexer": "ipython3",
   "version": "3.10.15"
  }
 },
 "nbformat": 4,
 "nbformat_minor": 2
}
