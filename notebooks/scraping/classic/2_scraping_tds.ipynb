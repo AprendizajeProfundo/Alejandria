{
 "cells": [
  {
   "cell_type": "code",
   "execution_count": 13,
   "metadata": {},
   "outputs": [],
   "source": [
    "import sys\n",
    "\n",
    "sys.path.append(\"../../../src/\")\n",
    "\n",
    "\n",
    "import requests\n",
    "from bs4 import BeautifulSoup\n",
    "from scraping.config import TDS_URL, QUERY_TOPIC_TDS"
   ]
  },
  {
   "cell_type": "code",
   "execution_count": 33,
   "metadata": {},
   "outputs": [],
   "source": [
    "base_url = TDS_URL\n",
    "\n",
    "url = base_url.format(query=QUERY_TOPIC_TDS)\n",
    "headers = {\n",
    "    \"User-Agent\": \"Mozilla/5.0 (Windows NT 10.0; Win64; x64) AppleWebKit/537.36 (KHTML, like Gecko) Chrome/90.0.4430.93 Safari/537.36\"\n",
    "}\n",
    "\n",
    "response = requests.get(url, headers=headers)\n",
    "if response.status_code != 200:\n",
    "    raise Exception(f\"Error al recuperar datos de Arxiv: {response.status_code}\")\n",
    "content = response.content\n",
    "\n",
    "soup = BeautifulSoup(content, \"html.parser\")\n",
    "posts = [li for li in soup.find_all(\"li\") if li.get(\"class\") and \"wp-block-post\" in li.get(\"class\")]"
   ]
  },
  {
   "cell_type": "code",
   "execution_count": 32,
   "metadata": {},
   "outputs": [
    {
     "data": {
      "text/plain": [
       "9"
      ]
     },
     "execution_count": 32,
     "metadata": {},
     "output_type": "execute_result"
    }
   ],
   "source": [
    "len(posts)"
   ]
  },
  {
   "cell_type": "code",
   "execution_count": 38,
   "metadata": {},
   "outputs": [
    {
     "data": {
      "text/plain": [
       "[('LLM + RAG: Creating an AI-Powered File Reader Assistant',\n",
       "  'https://towardsdatascience.com/llm-rag-creating-an-ai-powered-file-reader-assistant/'),\n",
       " ('Enhancing RAG: Beyond Vanilla Approaches',\n",
       "  'https://towardsdatascience.com/enhancing-rag-beyond-vanilla-approaches/'),\n",
       " ('Supercharge Your RAG with Multi-Agent Self-RAG',\n",
       "  'https://towardsdatascience.com/supercharge-your-rag-with-multi-agent-self-rag/'),\n",
       " ('RAG Isn’t Immune to LLM Hallucination',\n",
       "  'https://towardsdatascience.com/detecting-hallucination-in-rag-ecaf251a6633/'),\n",
       " ('Preparing PDFs for RAGs',\n",
       "  'https://towardsdatascience.com/preparing-pdfs-for-rags-b1579fc697f1/'),\n",
       " ('Multi-Agentic RAG with Hugging Face Code Agents',\n",
       "  'https://towardsdatascience.com/multi-agentic-rag-with-hugging-face-code-agents-005822122930/'),\n",
       " ('When Averages Lie: Moving Beyond Single-Point Predictions',\n",
       "  'https://towardsdatascience.com/when-averages-lie-moving-beyond-single-point-predictions-23201e8c04c8/'),\n",
       " ('Multimodal RAG: Process Any File Type with AI',\n",
       "  'https://towardsdatascience.com/multimodal-rag-process-any-file-type-with-ai-e6921342c903/'),\n",
       " ('DRAGIN: Dynamic Retrieval Augmented Generation based on the Information Needs of Large Language…',\n",
       "  'https://towardsdatascience.com/dragin-dynamic-retrieval-augmented-generation-based-on-the-information-needs-of-large-language-dbdb9aabc1ef/')]"
      ]
     },
     "execution_count": 38,
     "metadata": {},
     "output_type": "execute_result"
    }
   ],
   "source": [
    "[(p.find(\"h2\").text,  p.find(\"a\").get(\"href\")) for p in posts]"
   ]
  }
 ],
 "metadata": {
  "kernelspec": {
   "display_name": "alejandria",
   "language": "python",
   "name": "python3"
  },
  "language_info": {
   "codemirror_mode": {
    "name": "ipython",
    "version": 3
   },
   "file_extension": ".py",
   "mimetype": "text/x-python",
   "name": "python",
   "nbconvert_exporter": "python",
   "pygments_lexer": "ipython3",
   "version": "3.10.15"
  }
 },
 "nbformat": 4,
 "nbformat_minor": 2
}
