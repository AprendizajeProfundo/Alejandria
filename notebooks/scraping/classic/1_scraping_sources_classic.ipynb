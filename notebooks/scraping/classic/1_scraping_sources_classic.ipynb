{
 "cells": [
  {
   "cell_type": "markdown",
   "metadata": {},
   "source": [
    "<figure>\n",
    "    <img src=\"../../../figures/logo_ap.png\"  width=\"80\" height=\"80\" align=\"left\"/>\n",
    "</figure>\n",
    "\n",
    "# <span style=\"color:blue\"><blue><br><br><br><br><center>&nbsp;&nbsp;&nbsp;Aprendizaje Profundo</center></span>"
   ]
  },
  {
   "cell_type": "markdown",
   "metadata": {},
   "source": [
    "# <span style=\"color:red\"><center>Biblioteca Alejandría</center></span>"
   ]
  },
  {
   "cell_type": "markdown",
   "metadata": {},
   "source": [
    "## <span style=\"color:green\"><center>Scraping Web de Fuentes Académicas</center></span>"
   ]
  },
  {
   "cell_type": "markdown",
   "metadata": {},
   "source": [
    "## <span style=\"color:blue\">Autores</span>"
   ]
  },
  {
   "cell_type": "markdown",
   "metadata": {},
   "source": [
    "1. Álvaro Montenegro, alvaro.montenegro@aprendizajeprofundo.ai\n",
    "1. Daniel Montenegro, daniel.montenegro@aprendizajeprofundo.ai"
   ]
  },
  {
   "cell_type": "markdown",
   "metadata": {},
   "source": [
    "## <span style=\"color:blue\">Contenido</span>"
   ]
  },
  {
   "cell_type": "markdown",
   "metadata": {},
   "source": [
    "* [Librerías Necesarias](#Librerías-Necesarias)\n",
    "* [ArXiv](#Librerías-Necesarias)\n",
    "    * [Realizar Consultas en ArXiv](#Realizar-Consultas-en-ArXiv)\n",
    "    * [Extraer Metadata en ArXiv](#Extraer-Metadata-en-ArXiv)\n",
    "    * [Convertir en DataFrame en ArXiv](#Convertir-en-DataFrame-en-ArXiv)\n",
    "* [Towards Data Science](#Towards-Data-Science)\n",
    "    * [Subsección X](#Subsección-X)\n",
    "* [Automatización](#Automatización)\n",
    "* [Conclusiones](#Conclusiones)\n",
    "* [Recomendaciones](#Recomendaciones)"
   ]
  },
  {
   "cell_type": "markdown",
   "metadata": {},
   "source": [
    "## <span style=\"color:blue\">Librerías Necesarias</span>"
   ]
  },
  {
   "cell_type": "code",
   "execution_count": 1,
   "metadata": {},
   "outputs": [],
   "source": [
    "import json\n",
    "import requests\n",
    "import pandas as pd\n",
    "from bs4 import BeautifulSoup\n",
    "from serpapi import GoogleSearch"
   ]
  },
  {
   "cell_type": "markdown",
   "metadata": {},
   "source": [
    "[[Volver]](#Contenido)"
   ]
  },
  {
   "cell_type": "markdown",
   "metadata": {},
   "source": [
    "## <span style=\"color:blue\">ArXiv</span>"
   ]
  },
  {
   "cell_type": "markdown",
   "metadata": {},
   "source": [
    "Texto de la sección X"
   ]
  },
  {
   "cell_type": "markdown",
   "metadata": {},
   "source": [
    "### <span style=\"color:#4CC9F0\">Realizar Consultas en ArXiv</span>"
   ]
  },
  {
   "cell_type": "markdown",
   "metadata": {},
   "source": [
    "Texto de la subsección X"
   ]
  },
  {
   "cell_type": "code",
   "execution_count": null,
   "metadata": {},
   "outputs": [
    {
     "name": "stdout",
     "output_type": "stream",
     "text": [
      "URL construída: http://export.arxiv.org/api/query?search_query=all:RAG&start=0&max_results=100&sortBy=submittedDate&sortOrder=descending\n"
     ]
    }
   ],
   "source": [
    "import requests\n",
    "from typing import Annotated\n",
    "\n",
    "def fetch_html(\n",
    "    url: Annotated[str, \"La URL a la que se hará la solicitud\"]\n",
    ") -> str:\n",
    "    \"\"\"\n",
    "    Realiza una solicitud HTTP GET usando urllib y devuelve el contenido HTML.\n",
    "    \"\"\"\n",
    "    try:\n",
    "        # Realizar la solicitud\n",
    "        data = requests.get(url)\n",
    "        # Leer y decodificar el contenido\n",
    "        html = data.text\n",
    "        return html\n",
    "    except Exception as e:\n",
    "        # Manejo básico de errores\n",
    "        return f\"Error al hacer la solicitud: {str(e)}\"\n",
    "\n",
    "type_query = \"all\"\n",
    "query = \"RAG\"\n",
    "start = 0\n",
    "max_results = 100\n",
    "sortby = \"submittedDate\"\n",
    "sortorder = \"descending\"\n",
    "url = f'http://export.arxiv.org/api/query?search_query={type_query}:{query}&start={start}&max_results={max_results}&sortBy={sortby}&sortOrder={sortorder}'\n",
    "\n",
    "print(\"URL construída:\", url)\n",
    "html_content = fetch_html(url=url)\n",
    "#print(html_content)"
   ]
  },
  {
   "cell_type": "markdown",
   "metadata": {},
   "source": [
    "[[Volver]](#Contenido)"
   ]
  },
  {
   "cell_type": "markdown",
   "metadata": {},
   "source": [
    "### <span style=\"color:#4CC9F0\">Extraer Metadata en ArXiv</span>"
   ]
  },
  {
   "cell_type": "markdown",
   "metadata": {},
   "source": [
    "Texto de la sección X"
   ]
  },
  {
   "cell_type": "code",
   "execution_count": 3,
   "metadata": {},
   "outputs": [],
   "source": [
    "soup = BeautifulSoup(html_content, \"lxml-xml\")\n",
    "articles = soup.find_all(\"entry\")\n",
    "\n",
    "data_json = []\n",
    "for entry in articles:\n",
    "    prim_category = entry.find(\"primary_category\").get(\"term\")\n",
    "    published = entry.find(\"published\").text\n",
    "    updated = entry.find(\"updated\").text\n",
    "    title = entry.find(\"title\").text\n",
    "    summary = entry.find(\"summary\").text\n",
    "    authors = entry.find_all(\"author\")\n",
    "    authors = [auth.find(\"name\").text for auth in authors]\n",
    "    link_article = entry.select('link[title=\"pdf\"]')[0].get(\"href\")\n",
    "    data_json.append({\"primary_category\": prim_category, \n",
    "                      \"published\": published,\n",
    "                      \"updated\": updated,\n",
    "                      \"title\": title, \n",
    "                      \"summary\": summary,\n",
    "                      \"authors\": authors, \n",
    "                      \"link_article\": link_article})"
   ]
  },
  {
   "cell_type": "markdown",
   "metadata": {},
   "source": [
    "[[Volver]](#Contenido)"
   ]
  },
  {
   "cell_type": "markdown",
   "metadata": {},
   "source": [
    "### <span style=\"color:#4CC9F0\">Convertir en DataFrame en ArXiv</span>"
   ]
  },
  {
   "cell_type": "markdown",
   "metadata": {},
   "source": [
    "Texto de la sección X"
   ]
  },
  {
   "cell_type": "code",
   "execution_count": 4,
   "metadata": {},
   "outputs": [
    {
     "name": "stdout",
     "output_type": "stream",
     "text": [
      "<class 'pandas.core.frame.DataFrame'>\n",
      "RangeIndex: 100 entries, 0 to 99\n",
      "Data columns (total 9 columns):\n",
      " #   Column            Non-Null Count  Dtype              \n",
      "---  ------            --------------  -----              \n",
      " 0   id                100 non-null    int64              \n",
      " 1   version           100 non-null    object             \n",
      " 2   primary_category  100 non-null    object             \n",
      " 3   published         100 non-null    datetime64[ns, UTC]\n",
      " 4   updated           100 non-null    datetime64[ns, UTC]\n",
      " 5   title             100 non-null    object             \n",
      " 6   summary           100 non-null    object             \n",
      " 7   authors           100 non-null    object             \n",
      " 8   link_article      100 non-null    object             \n",
      "dtypes: datetime64[ns, UTC](2), int64(1), object(6)\n",
      "memory usage: 7.2+ KB\n"
     ]
    },
    {
     "data": {
      "text/html": [
       "<div>\n",
       "<style scoped>\n",
       "    .dataframe tbody tr th:only-of-type {\n",
       "        vertical-align: middle;\n",
       "    }\n",
       "\n",
       "    .dataframe tbody tr th {\n",
       "        vertical-align: top;\n",
       "    }\n",
       "\n",
       "    .dataframe thead th {\n",
       "        text-align: right;\n",
       "    }\n",
       "</style>\n",
       "<table border=\"1\" class=\"dataframe\">\n",
       "  <thead>\n",
       "    <tr style=\"text-align: right;\">\n",
       "      <th></th>\n",
       "      <th>id</th>\n",
       "      <th>version</th>\n",
       "      <th>primary_category</th>\n",
       "      <th>published</th>\n",
       "      <th>updated</th>\n",
       "      <th>title</th>\n",
       "      <th>summary</th>\n",
       "      <th>authors</th>\n",
       "      <th>link_article</th>\n",
       "    </tr>\n",
       "  </thead>\n",
       "  <tbody>\n",
       "    <tr>\n",
       "      <th>0</th>\n",
       "      <td>198041</td>\n",
       "      <td>1</td>\n",
       "      <td>cs.SE</td>\n",
       "      <td>2024-11-29 16:09:43+00:00</td>\n",
       "      <td>2024-11-29 16:09:43+00:00</td>\n",
       "      <td>Advanced System Integration: Analyzing OpenAPI...</td>\n",
       "      <td>Integrating multiple (sub-)systems is essent...</td>\n",
       "      <td>[Robin D. Pesl, Jerin G. Mathew, Massimo Mecel...</td>\n",
       "      <td>http://arxiv.org/pdf/2411.19804v1</td>\n",
       "    </tr>\n",
       "    <tr>\n",
       "      <th>1</th>\n",
       "      <td>197131</td>\n",
       "      <td>1</td>\n",
       "      <td>cs.NE</td>\n",
       "      <td>2024-11-29 14:01:34+00:00</td>\n",
       "      <td>2024-11-29 14:01:34+00:00</td>\n",
       "      <td>CantorNet: A Sandbox for Testing Topological a...</td>\n",
       "      <td>Many natural phenomena are characterized by ...</td>\n",
       "      <td>[Michal Lewandowski, Hamid Eghbalzadeh, Bernha...</td>\n",
       "      <td>http://arxiv.org/pdf/2411.19713v1</td>\n",
       "    </tr>\n",
       "    <tr>\n",
       "      <th>2</th>\n",
       "      <td>197101</td>\n",
       "      <td>1</td>\n",
       "      <td>cs.IR</td>\n",
       "      <td>2024-11-29 13:57:07+00:00</td>\n",
       "      <td>2024-11-29 13:57:07+00:00</td>\n",
       "      <td>Know Your RAG: Dataset Taxonomy and Generation...</td>\n",
       "      <td>Retrieval Augmented Generation (RAG) systems...</td>\n",
       "      <td>[Rafael Teixeira de Lima, Shubham Gupta, Cesar...</td>\n",
       "      <td>http://arxiv.org/pdf/2411.19710v1</td>\n",
       "    </tr>\n",
       "    <tr>\n",
       "      <th>3</th>\n",
       "      <td>195541</td>\n",
       "      <td>1</td>\n",
       "      <td>cs.HC</td>\n",
       "      <td>2024-11-29 09:07:21+00:00</td>\n",
       "      <td>2024-11-29 09:07:21+00:00</td>\n",
       "      <td>Unimib Assistant: designing a student-friendly...</td>\n",
       "      <td>Natural language processing skills of Large ...</td>\n",
       "      <td>[Chiara Antico, Stefano Giordano, Cansu Koyutu...</td>\n",
       "      <td>http://arxiv.org/pdf/2411.19554v1</td>\n",
       "    </tr>\n",
       "    <tr>\n",
       "      <th>4</th>\n",
       "      <td>195391</td>\n",
       "      <td>1</td>\n",
       "      <td>cs.AI</td>\n",
       "      <td>2024-11-29 08:34:07+00:00</td>\n",
       "      <td>2024-11-29 08:34:07+00:00</td>\n",
       "      <td>Knowledge Management for Automobile Failure An...</td>\n",
       "      <td>This paper presents a knowledge management s...</td>\n",
       "      <td>[Yuta Ojima, Hiroki Sakaji, Tadashi Nakamura, ...</td>\n",
       "      <td>http://arxiv.org/pdf/2411.19539v1</td>\n",
       "    </tr>\n",
       "    <tr>\n",
       "      <th>...</th>\n",
       "      <td>...</td>\n",
       "      <td>...</td>\n",
       "      <td>...</td>\n",
       "      <td>...</td>\n",
       "      <td>...</td>\n",
       "      <td>...</td>\n",
       "      <td>...</td>\n",
       "      <td>...</td>\n",
       "      <td>...</td>\n",
       "    </tr>\n",
       "    <tr>\n",
       "      <th>95</th>\n",
       "      <td>29591</td>\n",
       "      <td>1</td>\n",
       "      <td>cs.IR</td>\n",
       "      <td>2024-11-05 09:58:36+00:00</td>\n",
       "      <td>2024-11-05 09:58:36+00:00</td>\n",
       "      <td>HtmlRAG: HTML is Better Than Plain Text for Mo...</td>\n",
       "      <td>Retrieval-Augmented Generation (RAG) has bee...</td>\n",
       "      <td>[Jiejun Tan, Zhicheng Dou, Wen Wang, Mang Wang...</td>\n",
       "      <td>http://arxiv.org/pdf/2411.02959v1</td>\n",
       "    </tr>\n",
       "    <tr>\n",
       "      <th>96</th>\n",
       "      <td>28501</td>\n",
       "      <td>1</td>\n",
       "      <td>cs.CY</td>\n",
       "      <td>2024-11-05 06:44:15+00:00</td>\n",
       "      <td>2024-11-05 06:44:15+00:00</td>\n",
       "      <td>WASHtsApp -- A RAG-powered WhatsApp Chatbot fo...</td>\n",
       "      <td>This paper introduces WASHtsApp, a WhatsApp-...</td>\n",
       "      <td>[Simon Kloker, Alex Cedric Luyima, Matthew Baz...</td>\n",
       "      <td>http://arxiv.org/pdf/2411.02850v1</td>\n",
       "    </tr>\n",
       "    <tr>\n",
       "      <th>97</th>\n",
       "      <td>28322</td>\n",
       "      <td>2</td>\n",
       "      <td>cs.CL</td>\n",
       "      <td>2024-11-05 06:11:17+00:00</td>\n",
       "      <td>2024-11-06 11:19:42+00:00</td>\n",
       "      <td>PersianRAG: A Retrieval-Augmented Generation S...</td>\n",
       "      <td>Retrieval augmented generation (RAG) models,...</td>\n",
       "      <td>[Hossein Hosseini, Mohammad Sobhan Zare, Amir ...</td>\n",
       "      <td>http://arxiv.org/pdf/2411.02832v2</td>\n",
       "    </tr>\n",
       "    <tr>\n",
       "      <th>98</th>\n",
       "      <td>26571</td>\n",
       "      <td>1</td>\n",
       "      <td>cs.CL</td>\n",
       "      <td>2024-11-04 22:45:52+00:00</td>\n",
       "      <td>2024-11-04 22:45:52+00:00</td>\n",
       "      <td>Zebra-Llama: A Context-Aware Large Language Mo...</td>\n",
       "      <td>Rare diseases present unique challenges in h...</td>\n",
       "      <td>[Karthik Soman, Andrew Langdon, Catalina Villo...</td>\n",
       "      <td>http://arxiv.org/pdf/2411.02657v1</td>\n",
       "    </tr>\n",
       "    <tr>\n",
       "      <th>99</th>\n",
       "      <td>26171</td>\n",
       "      <td>1</td>\n",
       "      <td>cs.CL</td>\n",
       "      <td>2024-11-04 21:12:08+00:00</td>\n",
       "      <td>2024-11-04 21:12:08+00:00</td>\n",
       "      <td>TeleOracle: Fine-Tuned Retrieval-Augmented Gen...</td>\n",
       "      <td>The telecommunications industry's rapid evol...</td>\n",
       "      <td>[Nouf Alabbasi, Omar Erak, Omar Alhussein, Ism...</td>\n",
       "      <td>http://arxiv.org/pdf/2411.02617v1</td>\n",
       "    </tr>\n",
       "  </tbody>\n",
       "</table>\n",
       "<p>100 rows × 9 columns</p>\n",
       "</div>"
      ],
      "text/plain": [
       "        id version primary_category                 published  \\\n",
       "0   198041       1            cs.SE 2024-11-29 16:09:43+00:00   \n",
       "1   197131       1            cs.NE 2024-11-29 14:01:34+00:00   \n",
       "2   197101       1            cs.IR 2024-11-29 13:57:07+00:00   \n",
       "3   195541       1            cs.HC 2024-11-29 09:07:21+00:00   \n",
       "4   195391       1            cs.AI 2024-11-29 08:34:07+00:00   \n",
       "..     ...     ...              ...                       ...   \n",
       "95   29591       1            cs.IR 2024-11-05 09:58:36+00:00   \n",
       "96   28501       1            cs.CY 2024-11-05 06:44:15+00:00   \n",
       "97   28322       2            cs.CL 2024-11-05 06:11:17+00:00   \n",
       "98   26571       1            cs.CL 2024-11-04 22:45:52+00:00   \n",
       "99   26171       1            cs.CL 2024-11-04 21:12:08+00:00   \n",
       "\n",
       "                     updated  \\\n",
       "0  2024-11-29 16:09:43+00:00   \n",
       "1  2024-11-29 14:01:34+00:00   \n",
       "2  2024-11-29 13:57:07+00:00   \n",
       "3  2024-11-29 09:07:21+00:00   \n",
       "4  2024-11-29 08:34:07+00:00   \n",
       "..                       ...   \n",
       "95 2024-11-05 09:58:36+00:00   \n",
       "96 2024-11-05 06:44:15+00:00   \n",
       "97 2024-11-06 11:19:42+00:00   \n",
       "98 2024-11-04 22:45:52+00:00   \n",
       "99 2024-11-04 21:12:08+00:00   \n",
       "\n",
       "                                                title  \\\n",
       "0   Advanced System Integration: Analyzing OpenAPI...   \n",
       "1   CantorNet: A Sandbox for Testing Topological a...   \n",
       "2   Know Your RAG: Dataset Taxonomy and Generation...   \n",
       "3   Unimib Assistant: designing a student-friendly...   \n",
       "4   Knowledge Management for Automobile Failure An...   \n",
       "..                                                ...   \n",
       "95  HtmlRAG: HTML is Better Than Plain Text for Mo...   \n",
       "96  WASHtsApp -- A RAG-powered WhatsApp Chatbot fo...   \n",
       "97  PersianRAG: A Retrieval-Augmented Generation S...   \n",
       "98  Zebra-Llama: A Context-Aware Large Language Mo...   \n",
       "99  TeleOracle: Fine-Tuned Retrieval-Augmented Gen...   \n",
       "\n",
       "                                              summary  \\\n",
       "0     Integrating multiple (sub-)systems is essent...   \n",
       "1     Many natural phenomena are characterized by ...   \n",
       "2     Retrieval Augmented Generation (RAG) systems...   \n",
       "3     Natural language processing skills of Large ...   \n",
       "4     This paper presents a knowledge management s...   \n",
       "..                                                ...   \n",
       "95    Retrieval-Augmented Generation (RAG) has bee...   \n",
       "96    This paper introduces WASHtsApp, a WhatsApp-...   \n",
       "97    Retrieval augmented generation (RAG) models,...   \n",
       "98    Rare diseases present unique challenges in h...   \n",
       "99    The telecommunications industry's rapid evol...   \n",
       "\n",
       "                                              authors  \\\n",
       "0   [Robin D. Pesl, Jerin G. Mathew, Massimo Mecel...   \n",
       "1   [Michal Lewandowski, Hamid Eghbalzadeh, Bernha...   \n",
       "2   [Rafael Teixeira de Lima, Shubham Gupta, Cesar...   \n",
       "3   [Chiara Antico, Stefano Giordano, Cansu Koyutu...   \n",
       "4   [Yuta Ojima, Hiroki Sakaji, Tadashi Nakamura, ...   \n",
       "..                                                ...   \n",
       "95  [Jiejun Tan, Zhicheng Dou, Wen Wang, Mang Wang...   \n",
       "96  [Simon Kloker, Alex Cedric Luyima, Matthew Baz...   \n",
       "97  [Hossein Hosseini, Mohammad Sobhan Zare, Amir ...   \n",
       "98  [Karthik Soman, Andrew Langdon, Catalina Villo...   \n",
       "99  [Nouf Alabbasi, Omar Erak, Omar Alhussein, Ism...   \n",
       "\n",
       "                         link_article  \n",
       "0   http://arxiv.org/pdf/2411.19804v1  \n",
       "1   http://arxiv.org/pdf/2411.19713v1  \n",
       "2   http://arxiv.org/pdf/2411.19710v1  \n",
       "3   http://arxiv.org/pdf/2411.19554v1  \n",
       "4   http://arxiv.org/pdf/2411.19539v1  \n",
       "..                                ...  \n",
       "95  http://arxiv.org/pdf/2411.02959v1  \n",
       "96  http://arxiv.org/pdf/2411.02850v1  \n",
       "97  http://arxiv.org/pdf/2411.02832v2  \n",
       "98  http://arxiv.org/pdf/2411.02657v1  \n",
       "99  http://arxiv.org/pdf/2411.02617v1  \n",
       "\n",
       "[100 rows x 9 columns]"
      ]
     },
     "execution_count": 4,
     "metadata": {},
     "output_type": "execute_result"
    }
   ],
   "source": [
    "data_df = pd.DataFrame.from_dict(data_json)\n",
    "columns_to_convert = ['published', 'updated']\n",
    "data_df[columns_to_convert] = data_df[columns_to_convert].apply(pd.to_datetime)\n",
    "data_df.insert(0, \"id\", data_df[\"link_article\"].str.split(\".\").str[-1].str.replace(\"v*\",\"\", regex=True))\n",
    "data_df[\"id\"] = data_df[\"id\"].astype(\"int\")\n",
    "data_df.insert(1, \"version\", data_df[\"link_article\"].str.split(\".\").str[-1].str.split(\"v\").str[-1])\n",
    "data_df.info()\n",
    "data_df.sort_values(by=\"published\", ascending=False)"
   ]
  },
  {
   "cell_type": "markdown",
   "metadata": {},
   "source": [
    "## <span style=\"color:blue\">SerpApi</span>"
   ]
  },
  {
   "cell_type": "markdown",
   "metadata": {},
   "source": [
    "Texto de la sección X"
   ]
  },
  {
   "cell_type": "markdown",
   "metadata": {},
   "source": [
    "### <span style=\"color:#4CC9F0\">Realizar Consultas en SerpApi</span>"
   ]
  },
  {
   "cell_type": "markdown",
   "metadata": {},
   "source": [
    "Texto de la subsección X"
   ]
  },
  {
   "cell_type": "code",
   "execution_count": null,
   "metadata": {},
   "outputs": [],
   "source": [
    "# Can only use 100 requests per month\n",
    "\"\"\"params = {\n",
    "  \"api_key\": os.environ[\"GOOGLE_SCHOLAR_API_KEY\"],\n",
    "  \"engine\": \"google_scholar\",\n",
    "  \"q\": \"RAG AI\",\n",
    "  \"hl\": \"en\"\n",
    "}\n",
    "\n",
    "search = GoogleSearch(params)\n",
    "results = search.get_dict()\n",
    "results\"\"\""
   ]
  },
  {
   "cell_type": "markdown",
   "metadata": {},
   "source": [
    "[[Volver]](#Contenido)"
   ]
  },
  {
   "cell_type": "markdown",
   "metadata": {},
   "source": [
    "## <span style=\"color:blue\">Automatización</span>"
   ]
  },
  {
   "cell_type": "markdown",
   "metadata": {},
   "source": [
    "Automatización del proceso"
   ]
  },
  {
   "cell_type": "markdown",
   "metadata": {},
   "source": [
    "## <span style=\"color:blue\">Uso de la Automatización</span>"
   ]
  },
  {
   "cell_type": "markdown",
   "metadata": {},
   "source": [
    "Uso de la Automatización explicada"
   ]
  },
  {
   "cell_type": "markdown",
   "metadata": {},
   "source": [
    "## <span style=\"color:blue\">Conclusiones</span>"
   ]
  },
  {
   "cell_type": "markdown",
   "metadata": {},
   "source": [
    "Conclusiones del Notebook"
   ]
  },
  {
   "cell_type": "markdown",
   "metadata": {},
   "source": [
    "## <span style=\"color:blue\">Recomendaciones</span>"
   ]
  },
  {
   "cell_type": "markdown",
   "metadata": {},
   "source": [
    "Recomendaciones del estudio hecho."
   ]
  },
  {
   "cell_type": "markdown",
   "metadata": {},
   "source": [
    "## <span style=\"color:blue\">Referencias</span>"
   ]
  },
  {
   "cell_type": "markdown",
   "metadata": {},
   "source": [
    "1. [Referencia]()"
   ]
  }
 ],
 "metadata": {
  "kernelspec": {
   "display_name": "alejandria",
   "language": "python",
   "name": "python3"
  },
  "language_info": {
   "codemirror_mode": {
    "name": "ipython",
    "version": 3
   },
   "file_extension": ".py",
   "mimetype": "text/x-python",
   "name": "python",
   "nbconvert_exporter": "python",
   "pygments_lexer": "ipython3",
   "version": "3.10.15"
  }
 },
 "nbformat": 4,
 "nbformat_minor": 2
}
