{
 "cells": [
  {
   "cell_type": "markdown",
   "metadata": {},
   "source": [
    "<figure>\n",
    "    <img src=\"../../../figures/logo_ap.png\"  width=\"80\" height=\"80\" align=\"left\"/>\n",
    "</figure>\n",
    "\n",
    "# <span style=\"color:blue\"><blue><br><br><br><br><center>&nbsp;&nbsp;&nbsp;Aprendizaje Profundo</center></span>"
   ]
  },
  {
   "cell_type": "markdown",
   "metadata": {},
   "source": [
    "# <span style=\"color:red\"><center>Biblioteca Alejandría</center></span>"
   ]
  },
  {
   "cell_type": "markdown",
   "metadata": {},
   "source": [
    "## <span style=\"color:green\"><center>Scraping Web de Fuentes Académicas</center></span>"
   ]
  },
  {
   "cell_type": "markdown",
   "metadata": {},
   "source": [
    "## <span style=\"color:blue\">Autores</span>"
   ]
  },
  {
   "cell_type": "markdown",
   "metadata": {},
   "source": [
    "1. Álvaro Montenegro, alvaro.montenegro@aprendizajeprofundo.ai\n",
    "1. Daniel Montenegro, daniel.montenegro@aprendizajeprofundo.ai"
   ]
  },
  {
   "cell_type": "markdown",
   "metadata": {},
   "source": [
    "## <span style=\"color:blue\">Contenido</span>"
   ]
  },
  {
   "cell_type": "markdown",
   "metadata": {},
   "source": [
    "* [Librerías Necesarias](#Librerías-Necesarias)\n",
    "* [ArXiv](#Librerías-Necesarias)\n",
    "    * [Realizar Consultas en ArXiv](#Realizar-Consultas-en-ArXiv)\n",
    "    * [Extraer Metadata en ArXiv](#Extraer-Metadata-en-ArXiv)\n",
    "    * [Convertir en DataFrame en ArXiv](#Convertir-en-DataFrame-en-ArXiv)\n",
    "* [Towards Data Science](#Towards-Data-Science)\n",
    "    * [Subsección X](#Subsección-X)\n",
    "* [Automatización](#Automatización)\n",
    "* [Conclusiones](#Conclusiones)\n",
    "* [Recomendaciones](#Recomendaciones)"
   ]
  },
  {
   "cell_type": "markdown",
   "metadata": {},
   "source": [
    "## <span style=\"color:blue\">Librerías Necesarias</span>"
   ]
  },
  {
   "cell_type": "code",
   "execution_count": 1,
   "metadata": {},
   "outputs": [],
   "source": [
    "import json\n",
    "import requests\n",
    "import pandas as pd\n",
    "from bs4 import BeautifulSoup\n",
    "from serpapi import GoogleSearch"
   ]
  },
  {
   "cell_type": "markdown",
   "metadata": {},
   "source": [
    "[[Volver]](#Contenido)"
   ]
  },
  {
   "cell_type": "markdown",
   "metadata": {},
   "source": [
    "## <span style=\"color:blue\">ArXiv</span>"
   ]
  },
  {
   "cell_type": "markdown",
   "metadata": {},
   "source": [
    "Texto de la sección X"
   ]
  },
  {
   "cell_type": "markdown",
   "metadata": {},
   "source": [
    "### <span style=\"color:#4CC9F0\">Realizar Consultas en ArXiv</span>"
   ]
  },
  {
   "cell_type": "markdown",
   "metadata": {},
   "source": [
    "Texto de la subsección X"
   ]
  },
  {
   "cell_type": "code",
   "execution_count": null,
   "metadata": {},
   "outputs": [
    {
     "name": "stdout",
     "output_type": "stream",
     "text": [
      "URL construída: http://export.arxiv.org/api/query?search_query=all:RAG&start=0&max_results=100&sortBy=submittedDate&sortOrder=descending\n"
     ]
    }
   ],
   "source": [
    "import requests\n",
    "from typing import Annotated\n",
    "\n",
    "def fetch_html(\n",
    "    url: Annotated[str, \"La URL a la que se hará la solicitud\"]\n",
    ") -> str:\n",
    "    \"\"\"\n",
    "    Realiza una solicitud HTTP GET usando urllib y devuelve el contenido HTML.\n",
    "    \"\"\"\n",
    "    try:\n",
    "        # Realizar la solicitud\n",
    "        data = requests.get(url)\n",
    "        # Leer y decodificar el contenido\n",
    "        html = data.text\n",
    "        return html\n",
    "    except Exception as e:\n",
    "        # Manejo básico de errores\n",
    "        return f\"Error al hacer la solicitud: {str(e)}\"\n",
    "\n",
    "type_query = \"all\"\n",
    "query = \"RAG\"\n",
    "start = 0\n",
    "max_results = 100\n",
    "sortby = \"submittedDate\"\n",
    "sortorder = \"descending\"\n",
    "url = f'http://export.arxiv.org/api/query?search_query={type_query}:{query}&start={start}&max_results={max_results}&sortBy={sortby}&sortOrder={sortorder}'\n",
    "\n",
    "print(\"URL construída:\", url)\n",
    "html_content = fetch_html(url=url)\n",
    "#print(html_content)"
   ]
  },
  {
   "cell_type": "markdown",
   "metadata": {},
   "source": [
    "[[Volver]](#Contenido)"
   ]
  },
  {
   "cell_type": "markdown",
   "metadata": {},
   "source": [
    "### <span style=\"color:#4CC9F0\">Extraer Metadata en ArXiv</span>"
   ]
  },
  {
   "cell_type": "markdown",
   "metadata": {},
   "source": [
    "Texto de la sección X"
   ]
  },
  {
   "cell_type": "code",
   "execution_count": 3,
   "metadata": {},
   "outputs": [],
   "source": [
    "soup = BeautifulSoup(html_content, \"lxml-xml\")\n",
    "articles = soup.find_all(\"entry\")\n",
    "\n",
    "data_json = []\n",
    "for entry in articles:\n",
    "    prim_category = entry.find(\"primary_category\").get(\"term\")\n",
    "    published = entry.find(\"published\").text\n",
    "    updated = entry.find(\"updated\").text\n",
    "    title = entry.find(\"title\").text\n",
    "    summary = entry.find(\"summary\").text\n",
    "    authors = entry.find_all(\"author\")\n",
    "    authors = [auth.find(\"name\").text for auth in authors]\n",
    "    link_article = entry.select('link[title=\"pdf\"]')[0].get(\"href\")\n",
    "    data_json.append({\"primary_category\": prim_category, \n",
    "                      \"published\": published,\n",
    "                      \"updated\": updated,\n",
    "                      \"title\": title, \n",
    "                      \"summary\": summary,\n",
    "                      \"authors\": authors, \n",
    "                      \"link_article\": link_article})"
   ]
  },
  {
   "cell_type": "markdown",
   "metadata": {},
   "source": [
    "[[Volver]](#Contenido)"
   ]
  },
  {
   "cell_type": "markdown",
   "metadata": {},
   "source": [
    "### <span style=\"color:#4CC9F0\">Convertir en DataFrame en ArXiv</span>"
   ]
  },
  {
   "cell_type": "markdown",
   "metadata": {},
   "source": [
    "Texto de la sección X"
   ]
  },
  {
   "cell_type": "code",
   "execution_count": 4,
   "metadata": {},
   "outputs": [
    {
     "name": "stdout",
     "output_type": "stream",
     "text": [
      "<class 'pandas.core.frame.DataFrame'>\n",
      "RangeIndex: 100 entries, 0 to 99\n",
      "Data columns (total 9 columns):\n",
      " #   Column            Non-Null Count  Dtype              \n",
      "---  ------            --------------  -----              \n",
      " 0   id                100 non-null    int64              \n",
      " 1   version           100 non-null    object             \n",
      " 2   primary_category  100 non-null    object             \n",
      " 3   published         100 non-null    datetime64[ns, UTC]\n",
      " 4   updated           100 non-null    datetime64[ns, UTC]\n",
      " 5   title             100 non-null    object             \n",
      " 6   summary           100 non-null    object             \n",
      " 7   authors           100 non-null    object             \n",
      " 8   link_article      100 non-null    object             \n",
      "dtypes: datetime64[ns, UTC](2), int64(1), object(6)\n",
      "memory usage: 7.2+ KB\n"
     ]
    },
    {
     "data": {
      "text/html": [
       "<div>\n",
       "<style scoped>\n",
       "    .dataframe tbody tr th:only-of-type {\n",
       "        vertical-align: middle;\n",
       "    }\n",
       "\n",
       "    .dataframe tbody tr th {\n",
       "        vertical-align: top;\n",
       "    }\n",
       "\n",
       "    .dataframe thead th {\n",
       "        text-align: right;\n",
       "    }\n",
       "</style>\n",
       "<table border=\"1\" class=\"dataframe\">\n",
       "  <thead>\n",
       "    <tr style=\"text-align: right;\">\n",
       "      <th></th>\n",
       "      <th>id</th>\n",
       "      <th>version</th>\n",
       "      <th>primary_category</th>\n",
       "      <th>published</th>\n",
       "      <th>updated</th>\n",
       "      <th>title</th>\n",
       "      <th>summary</th>\n",
       "      <th>authors</th>\n",
       "      <th>link_article</th>\n",
       "    </tr>\n",
       "  </thead>\n",
       "  <tbody>\n",
       "    <tr>\n",
       "      <th>0</th>\n",
       "      <td>198041</td>\n",
       "      <td>1</td>\n",
       "      <td>cs.SE</td>\n",
       "      <td>2024-11-29 16:09:43+00:00</td>\n",
       "      <td>2024-11-29 16:09:43+00:00</td>\n",
       "      <td>Advanced System Integration: Analyzing OpenAPI...</td>\n",
       "      <td>Integrating multiple (sub-)systems is essent...</td>\n",
       "      <td>[Robin D. Pesl, Jerin G. Mathew, Massimo Mecel...</td>\n",
       "      <td>http://arxiv.org/pdf/2411.19804v1</td>\n",
       "    </tr>\n",
       "    <tr>\n",
       "      <th>1</th>\n",
       "      <td>197131</td>\n",
       "      <td>1</td>\n",
       "      <td>cs.NE</td>\n",
       "      <td>2024-11-29 14:01:34+00:00</td>\n",
       "      <td>2024-11-29 14:01:34+00:00</td>\n",
       "      <td>CantorNet: A Sandbox for Testing Topological a...</td>\n",
       "      <td>Many natural phenomena are characterized by ...</td>\n",
       "      <td>[Michal Lewandowski, Hamid Eghbalzadeh, Bernha...</td>\n",
       "      <td>http://arxiv.org/pdf/2411.19713v1</td>\n",
       "    </tr>\n",
       "    <tr>\n",
       "      <th>2</th>\n",
       "      <td>197101</td>\n",
       "      <td>1</td>\n",
       "      <td>cs.IR</td>\n",
       "      <td>2024-11-29 13:57:07+00:00</td>\n",
       "      <td>2024-11-29 13:57:07+00:00</td>\n",
       "      <td>Know Your RAG: Dataset Taxonomy and Generation...</td>\n",
       "      <td>Retrieval Augmented Generation (RAG) systems...</td>\n",
       "      <td>[Rafael Teixeira de Lima, Shubham Gupta, Cesar...</td>\n",
       "      <td>http://arxiv.org/pdf/2411.19710v1</td>\n",
       "    </tr>\n",
       "    <tr>\n",
       "      <th>3</th>\n",
       "      <td>195541</td>\n",
       "      <td>1</td>\n",
       "      <td>cs.HC</td>\n",
       "      <td>2024-11-29 09:07:21+00:00</td>\n",
       "      <td>2024-11-29 09:07:21+00:00</td>\n",
       "      <td>Unimib Assistant: designing a student-friendly...</td>\n",
       "      <td>Natural language processing skills of Large ...</td>\n",
       "      <td>[Chiara Antico, Stefano Giordano, Cansu Koyutu...</td>\n",
       "      <td>http://arxiv.org/pdf/2411.19554v1</td>\n",
       "    </tr>\n",
       "    <tr>\n",
       "      <th>4</th>\n",
       "      <td>195391</td>\n",
       "      <td>1</td>\n",
       "      <td>cs.AI</td>\n",
       "      <td>2024-11-29 08:34:07+00:00</td>\n",
       "      <td>2024-11-29 08:34:07+00:00</td>\n",
       "      <td>Knowledge Management for Automobile Failure An...</td>\n",
       "      <td>This paper presents a knowledge management s...</td>\n",
       "      <td>[Yuta Ojima, Hiroki Sakaji, Tadashi Nakamura, ...</td>\n",
       "      <td>http://arxiv.org/pdf/2411.19539v1</td>\n",
       "    </tr>\n",
       "    <tr>\n",
       "      <th>...</th>\n",
       "      <td>...</td>\n",
       "      <td>...</td>\n",
       "      <td>...</td>\n",
       "      <td>...</td>\n",
       "      <td>...</td>\n",
       "      <td>...</td>\n",
       "      <td>...</td>\n",
       "      <td>...</td>\n",
       "      <td>...</td>\n",
       "    </tr>\n",
       "    <tr>\n",
       "      <th>95</th>\n",
       "      <td>29591</td>\n",
       "      <td>1</td>\n",
       "      <td>cs.IR</td>\n",
       "      <td>2024-11-05 09:58:36+00:00</td>\n",
       "      <td>2024-11-05 09:58:36+00:00</td>\n",
       "      <td>HtmlRAG: HTML is Better Than Plain Text for Mo...</td>\n",
       "      <td>Retrieval-Augmented Generation (RAG) has bee...</td>\n",
       "      <td>[Jiejun Tan, Zhicheng Dou, Wen Wang, Mang Wang...</td>\n",
       "      <td>http://arxiv.org/pdf/2411.02959v1</td>\n",
       "    </tr>\n",
       "    <tr>\n",
       "      <th>96</th>\n",
       "      <td>28501</td>\n",
       "      <td>1</td>\n",
       "      <td>cs.CY</td>\n",
       "      <td>2024-11-05 06:44:15+00:00</td>\n",
       "      <td>2024-11-05 06:44:15+00:00</td>\n",
       "      <td>WASHtsApp -- A RAG-powered WhatsApp Chatbot fo...</td>\n",
       "      <td>This paper introduces WASHtsApp, a WhatsApp-...</td>\n",
       "      <td>[Simon Kloker, Alex Cedric Luyima, Matthew Baz...</td>\n",
       "      <td>http://arxiv.org/pdf/2411.02850v1</td>\n",
       "    </tr>\n",
       "    <tr>\n",
       "      <th>97</th>\n",
       "      <td>28322</td>\n",
       "      <td>2</td>\n",
       "      <td>cs.CL</td>\n",
       "      <td>2024-11-05 06:11:17+00:00</td>\n",
       "      <td>2024-11-06 11:19:42+00:00</td>\n",
       "      <td>PersianRAG: A Retrieval-Augmented Generation S...</td>\n",
       "      <td>Retrieval augmented generation (RAG) models,...</td>\n",
       "      <td>[Hossein Hosseini, Mohammad Sobhan Zare, Amir ...</td>\n",
       "      <td>http://arxiv.org/pdf/2411.02832v2</td>\n",
       "    </tr>\n",
       "    <tr>\n",
       "      <th>98</th>\n",
       "      <td>26571</td>\n",
       "      <td>1</td>\n",
       "      <td>cs.CL</td>\n",
       "      <td>2024-11-04 22:45:52+00:00</td>\n",
       "      <td>2024-11-04 22:45:52+00:00</td>\n",
       "      <td>Zebra-Llama: A Context-Aware Large Language Mo...</td>\n",
       "      <td>Rare diseases present unique challenges in h...</td>\n",
       "      <td>[Karthik Soman, Andrew Langdon, Catalina Villo...</td>\n",
       "      <td>http://arxiv.org/pdf/2411.02657v1</td>\n",
       "    </tr>\n",
       "    <tr>\n",
       "      <th>99</th>\n",
       "      <td>26171</td>\n",
       "      <td>1</td>\n",
       "      <td>cs.CL</td>\n",
       "      <td>2024-11-04 21:12:08+00:00</td>\n",
       "      <td>2024-11-04 21:12:08+00:00</td>\n",
       "      <td>TeleOracle: Fine-Tuned Retrieval-Augmented Gen...</td>\n",
       "      <td>The telecommunications industry's rapid evol...</td>\n",
       "      <td>[Nouf Alabbasi, Omar Erak, Omar Alhussein, Ism...</td>\n",
       "      <td>http://arxiv.org/pdf/2411.02617v1</td>\n",
       "    </tr>\n",
       "  </tbody>\n",
       "</table>\n",
       "<p>100 rows × 9 columns</p>\n",
       "</div>"
      ],
      "text/plain": [
       "        id version primary_category                 published  \\\n",
       "0   198041       1            cs.SE 2024-11-29 16:09:43+00:00   \n",
       "1   197131       1            cs.NE 2024-11-29 14:01:34+00:00   \n",
       "2   197101       1            cs.IR 2024-11-29 13:57:07+00:00   \n",
       "3   195541       1            cs.HC 2024-11-29 09:07:21+00:00   \n",
       "4   195391       1            cs.AI 2024-11-29 08:34:07+00:00   \n",
       "..     ...     ...              ...                       ...   \n",
       "95   29591       1            cs.IR 2024-11-05 09:58:36+00:00   \n",
       "96   28501       1            cs.CY 2024-11-05 06:44:15+00:00   \n",
       "97   28322       2            cs.CL 2024-11-05 06:11:17+00:00   \n",
       "98   26571       1            cs.CL 2024-11-04 22:45:52+00:00   \n",
       "99   26171       1            cs.CL 2024-11-04 21:12:08+00:00   \n",
       "\n",
       "                     updated  \\\n",
       "0  2024-11-29 16:09:43+00:00   \n",
       "1  2024-11-29 14:01:34+00:00   \n",
       "2  2024-11-29 13:57:07+00:00   \n",
       "3  2024-11-29 09:07:21+00:00   \n",
       "4  2024-11-29 08:34:07+00:00   \n",
       "..                       ...   \n",
       "95 2024-11-05 09:58:36+00:00   \n",
       "96 2024-11-05 06:44:15+00:00   \n",
       "97 2024-11-06 11:19:42+00:00   \n",
       "98 2024-11-04 22:45:52+00:00   \n",
       "99 2024-11-04 21:12:08+00:00   \n",
       "\n",
       "                                                title  \\\n",
       "0   Advanced System Integration: Analyzing OpenAPI...   \n",
       "1   CantorNet: A Sandbox for Testing Topological a...   \n",
       "2   Know Your RAG: Dataset Taxonomy and Generation...   \n",
       "3   Unimib Assistant: designing a student-friendly...   \n",
       "4   Knowledge Management for Automobile Failure An...   \n",
       "..                                                ...   \n",
       "95  HtmlRAG: HTML is Better Than Plain Text for Mo...   \n",
       "96  WASHtsApp -- A RAG-powered WhatsApp Chatbot fo...   \n",
       "97  PersianRAG: A Retrieval-Augmented Generation S...   \n",
       "98  Zebra-Llama: A Context-Aware Large Language Mo...   \n",
       "99  TeleOracle: Fine-Tuned Retrieval-Augmented Gen...   \n",
       "\n",
       "                                              summary  \\\n",
       "0     Integrating multiple (sub-)systems is essent...   \n",
       "1     Many natural phenomena are characterized by ...   \n",
       "2     Retrieval Augmented Generation (RAG) systems...   \n",
       "3     Natural language processing skills of Large ...   \n",
       "4     This paper presents a knowledge management s...   \n",
       "..                                                ...   \n",
       "95    Retrieval-Augmented Generation (RAG) has bee...   \n",
       "96    This paper introduces WASHtsApp, a WhatsApp-...   \n",
       "97    Retrieval augmented generation (RAG) models,...   \n",
       "98    Rare diseases present unique challenges in h...   \n",
       "99    The telecommunications industry's rapid evol...   \n",
       "\n",
       "                                              authors  \\\n",
       "0   [Robin D. Pesl, Jerin G. Mathew, Massimo Mecel...   \n",
       "1   [Michal Lewandowski, Hamid Eghbalzadeh, Bernha...   \n",
       "2   [Rafael Teixeira de Lima, Shubham Gupta, Cesar...   \n",
       "3   [Chiara Antico, Stefano Giordano, Cansu Koyutu...   \n",
       "4   [Yuta Ojima, Hiroki Sakaji, Tadashi Nakamura, ...   \n",
       "..                                                ...   \n",
       "95  [Jiejun Tan, Zhicheng Dou, Wen Wang, Mang Wang...   \n",
       "96  [Simon Kloker, Alex Cedric Luyima, Matthew Baz...   \n",
       "97  [Hossein Hosseini, Mohammad Sobhan Zare, Amir ...   \n",
       "98  [Karthik Soman, Andrew Langdon, Catalina Villo...   \n",
       "99  [Nouf Alabbasi, Omar Erak, Omar Alhussein, Ism...   \n",
       "\n",
       "                         link_article  \n",
       "0   http://arxiv.org/pdf/2411.19804v1  \n",
       "1   http://arxiv.org/pdf/2411.19713v1  \n",
       "2   http://arxiv.org/pdf/2411.19710v1  \n",
       "3   http://arxiv.org/pdf/2411.19554v1  \n",
       "4   http://arxiv.org/pdf/2411.19539v1  \n",
       "..                                ...  \n",
       "95  http://arxiv.org/pdf/2411.02959v1  \n",
       "96  http://arxiv.org/pdf/2411.02850v1  \n",
       "97  http://arxiv.org/pdf/2411.02832v2  \n",
       "98  http://arxiv.org/pdf/2411.02657v1  \n",
       "99  http://arxiv.org/pdf/2411.02617v1  \n",
       "\n",
       "[100 rows x 9 columns]"
      ]
     },
     "execution_count": 4,
     "metadata": {},
     "output_type": "execute_result"
    }
   ],
   "source": [
    "data_df = pd.DataFrame.from_dict(data_json)\n",
    "columns_to_convert = ['published', 'updated']\n",
    "data_df[columns_to_convert] = data_df[columns_to_convert].apply(pd.to_datetime)\n",
    "data_df.insert(0, \"id\", data_df[\"link_article\"].str.split(\".\").str[-1].str.replace(\"v*\",\"\", regex=True))\n",
    "data_df[\"id\"] = data_df[\"id\"].astype(\"int\")\n",
    "data_df.insert(1, \"version\", data_df[\"link_article\"].str.split(\".\").str[-1].str.split(\"v\").str[-1])\n",
    "data_df.info()\n",
    "data_df.sort_values(by=\"published\", ascending=False)"
   ]
  },
  {
   "cell_type": "markdown",
   "metadata": {},
   "source": [
    "## <span style=\"color:blue\">Towards Data Science</span>"
   ]
  },
  {
   "cell_type": "markdown",
   "metadata": {},
   "source": [
    "Texto de la sección X"
   ]
  },
  {
   "cell_type": "markdown",
   "metadata": {},
   "source": [
    "### <span style=\"color:#4CC9F0\">Realizar Consultas en Towards Data Science</span>"
   ]
  },
  {
   "cell_type": "markdown",
   "metadata": {},
   "source": [
    "Texto de la subsección X"
   ]
  },
  {
   "cell_type": "code",
   "execution_count": 5,
   "metadata": {},
   "outputs": [],
   "source": [
    "query = \"RAG\"\n",
    "url = f\"https://towardsdatascience.com/search?q={query}\"\n",
    "\n",
    "resp = requests.get(url)\n",
    "html_content = resp.text"
   ]
  },
  {
   "cell_type": "code",
   "execution_count": 17,
   "metadata": {},
   "outputs": [
    {
     "name": "stdout",
     "output_type": "stream",
     "text": [
      "{'ROOT_QUERY': {'__typename': 'Query', 'variantFlags': [{'__typename': 'VariantFlag', 'name': 'goliath_externalsearch_enable_comment_deindexation', 'valueType': {'__typename': 'VariantFlagBoolean', 'value': True}}, {'__typename': 'VariantFlag', 'name': 'ios_enable_verified_book_author', 'valueType': {'__typename': 'VariantFlagBoolean', 'value': True}}, {'__typename': 'VariantFlag', 'name': 'limit_user_follows', 'valueType': {'__typename': 'VariantFlagBoolean', 'value': True}}, {'__typename': 'VariantFlag', 'name': 'mobile_custom_app_icon', 'valueType': {'__typename': 'VariantFlagBoolean', 'value': True}}, {'__typename': 'VariantFlag', 'name': 'reader_fair_distribution_non_qp', 'valueType': {'__typename': 'VariantFlagBoolean', 'value': True}}, {'__typename': 'VariantFlag', 'name': 'browsable_stream_config_bucket', 'valueType': {'__typename': 'VariantFlagString', 'value': 'curated-topics'}}, {'__typename': 'VariantFlag', 'name': 'enable_braintree_apple_pay', 'valueType': {'__typename': 'VariantFlagBoolean', 'value': True}}, {'__typename': 'VariantFlag', 'name': 'can_receive_tips_v0', 'valueType': {'__typename': 'VariantFlagBoolean', 'value': True}}, {'__typename': 'VariantFlag', 'name': 'price_smoke_test_monthly', 'valueType': {'__typename': 'VariantFlagString', 'value': ''}}, {'__typename': 'VariantFlag', 'name': 'enable_author_cards', 'valueType': {'__typename': 'VariantFlagBoolean', 'value': True}}, {'__typename': 'VariantFlag', 'name': 'enable_ios_easy_resubscribe', 'valueType': {'__typename': 'VariantFlagBoolean', 'value': True}}, {'__typename': 'VariantFlag', 'name': 'enable_lite_archive_page', 'valueType': {'__typename': 'VariantFlagBoolean', 'value': True}}, {'__typename': 'VariantFlag', 'name': 'enable_ml_rank_rex_anno', 'valueType': {'__typename': 'VariantFlagBoolean', 'value': True}}, {'__typename': 'VariantFlag', 'name': 'android_enable_friend_links_postpage_banners', 'valueType': {'__typename': 'VariantFlagBoolean', 'value': True}}, {'__typename': 'VariantFlag', 'name': 'available_monthly_plan', 'valueType': {'__typename': 'VariantFlagString', 'value': '60e220181034'}}, {'__typename': 'VariantFlag', 'name': 'enable_lo_homepage', 'valueType': {'__typename': 'VariantFlagString', 'value': 'control'}}, {'__typename': 'VariantFlag', 'name': 'enable_rex_new_push_notification_endpoint', 'valueType': {'__typename': 'VariantFlagBoolean', 'value': True}}, {'__typename': 'VariantFlag', 'name': 'enable_auto_follow_on_subscribe', 'valueType': {'__typename': 'VariantFlagBoolean', 'value': True}}, {'__typename': 'VariantFlag', 'name': 'enable_marketing_emails', 'valueType': {'__typename': 'VariantFlagBoolean', 'value': True}}, {'__typename': 'VariantFlag', 'name': 'enable_new_manage_membership_flow', 'valueType': {'__typename': 'VariantFlagBoolean', 'value': True}}, {'__typename': 'VariantFlag', 'name': 'enable_post_bottom_responses_input', 'valueType': {'__typename': 'VariantFlagBoolean', 'value': True}}, {'__typename': 'VariantFlag', 'name': 'enable_legacy_feed_in_iceland', 'valueType': {'__typename': 'VariantFlagBoolean', 'value': True}}, {'__typename': 'VariantFlag', 'name': 'allow_signup', 'valueType': {'__typename': 'VariantFlagBoolean', 'value': True}}, {'__typename': 'VariantFlag', 'name': 'enable_recirc_model', 'valueType': {'__typename': 'VariantFlagBoolean', 'value': True}}, {'__typename': 'VariantFlag', 'name': 'enable_author_cards_byline', 'valueType': {'__typename': 'VariantFlagBoolean', 'value': True}}, {'__typename': 'VariantFlag', 'name': 'enable_speechify_ios', 'valueType': {'__typename': 'VariantFlagBoolean', 'value': True}}, {'__typename': 'VariantFlag', 'name': 'glyph_font_set', 'valueType': {'__typename': 'VariantFlagString', 'value': 'm2-unbound-source-serif-pro'}}, {'__typename': 'VariantFlag', 'name': 'enable_braintree_paypal', 'valueType': {'__typename': 'VariantFlagBoolean', 'value': True}}, {'__typename': 'VariantFlag', 'name': 'enable_import', 'valueType': {'__typename': 'VariantFlagBoolean', 'value': True}}, {'__typename': 'VariantFlag', 'name': 'allow_access', 'valueType': {'__typename': 'VariantFlagBoolean', 'value': True}}, {'__typename': 'VariantFlag', 'name': 'enable_boost_nia_v01', 'valueType': {'__typename': 'VariantFlagBoolean', 'value': True}}, {'__typename': 'VariantFlag', 'name': 'enable_braintree_integration', 'valueType': {'__typename': 'VariantFlagBoolean', 'value': True}}, {'__typename': 'VariantFlag', 'name': 'enable_tipping_v0_ios', 'valueType': {'__typename': 'VariantFlagBoolean', 'value': True}}, {'__typename': 'VariantFlag', 'name': 'enable_lite_server_upstream_deadlines', 'valueType': {'__typename': 'VariantFlagBoolean', 'value': True}}, {'__typename': 'VariantFlag', 'name': 'enable_premium_tier_badge', 'valueType': {'__typename': 'VariantFlagBoolean', 'value': True}}, {'__typename': 'VariantFlag', 'name': 'android_two_hour_refresh', 'valueType': {'__typename': 'VariantFlagBoolean', 'value': True}}, {'__typename': 'VariantFlag', 'name': 'enable_switch_plan_premium_tier', 'valueType': {'__typename': 'VariantFlagBoolean', 'value': True}}, {'__typename': 'VariantFlag', 'name': 'ios_remove_twitter_onboarding_step', 'valueType': {'__typename': 'VariantFlagBoolean', 'value': True}}, {'__typename': 'VariantFlag', 'name': 'ios_social_share_sheet', 'valueType': {'__typename': 'VariantFlagBoolean', 'value': True}}, {'__typename': 'VariantFlag', 'name': 'enable_pp_country_expansion', 'valueType': {'__typename': 'VariantFlagBoolean', 'value': True}}, {'__typename': 'VariantFlag', 'name': 'enable_sprig', 'valueType': {'__typename': 'VariantFlagBoolean', 'value': True}}, {'__typename': 'VariantFlag', 'name': 'enable_diversification_rex', 'valueType': {'__typename': 'VariantFlagBoolean', 'value': True}}, {'__typename': 'VariantFlag', 'name': 'ios_iceland_nux', 'valueType': {'__typename': 'VariantFlagBoolean', 'value': True}}, {'__typename': 'VariantFlag', 'name': 'enable_branch_io', 'valueType': {'__typename': 'VariantFlagBoolean', 'value': True}}, {'__typename': 'VariantFlag', 'name': 'enable_updated_pub_recs_ui', 'valueType': {'__typename': 'VariantFlagBoolean', 'value': True}}, {'__typename': 'VariantFlag', 'name': 'enable_recommended_publishers_query', 'valueType': {'__typename': 'VariantFlagBoolean', 'value': True}}, {'__typename': 'VariantFlag', 'name': 'enable_update_explore_wtf', 'valueType': {'__typename': 'VariantFlagBoolean', 'value': True}}, {'__typename': 'VariantFlag', 'name': 'enable_braintree_trial_membership', 'valueType': {'__typename': 'VariantFlagBoolean', 'value': True}}, {'__typename': 'VariantFlag', 'name': 'ios_enable_friend_links_creation', 'valueType': {'__typename': 'VariantFlagBoolean', 'value': True}}, {'__typename': 'VariantFlag', 'name': 'android_enable_editor_new_publishing_flow', 'valueType': {'__typename': 'VariantFlagBoolean', 'value': True}}, {'__typename': 'VariantFlag', 'name': 'enable_intrinsic_automatic_actions', 'valueType': {'__typename': 'VariantFlagBoolean', 'value': True}}, {'__typename': 'VariantFlag', 'name': 'enable_android_dynamic_programming_paywall', 'valueType': {'__typename': 'VariantFlagBoolean', 'value': True}}, {'__typename': 'VariantFlag', 'name': 'enable_update_topic_portals_wtf', 'valueType': {'__typename': 'VariantFlagBoolean', 'value': True}}, {'__typename': 'VariantFlag', 'name': 'enable_speechify_widget', 'valueType': {'__typename': 'VariantFlagBoolean', 'value': True}}, {'__typename': 'VariantFlag', 'name': 'enable_deprecate_legacy_providers_v3', 'valueType': {'__typename': 'VariantFlagBoolean', 'value': True}}, {'__typename': 'VariantFlag', 'name': 'enable_moc_load_processor_all_recs_surfaces', 'valueType': {'__typename': 'VariantFlagBoolean', 'value': True}}, {'__typename': 'VariantFlag', 'name': 'limit_post_referrers', 'valueType': {'__typename': 'VariantFlagBoolean', 'value': True}}, {'__typename': 'VariantFlag', 'name': 'reengagement_notification_duration', 'valueType': {'__typename': 'VariantFlagNumber', 'value': 3}}, {'__typename': 'VariantFlag', 'name': 'can_send_tips_v0', 'valueType': {'__typename': 'VariantFlagBoolean', 'value': True}}, {'__typename': 'VariantFlag', 'name': 'enable_automod', 'valueType': {'__typename': 'VariantFlagBoolean', 'value': True}}, {'__typename': 'VariantFlag', 'name': 'enable_susi_redesign_android', 'valueType': {'__typename': 'VariantFlagBoolean', 'value': True}}, {'__typename': 'VariantFlag', 'name': 'ios_enable_friend_links_postpage_banners', 'valueType': {'__typename': 'VariantFlagBoolean', 'value': True}}, {'__typename': 'VariantFlag', 'name': 'signin_services', 'valueType': {'__typename': 'VariantFlagString', 'value': 'twitter,facebook,google,email,google-fastidv,google-one-tap,apple'}}, {'__typename': 'VariantFlag', 'name': 'enable_android_dynamic_aspirational_paywall', 'valueType': {'__typename': 'VariantFlagBoolean', 'value': True}}, {'__typename': 'VariantFlag', 'name': 'enable_apple_webhook', 'valueType': {'__typename': 'VariantFlagBoolean', 'value': True}}, {'__typename': 'VariantFlag', 'name': 'enable_post_bottom_responses', 'valueType': {'__typename': 'VariantFlagBoolean', 'value': True}}, {'__typename': 'VariantFlag', 'name': 'enable_bayesian_average_pub_search', 'valueType': {'__typename': 'VariantFlagBoolean', 'value': True}}, {'__typename': 'VariantFlag', 'name': 'enable_premium_tier', 'valueType': {'__typename': 'VariantFlagBoolean', 'value': True}}, {'__typename': 'VariantFlag', 'name': 'available_annual_plan', 'valueType': {'__typename': 'VariantFlagString', 'value': '2c754bcc2995'}}, {'__typename': 'VariantFlag', 'name': 'enable_tipping_v0_android', 'valueType': {'__typename': 'VariantFlagBoolean', 'value': True}}, {'__typename': 'VariantFlag', 'name': 'enable_app_flirty_thirty', 'valueType': {'__typename': 'VariantFlagBoolean', 'value': True}}, {'__typename': 'VariantFlag', 'name': 'enable_lite_homepage', 'valueType': {'__typename': 'VariantFlagBoolean', 'value': True}}, {'__typename': 'VariantFlag', 'name': 'enable_mastodon_avatar_upload', 'valueType': {'__typename': 'VariantFlagBoolean', 'value': True}}, {'__typename': 'VariantFlag', 'name': 'enable_see_pronouns', 'valueType': {'__typename': 'VariantFlagBoolean', 'value': True}}, {'__typename': 'VariantFlag', 'name': 'skip_fs_cache_user_vals', 'valueType': {'__typename': 'VariantFlagBoolean', 'value': True}}, {'__typename': 'VariantFlag', 'name': 'enable_sharer_validate_post_share_key', 'valueType': {'__typename': 'VariantFlagBoolean', 'value': True}}, {'__typename': 'VariantFlag', 'name': 'enable_rex_reading_history', 'valueType': {'__typename': 'VariantFlagBoolean', 'value': True}}, {'__typename': 'VariantFlag', 'name': 'enable_pp_v4', 'valueType': {'__typename': 'VariantFlagBoolean', 'value': True}}, {'__typename': 'VariantFlag', 'name': 'enable_seamless_social_sharing', 'valueType': {'__typename': 'VariantFlagBoolean', 'value': True}}, {'__typename': 'VariantFlag', 'name': 'enable_abandoned_cart_promotion_email', 'valueType': {'__typename': 'VariantFlagBoolean', 'value': True}}, {'__typename': 'VariantFlag', 'name': 'enable_moc_load_processor_c', 'valueType': {'__typename': 'VariantFlagBoolean', 'value': True}}, {'__typename': 'VariantFlag', 'name': 'num_post_bottom_responses_to_show', 'valueType': {'__typename': 'VariantFlagString', 'value': '1'}}, {'__typename': 'VariantFlag', 'name': 'rex_generator_max_candidates', 'valueType': {'__typename': 'VariantFlagNumber', 'value': 1000}}, {'__typename': 'VariantFlag', 'name': 'enable_google_webhook', 'valueType': {'__typename': 'VariantFlagBoolean', 'value': True}}, {'__typename': 'VariantFlag', 'name': 'enable_ios_autorefresh', 'valueType': {'__typename': 'VariantFlagBoolean', 'value': True}}, {'__typename': 'VariantFlag', 'name': 'enable_android_miro_v2', 'valueType': {'__typename': 'VariantFlagBoolean', 'value': True}}, {'__typename': 'VariantFlag', 'name': 'enable_entities_to_follow_v2', 'valueType': {'__typename': 'VariantFlagBoolean', 'value': True}}, {'__typename': 'VariantFlag', 'name': 'enable_mastodon_for_members', 'valueType': {'__typename': 'VariantFlagBoolean', 'value': True}}, {'__typename': 'VariantFlag', 'name': 'enable_iceland_forced_android', 'valueType': {'__typename': 'VariantFlagBoolean', 'value': True}}, {'__typename': 'VariantFlag', 'name': 'enable_aurora_pub_follower_page', 'valueType': {'__typename': 'VariantFlagBoolean', 'value': True}}, {'__typename': 'VariantFlag', 'name': 'enable_tag_recs', 'valueType': {'__typename': 'VariantFlagBoolean', 'value': True}}, {'__typename': 'VariantFlag', 'name': 'enable_pre_pp_v4', 'valueType': {'__typename': 'VariantFlagBoolean', 'value': True}}, {'__typename': 'VariantFlag', 'name': 'enable_creator_welcome_email', 'valueType': {'__typename': 'VariantFlagBoolean', 'value': True}}, {'__typename': 'VariantFlag', 'name': 'enable_members_only_audio', 'valueType': {'__typename': 'VariantFlagBoolean', 'value': True}}, {'__typename': 'VariantFlag', 'name': 'enable_rito_upstream_deadlines', 'valueType': {'__typename': 'VariantFlagBoolean', 'value': True}}, {'__typename': 'VariantFlag', 'name': 'disable_partner_program_enrollment', 'valueType': {'__typename': 'VariantFlagBoolean', 'value': True}}, {'__typename': 'VariantFlag', 'name': 'enable_eventstats_event_processing', 'valueType': {'__typename': 'VariantFlagBoolean', 'value': True}}, {'__typename': 'VariantFlag', 'name': 'enable_newsletter_lo_flow_custom_domains', 'valueType': {'__typename': 'VariantFlagBoolean', 'value': True}}, {'__typename': 'VariantFlag', 'name': 'android_rating_prompt_stories_read_threshold', 'valueType': {'__typename': 'VariantFlagNumber', 'value': 2}}, {'__typename': 'VariantFlag', 'name': 'enable_braintree_google_pay', 'valueType': {'__typename': 'VariantFlagBoolean', 'value': True}}, {'__typename': 'VariantFlag', 'name': 'android_enable_syntax_highlight', 'valueType': {'__typename': 'VariantFlagBoolean', 'value': True}}, {'__typename': 'VariantFlag', 'name': 'enable_simplified_digest_v2_b', 'valueType': {'__typename': 'VariantFlagBoolean', 'value': True}}, {'__typename': 'VariantFlag', 'name': 'enable_susi_redesign_ios', 'valueType': {'__typename': 'VariantFlagBoolean', 'value': True}}, {'__typename': 'VariantFlag', 'name': 'ios_display_paywall_after_onboarding', 'valueType': {'__typename': 'VariantFlagBoolean', 'value': True}}, {'__typename': 'VariantFlag', 'name': 'android_enable_image_sharer', 'valueType': {'__typename': 'VariantFlagBoolean', 'value': True}}, {'__typename': 'VariantFlag', 'name': 'enable_ios_offline_reading', 'valueType': {'__typename': 'VariantFlagBoolean', 'value': True}}, {'__typename': 'VariantFlag', 'name': 'enable_maim_the_meter', 'valueType': {'__typename': 'VariantFlagBoolean', 'value': True}}, {'__typename': 'VariantFlag', 'name': 'enable_recaptcha_enterprise', 'valueType': {'__typename': 'VariantFlagBoolean', 'value': True}}, {'__typename': 'VariantFlag', 'name': 'enable_verifications_service', 'valueType': {'__typename': 'VariantFlagBoolean', 'value': True}}, {'__typename': 'VariantFlag', 'name': 'available_monthly_premium_plan', 'valueType': {'__typename': 'VariantFlagString', 'value': '12a660186432'}}, {'__typename': 'VariantFlag', 'name': 'price_smoke_test_yearly', 'valueType': {'__typename': 'VariantFlagString', 'value': ''}}, {'__typename': 'VariantFlag', 'name': 'enable_starspace', 'valueType': {'__typename': 'VariantFlagBoolean', 'value': True}}, {'__typename': 'VariantFlag', 'name': 'enable_google_one_tap', 'valueType': {'__typename': 'VariantFlagBoolean', 'value': True}}, {'__typename': 'VariantFlag', 'name': 'android_enable_lists_v2', 'valueType': {'__typename': 'VariantFlagBoolean', 'value': True}}, {'__typename': 'VariantFlag', 'name': 'enable_sharer_create_post_share_key', 'valueType': {'__typename': 'VariantFlagBoolean', 'value': True}}, {'__typename': 'VariantFlag', 'name': 'signup_services', 'valueType': {'__typename': 'VariantFlagString', 'value': 'twitter,facebook,google,email,google-fastidv,google-one-tap,apple'}}, {'__typename': 'VariantFlag', 'name': 'textshots_userid', 'valueType': {'__typename': 'VariantFlagString', 'value': ''}}, {'__typename': 'VariantFlag', 'name': 'enable_explicit_signals_updated_post_previews', 'valueType': {'__typename': 'VariantFlagBoolean', 'value': True}}, {'__typename': 'VariantFlag', 'name': 'enable_ios_dynamic_paywall_aspiriational', 'valueType': {'__typename': 'VariantFlagBoolean', 'value': True}}, {'__typename': 'VariantFlag', 'name': 'enable_apple_sign_in', 'valueType': {'__typename': 'VariantFlagBoolean', 'value': True}}, {'__typename': 'VariantFlag', 'name': 'enable_conversion_model_v2', 'valueType': {'__typename': 'VariantFlagString', 'value': 'group_2'}}, {'__typename': 'VariantFlag', 'name': 'enable_new_stripe_customers', 'valueType': {'__typename': 'VariantFlagBoolean', 'value': True}}, {'__typename': 'VariantFlag', 'name': 'enable_explicit_signals', 'valueType': {'__typename': 'VariantFlagBoolean', 'value': True}}, {'__typename': 'VariantFlag', 'name': 'enable_rex_aggregator_v2', 'valueType': {'__typename': 'VariantFlagBoolean', 'value': True}}, {'__typename': 'VariantFlag', 'name': 'available_annual_premium_plan', 'valueType': {'__typename': 'VariantFlagString', 'value': '4a442ace1476'}}, {'__typename': 'VariantFlag', 'name': 'enable_configure_pronouns', 'valueType': {'__typename': 'VariantFlagBoolean', 'value': True}}, {'__typename': 'VariantFlag', 'name': 'enable_medium2_kbfd', 'valueType': {'__typename': 'VariantFlagBoolean', 'value': True}}, {'__typename': 'VariantFlag', 'name': 'enable_ranker_v10', 'valueType': {'__typename': 'VariantFlagString', 'value': 'control'}}, {'__typename': 'VariantFlag', 'name': 'enable_tick_landing_page', 'valueType': {'__typename': 'VariantFlagBoolean', 'value': True}}, {'__typename': 'VariantFlag', 'name': 'enable_braintree_client', 'valueType': {'__typename': 'VariantFlagBoolean', 'value': True}}, {'__typename': 'VariantFlag', 'name': 'enable_lite_response_markup', 'valueType': {'__typename': 'VariantFlagBoolean', 'value': True}}, {'__typename': 'VariantFlag', 'name': 'ios_in_app_free_trial', 'valueType': {'__typename': 'VariantFlagBoolean', 'value': True}}, {'__typename': 'VariantFlag', 'name': 'enable_lite_continue_this_thread', 'valueType': {'__typename': 'VariantFlagBoolean', 'value': True}}, {'__typename': 'VariantFlag', 'name': 'enable_publication_hierarchy_web', 'valueType': {'__typename': 'VariantFlagBoolean', 'value': True}}, {'__typename': 'VariantFlag', 'name': 'ios_enable_home_post_menu', 'valueType': {'__typename': 'VariantFlagBoolean', 'value': True}}, {'__typename': 'VariantFlag', 'name': 'android_enable_topic_portals', 'valueType': {'__typename': 'VariantFlagBoolean', 'value': True}}, {'__typename': 'VariantFlag', 'name': 'enable_braintree_webhook', 'valueType': {'__typename': 'VariantFlagBoolean', 'value': True}}, {'__typename': 'VariantFlag', 'name': 'enable_ios_dynamic_paywall_programming', 'valueType': {'__typename': 'VariantFlagBoolean', 'value': True}}, {'__typename': 'VariantFlag', 'name': 'allow_test_auth', 'valueType': {'__typename': 'VariantFlagString', 'value': 'disallow'}}, {'__typename': 'VariantFlag', 'name': 'enable_moc_load_processor_first_story', 'valueType': {'__typename': 'VariantFlagBoolean', 'value': True}}, {'__typename': 'VariantFlag', 'name': 'enable_bg_post_post', 'valueType': {'__typename': 'VariantFlagBoolean', 'value': True}}, {'__typename': 'VariantFlag', 'name': 'coronavirus_topic_recirc', 'valueType': {'__typename': 'VariantFlagBoolean', 'value': True}}, {'__typename': 'VariantFlag', 'name': 'onboarding_tags_from_top_views', 'valueType': {'__typename': 'VariantFlagBoolean', 'value': True}}, {'__typename': 'VariantFlag', 'name': 'redefined_top_posts', 'valueType': {'__typename': 'VariantFlagBoolean', 'value': True}}, {'__typename': 'VariantFlag', 'name': 'enable_mastodon_for_members_username_selection', 'valueType': {'__typename': 'VariantFlagBoolean', 'value': True}}, {'__typename': 'VariantFlag', 'name': 'enable_conversion_ranker_v2', 'valueType': {'__typename': 'VariantFlagString', 'value': 'control'}}, {'__typename': 'VariantFlag', 'name': 'enable_tribute_landing_page', 'valueType': {'__typename': 'VariantFlagBoolean', 'value': True}}, {'__typename': 'VariantFlag', 'name': 'android_enable_friend_links_creation', 'valueType': {'__typename': 'VariantFlagBoolean', 'value': True}}, {'__typename': 'VariantFlag', 'name': 'enable_group_gifting', 'valueType': {'__typename': 'VariantFlagBoolean', 'value': True}}, {'__typename': 'VariantFlag', 'name': 'enable_pill_based_home_feed', 'valueType': {'__typename': 'VariantFlagBoolean', 'value': True}}, {'__typename': 'VariantFlag', 'name': 'ios_enable_lock_responses', 'valueType': {'__typename': 'VariantFlagBoolean', 'value': True}}, {'__typename': 'VariantFlag', 'name': 'enable_android_offline_reading', 'valueType': {'__typename': 'VariantFlagBoolean', 'value': True}}, {'__typename': 'VariantFlag', 'name': 'enable_footer_app_buttons', 'valueType': {'__typename': 'VariantFlagBoolean', 'value': True}}, {'__typename': 'VariantFlag', 'name': 'enable_android_verified_author', 'valueType': {'__typename': 'VariantFlagBoolean', 'value': True}}, {'__typename': 'VariantFlag', 'name': 'enable_cache_less_following_feed', 'valueType': {'__typename': 'VariantFlagBoolean', 'value': True}}], 'viewer': None, 'collectionByDomainOrSlug({\"domainOrSlug\":\"towardsdatascience.com\"})': {'__typename': 'Collection', 'name': 'Towards Data Science'}, 'searchInCollection({\"domainOrSlug\":\"towardsdatascience.com\",\"query\":\"RAG\"})': {'__ref': 'Search:{}'}}, 'User:a67b10ad1762': {'__typename': 'User', 'id': 'a67b10ad1762', 'name': 'Dr. Leon Eversberg', 'username': 'leoneversberg', 'imageId': '1*s0Z_EQ6__8CxvIXDd2tYGg.png', 'mediumMemberAt': 1704885188000, 'customDomainState': None, 'hasSubdomain': False, 'membership': {'__ref': 'Membership:7d4d4e4cb414'}, 'verifications': {'__typename': 'VerifiedInfo', 'isBookAuthor': False}, 'bio': '🤖 Machine Learning PhD | AI Software Engineer | Research & Development Specialist | Data Scientist | LLM Enthusiast', 'viewerEdge': {'__ref': 'UserViewerEdge:userId:a67b10ad1762-viewerId:lo_7d320bce56a5'}}, 'ImageMetadata:1*CJe3891yB1A1mzMdqemkdg.jpeg': {'__typename': 'ImageMetadata', 'id': '1*CJe3891yB1A1mzMdqemkdg.jpeg'}, 'ImageMetadata:1*cFFKn8rFH4ZndmaYeAs6iQ.png': {'__typename': 'ImageMetadata', 'id': '1*cFFKn8rFH4ZndmaYeAs6iQ.png'}, 'Collection:7f60cf5620c9': {'__typename': 'Collection', 'id': '7f60cf5620c9', 'name': 'Towards Data Science', 'domain': 'towardsdatascience.com', 'slug': 'towards-data-science', 'avatar': {'__ref': 'ImageMetadata:1*CJe3891yB1A1mzMdqemkdg.jpeg'}, 'logo': {'__ref': 'ImageMetadata:1*cFFKn8rFH4ZndmaYeAs6iQ.png'}, 'navItems': [{'__typename': 'NavItem', 'url': 'https://towardsdatascience.com/latest'}, {'__typename': 'NavItem', 'url': 'https://towardsdatascience.com/editors-picks/home'}, {'__typename': 'NavItem', 'url': 'https://towardsdatascience.com/deep-dives/home'}, {'__typename': 'NavItem', 'url': 'https://towardsdatascience.com/about-us/home'}, {'__typename': 'NavItem', 'url': 'https://towardsdatascience.com/questions-96667b06af5'}, {'__typename': 'NavItem', 'url': 'https://medium.com/towards-data-science/newsletter'}], 'description': 'Your home for data science and AI. The world’s leading publication for data science, data analytics, data engineering, machine learning, and artificial intelligence professionals.', 'subscriberCount': 771479, 'customStyleSheet': None, 'viewerEdge': {'__ref': 'CollectionViewerEdge:collectionId:7f60cf5620c9-viewerId:lo_7d320bce56a5'}}, 'Membership:7d4d4e4cb414': {'__typename': 'Membership', 'tier': 'MEMBER', 'id': '7d4d4e4cb414'}, 'Post:426a2e0dd82b': {'__typename': 'Post', 'id': '426a2e0dd82b', 'algoliaObjectId': '426a2e0dd82b', 'title': 'Improved RAG Document Processing With Markdown', 'createdAt': 1731832949033, 'readingTime': 9.282075471698112, 'visibility': 'LOCKED', 'creator': {'__ref': 'User:a67b10ad1762'}, 'collection': {'__ref': 'Collection:7f60cf5620c9'}, 'isSeries': False, 'mediumUrl': 'https://towardsdatascience.com/improved-rag-document-processing-with-markdown-426a2e0dd82b', 'sequence': None, 'uniqueSlug': 'improved-rag-document-processing-with-markdown-426a2e0dd82b', 'isLocked': True, 'firstPublishedAt': 1732024914442, 'latestPublishedAt': 1732024914442, 'pinnedAt': 0, 'previewImage': {'__ref': 'ImageMetadata:0*jrOt6sJucS-m5Yce'}, 'extendedPreviewContent': {'__typename': 'PreviewContent', 'subtitle': 'How to read and convert PDFs to Markdown for better RAG results with LLMs', 'isFullContent': False}, 'isPublished': True, 'isLimitedState': False, 'allowResponses': True, 'postResponses': {'__typename': 'PostResponses', 'count': 6}, 'clapCount': 640}, 'Post:140daa3cbe71': {'__typename': 'Post', 'id': '140daa3cbe71', 'algoliaObjectId': '140daa3cbe71', 'title': 'How to Create a RAG Evaluation Dataset From Documents', 'createdAt': 1730046108966, 'readingTime': 11.58805031446541, 'visibility': 'LOCKED', 'creator': {'__ref': 'User:a67b10ad1762'}, 'collection': {'__ref': 'Collection:7f60cf5620c9'}, 'isSeries': False, 'mediumUrl': 'https://towardsdatascience.com/how-to-create-a-rag-evaluation-dataset-from-documents-140daa3cbe71', 'sequence': None, 'uniqueSlug': 'how-to-create-a-rag-evaluation-dataset-from-documents-140daa3cbe71', 'isLocked': True, 'firstPublishedAt': 1730668313345, 'latestPublishedAt': 1730668313345, 'pinnedAt': 0, 'previewImage': {'__ref': 'ImageMetadata:1*aYb8AgzctiTtUYofqQq9ug.png'}, 'extendedPreviewContent': {'__typename': 'PreviewContent', 'subtitle': 'Automatically create domain-specific datasets in any language using LLMs', 'isFullContent': False}, 'isPublished': True, 'isLimitedState': False, 'allowResponses': True, 'postResponses': {'__typename': 'PostResponses', 'count': 7}, 'clapCount': 649}, 'User:14cfcbfbf82b': {'__typename': 'User', 'id': '14cfcbfbf82b', 'name': 'Vignesh Baskaran', 'username': 'vignesh865', 'imageId': '1*tYzAvHGMfGJdeXUfQiR-HQ.jpeg', 'mediumMemberAt': 1702648088000, 'customDomainState': None, 'hasSubdomain': False, 'membership': {'__ref': 'Membership:166c201a4f39'}, 'verifications': {'__typename': 'VerifiedInfo', 'isBookAuthor': False}, 'bio': 'Senior Technology Associate - GenAI Engineer @ Synechron', 'viewerEdge': {'__ref': 'UserViewerEdge:userId:14cfcbfbf82b-viewerId:lo_7d320bce56a5'}}, 'Membership:166c201a4f39': {'__typename': 'Membership', 'tier': 'MEMBER', 'id': '166c201a4f39'}, 'Post:5d4a8f583f32': {'__typename': 'Post', 'id': '5d4a8f583f32', 'algoliaObjectId': '5d4a8f583f32', 'title': 'Improve Your RAG Context Recall by 95% with an Adapted Embedding Model.', 'createdAt': 1728396662366, 'readingTime': 9.329245283018869, 'visibility': 'LOCKED', 'creator': {'__ref': 'User:14cfcbfbf82b'}, 'collection': {'__ref': 'Collection:7f60cf5620c9'}, 'isSeries': False, 'mediumUrl': 'https://towardsdatascience.com/improve-your-rag-context-recall-by-40-with-an-adapted-embedding-model-5d4a8f583f32', 'sequence': None, 'uniqueSlug': 'improve-your-rag-context-recall-by-40-with-an-adapted-embedding-model-5d4a8f583f32', 'isLocked': True, 'firstPublishedAt': 1728700207453, 'latestPublishedAt': 1729037127073, 'pinnedAt': 0, 'previewImage': {'__ref': 'ImageMetadata:1*wO9_v_1pUsZKsy6nktd0ug.png'}, 'extendedPreviewContent': {'__typename': 'PreviewContent', 'subtitle': 'Step by Step Model Adaptation Code and Results Attached.', 'isFullContent': False}, 'isPublished': True, 'isLimitedState': False, 'allowResponses': True, 'postResponses': {'__typename': 'PostResponses', 'count': 11}, 'clapCount': 847}, 'Search:{}': {'__typename': 'Search', 'tags-RAG(limit:6)(algoliaOptions:analyticsTags:web-right-column,clickAnalytics:true,numericFilters:postCount>=1)(searchInCollection:true)': {'__typename': 'SearchTag', 'items': [], 'queryId': '54851f67f7642e56338ac64c0e9fc374'}, 'people-RAG(limit:3)(algoliaOptions:analyticsTags:web-right-column,clickAnalytics:true,numericFilters:peopleType!=2)(searchInCollection:true)': {'__typename': 'SearchPeople', 'items': [], 'queryId': 'f4e4a4ae171aa89db0f0f1c1aa5a4434'}, 'collections-RAG(limit:3)(algoliaOptions:analyticsTags:web-right-column,clickAnalytics:true)(searchInCollection:true)': {'__typename': 'SearchCollection', 'items': [], 'queryId': '8de90158f89c3e7dad54fc26ce896e73'}, 'posts-RAG(limit:3)(algoliaOptions:analyticsTags:web-right-column,clickAnalytics:true)(searchInCollection:true)': {'__typename': 'SearchPost', 'items': [{'__ref': 'Post:426a2e0dd82b'}, {'__ref': 'Post:140daa3cbe71'}, {'__ref': 'Post:5d4a8f583f32'}], 'queryId': 'b1991d3e2de60d8cf2fef3e5a0a6c386'}, 'posts-RAG(limit:10)(algoliaOptions:analyticsTags:web-main-content,clickAnalytics:true)(searchInCollection:true)': {'__typename': 'SearchPost', 'pagingInfo': {'__typename': 'Paging', 'next': {'__typename': 'PageParams', 'limit': 10, 'page': 1}}, 'items': [{'__ref': 'Post:426a2e0dd82b'}, {'__ref': 'Post:140daa3cbe71'}, {'__ref': 'Post:5d4a8f583f32'}, {'__ref': 'Post:31bd45d195c8'}, {'__ref': 'Post:c4fbcf8718b8'}, {'__ref': 'Post:bfc03f29ede3'}, {'__ref': 'Post:fdc6f6c2aaec'}, {'__ref': 'Post:60bb69a22759'}, {'__ref': 'Post:3fe71fb4a98e'}, {'__ref': 'Post:6a03c555f063'}], 'queryId': '0806fafd1228aa1c133025cf2cd4a9ff'}}, 'ImageMetadata:0*jrOt6sJucS-m5Yce': {'__typename': 'ImageMetadata', 'id': '0*jrOt6sJucS-m5Yce', 'focusPercentX': None, 'focusPercentY': None, 'alt': None}, 'UserViewerEdge:userId:a67b10ad1762-viewerId:lo_7d320bce56a5': {'__typename': 'UserViewerEdge', 'id': 'userId:a67b10ad1762-viewerId:lo_7d320bce56a5', 'isMuting': False}, 'CollectionViewerEdge:collectionId:7f60cf5620c9-viewerId:lo_7d320bce56a5': {'__typename': 'CollectionViewerEdge', 'id': 'collectionId:7f60cf5620c9-viewerId:lo_7d320bce56a5', 'isMuting': False}, 'ImageMetadata:1*aYb8AgzctiTtUYofqQq9ug.png': {'__typename': 'ImageMetadata', 'id': '1*aYb8AgzctiTtUYofqQq9ug.png', 'focusPercentX': None, 'focusPercentY': None, 'alt': 'The HuggingFace dataset card showing an example RAG evaluation dataset that we generated.'}, 'ImageMetadata:1*wO9_v_1pUsZKsy6nktd0ug.png': {'__typename': 'ImageMetadata', 'id': '1*wO9_v_1pUsZKsy6nktd0ug.png', 'focusPercentX': None, 'focusPercentY': None, 'alt': None}, 'UserViewerEdge:userId:14cfcbfbf82b-viewerId:lo_7d320bce56a5': {'__typename': 'UserViewerEdge', 'id': 'userId:14cfcbfbf82b-viewerId:lo_7d320bce56a5', 'isMuting': False}, 'ImageMetadata:0*33pjuHPUAC-01Hik': {'__typename': 'ImageMetadata', 'id': '0*33pjuHPUAC-01Hik', 'focusPercentX': None, 'focusPercentY': None, 'alt': None}, 'User:122376ea00fe': {'__typename': 'User', 'id': '122376ea00fe', 'name': 'Anurag Bhagat', 'viewerEdge': {'__ref': 'UserViewerEdge:userId:122376ea00fe-viewerId:lo_7d320bce56a5'}, 'verifications': {'__typename': 'VerifiedInfo', 'isBookAuthor': False}, 'customDomainState': None, 'hasSubdomain': False, 'username': 'bhagatanurag03', 'bio': 'AI Leader | AWS | McKinsey | IITK | All views are my own. https://www.linkedin.com/in/anuragbhagat/ | https://x.com/B_H_A_G_A_T', 'imageId': '1*8uoJyDv2KSQC_czPcsr8cA.jpeg', 'membership': {'__ref': 'Membership:28e69130-314d-4888-aa86-020c19aae8ee'}}, 'UserViewerEdge:userId:122376ea00fe-viewerId:lo_7d320bce56a5': {'__typename': 'UserViewerEdge', 'id': 'userId:122376ea00fe-viewerId:lo_7d320bce56a5', 'isMuting': False}, 'Membership:28e69130-314d-4888-aa86-020c19aae8ee': {'__typename': 'Membership', 'tier': 'MEMBER', 'id': '28e69130-314d-4888-aa86-020c19aae8ee'}, 'Post:31bd45d195c8': {'__typename': 'Post', 'id': '31bd45d195c8', 'algoliaObjectId': '31bd45d195c8', 'title': 'Scaling RAG from POC to Production', 'previewImage': {'__ref': 'ImageMetadata:0*33pjuHPUAC-01Hik'}, 'extendedPreviewContent': {'__typename': 'PreviewContent', 'subtitle': 'Common challenges and architectural components to enable scaling', 'isFullContent': False}, 'creator': {'__ref': 'User:122376ea00fe'}, 'isPublished': True, 'mediumUrl': 'https://towardsdatascience.com/scaling-rag-from-poc-to-production-31bd45d195c8', 'collection': {'__ref': 'Collection:7f60cf5620c9'}, 'isLimitedState': False, 'allowResponses': True, 'postResponses': {'__typename': 'PostResponses', 'count': 7}, 'visibility': 'PUBLIC', 'clapCount': 644, 'isLocked': False, 'firstPublishedAt': 1728326456004, 'latestPublishedAt': 1728420038657, 'pinnedAt': 0, 'readingTime': 6.833018867924529, 'sequence': None, 'isSeries': False, 'uniqueSlug': 'scaling-rag-from-poc-to-production-31bd45d195c8'}, 'ImageMetadata:1*duvogS-pcVfvBJOs1S1Tgg.png': {'__typename': 'ImageMetadata', 'id': '1*duvogS-pcVfvBJOs1S1Tgg.png', 'focusPercentX': None, 'focusPercentY': None, 'alt': None}, 'User:d11c06040ced': {'__typename': 'User', 'id': 'd11c06040ced', 'name': 'Abhinav Kimothi', 'viewerEdge': {'__ref': 'UserViewerEdge:userId:d11c06040ced-viewerId:lo_7d320bce56a5'}, 'verifications': {'__typename': 'VerifiedInfo', 'isBookAuthor': True}, 'customDomainState': None, 'hasSubdomain': False, 'username': 'abhinavkimothi', 'bio': 'Co-founder and Head of AI @ Yarnit.app || Author : A Simple Guide to RAG (https://mng.bz/jXJ9) || AIML since 2007 || BITS-Pilani, ISB-Hyderabad', 'imageId': '1*NXr2cLlsDxBc665b7SEKeA.png', 'membership': {'__ref': 'Membership:a4beb70d87bf'}}, 'UserViewerEdge:userId:d11c06040ced-viewerId:lo_7d320bce56a5': {'__typename': 'UserViewerEdge', 'id': 'userId:d11c06040ced-viewerId:lo_7d320bce56a5', 'isMuting': False}, 'Membership:a4beb70d87bf': {'__typename': 'Membership', 'tier': 'MEMBER', 'id': 'a4beb70d87bf'}, 'Post:c4fbcf8718b8': {'__typename': 'Post', 'id': 'c4fbcf8718b8', 'algoliaObjectId': 'c4fbcf8718b8', 'title': 'Beyond Naïve RAG: Advanced Techniques for Building Smarter and Reliable AI Systems', 'previewImage': {'__ref': 'ImageMetadata:1*duvogS-pcVfvBJOs1S1Tgg.png'}, 'extendedPreviewContent': {'__typename': 'PreviewContent', 'subtitle': 'A deep dive into advanced indexing, pre-retrieval, retrieval, and post-retrieval techniques to enhance RAG performance', 'isFullContent': False}, 'creator': {'__ref': 'User:d11c06040ced'}, 'isPublished': True, 'mediumUrl': 'https://towardsdatascience.com/beyond-na%C3%AFve-rag-advanced-techniques-for-building-smarter-and-reliable-ai-systems-c4fbcf8718b8', 'collection': {'__ref': 'Collection:7f60cf5620c9'}, 'isLimitedState': False, 'allowResponses': True, 'postResponses': {'__typename': 'PostResponses', 'count': 4}, 'visibility': 'LOCKED', 'clapCount': 662, 'isLocked': True, 'firstPublishedAt': 1729036985499, 'latestPublishedAt': 1729036985499, 'pinnedAt': 0, 'readingTime': 26.74245283018868, 'sequence': None, 'isSeries': False, 'uniqueSlug': 'beyond-naïve-rag-advanced-techniques-for-building-smarter-and-reliable-ai-systems-c4fbcf8718b8'}, 'ImageMetadata:1*hIAGB1CL06BpXyYLZm09UQ.png': {'__typename': 'ImageMetadata', 'id': '1*hIAGB1CL06BpXyYLZm09UQ.png', 'focusPercentX': None, 'focusPercentY': None, 'alt': None}, 'Post:bfc03f29ede3': {'__typename': 'Post', 'id': 'bfc03f29ede3', 'algoliaObjectId': 'bfc03f29ede3', 'title': 'Stop Guessing and Measure Your RAG System to Drive Real Improvements', 'previewImage': {'__ref': 'ImageMetadata:1*hIAGB1CL06BpXyYLZm09UQ.png'}, 'extendedPreviewContent': {'__typename': 'PreviewContent', 'subtitle': 'Key metrics and techniques to elevate your retrieval-augmented generation performance', 'isFullContent': False}, 'creator': {'__ref': 'User:d11c06040ced'}, 'isPublished': True, 'mediumUrl': 'https://towardsdatascience.com/stop-guessing-and-measure-your-rag-system-to-drive-real-improvements-bfc03f29ede3', 'collection': {'__ref': 'Collection:7f60cf5620c9'}, 'isLimitedState': False, 'allowResponses': True, 'postResponses': {'__typename': 'PostResponses', 'count': 11}, 'visibility': 'LOCKED', 'clapCount': 686, 'isLocked': True, 'firstPublishedAt': 1728017567236, 'latestPublishedAt': 1728017567236, 'pinnedAt': 0, 'readingTime': 23.78490566037736, 'sequence': None, 'isSeries': False, 'uniqueSlug': 'stop-guessing-and-measure-your-rag-system-to-drive-real-improvements-bfc03f29ede3'}, 'ImageMetadata:1*4T9GoHUA2jZwlrATD_7vKw.png': {'__typename': 'ImageMetadata', 'id': '1*4T9GoHUA2jZwlrATD_7vKw.png', 'focusPercentX': None, 'focusPercentY': None, 'alt': None}, 'User:e66e65937063': {'__typename': 'User', 'id': 'e66e65937063', 'name': 'Shanmukha Ranganath', 'viewerEdge': {'__ref': 'UserViewerEdge:userId:e66e65937063-viewerId:lo_7d320bce56a5'}, 'verifications': {'__typename': 'VerifiedInfo', 'isBookAuthor': False}, 'customDomainState': {'__typename': 'CustomDomainState', 'live': {'__typename': 'CustomDomain', 'domain': 'memsranga.com'}}, 'hasSubdomain': False, 'username': 'memsranga', 'bio': '[Shan-mu-kha] Tinkerer of code. Engineer at LinkedIn with 9+ years experience in exploring and coding various stacks', 'imageId': '1*Ea-PGdRQUP5MwrzY9dF_1g.png', 'membership': {'__ref': 'Membership:d725c71c6f21'}}, 'UserViewerEdge:userId:e66e65937063-viewerId:lo_7d320bce56a5': {'__typename': 'UserViewerEdge', 'id': 'userId:e66e65937063-viewerId:lo_7d320bce56a5', 'isMuting': False}, 'Membership:d725c71c6f21': {'__typename': 'Membership', 'tier': 'MEMBER', 'id': 'd725c71c6f21'}, 'Post:fdc6f6c2aaec': {'__typename': 'Post', 'id': 'fdc6f6c2aaec', 'algoliaObjectId': 'fdc6f6c2aaec', 'title': 'RAG 101: Chunking Strategies', 'previewImage': {'__ref': 'ImageMetadata:1*4T9GoHUA2jZwlrATD_7vKw.png'}, 'extendedPreviewContent': {'__typename': 'PreviewContent', 'subtitle': 'Why, When, and How to chunk for enhanced RAG. Build intuition to develop chunking strategies.', 'isFullContent': False}, 'creator': {'__ref': 'User:e66e65937063'}, 'isPublished': True, 'mediumUrl': 'https://towardsdatascience.com/rag-101-chunking-strategies-fdc6f6c2aaec', 'collection': {'__ref': 'Collection:7f60cf5620c9'}, 'isLimitedState': False, 'allowResponses': True, 'postResponses': {'__typename': 'PostResponses', 'count': 1}, 'visibility': 'PUBLIC', 'clapCount': 484, 'isLocked': False, 'firstPublishedAt': 1728126124775, 'latestPublishedAt': 1728126124775, 'pinnedAt': 0, 'readingTime': 11.049056603773584, 'sequence': None, 'isSeries': False, 'uniqueSlug': 'rag-101-chunking-strategies-fdc6f6c2aaec'}, 'ImageMetadata:1*hrwv6zmmgogVNpQQlOIwIA.png': {'__typename': 'ImageMetadata', 'id': '1*hrwv6zmmgogVNpQQlOIwIA.png', 'focusPercentX': None, 'focusPercentY': None, 'alt': None}, 'User:2c634ce75a74': {'__typename': 'User', 'id': '2c634ce75a74', 'name': 'Steve Hedden', 'viewerEdge': {'__ref': 'UserViewerEdge:userId:2c634ce75a74-viewerId:lo_7d320bce56a5'}, 'verifications': {'__typename': 'VerifiedInfo', 'isBookAuthor': False}, 'customDomainState': {'__typename': 'CustomDomainState', 'live': {'__typename': 'CustomDomain', 'domain': 'stevehedden.medium.com'}}, 'hasSubdomain': True, 'username': 'stevehedden', 'bio': 'Product management, international development, data science and network analysis.', 'imageId': '1*O80NSnmxNIhFhPEm9Kd0cA.png', 'membership': {'__ref': 'Membership:25c299cf-411b-41ea-89a2-9e8d35801335'}}, 'UserViewerEdge:userId:2c634ce75a74-viewerId:lo_7d320bce56a5': {'__typename': 'UserViewerEdge', 'id': 'userId:2c634ce75a74-viewerId:lo_7d320bce56a5', 'isMuting': False}, 'Membership:25c299cf-411b-41ea-89a2-9e8d35801335': {'__typename': 'Membership', 'tier': 'MEMBER', 'id': '25c299cf-411b-41ea-89a2-9e8d35801335'}, 'Post:60bb69a22759': {'__typename': 'Post', 'id': '60bb69a22759', 'algoliaObjectId': '60bb69a22759', 'title': 'How to Implement Graph RAG Using Knowledge Graphs and Vector Databases', 'previewImage': {'__ref': 'ImageMetadata:1*hrwv6zmmgogVNpQQlOIwIA.png'}, 'extendedPreviewContent': {'__typename': 'PreviewContent', 'subtitle': 'A Step-by-Step Tutorial on Implementing Retrieval-Augmented Generation (RAG), Semantic Search, and Recommendations', 'isFullContent': False}, 'creator': {'__ref': 'User:2c634ce75a74'}, 'isPublished': True, 'mediumUrl': 'https://towardsdatascience.com/how-to-implement-graph-rag-using-knowledge-graphs-and-vector-databases-60bb69a22759', 'collection': {'__ref': 'Collection:7f60cf5620c9'}, 'isLimitedState': False, 'allowResponses': True, 'postResponses': {'__typename': 'PostResponses', 'count': 16}, 'visibility': 'PUBLIC', 'clapCount': 1596, 'isLocked': False, 'firstPublishedAt': 1725642520149, 'latestPublishedAt': 1725642520149, 'pinnedAt': 0, 'readingTime': 38.540880503144656, 'sequence': None, 'isSeries': False, 'uniqueSlug': 'how-to-implement-graph-rag-using-knowledge-graphs-and-vector-databases-60bb69a22759'}, 'ImageMetadata:0*pmxJS7NSZWB_HLvX': {'__typename': 'ImageMetadata', 'id': '0*pmxJS7NSZWB_HLvX', 'focusPercentX': None, 'focusPercentY': None, 'alt': None}, 'User:242dbe999b8c': {'__typename': 'User', 'id': '242dbe999b8c', 'name': 'Jakob Pörschmann', 'viewerEdge': {'__ref': 'UserViewerEdge:userId:242dbe999b8c-viewerId:lo_7d320bce56a5'}, 'verifications': {'__typename': 'VerifiedInfo', 'isBookAuthor': False}, 'customDomainState': {'__typename': 'CustomDomainState', 'live': {'__typename': 'CustomDomain', 'domain': 'jakobpoerschmann.medium.com'}}, 'hasSubdomain': True, 'username': 'jakobpoerschmann', 'bio': 'Building Gen AI stuff @ Google - https://hello-jp.net', 'imageId': '1*TBuIfc2jgp3Nra7DtrgVgw.jpeg', 'membership': {'__ref': 'Membership:c8955524-8312-4864-ba29-0f8812f28ca6'}}, 'UserViewerEdge:userId:242dbe999b8c-viewerId:lo_7d320bce56a5': {'__typename': 'UserViewerEdge', 'id': 'userId:242dbe999b8c-viewerId:lo_7d320bce56a5', 'isMuting': False}, 'Membership:c8955524-8312-4864-ba29-0f8812f28ca6': {'__typename': 'Membership', 'tier': 'MEMBER', 'id': 'c8955524-8312-4864-ba29-0f8812f28ca6'}, 'Post:3fe71fb4a98e': {'__typename': 'Post', 'id': '3fe71fb4a98e', 'algoliaObjectId': '3fe71fb4a98e', 'title': 'Graph RAG into Production\\u200a—\\u200astep-by-step', 'previewImage': {'__ref': 'ImageMetadata:0*pmxJS7NSZWB_HLvX'}, 'extendedPreviewContent': {'__typename': 'PreviewContent', 'subtitle': 'A GCP native, fully serverless implementation that you will replicate in minutes', 'isFullContent': False}, 'creator': {'__ref': 'User:242dbe999b8c'}, 'isPublished': True, 'mediumUrl': 'https://towardsdatascience.com/graph-rag-into-production-step-by-step-3fe71fb4a98e', 'collection': {'__ref': 'Collection:7f60cf5620c9'}, 'isLimitedState': False, 'allowResponses': True, 'postResponses': {'__typename': 'PostResponses', 'count': 7}, 'visibility': 'PUBLIC', 'clapCount': 790, 'isLocked': False, 'firstPublishedAt': 1727115725633, 'latestPublishedAt': 1727115725633, 'pinnedAt': 0, 'readingTime': 13.44811320754717, 'sequence': None, 'isSeries': False, 'uniqueSlug': 'graph-rag-into-production-step-by-step-3fe71fb4a98e'}, 'ImageMetadata:1*-XTaV5zV_bR-tXr8au3bcg.png': {'__typename': 'ImageMetadata', 'id': '1*-XTaV5zV_bR-tXr8au3bcg.png', 'focusPercentX': None, 'focusPercentY': None, 'alt': None}, 'User:a94651549f47': {'__typename': 'User', 'id': 'a94651549f47', 'name': 'Hui Wen Goh', 'viewerEdge': {'__ref': 'UserViewerEdge:userId:a94651549f47-viewerId:lo_7d320bce56a5'}, 'verifications': {'__typename': 'VerifiedInfo', 'isBookAuthor': False}, 'customDomainState': None, 'hasSubdomain': False, 'username': 'hwgoh', 'bio': 'Machine Learning Engineer at Cleanlab, focused on enhancing data and LLM reliability to improve the dependability of ML and AI applications.', 'imageId': '1*DnwXd_dTxlg2z4-9FjdvMQ.jpeg', 'membership': None}, 'UserViewerEdge:userId:a94651549f47-viewerId:lo_7d320bce56a5': {'__typename': 'UserViewerEdge', 'id': 'userId:a94651549f47-viewerId:lo_7d320bce56a5', 'isMuting': False}, 'Post:6a03c555f063': {'__typename': 'Post', 'id': '6a03c555f063', 'algoliaObjectId': '6a03c555f063', 'title': 'Benchmarking Hallucination Detection Methods in RAG', 'previewImage': {'__ref': 'ImageMetadata:1*-XTaV5zV_bR-tXr8au3bcg.png'}, 'extendedPreviewContent': {'__typename': 'PreviewContent', 'subtitle': 'Evaluating methods to enhance reliability in LLM-generated responses.', 'isFullContent': False}, 'creator': {'__ref': 'User:a94651549f47'}, 'isPublished': True, 'mediumUrl': 'https://towardsdatascience.com/benchmarking-hallucination-detection-methods-in-rag-6a03c555f063', 'collection': {'__ref': 'Collection:7f60cf5620c9'}, 'isLimitedState': False, 'allowResponses': True, 'postResponses': {'__typename': 'PostResponses', 'count': 7}, 'visibility': 'PUBLIC', 'clapCount': 1118, 'isLocked': False, 'firstPublishedAt': 1725893074669, 'latestPublishedAt': 1725893074669, 'pinnedAt': 0, 'readingTime': 8.871069182389938, 'sequence': None, 'isSeries': False, 'uniqueSlug': 'benchmarking-hallucination-detection-methods-in-rag-6a03c555f063'}}\n",
      "{'__typename': 'Post', 'id': '426a2e0dd82b', 'algoliaObjectId': '426a2e0dd82b', 'title': 'Improved RAG Document Processing With Markdown', 'createdAt': 1731832949033, 'readingTime': 9.282075471698112, 'visibility': 'LOCKED', 'creator': {'__ref': 'User:a67b10ad1762'}, 'collection': {'__ref': 'Collection:7f60cf5620c9'}, 'isSeries': False, 'mediumUrl': 'https://towardsdatascience.com/improved-rag-document-processing-with-markdown-426a2e0dd82b', 'sequence': None, 'uniqueSlug': 'improved-rag-document-processing-with-markdown-426a2e0dd82b', 'isLocked': True, 'firstPublishedAt': 1732024914442, 'latestPublishedAt': 1732024914442, 'pinnedAt': 0, 'previewImage': {'__ref': 'ImageMetadata:0*jrOt6sJucS-m5Yce'}, 'extendedPreviewContent': {'__typename': 'PreviewContent', 'subtitle': 'How to read and convert PDFs to Markdown for better RAG results with LLMs', 'isFullContent': False}, 'isPublished': True, 'isLimitedState': False, 'allowResponses': True, 'postResponses': {'__typename': 'PostResponses', 'count': 6}, 'clapCount': 640}\n",
      "{'__typename': 'Post', 'id': '140daa3cbe71', 'algoliaObjectId': '140daa3cbe71', 'title': 'How to Create a RAG Evaluation Dataset From Documents', 'createdAt': 1730046108966, 'readingTime': 11.58805031446541, 'visibility': 'LOCKED', 'creator': {'__ref': 'User:a67b10ad1762'}, 'collection': {'__ref': 'Collection:7f60cf5620c9'}, 'isSeries': False, 'mediumUrl': 'https://towardsdatascience.com/how-to-create-a-rag-evaluation-dataset-from-documents-140daa3cbe71', 'sequence': None, 'uniqueSlug': 'how-to-create-a-rag-evaluation-dataset-from-documents-140daa3cbe71', 'isLocked': True, 'firstPublishedAt': 1730668313345, 'latestPublishedAt': 1730668313345, 'pinnedAt': 0, 'previewImage': {'__ref': 'ImageMetadata:1*aYb8AgzctiTtUYofqQq9ug.png'}, 'extendedPreviewContent': {'__typename': 'PreviewContent', 'subtitle': 'Automatically create domain-specific datasets in any language using LLMs', 'isFullContent': False}, 'isPublished': True, 'isLimitedState': False, 'allowResponses': True, 'postResponses': {'__typename': 'PostResponses', 'count': 7}, 'clapCount': 649}\n",
      "{'__typename': 'Post', 'id': '5d4a8f583f32', 'algoliaObjectId': '5d4a8f583f32', 'title': 'Improve Your RAG Context Recall by 95% with an Adapted Embedding Model.', 'createdAt': 1728396662366, 'readingTime': 9.329245283018869, 'visibility': 'LOCKED', 'creator': {'__ref': 'User:14cfcbfbf82b'}, 'collection': {'__ref': 'Collection:7f60cf5620c9'}, 'isSeries': False, 'mediumUrl': 'https://towardsdatascience.com/improve-your-rag-context-recall-by-40-with-an-adapted-embedding-model-5d4a8f583f32', 'sequence': None, 'uniqueSlug': 'improve-your-rag-context-recall-by-40-with-an-adapted-embedding-model-5d4a8f583f32', 'isLocked': True, 'firstPublishedAt': 1728700207453, 'latestPublishedAt': 1729037127073, 'pinnedAt': 0, 'previewImage': {'__ref': 'ImageMetadata:1*wO9_v_1pUsZKsy6nktd0ug.png'}, 'extendedPreviewContent': {'__typename': 'PreviewContent', 'subtitle': 'Step by Step Model Adaptation Code and Results Attached.', 'isFullContent': False}, 'isPublished': True, 'isLimitedState': False, 'allowResponses': True, 'postResponses': {'__typename': 'PostResponses', 'count': 11}, 'clapCount': 847}\n",
      "{'__typename': 'Post', 'id': '31bd45d195c8', 'algoliaObjectId': '31bd45d195c8', 'title': 'Scaling RAG from POC to Production', 'previewImage': {'__ref': 'ImageMetadata:0*33pjuHPUAC-01Hik'}, 'extendedPreviewContent': {'__typename': 'PreviewContent', 'subtitle': 'Common challenges and architectural components to enable scaling', 'isFullContent': False}, 'creator': {'__ref': 'User:122376ea00fe'}, 'isPublished': True, 'mediumUrl': 'https://towardsdatascience.com/scaling-rag-from-poc-to-production-31bd45d195c8', 'collection': {'__ref': 'Collection:7f60cf5620c9'}, 'isLimitedState': False, 'allowResponses': True, 'postResponses': {'__typename': 'PostResponses', 'count': 7}, 'visibility': 'PUBLIC', 'clapCount': 644, 'isLocked': False, 'firstPublishedAt': 1728326456004, 'latestPublishedAt': 1728420038657, 'pinnedAt': 0, 'readingTime': 6.833018867924529, 'sequence': None, 'isSeries': False, 'uniqueSlug': 'scaling-rag-from-poc-to-production-31bd45d195c8'}\n",
      "{'__typename': 'Post', 'id': 'c4fbcf8718b8', 'algoliaObjectId': 'c4fbcf8718b8', 'title': 'Beyond Naïve RAG: Advanced Techniques for Building Smarter and Reliable AI Systems', 'previewImage': {'__ref': 'ImageMetadata:1*duvogS-pcVfvBJOs1S1Tgg.png'}, 'extendedPreviewContent': {'__typename': 'PreviewContent', 'subtitle': 'A deep dive into advanced indexing, pre-retrieval, retrieval, and post-retrieval techniques to enhance RAG performance', 'isFullContent': False}, 'creator': {'__ref': 'User:d11c06040ced'}, 'isPublished': True, 'mediumUrl': 'https://towardsdatascience.com/beyond-na%C3%AFve-rag-advanced-techniques-for-building-smarter-and-reliable-ai-systems-c4fbcf8718b8', 'collection': {'__ref': 'Collection:7f60cf5620c9'}, 'isLimitedState': False, 'allowResponses': True, 'postResponses': {'__typename': 'PostResponses', 'count': 4}, 'visibility': 'LOCKED', 'clapCount': 662, 'isLocked': True, 'firstPublishedAt': 1729036985499, 'latestPublishedAt': 1729036985499, 'pinnedAt': 0, 'readingTime': 26.74245283018868, 'sequence': None, 'isSeries': False, 'uniqueSlug': 'beyond-naïve-rag-advanced-techniques-for-building-smarter-and-reliable-ai-systems-c4fbcf8718b8'}\n",
      "{'__typename': 'Post', 'id': 'bfc03f29ede3', 'algoliaObjectId': 'bfc03f29ede3', 'title': 'Stop Guessing and Measure Your RAG System to Drive Real Improvements', 'previewImage': {'__ref': 'ImageMetadata:1*hIAGB1CL06BpXyYLZm09UQ.png'}, 'extendedPreviewContent': {'__typename': 'PreviewContent', 'subtitle': 'Key metrics and techniques to elevate your retrieval-augmented generation performance', 'isFullContent': False}, 'creator': {'__ref': 'User:d11c06040ced'}, 'isPublished': True, 'mediumUrl': 'https://towardsdatascience.com/stop-guessing-and-measure-your-rag-system-to-drive-real-improvements-bfc03f29ede3', 'collection': {'__ref': 'Collection:7f60cf5620c9'}, 'isLimitedState': False, 'allowResponses': True, 'postResponses': {'__typename': 'PostResponses', 'count': 11}, 'visibility': 'LOCKED', 'clapCount': 686, 'isLocked': True, 'firstPublishedAt': 1728017567236, 'latestPublishedAt': 1728017567236, 'pinnedAt': 0, 'readingTime': 23.78490566037736, 'sequence': None, 'isSeries': False, 'uniqueSlug': 'stop-guessing-and-measure-your-rag-system-to-drive-real-improvements-bfc03f29ede3'}\n",
      "{'__typename': 'Post', 'id': 'fdc6f6c2aaec', 'algoliaObjectId': 'fdc6f6c2aaec', 'title': 'RAG 101: Chunking Strategies', 'previewImage': {'__ref': 'ImageMetadata:1*4T9GoHUA2jZwlrATD_7vKw.png'}, 'extendedPreviewContent': {'__typename': 'PreviewContent', 'subtitle': 'Why, When, and How to chunk for enhanced RAG. Build intuition to develop chunking strategies.', 'isFullContent': False}, 'creator': {'__ref': 'User:e66e65937063'}, 'isPublished': True, 'mediumUrl': 'https://towardsdatascience.com/rag-101-chunking-strategies-fdc6f6c2aaec', 'collection': {'__ref': 'Collection:7f60cf5620c9'}, 'isLimitedState': False, 'allowResponses': True, 'postResponses': {'__typename': 'PostResponses', 'count': 1}, 'visibility': 'PUBLIC', 'clapCount': 484, 'isLocked': False, 'firstPublishedAt': 1728126124775, 'latestPublishedAt': 1728126124775, 'pinnedAt': 0, 'readingTime': 11.049056603773584, 'sequence': None, 'isSeries': False, 'uniqueSlug': 'rag-101-chunking-strategies-fdc6f6c2aaec'}\n",
      "{'__typename': 'Post', 'id': '60bb69a22759', 'algoliaObjectId': '60bb69a22759', 'title': 'How to Implement Graph RAG Using Knowledge Graphs and Vector Databases', 'previewImage': {'__ref': 'ImageMetadata:1*hrwv6zmmgogVNpQQlOIwIA.png'}, 'extendedPreviewContent': {'__typename': 'PreviewContent', 'subtitle': 'A Step-by-Step Tutorial on Implementing Retrieval-Augmented Generation (RAG), Semantic Search, and Recommendations', 'isFullContent': False}, 'creator': {'__ref': 'User:2c634ce75a74'}, 'isPublished': True, 'mediumUrl': 'https://towardsdatascience.com/how-to-implement-graph-rag-using-knowledge-graphs-and-vector-databases-60bb69a22759', 'collection': {'__ref': 'Collection:7f60cf5620c9'}, 'isLimitedState': False, 'allowResponses': True, 'postResponses': {'__typename': 'PostResponses', 'count': 16}, 'visibility': 'PUBLIC', 'clapCount': 1596, 'isLocked': False, 'firstPublishedAt': 1725642520149, 'latestPublishedAt': 1725642520149, 'pinnedAt': 0, 'readingTime': 38.540880503144656, 'sequence': None, 'isSeries': False, 'uniqueSlug': 'how-to-implement-graph-rag-using-knowledge-graphs-and-vector-databases-60bb69a22759'}\n",
      "{'__typename': 'Post', 'id': '3fe71fb4a98e', 'algoliaObjectId': '3fe71fb4a98e', 'title': 'Graph RAG into Production\\u200a—\\u200astep-by-step', 'previewImage': {'__ref': 'ImageMetadata:0*pmxJS7NSZWB_HLvX'}, 'extendedPreviewContent': {'__typename': 'PreviewContent', 'subtitle': 'A GCP native, fully serverless implementation that you will replicate in minutes', 'isFullContent': False}, 'creator': {'__ref': 'User:242dbe999b8c'}, 'isPublished': True, 'mediumUrl': 'https://towardsdatascience.com/graph-rag-into-production-step-by-step-3fe71fb4a98e', 'collection': {'__ref': 'Collection:7f60cf5620c9'}, 'isLimitedState': False, 'allowResponses': True, 'postResponses': {'__typename': 'PostResponses', 'count': 7}, 'visibility': 'PUBLIC', 'clapCount': 790, 'isLocked': False, 'firstPublishedAt': 1727115725633, 'latestPublishedAt': 1727115725633, 'pinnedAt': 0, 'readingTime': 13.44811320754717, 'sequence': None, 'isSeries': False, 'uniqueSlug': 'graph-rag-into-production-step-by-step-3fe71fb4a98e'}\n",
      "{'__typename': 'Post', 'id': '6a03c555f063', 'algoliaObjectId': '6a03c555f063', 'title': 'Benchmarking Hallucination Detection Methods in RAG', 'previewImage': {'__ref': 'ImageMetadata:1*-XTaV5zV_bR-tXr8au3bcg.png'}, 'extendedPreviewContent': {'__typename': 'PreviewContent', 'subtitle': 'Evaluating methods to enhance reliability in LLM-generated responses.', 'isFullContent': False}, 'creator': {'__ref': 'User:a94651549f47'}, 'isPublished': True, 'mediumUrl': 'https://towardsdatascience.com/benchmarking-hallucination-detection-methods-in-rag-6a03c555f063', 'collection': {'__ref': 'Collection:7f60cf5620c9'}, 'isLimitedState': False, 'allowResponses': True, 'postResponses': {'__typename': 'PostResponses', 'count': 7}, 'visibility': 'PUBLIC', 'clapCount': 1118, 'isLocked': False, 'firstPublishedAt': 1725893074669, 'latestPublishedAt': 1725893074669, 'pinnedAt': 0, 'readingTime': 8.871069182389938, 'sequence': None, 'isSeries': False, 'uniqueSlug': 'benchmarking-hallucination-detection-methods-in-rag-6a03c555f063'}\n"
     ]
    },
    {
     "name": "stderr",
     "output_type": "stream",
     "text": [
      "/var/folders/d_/hfs18jf54371qfmf54zq289c0000gq/T/ipykernel_63325/661312022.py:5: DeprecationWarning: The 'text' argument to find()-type methods is deprecated. Use 'string' instead.\n",
      "  script_tag = soup.find(\"script\", text=lambda t: t and \"window.__APOLLO_STATE__\" in t)\n"
     ]
    }
   ],
   "source": [
    "# Analizar el HTML\n",
    "soup = BeautifulSoup(html_content, \"html.parser\")\n",
    "\n",
    "# Buscar el JSON dentro de la etiqueta <script>\n",
    "script_tag = soup.find(\"script\", text=lambda t: t and \"window.__APOLLO_STATE__\" in t)\n",
    "\n",
    "# Extraer el contenido JSON\n",
    "if script_tag:\n",
    "    script_content = script_tag.string\n",
    "    # Dividir y limpiar el JSON\n",
    "    json_start = script_content.find(\"{\")  # Encontrar el inicio del JSON\n",
    "    json_content = script_content[json_start:]  # Extraer el JSON\n",
    "    try:\n",
    "        data = json.loads(json_content)\n",
    "        print(data)  # Ahora tienes un diccionario en Python\n",
    "    except json.JSONDecodeError as e:\n",
    "        print(\"Error al decodificar el JSON:\", e)\n",
    "\n",
    "import re\n",
    "\n",
    "keys_to_search = [re.search(\"Post.*\", key).group() for key in data.keys() if re.search(\"Post.*\", key)]\n",
    "#keys_to_search\n",
    "\n",
    "for ks in keys_to_search:\n",
    "    print(data[ks])"
   ]
  },
  {
   "cell_type": "markdown",
   "metadata": {},
   "source": [
    "[[Volver]](#Contenido)"
   ]
  },
  {
   "cell_type": "markdown",
   "metadata": {},
   "source": [
    "## <span style=\"color:blue\">SerpApi</span>"
   ]
  },
  {
   "cell_type": "markdown",
   "metadata": {},
   "source": [
    "Texto de la sección X"
   ]
  },
  {
   "cell_type": "markdown",
   "metadata": {},
   "source": [
    "### <span style=\"color:#4CC9F0\">Realizar Consultas en SerpApi</span>"
   ]
  },
  {
   "cell_type": "markdown",
   "metadata": {},
   "source": [
    "Texto de la subsección X"
   ]
  },
  {
   "cell_type": "code",
   "execution_count": null,
   "metadata": {},
   "outputs": [],
   "source": [
    "# Can only use 100 requests per month\n",
    "\"\"\"params = {\n",
    "  \"api_key\": os.environ[\"GOOGLE_SCHOLAR_API_KEY\"],\n",
    "  \"engine\": \"google_scholar\",\n",
    "  \"q\": \"RAG AI\",\n",
    "  \"hl\": \"en\"\n",
    "}\n",
    "\n",
    "search = GoogleSearch(params)\n",
    "results = search.get_dict()\n",
    "results\"\"\""
   ]
  },
  {
   "cell_type": "markdown",
   "metadata": {},
   "source": [
    "[[Volver]](#Contenido)"
   ]
  },
  {
   "cell_type": "markdown",
   "metadata": {},
   "source": [
    "## <span style=\"color:blue\">Automatización</span>"
   ]
  },
  {
   "cell_type": "markdown",
   "metadata": {},
   "source": [
    "Automatización del proceso"
   ]
  },
  {
   "cell_type": "markdown",
   "metadata": {},
   "source": [
    "## <span style=\"color:blue\">Uso de la Automatización</span>"
   ]
  },
  {
   "cell_type": "markdown",
   "metadata": {},
   "source": [
    "Uso de la Automatización explicada"
   ]
  },
  {
   "cell_type": "markdown",
   "metadata": {},
   "source": [
    "## <span style=\"color:blue\">Conclusiones</span>"
   ]
  },
  {
   "cell_type": "markdown",
   "metadata": {},
   "source": [
    "Conclusiones del Notebook"
   ]
  },
  {
   "cell_type": "markdown",
   "metadata": {},
   "source": [
    "## <span style=\"color:blue\">Recomendaciones</span>"
   ]
  },
  {
   "cell_type": "markdown",
   "metadata": {},
   "source": [
    "Recomendaciones del estudio hecho."
   ]
  },
  {
   "cell_type": "markdown",
   "metadata": {},
   "source": [
    "## <span style=\"color:blue\">Referencias</span>"
   ]
  },
  {
   "cell_type": "markdown",
   "metadata": {},
   "source": [
    "1. [Referencia]()"
   ]
  }
 ],
 "metadata": {
  "kernelspec": {
   "display_name": "alejandria",
   "language": "python",
   "name": "python3"
  },
  "language_info": {
   "codemirror_mode": {
    "name": "ipython",
    "version": 3
   },
   "file_extension": ".py",
   "mimetype": "text/x-python",
   "name": "python",
   "nbconvert_exporter": "python",
   "pygments_lexer": "ipython3",
   "version": "3.10.15"
  }
 },
 "nbformat": 4,
 "nbformat_minor": 2
}
