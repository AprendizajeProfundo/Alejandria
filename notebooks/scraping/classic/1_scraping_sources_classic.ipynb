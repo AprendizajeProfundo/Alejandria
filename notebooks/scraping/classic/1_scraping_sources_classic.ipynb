{
 "cells": [
  {
   "cell_type": "markdown",
   "metadata": {},
   "source": [
    "<figure>\n",
    "    <img src=\"../../../figures/logo_ap.png\"  width=\"80\" height=\"80\" align=\"left\"/>\n",
    "</figure>\n",
    "\n",
    "# <span style=\"color:blue\"><blue><br><br><br><br><center>&nbsp;&nbsp;&nbsp;Aprendizaje Profundo</center></span>"
   ]
  },
  {
   "cell_type": "markdown",
   "metadata": {},
   "source": [
    "# <span style=\"color:red\"><center>Biblioteca Alejandría</center></span>"
   ]
  },
  {
   "cell_type": "markdown",
   "metadata": {},
   "source": [
    "## <span style=\"color:green\"><center>Scraping Web de Fuentes Académicas</center></span>"
   ]
  },
  {
   "cell_type": "markdown",
   "metadata": {},
   "source": [
    "## <span style=\"color:blue\">Autores</span>"
   ]
  },
  {
   "cell_type": "markdown",
   "metadata": {},
   "source": [
    "1. Álvaro Montenegro, alvaro.montenegro@aprendizajeprofundo.ai\n",
    "1. Daniel Montenegro, daniel.montenegro@aprendizajeprofundo.ai"
   ]
  },
  {
   "cell_type": "markdown",
   "metadata": {},
   "source": [
    "## <span style=\"color:blue\">Contenido</span>"
   ]
  },
  {
   "cell_type": "markdown",
   "metadata": {},
   "source": [
    "* [Librerías Necesarias](#Librerías-Necesarias)\n",
    "* [ArXiv](#Librerías-Necesarias)\n",
    "    * [Realizar Consultas en ArXiv](#Realizar-Consultas-en-ArXiv)\n",
    "    * [Extraer Metadata en ArXiv](#Extraer-Metadata-en-ArXiv)\n",
    "    * [Convertir en DataFrame en ArXiv](#Convertir-en-DataFrame-en-ArXiv)\n",
    "* [Towards Data Science](#Towards-Data-Science)\n",
    "    * [Subsección X](#Subsección-X)\n",
    "* [Automatización](#Automatización)\n",
    "* [Conclusiones](#Conclusiones)\n",
    "* [Recomendaciones](#Recomendaciones)"
   ]
  },
  {
   "cell_type": "markdown",
   "metadata": {},
   "source": [
    "## <span style=\"color:blue\">Librerías Necesarias</span>"
   ]
  },
  {
   "cell_type": "code",
   "execution_count": 1,
   "metadata": {},
   "outputs": [],
   "source": [
    "import json\n",
    "import requests\n",
    "import pandas as pd\n",
    "from bs4 import BeautifulSoup\n",
    "from serpapi import GoogleSearch"
   ]
  },
  {
   "cell_type": "markdown",
   "metadata": {},
   "source": [
    "[[Volver]](#Contenido)"
   ]
  },
  {
   "cell_type": "markdown",
   "metadata": {},
   "source": [
    "## <span style=\"color:blue\">ArXiv</span>"
   ]
  },
  {
   "cell_type": "markdown",
   "metadata": {},
   "source": [
    "Texto de la sección X"
   ]
  },
  {
   "cell_type": "markdown",
   "metadata": {},
   "source": [
    "### <span style=\"color:#4CC9F0\">Realizar Consultas en ArXiv</span>"
   ]
  },
  {
   "cell_type": "markdown",
   "metadata": {},
   "source": [
    "Texto de la subsección X"
   ]
  },
  {
   "cell_type": "code",
   "execution_count": 2,
   "metadata": {},
   "outputs": [
    {
     "name": "stdout",
     "output_type": "stream",
     "text": [
      "URL construída: http://export.arxiv.org/api/query?search_query=all:RAG&start=0&max_results=100&sortBy=submittedDate&sortOrder=descending\n"
     ]
    }
   ],
   "source": [
    "import requests\n",
    "from typing import Annotated\n",
    "\n",
    "def fetch_html(\n",
    "    url: Annotated[str, \"La URL a la que se hará la solicitud\"]\n",
    ") -> str:\n",
    "    \"\"\"\n",
    "    Realiza una solicitud HTTP GET usando urllib y devuelve el contenido HTML.\n",
    "    \"\"\"\n",
    "    try:\n",
    "        # Realizar la solicitud\n",
    "        data = requests.get(url)\n",
    "        # Leer y decodificar el contenido\n",
    "        html = data.text\n",
    "        return html\n",
    "    except Exception as e:\n",
    "        # Manejo básico de errores\n",
    "        return f\"Error al hacer la solicitud: {str(e)}\"\n",
    "\n",
    "type_query = \"all\"\n",
    "query = \"RAG\"\n",
    "start = 0\n",
    "max_results = 100\n",
    "sortby = \"submittedDate\"\n",
    "sortorder = \"descending\"\n",
    "url = f'http://export.arxiv.org/api/query?search_query={type_query}:{query}&start={start}&max_results={max_results}&sortBy={sortby}&sortOrder={sortorder}'\n",
    "\n",
    "print(\"URL construída:\", url)\n",
    "html_content = fetch_html(url=url)\n",
    "#print(html_content)"
   ]
  },
  {
   "cell_type": "markdown",
   "metadata": {},
   "source": [
    "[[Volver]](#Contenido)"
   ]
  },
  {
   "cell_type": "markdown",
   "metadata": {},
   "source": [
    "### <span style=\"color:#4CC9F0\">Extraer Metadata en ArXiv</span>"
   ]
  },
  {
   "cell_type": "markdown",
   "metadata": {},
   "source": [
    "Texto de la sección X"
   ]
  },
  {
   "cell_type": "code",
   "execution_count": 3,
   "metadata": {},
   "outputs": [],
   "source": [
    "soup = BeautifulSoup(html_content, \"lxml-xml\")\n",
    "articles = soup.find_all(\"entry\")\n",
    "\n",
    "data_json = []\n",
    "for entry in articles:\n",
    "    prim_category = entry.find(\"primary_category\").get(\"term\")\n",
    "    published = entry.find(\"published\").text\n",
    "    updated = entry.find(\"updated\").text\n",
    "    title = entry.find(\"title\").text\n",
    "    summary = entry.find(\"summary\").text\n",
    "    authors = entry.find_all(\"author\")\n",
    "    authors = [auth.find(\"name\").text for auth in authors]\n",
    "    link_article = entry.select('link[title=\"pdf\"]')[0].get(\"href\")\n",
    "    data_json.append({\"primary_category\": prim_category, \n",
    "                      \"published\": published,\n",
    "                      \"updated\": updated,\n",
    "                      \"title\": title, \n",
    "                      \"summary\": summary,\n",
    "                      \"authors\": authors, \n",
    "                      \"link_article\": link_article})"
   ]
  },
  {
   "cell_type": "markdown",
   "metadata": {},
   "source": [
    "[[Volver]](#Contenido)"
   ]
  },
  {
   "cell_type": "markdown",
   "metadata": {},
   "source": [
    "### <span style=\"color:#4CC9F0\">Convertir en DataFrame en ArXiv</span>"
   ]
  },
  {
   "cell_type": "markdown",
   "metadata": {},
   "source": [
    "Texto de la sección X"
   ]
  },
  {
   "cell_type": "code",
   "execution_count": 4,
   "metadata": {},
   "outputs": [
    {
     "name": "stdout",
     "output_type": "stream",
     "text": [
      "<class 'pandas.core.frame.DataFrame'>\n",
      "RangeIndex: 100 entries, 0 to 99\n",
      "Data columns (total 9 columns):\n",
      " #   Column            Non-Null Count  Dtype              \n",
      "---  ------            --------------  -----              \n",
      " 0   id                100 non-null    int64              \n",
      " 1   version           100 non-null    object             \n",
      " 2   primary_category  100 non-null    object             \n",
      " 3   published         100 non-null    datetime64[ns, UTC]\n",
      " 4   updated           100 non-null    datetime64[ns, UTC]\n",
      " 5   title             100 non-null    object             \n",
      " 6   summary           100 non-null    object             \n",
      " 7   authors           100 non-null    object             \n",
      " 8   link_article      100 non-null    object             \n",
      "dtypes: datetime64[ns, UTC](2), int64(1), object(6)\n",
      "memory usage: 7.2+ KB\n"
     ]
    },
    {
     "data": {
      "text/html": [
       "<div>\n",
       "<style scoped>\n",
       "    .dataframe tbody tr th:only-of-type {\n",
       "        vertical-align: middle;\n",
       "    }\n",
       "\n",
       "    .dataframe tbody tr th {\n",
       "        vertical-align: top;\n",
       "    }\n",
       "\n",
       "    .dataframe thead th {\n",
       "        text-align: right;\n",
       "    }\n",
       "</style>\n",
       "<table border=\"1\" class=\"dataframe\">\n",
       "  <thead>\n",
       "    <tr style=\"text-align: right;\">\n",
       "      <th></th>\n",
       "      <th>id</th>\n",
       "      <th>version</th>\n",
       "      <th>primary_category</th>\n",
       "      <th>published</th>\n",
       "      <th>updated</th>\n",
       "      <th>title</th>\n",
       "      <th>summary</th>\n",
       "      <th>authors</th>\n",
       "      <th>link_article</th>\n",
       "    </tr>\n",
       "  </thead>\n",
       "  <tbody>\n",
       "    <tr>\n",
       "      <th>0</th>\n",
       "      <td>173901</td>\n",
       "      <td>1</td>\n",
       "      <td>cs.CL</td>\n",
       "      <td>2025-02-24 18:16:10+00:00</td>\n",
       "      <td>2025-02-24 18:16:10+00:00</td>\n",
       "      <td>Mitigating Bias in RAG: Controlling the Embedder</td>\n",
       "      <td>In retrieval augmented generation (RAG) syst...</td>\n",
       "      <td>[Taeyoun Kim, Jacob Springer, Aditi Raghunatha...</td>\n",
       "      <td>http://arxiv.org/pdf/2502.17390v1</td>\n",
       "    </tr>\n",
       "    <tr>\n",
       "      <th>1</th>\n",
       "      <td>172971</td>\n",
       "      <td>1</td>\n",
       "      <td>cs.AI</td>\n",
       "      <td>2025-02-24 16:25:25+00:00</td>\n",
       "      <td>2025-02-24 16:25:25+00:00</td>\n",
       "      <td>Benchmarking Retrieval-Augmented Generation in...</td>\n",
       "      <td>This paper introduces Multi-Modal Retrieval-...</td>\n",
       "      <td>[Zhenghao Liu, Xingsheng Zhu, Tianshuo Zhou, X...</td>\n",
       "      <td>http://arxiv.org/pdf/2502.17297v1</td>\n",
       "    </tr>\n",
       "    <tr>\n",
       "      <th>2</th>\n",
       "      <td>171631</td>\n",
       "      <td>1</td>\n",
       "      <td>cs.CL</td>\n",
       "      <td>2025-02-24 13:58:42+00:00</td>\n",
       "      <td>2025-02-24 13:58:42+00:00</td>\n",
       "      <td>MEMERAG: A Multilingual End-to-End Meta-Evalua...</td>\n",
       "      <td>Automatic evaluation of retrieval augmented ...</td>\n",
       "      <td>[María Andrea Cruz Blandón, Jayasimha Talur, B...</td>\n",
       "      <td>http://arxiv.org/pdf/2502.17163v1</td>\n",
       "    </tr>\n",
       "    <tr>\n",
       "      <th>3</th>\n",
       "      <td>171251</td>\n",
       "      <td>1</td>\n",
       "      <td>cs.CL</td>\n",
       "      <td>2025-02-24 13:11:47+00:00</td>\n",
       "      <td>2025-02-24 13:11:47+00:00</td>\n",
       "      <td>LettuceDetect: A Hallucination Detection Frame...</td>\n",
       "      <td>Retrieval Augmented Generation (RAG) systems...</td>\n",
       "      <td>[Ádám Kovács, Gábor Recski]</td>\n",
       "      <td>http://arxiv.org/pdf/2502.17125v1</td>\n",
       "    </tr>\n",
       "    <tr>\n",
       "      <th>4</th>\n",
       "      <td>170361</td>\n",
       "      <td>1</td>\n",
       "      <td>cs.CL</td>\n",
       "      <td>2025-02-24 10:37:13+00:00</td>\n",
       "      <td>2025-02-24 10:37:13+00:00</td>\n",
       "      <td>Language Model Re-rankers are Steered by Lexic...</td>\n",
       "      <td>Language model (LM) re-rankers are used to r...</td>\n",
       "      <td>[Lovisa Hagström, Ercong Nie, Ruben Halifa, He...</td>\n",
       "      <td>http://arxiv.org/pdf/2502.17036v1</td>\n",
       "    </tr>\n",
       "    <tr>\n",
       "      <th>...</th>\n",
       "      <td>...</td>\n",
       "      <td>...</td>\n",
       "      <td>...</td>\n",
       "      <td>...</td>\n",
       "      <td>...</td>\n",
       "      <td>...</td>\n",
       "      <td>...</td>\n",
       "      <td>...</td>\n",
       "      <td>...</td>\n",
       "    </tr>\n",
       "    <tr>\n",
       "      <th>95</th>\n",
       "      <td>90171</td>\n",
       "      <td>1</td>\n",
       "      <td>cs.CL</td>\n",
       "      <td>2025-02-13 07:11:01+00:00</td>\n",
       "      <td>2025-02-13 07:11:01+00:00</td>\n",
       "      <td>Diversity Enhances an LLM's Performance in RAG...</td>\n",
       "      <td>The rapid advancements in large language mod...</td>\n",
       "      <td>[Zhchao Wang, Bin Bi, Yanqi Luo, Sitaram Asur,...</td>\n",
       "      <td>http://arxiv.org/pdf/2502.09017v1</td>\n",
       "    </tr>\n",
       "    <tr>\n",
       "      <th>96</th>\n",
       "      <td>88262</td>\n",
       "      <td>2</td>\n",
       "      <td>cs.CL</td>\n",
       "      <td>2025-02-12 22:33:41+00:00</td>\n",
       "      <td>2025-02-17 23:26:44+00:00</td>\n",
       "      <td>Ask in Any Modality: A Comprehensive Survey on...</td>\n",
       "      <td>Large Language Models (LLMs) struggle with h...</td>\n",
       "      <td>[Mohammad Mahdi Abootorabi, Amirhosein Zobeiri...</td>\n",
       "      <td>http://arxiv.org/pdf/2502.08826v2</td>\n",
       "    </tr>\n",
       "    <tr>\n",
       "      <th>97</th>\n",
       "      <td>87561</td>\n",
       "      <td>1</td>\n",
       "      <td>cs.AI</td>\n",
       "      <td>2025-02-12 19:59:57+00:00</td>\n",
       "      <td>2025-02-12 19:59:57+00:00</td>\n",
       "      <td>From PowerPoint UI Sketches to Web-Based Appli...</td>\n",
       "      <td>Developing web-based GIS applications, commo...</td>\n",
       "      <td>[Haowen Xu, Xiao-Ying Yu]</td>\n",
       "      <td>http://arxiv.org/pdf/2502.08756v1</td>\n",
       "    </tr>\n",
       "    <tr>\n",
       "      <th>98</th>\n",
       "      <td>83562</td>\n",
       "      <td>2</td>\n",
       "      <td>cs.CL</td>\n",
       "      <td>2025-02-12 12:39:51+00:00</td>\n",
       "      <td>2025-02-17 14:29:48+00:00</td>\n",
       "      <td>Systematic Knowledge Injection into Large Lang...</td>\n",
       "      <td>Retrieval-Augmented Generation (RAG) has eme...</td>\n",
       "      <td>[Kushagra Bhushan, Yatin Nandwani, Dinesh Khan...</td>\n",
       "      <td>http://arxiv.org/pdf/2502.08356v2</td>\n",
       "    </tr>\n",
       "    <tr>\n",
       "      <th>99</th>\n",
       "      <td>82541</td>\n",
       "      <td>1</td>\n",
       "      <td>cs.CV</td>\n",
       "      <td>2025-02-12 09:49:43+00:00</td>\n",
       "      <td>2025-02-12 09:49:43+00:00</td>\n",
       "      <td>UniCoRN: Unified Commented Retrieval Network w...</td>\n",
       "      <td>Multimodal retrieval methods have limitation...</td>\n",
       "      <td>[Maximilian Jaritz, Matthieu Guillaumin, Sabin...</td>\n",
       "      <td>http://arxiv.org/pdf/2502.08254v1</td>\n",
       "    </tr>\n",
       "  </tbody>\n",
       "</table>\n",
       "<p>100 rows × 9 columns</p>\n",
       "</div>"
      ],
      "text/plain": [
       "        id version primary_category                 published  \\\n",
       "0   173901       1            cs.CL 2025-02-24 18:16:10+00:00   \n",
       "1   172971       1            cs.AI 2025-02-24 16:25:25+00:00   \n",
       "2   171631       1            cs.CL 2025-02-24 13:58:42+00:00   \n",
       "3   171251       1            cs.CL 2025-02-24 13:11:47+00:00   \n",
       "4   170361       1            cs.CL 2025-02-24 10:37:13+00:00   \n",
       "..     ...     ...              ...                       ...   \n",
       "95   90171       1            cs.CL 2025-02-13 07:11:01+00:00   \n",
       "96   88262       2            cs.CL 2025-02-12 22:33:41+00:00   \n",
       "97   87561       1            cs.AI 2025-02-12 19:59:57+00:00   \n",
       "98   83562       2            cs.CL 2025-02-12 12:39:51+00:00   \n",
       "99   82541       1            cs.CV 2025-02-12 09:49:43+00:00   \n",
       "\n",
       "                     updated  \\\n",
       "0  2025-02-24 18:16:10+00:00   \n",
       "1  2025-02-24 16:25:25+00:00   \n",
       "2  2025-02-24 13:58:42+00:00   \n",
       "3  2025-02-24 13:11:47+00:00   \n",
       "4  2025-02-24 10:37:13+00:00   \n",
       "..                       ...   \n",
       "95 2025-02-13 07:11:01+00:00   \n",
       "96 2025-02-17 23:26:44+00:00   \n",
       "97 2025-02-12 19:59:57+00:00   \n",
       "98 2025-02-17 14:29:48+00:00   \n",
       "99 2025-02-12 09:49:43+00:00   \n",
       "\n",
       "                                                title  \\\n",
       "0    Mitigating Bias in RAG: Controlling the Embedder   \n",
       "1   Benchmarking Retrieval-Augmented Generation in...   \n",
       "2   MEMERAG: A Multilingual End-to-End Meta-Evalua...   \n",
       "3   LettuceDetect: A Hallucination Detection Frame...   \n",
       "4   Language Model Re-rankers are Steered by Lexic...   \n",
       "..                                                ...   \n",
       "95  Diversity Enhances an LLM's Performance in RAG...   \n",
       "96  Ask in Any Modality: A Comprehensive Survey on...   \n",
       "97  From PowerPoint UI Sketches to Web-Based Appli...   \n",
       "98  Systematic Knowledge Injection into Large Lang...   \n",
       "99  UniCoRN: Unified Commented Retrieval Network w...   \n",
       "\n",
       "                                              summary  \\\n",
       "0     In retrieval augmented generation (RAG) syst...   \n",
       "1     This paper introduces Multi-Modal Retrieval-...   \n",
       "2     Automatic evaluation of retrieval augmented ...   \n",
       "3     Retrieval Augmented Generation (RAG) systems...   \n",
       "4     Language model (LM) re-rankers are used to r...   \n",
       "..                                                ...   \n",
       "95    The rapid advancements in large language mod...   \n",
       "96    Large Language Models (LLMs) struggle with h...   \n",
       "97    Developing web-based GIS applications, commo...   \n",
       "98    Retrieval-Augmented Generation (RAG) has eme...   \n",
       "99    Multimodal retrieval methods have limitation...   \n",
       "\n",
       "                                              authors  \\\n",
       "0   [Taeyoun Kim, Jacob Springer, Aditi Raghunatha...   \n",
       "1   [Zhenghao Liu, Xingsheng Zhu, Tianshuo Zhou, X...   \n",
       "2   [María Andrea Cruz Blandón, Jayasimha Talur, B...   \n",
       "3                         [Ádám Kovács, Gábor Recski]   \n",
       "4   [Lovisa Hagström, Ercong Nie, Ruben Halifa, He...   \n",
       "..                                                ...   \n",
       "95  [Zhchao Wang, Bin Bi, Yanqi Luo, Sitaram Asur,...   \n",
       "96  [Mohammad Mahdi Abootorabi, Amirhosein Zobeiri...   \n",
       "97                          [Haowen Xu, Xiao-Ying Yu]   \n",
       "98  [Kushagra Bhushan, Yatin Nandwani, Dinesh Khan...   \n",
       "99  [Maximilian Jaritz, Matthieu Guillaumin, Sabin...   \n",
       "\n",
       "                         link_article  \n",
       "0   http://arxiv.org/pdf/2502.17390v1  \n",
       "1   http://arxiv.org/pdf/2502.17297v1  \n",
       "2   http://arxiv.org/pdf/2502.17163v1  \n",
       "3   http://arxiv.org/pdf/2502.17125v1  \n",
       "4   http://arxiv.org/pdf/2502.17036v1  \n",
       "..                                ...  \n",
       "95  http://arxiv.org/pdf/2502.09017v1  \n",
       "96  http://arxiv.org/pdf/2502.08826v2  \n",
       "97  http://arxiv.org/pdf/2502.08756v1  \n",
       "98  http://arxiv.org/pdf/2502.08356v2  \n",
       "99  http://arxiv.org/pdf/2502.08254v1  \n",
       "\n",
       "[100 rows x 9 columns]"
      ]
     },
     "execution_count": 4,
     "metadata": {},
     "output_type": "execute_result"
    }
   ],
   "source": [
    "data_df = pd.DataFrame.from_dict(data_json)\n",
    "columns_to_convert = ['published', 'updated']\n",
    "data_df[columns_to_convert] = data_df[columns_to_convert].apply(pd.to_datetime)\n",
    "data_df.insert(0, \"id\", data_df[\"link_article\"].str.split(\".\").str[-1].str.replace(\"v*\",\"\", regex=True))\n",
    "data_df[\"id\"] = data_df[\"id\"].astype(\"int\")\n",
    "data_df.insert(1, \"version\", data_df[\"link_article\"].str.split(\".\").str[-1].str.split(\"v\").str[-1])\n",
    "data_df.info()\n",
    "data_df.sort_values(by=\"published\", ascending=False)"
   ]
  },
  {
   "cell_type": "markdown",
   "metadata": {},
   "source": [
    "## <span style=\"color:blue\">SerpApi</span>"
   ]
  },
  {
   "cell_type": "markdown",
   "metadata": {},
   "source": [
    "Texto de la sección X"
   ]
  },
  {
   "cell_type": "markdown",
   "metadata": {},
   "source": [
    "### <span style=\"color:#4CC9F0\">Realizar Consultas en SerpApi</span>"
   ]
  },
  {
   "cell_type": "markdown",
   "metadata": {},
   "source": [
    "Texto de la subsección X"
   ]
  },
  {
   "cell_type": "code",
   "execution_count": null,
   "metadata": {},
   "outputs": [],
   "source": [
    "# Can only use 100 requests per month\n",
    "\"\"\"params = {\n",
    "  \"api_key\": os.environ[\"GOOGLE_SCHOLAR_API_KEY\"],\n",
    "  \"engine\": \"google_scholar\",\n",
    "  \"q\": \"RAG AI\",\n",
    "  \"hl\": \"en\"\n",
    "}\n",
    "\n",
    "search = GoogleSearch(params)\n",
    "results = search.get_dict()\n",
    "results\"\"\""
   ]
  },
  {
   "cell_type": "markdown",
   "metadata": {},
   "source": [
    "[[Volver]](#Contenido)"
   ]
  },
  {
   "cell_type": "markdown",
   "metadata": {},
   "source": [
    "## <span style=\"color:blue\">Automatización</span>"
   ]
  },
  {
   "cell_type": "markdown",
   "metadata": {},
   "source": [
    "Automatización del proceso"
   ]
  },
  {
   "cell_type": "markdown",
   "metadata": {},
   "source": [
    "## <span style=\"color:blue\">Uso de la Automatización</span>"
   ]
  },
  {
   "cell_type": "markdown",
   "metadata": {},
   "source": [
    "Uso de la Automatización explicada"
   ]
  },
  {
   "cell_type": "markdown",
   "metadata": {},
   "source": [
    "## <span style=\"color:blue\">Conclusiones</span>"
   ]
  },
  {
   "cell_type": "markdown",
   "metadata": {},
   "source": [
    "Conclusiones del Notebook"
   ]
  },
  {
   "cell_type": "markdown",
   "metadata": {},
   "source": [
    "## <span style=\"color:blue\">Recomendaciones</span>"
   ]
  },
  {
   "cell_type": "markdown",
   "metadata": {},
   "source": [
    "Recomendaciones del estudio hecho."
   ]
  },
  {
   "cell_type": "markdown",
   "metadata": {},
   "source": [
    "## <span style=\"color:blue\">Referencias</span>"
   ]
  },
  {
   "cell_type": "markdown",
   "metadata": {},
   "source": [
    "1. [Referencia]()"
   ]
  }
 ],
 "metadata": {
  "kernelspec": {
   "display_name": "Python 3 (ipykernel)",
   "language": "python",
   "name": "python3"
  },
  "language_info": {
   "codemirror_mode": {
    "name": "ipython",
    "version": 3
   },
   "file_extension": ".py",
   "mimetype": "text/x-python",
   "name": "python",
   "nbconvert_exporter": "python",
   "pygments_lexer": "ipython3",
   "version": "3.10.15"
  }
 },
 "nbformat": 4,
 "nbformat_minor": 4
}
