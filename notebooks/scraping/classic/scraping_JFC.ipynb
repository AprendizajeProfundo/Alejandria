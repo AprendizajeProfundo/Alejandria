{
 "cells": [
  {
   "cell_type": "markdown",
   "id": "ec9e70bb-7590-453d-a8d3-812cafd38e4f",
   "metadata": {
    "jp-MarkdownHeadingCollapsed": true,
    "panel-layout": {
     "height": 235.8451690673828,
     "visible": true,
     "width": 100
    }
   },
   "source": [
    "<figure>\n",
    "    <img src=\"../../../figures/logo_ap.png\"  width=\"80\" height=\"80\" align=\"left\"/>\n",
    "</figure>\n",
    "\n",
    "# <span style=\"color:blue\"><blue><br><br><br><br><center>&nbsp;&nbsp;&nbsp;Aprendizaje Profundo</center></span>"
   ]
  },
  {
   "cell_type": "markdown",
   "id": "238a838e",
   "metadata": {
    "panel-layout": {
     "height": 94.87215423583984,
     "visible": true,
     "width": 100
    }
   },
   "source": [
    "# <span style=\"color:red\"><center>Librería Alejandría</center></span>"
   ]
  },
  {
   "cell_type": "markdown",
   "id": "90900f32-cc2c-4091-b8b5-a4ddae6d985b",
   "metadata": {
    "editable": true,
    "panel-layout": {
     "height": 76.53408813476562,
     "visible": true,
     "width": 100
    },
    "slideshow": {
     "slide_type": ""
    },
    "tags": []
   },
   "source": [
    "## <span style=\"color:green\"><center>Scraping de Arxiv y Google Scholar</center></span>"
   ]
  },
  {
   "cell_type": "markdown",
   "id": "ce21be2b-d8e7-4ff8-b363-0618e20ddd43",
   "metadata": {
    "id": "U_obwR8tE-Dp",
    "panel-layout": {
     "height": 50.82386016845703,
     "visible": true,
     "width": 100
    }
   },
   "source": [
    "## <span style=\"color:blue\">Autores</span>"
   ]
  },
  {
   "cell_type": "markdown",
   "id": "67854eb0",
   "metadata": {
    "panel-layout": {
     "height": 85.42613220214844,
     "visible": true,
     "width": 100
    }
   },
   "source": [
    "1. Álvaro Montenegro, alvaro.montenegro@aprendizajeprofundo.ai\n",
    "1. Daniel Montenegro, daniel.montenegro@aprendizajeprofundo.ai\n",
    "2. Juan Felipe Contreras, j.contrerasa94@gmail.com"
   ]
  },
  {
   "cell_type": "markdown",
   "id": "54404e38",
   "metadata": {
    "panel-layout": {
     "height": 50.82386016845703,
     "visible": true,
     "width": 100
    }
   },
   "source": [
    "## <span style=\"color:blue\">Contenido</span>"
   ]
  },
  {
   "cell_type": "markdown",
   "id": "95e0fbf5",
   "metadata": {
    "panel-layout": {
     "height": 136.8607940673828,
     "visible": true,
     "width": 100
    }
   },
   "source": [
    "* [Librerías Necesarias](#Librerías-Necesarias)\n",
    "* [Sección X](#Sección-X)\n",
    "    * [Subsección X](#Subsección-X)\n",
    "* [Automatización](#Automatización)\n",
    "* [Conclusiones](#Conclusiones)\n",
    "* [Recomendaciones](#Recomendaciones)"
   ]
  },
  {
   "cell_type": "markdown",
   "id": "c4aeb6bb-639c-4e90-8bba-8e80dd8fd2f1",
   "metadata": {
    "id": "U_obwR8tE-Dp",
    "panel-layout": {
     "height": 50.82386016845703,
     "visible": true,
     "width": 100
    }
   },
   "source": [
    "## <span style=\"color:blue\">Librerías Necesarias</span>"
   ]
  },
  {
   "cell_type": "code",
   "execution_count": 1,
   "id": "69342fd9-67a4-4527-b96a-1e1e22686650",
   "metadata": {},
   "outputs": [],
   "source": [
    "import sys\n",
    "sys.path.append('../../../src/')\n",
    "\n",
    "from arxiv_scraper_classic import ArxivScraper"
   ]
  },
  {
   "cell_type": "markdown",
   "id": "29011358-42e3-4aa8-b30e-fa848c6d7c2e",
   "metadata": {
    "id": "U_obwR8tE-Dp",
    "panel-layout": {
     "height": 50.82386016845703,
     "visible": true,
     "width": 100
    }
   },
   "source": [
    "## <span style=\"color:blue\"> Extraer Metadata de Arxiv</span>"
   ]
  },
  {
   "cell_type": "code",
   "execution_count": 2,
   "id": "8b77748a-35bc-4285-996b-7b15e0d74a01",
   "metadata": {},
   "outputs": [],
   "source": [
    "arxiv_scraper = ArxivScraper()"
   ]
  },
  {
   "cell_type": "code",
   "execution_count": 3,
   "id": "fa5f22a3-deac-4907-b778-53285ba4da15",
   "metadata": {},
   "outputs": [],
   "source": [
    "type_query = \"all\"\n",
    "query = \"RAG\"\n",
    "start = 0\n",
    "max_results = 100\n",
    "sortby = \"submittedDate\"\n",
    "sortorder = \"descending\""
   ]
  },
  {
   "cell_type": "code",
   "execution_count": 4,
   "id": "85b330b7-53f3-41c3-954c-8e35ae0b7bd5",
   "metadata": {},
   "outputs": [
    {
     "name": "stdout",
     "output_type": "stream",
     "text": [
      "http://export.arxiv.org/api/query?search_query=all:RAG&start=0&max_results=100&sortBy=submittedDate&sortOrder=descending\n",
      "<class 'pandas.core.frame.DataFrame'>\n",
      "RangeIndex: 100 entries, 0 to 99\n",
      "Data columns (total 9 columns):\n",
      " #   Column            Non-Null Count  Dtype              \n",
      "---  ------            --------------  -----              \n",
      " 0   id                100 non-null    int64              \n",
      " 1   version           100 non-null    object             \n",
      " 2   primary_category  100 non-null    object             \n",
      " 3   published         100 non-null    datetime64[ns, UTC]\n",
      " 4   updated           100 non-null    datetime64[ns, UTC]\n",
      " 5   title             100 non-null    object             \n",
      " 6   summary           100 non-null    object             \n",
      " 7   authors           100 non-null    object             \n",
      " 8   link_article      100 non-null    object             \n",
      "dtypes: datetime64[ns, UTC](2), int64(1), object(6)\n",
      "memory usage: 7.2+ KB\n"
     ]
    }
   ],
   "source": [
    "arxiv_scraper.metadata_from_url(query, type_query, start, max_results, sortby, sortorder)"
   ]
  },
  {
   "cell_type": "code",
   "execution_count": 5,
   "id": "0b8c4b16-6715-41ac-b208-40a2227d41d0",
   "metadata": {},
   "outputs": [
    {
     "data": {
      "text/html": [
       "<div>\n",
       "<style scoped>\n",
       "    .dataframe tbody tr th:only-of-type {\n",
       "        vertical-align: middle;\n",
       "    }\n",
       "\n",
       "    .dataframe tbody tr th {\n",
       "        vertical-align: top;\n",
       "    }\n",
       "\n",
       "    .dataframe thead th {\n",
       "        text-align: right;\n",
       "    }\n",
       "</style>\n",
       "<table border=\"1\" class=\"dataframe\">\n",
       "  <thead>\n",
       "    <tr style=\"text-align: right;\">\n",
       "      <th></th>\n",
       "      <th>id</th>\n",
       "      <th>version</th>\n",
       "      <th>primary_category</th>\n",
       "      <th>published</th>\n",
       "      <th>updated</th>\n",
       "      <th>title</th>\n",
       "      <th>summary</th>\n",
       "      <th>authors</th>\n",
       "      <th>link_article</th>\n",
       "    </tr>\n",
       "  </thead>\n",
       "  <tbody>\n",
       "    <tr>\n",
       "      <th>0</th>\n",
       "      <td>139881</td>\n",
       "      <td>1</td>\n",
       "      <td>cs.LG</td>\n",
       "      <td>2024-12-18 16:07:32+00:00</td>\n",
       "      <td>2024-12-18 16:07:32+00:00</td>\n",
       "      <td>RAG for Effective Supply Chain Security Questi...</td>\n",
       "      <td>In an era where digital security is crucial,...</td>\n",
       "      <td>[Zaynab Batool Reza, Abdul Rafay Syed, Omer Iq...</td>\n",
       "      <td>http://arxiv.org/pdf/2412.13988v1</td>\n",
       "    </tr>\n",
       "    <tr>\n",
       "      <th>1</th>\n",
       "      <td>139241</td>\n",
       "      <td>1</td>\n",
       "      <td>cs.CL</td>\n",
       "      <td>2024-12-18 15:07:23+00:00</td>\n",
       "      <td>2024-12-18 15:07:23+00:00</td>\n",
       "      <td>Language verY Rare for All</td>\n",
       "      <td>In the quest to overcome language barriers, ...</td>\n",
       "      <td>[Ibrahim Merad, Amos Wolf, Ziad Mazzawi, Yanni...</td>\n",
       "      <td>http://arxiv.org/pdf/2412.13924v1</td>\n",
       "    </tr>\n",
       "    <tr>\n",
       "      <th>2</th>\n",
       "      <td>137991</td>\n",
       "      <td>1</td>\n",
       "      <td>cs.CL</td>\n",
       "      <td>2024-12-18 12:45:55+00:00</td>\n",
       "      <td>2024-12-18 12:45:55+00:00</td>\n",
       "      <td>Enhancing Rhetorical Figure Annotation: An Ont...</td>\n",
       "      <td>Rhetorical figures play an important role in...</td>\n",
       "      <td>[Ramona Kühn, Jelena Mitrović, Michael Granitzer]</td>\n",
       "      <td>http://arxiv.org/pdf/2412.13799v1</td>\n",
       "    </tr>\n",
       "    <tr>\n",
       "      <th>3</th>\n",
       "      <td>137741</td>\n",
       "      <td>1</td>\n",
       "      <td>cs.RO</td>\n",
       "      <td>2024-12-18 12:11:39+00:00</td>\n",
       "      <td>2024-12-18 12:11:39+00:00</td>\n",
       "      <td>Designing an LLM-Based Copilot for Manufacturi...</td>\n",
       "      <td>Effective decision-making in automation equi...</td>\n",
       "      <td>[Jonas Werheid, Oleksandr Melnychuk, Hans Zhou...</td>\n",
       "      <td>http://arxiv.org/pdf/2412.13774v1</td>\n",
       "    </tr>\n",
       "    <tr>\n",
       "      <th>4</th>\n",
       "      <td>137461</td>\n",
       "      <td>1</td>\n",
       "      <td>cs.CL</td>\n",
       "      <td>2024-12-18 11:28:05+00:00</td>\n",
       "      <td>2024-12-18 11:28:05+00:00</td>\n",
       "      <td>RAG-RewardBench: Benchmarking Reward Models in...</td>\n",
       "      <td>Despite the significant progress made by exi...</td>\n",
       "      <td>[Zhuoran Jin, Hongbang Yuan, Tianyi Men, Pengf...</td>\n",
       "      <td>http://arxiv.org/pdf/2412.13746v1</td>\n",
       "    </tr>\n",
       "    <tr>\n",
       "      <th>...</th>\n",
       "      <td>...</td>\n",
       "      <td>...</td>\n",
       "      <td>...</td>\n",
       "      <td>...</td>\n",
       "      <td>...</td>\n",
       "      <td>...</td>\n",
       "      <td>...</td>\n",
       "      <td>...</td>\n",
       "      <td>...</td>\n",
       "    </tr>\n",
       "    <tr>\n",
       "      <th>95</th>\n",
       "      <td>1251</td>\n",
       "      <td>1</td>\n",
       "      <td>cs.CL</td>\n",
       "      <td>2024-11-28 12:06:14+00:00</td>\n",
       "      <td>2024-11-28 12:06:14+00:00</td>\n",
       "      <td>Efficient Learning Content Retrieval with Know...</td>\n",
       "      <td>With the rise of online education platforms,...</td>\n",
       "      <td>[Batuhan Sariturk, Rabia Bayraktar, Merve Elma...</td>\n",
       "      <td>http://arxiv.org/pdf/2412.00125v1</td>\n",
       "    </tr>\n",
       "    <tr>\n",
       "      <th>96</th>\n",
       "      <td>189481</td>\n",
       "      <td>1</td>\n",
       "      <td>cs.CR</td>\n",
       "      <td>2024-11-28 06:29:46+00:00</td>\n",
       "      <td>2024-11-28 06:29:46+00:00</td>\n",
       "      <td>Knowledge Database or Poison Base? Detecting R...</td>\n",
       "      <td>As Large Language Models (LLMs) are progress...</td>\n",
       "      <td>[Xue Tan, Hao Luan, Mingyu Luo, Xiaoyan Sun, P...</td>\n",
       "      <td>http://arxiv.org/pdf/2411.18948v1</td>\n",
       "    </tr>\n",
       "    <tr>\n",
       "      <th>97</th>\n",
       "      <td>189471</td>\n",
       "      <td>1</td>\n",
       "      <td>cs.LG</td>\n",
       "      <td>2024-11-28 06:28:45+00:00</td>\n",
       "      <td>2024-11-28 06:28:45+00:00</td>\n",
       "      <td>ICLERB: In-Context Learning Embedding and Rera...</td>\n",
       "      <td>In-Context Learning (ICL) enables Large Lang...</td>\n",
       "      <td>[Marie Al Ghossein, Emile Contal, Alexandre Ro...</td>\n",
       "      <td>http://arxiv.org/pdf/2411.18947v1</td>\n",
       "    </tr>\n",
       "    <tr>\n",
       "      <th>98</th>\n",
       "      <td>185831</td>\n",
       "      <td>1</td>\n",
       "      <td>cs.CL</td>\n",
       "      <td>2024-11-27 18:27:07+00:00</td>\n",
       "      <td>2024-11-27 18:27:07+00:00</td>\n",
       "      <td>Automated Literature Review Using NLP Techniqu...</td>\n",
       "      <td>This research presents and compares multiple...</td>\n",
       "      <td>[Nurshat Fateh Ali, Md. Mahdi Mohtasim, Shakil...</td>\n",
       "      <td>http://arxiv.org/pdf/2411.18583v1</td>\n",
       "    </tr>\n",
       "    <tr>\n",
       "      <th>99</th>\n",
       "      <td>182161</td>\n",
       "      <td>1</td>\n",
       "      <td>cs.SE</td>\n",
       "      <td>2024-11-27 10:48:37+00:00</td>\n",
       "      <td>2024-11-27 10:48:37+00:00</td>\n",
       "      <td>Evaluating and Improving the Robustness of Sec...</td>\n",
       "      <td>Large Language Models (LLMs) are increasingl...</td>\n",
       "      <td>[Samuele Pasini, Jinhan Kim, Tommaso Aiello, R...</td>\n",
       "      <td>http://arxiv.org/pdf/2411.18216v1</td>\n",
       "    </tr>\n",
       "  </tbody>\n",
       "</table>\n",
       "<p>100 rows × 9 columns</p>\n",
       "</div>"
      ],
      "text/plain": [
       "        id version primary_category                 published  \\\n",
       "0   139881       1            cs.LG 2024-12-18 16:07:32+00:00   \n",
       "1   139241       1            cs.CL 2024-12-18 15:07:23+00:00   \n",
       "2   137991       1            cs.CL 2024-12-18 12:45:55+00:00   \n",
       "3   137741       1            cs.RO 2024-12-18 12:11:39+00:00   \n",
       "4   137461       1            cs.CL 2024-12-18 11:28:05+00:00   \n",
       "..     ...     ...              ...                       ...   \n",
       "95    1251       1            cs.CL 2024-11-28 12:06:14+00:00   \n",
       "96  189481       1            cs.CR 2024-11-28 06:29:46+00:00   \n",
       "97  189471       1            cs.LG 2024-11-28 06:28:45+00:00   \n",
       "98  185831       1            cs.CL 2024-11-27 18:27:07+00:00   \n",
       "99  182161       1            cs.SE 2024-11-27 10:48:37+00:00   \n",
       "\n",
       "                     updated  \\\n",
       "0  2024-12-18 16:07:32+00:00   \n",
       "1  2024-12-18 15:07:23+00:00   \n",
       "2  2024-12-18 12:45:55+00:00   \n",
       "3  2024-12-18 12:11:39+00:00   \n",
       "4  2024-12-18 11:28:05+00:00   \n",
       "..                       ...   \n",
       "95 2024-11-28 12:06:14+00:00   \n",
       "96 2024-11-28 06:29:46+00:00   \n",
       "97 2024-11-28 06:28:45+00:00   \n",
       "98 2024-11-27 18:27:07+00:00   \n",
       "99 2024-11-27 10:48:37+00:00   \n",
       "\n",
       "                                                title  \\\n",
       "0   RAG for Effective Supply Chain Security Questi...   \n",
       "1                          Language verY Rare for All   \n",
       "2   Enhancing Rhetorical Figure Annotation: An Ont...   \n",
       "3   Designing an LLM-Based Copilot for Manufacturi...   \n",
       "4   RAG-RewardBench: Benchmarking Reward Models in...   \n",
       "..                                                ...   \n",
       "95  Efficient Learning Content Retrieval with Know...   \n",
       "96  Knowledge Database or Poison Base? Detecting R...   \n",
       "97  ICLERB: In-Context Learning Embedding and Rera...   \n",
       "98  Automated Literature Review Using NLP Techniqu...   \n",
       "99  Evaluating and Improving the Robustness of Sec...   \n",
       "\n",
       "                                              summary  \\\n",
       "0     In an era where digital security is crucial,...   \n",
       "1     In the quest to overcome language barriers, ...   \n",
       "2     Rhetorical figures play an important role in...   \n",
       "3     Effective decision-making in automation equi...   \n",
       "4     Despite the significant progress made by exi...   \n",
       "..                                                ...   \n",
       "95    With the rise of online education platforms,...   \n",
       "96    As Large Language Models (LLMs) are progress...   \n",
       "97    In-Context Learning (ICL) enables Large Lang...   \n",
       "98    This research presents and compares multiple...   \n",
       "99    Large Language Models (LLMs) are increasingl...   \n",
       "\n",
       "                                              authors  \\\n",
       "0   [Zaynab Batool Reza, Abdul Rafay Syed, Omer Iq...   \n",
       "1   [Ibrahim Merad, Amos Wolf, Ziad Mazzawi, Yanni...   \n",
       "2   [Ramona Kühn, Jelena Mitrović, Michael Granitzer]   \n",
       "3   [Jonas Werheid, Oleksandr Melnychuk, Hans Zhou...   \n",
       "4   [Zhuoran Jin, Hongbang Yuan, Tianyi Men, Pengf...   \n",
       "..                                                ...   \n",
       "95  [Batuhan Sariturk, Rabia Bayraktar, Merve Elma...   \n",
       "96  [Xue Tan, Hao Luan, Mingyu Luo, Xiaoyan Sun, P...   \n",
       "97  [Marie Al Ghossein, Emile Contal, Alexandre Ro...   \n",
       "98  [Nurshat Fateh Ali, Md. Mahdi Mohtasim, Shakil...   \n",
       "99  [Samuele Pasini, Jinhan Kim, Tommaso Aiello, R...   \n",
       "\n",
       "                         link_article  \n",
       "0   http://arxiv.org/pdf/2412.13988v1  \n",
       "1   http://arxiv.org/pdf/2412.13924v1  \n",
       "2   http://arxiv.org/pdf/2412.13799v1  \n",
       "3   http://arxiv.org/pdf/2412.13774v1  \n",
       "4   http://arxiv.org/pdf/2412.13746v1  \n",
       "..                                ...  \n",
       "95  http://arxiv.org/pdf/2412.00125v1  \n",
       "96  http://arxiv.org/pdf/2411.18948v1  \n",
       "97  http://arxiv.org/pdf/2411.18947v1  \n",
       "98  http://arxiv.org/pdf/2411.18583v1  \n",
       "99  http://arxiv.org/pdf/2411.18216v1  \n",
       "\n",
       "[100 rows x 9 columns]"
      ]
     },
     "execution_count": 5,
     "metadata": {},
     "output_type": "execute_result"
    }
   ],
   "source": [
    "arxiv_scraper.metadata_df"
   ]
  },
  {
   "cell_type": "markdown",
   "id": "3aba67c9-8dc3-4235-9352-7e75b64dad37",
   "metadata": {
    "id": "U_obwR8tE-Dp",
    "panel-layout": {
     "height": 44.09090805053711,
     "visible": true,
     "width": 100
    }
   },
   "source": [
    "### <span style=\"color:#4CC9F0\"> Extraer contenido de artículos </span>"
   ]
  },
  {
   "cell_type": "code",
   "execution_count": 6,
   "id": "0f957dad-4217-4df6-90f2-485f87905680",
   "metadata": {},
   "outputs": [],
   "source": [
    "article_url = arxiv_scraper.metadata_df['link_article'].values[0]"
   ]
  },
  {
   "cell_type": "code",
   "execution_count": 7,
   "id": "225f1f54-6a35-4f50-afce-e43bd50cca3c",
   "metadata": {},
   "outputs": [
    {
     "name": "stdout",
     "output_type": "stream",
     "text": [
      "    \n",
      "1 RAG for Effective Supply Chain Security Questionnaire Automation Completed Research Paper Zaynab Batool Reza1*, Abdul Rafay Syed1, Omer Iqbal1, Ethel Mensah1, Qian Liu1, Maxx Richard Rahman1,2, Wolfgang Maass1,2 1 Saarland University, Germany 2 German Research Center for Artificial Intelligence (DFKI) * Corresponding Author: zare00001@stud.uni-saarland.de   Introduction In the global economy, ensuring supply chain integrity is crucial for businesses across industries, to protect against disruptions, cyber threats, and data breaches (Saenz et al. 2015). Companies face challenges in maintaining security standards, particularly in managing varied and complex questionnaires from partners and regulators, which are time-consuming and repetitive for IT security teams. The primary issue addressed in this paper is enhancing consistency in responses to supply chain security questionnaires. These repetitive tasks drain resources and risk security compromises due to potential errors or omissions (Saenz et al. 2015). We propose a solution that automates the interpretation of these varied questionnaires, providing accurate, consistent answers based on predefined security protocols. RAG for Effective Supply Chain Security Questionnaire Automation \n",
      "Workshop on Information Technology and Systems, Bangkok, Thailand, 2024  2 Our research focuses on developing an application capable of parsing different document formats, understanding questionnaire contexts, and generating precise responses. We introduce a robust NLP model to recognize and interpret security-related inquiries, integrate this model into a user-friendly internal tool, and implement analytics to assess and refine response accuracy. Additionally, we develop automated testing frameworks to ensure the application's reliability and consistency over time. Related Works The development of automated form-filling systems has gained significant attention due to their potential to enhance efficiency and accuracy across industries. This section reviews recent advances, focusing on large language models (LLMs) and retrieval-augmented generation (RAG) for automated questionnaire completion based on internal policies. Several studies have explored LLMs and RAG in different domains. Fuchs et al. (2021) introduced Form-BERT, a transformer-based model for auto-completing e-commerce forms by predicting attribute values, showcasing deep learning's specialized role in form automation. In contrast, Bucur (2023) integrated a knowledge base with an LLM for broader form completion tasks, emphasizing external knowledge sources to enhance accuracy, unlike Form-BERT’s more focused use case. Lewis et al. (2020) and Jeong (2023) examined integrating retrieval systems with LLMs to enhance response generation in knowledge-intensive tasks. Lewis et al. highlighted external data's role in informing LLM responses for handling diverse questionnaire formats, while Jeong focused on LangChain's use of internal business data to improve response accuracy. Both approaches demonstrate the importance of combining external knowledge with LLMs for better performance in complex tasks. RAG for Effective Supply Chain Security Questionnaire Automation \n",
      "Workshop on Information Technology and Systems, Bangkok, Thailand, 2024  3 Johnson et al. (2017) provided the FAISS library for efficient similarity searches in large datasets of embeddings, supporting the rapid retrieval of relevant policy information—critical for improving the accuracy and efficiency of large-scale data retrieval systems like ours. Recent works such as Atlas by Izacard et al. (2022) and a survey by Fan et al. (2024) emphasized the significance of RA-LLMs. Atlas showed retrieval-augmented models' effectiveness in few-shot learning, especially for knowledge-intensive tasks, without extensive parameters. Fan et al. offered a comprehensive overview of RA-LLMs, discussing their architectures, training strategies, and application areas, highlighting how integrating external knowledge helps overcome LLM limitations like hallucinations and outdated data. These studies emphasize the versatility of RAG with LLMs for handling complex and varied questionnaire formats. Our project builds on these methodologies, focusing on internal policies as the primary data source to streamline form-filling within organizations. Model Development Problem Statement The field of supply chain security requires extensive documentation and strict adherence to internal policies. IT security teams face the challenge of completing complex, time-consuming questionnaires that assess compliance with security policies and potential risks. These questionnaires, prone to human error and quality inconsistencies, are detailed and demanding. Our model leverages document embeddings and queries (q) stored in an Elasticsearch Vector Database (Elastic, 2023), guiding the retrieval function of an LLM model, which fetches the most relevant documents (D) for each query. The generative model then creates responses based on the retrieved documents. RAG for Effective Supply Chain Security Questionnaire Automation \n",
      "Workshop on Information Technology and Systems, Bangkok, Thailand, 2024  4 System Architecture and Workflow Our model, QuestSecure, automates questionnaire completion using a blend of algorithms and formulas to ensure accuracy and efficiency. Key components include the Input Module, which preprocesses documents and converts text into vector representations via LangChain tools (LangChain, 2023). These vectors are stored in an Elasticsearch-managed database for fast retrieval. The Retrieval Module identifies relevant documents, and the Response Generation Module, powered by a Retrieval-Augmented Generation (RAG) framework, generates accurate, natural responses based on retrieved content and the query. LangChain optimizes the workflow, from embedding generation to response generation, ensuring a streamlined process. This architecture maintains data integrity and relevance while facilitating smooth communication between modules. Interaction is enhanced through a Streamlit-based frontend (Streamlit, 2023), improving user experience and scalability. The system supports load balancing and distributed computing to handle growing data needs. Figure 1 outlines the system architecture, demonstrating how components work together to efficiently process queries and generate responses, improving IT security teams' efficiency while maintaining data privacy standards. 𝐸𝑚𝑏𝑒𝑑𝑑𝑖𝑛𝑔 = 𝑓(𝐶𝑙𝑒𝑎𝑛𝑒𝑑𝑇𝑒𝑥𝑡) 𝐷!\"#\"$%&' = 𝑅𝑒𝑡𝑟𝑖𝑒𝑣𝑒(𝑞, 𝐸) 𝑅𝑒𝑠𝑝𝑜𝑛𝑠𝑒=𝐺𝑒𝑛𝑒𝑟𝑎𝑡𝑒(𝐷!\"#\"$%&' , 𝑞) Here, 𝐸𝑚𝑏𝑒𝑑𝑑𝑖𝑛𝑔 refers to the mathematical representation of text as dense vectors that capture meaning. 𝐷!\"#\"$%&' represents the most relevant documents retrieved from the database based on the query (q) and embeddings (E), using the function 𝑅𝑒𝑡𝑟𝑖𝑒𝑣𝑒(𝑞, 𝐸). The 𝑅𝑒𝑠𝑝𝑜𝑛𝑠𝑒 is the final RAG for Effective Supply Chain Security Questionnaire Automation \n",
      "Workshop on Information Technology and Systems, Bangkok, Thailand, 2024  5 output, generated by 𝐺𝑒𝑛𝑒𝑟𝑎𝑡𝑒(𝐷!\"#\"$%&' , 𝑞), which combines the retrieved documents with the query to produce a contextually accurate answer. \n",
      " Figure 1: Model Architecture and detailed workflow Experiments Data We use a dataset from the German Federal Office for Information Security (BSI) (Bundesamt für Sicherheit in der Informationstechnik - BSI), drawn from the IT-Grundschutz Compendium. This collection includes German-language PDFs and Excel files with security protocols, guidelines, and questionnaires designed for IT security in various organizations. The dataset’s complexity, including tables, text, and images, is ideal for training our NLP model to handle security-related queries. Through preprocessing, the model extracts semantic information, enhancing its ability to respond effectively to security questionnaires Preprocessing In preprocessing, we use LangChain tools to process PDFs, Excel, images, and CSVs. Text is extracted with specialized modules, cleaned, and normalized for consistency. The cleaned text is then processed by an LLM to create semantic embeddings, capturing essential details for accurate \n",
      "RAG for Effective Supply Chain Security Questionnaire Automation \n",
      "Workshop on Information Technology and Systems, Bangkok, Thailand, 2024  6 data interpretation. These embeddings are stored in Elasticsearch for quick retrieval in our Retrieval-Augmented Generation framework, laying the groundwork for efficient responses to security questionnaire. Baseline Models To establish a robust baseline for our experiments, we employ PyPDFLoader (LangChain, 2023a) and CSVLoader (LangChain, 2023b) to accurately load PDF and CSV documents, ensuring they are correctly parsed and formatted for further processing. For document segmentation, we use RecursiveCharacterTextSplitter (LangChain, 2023c) and CharacterTextSplitter (LangChain, 2023d), setting each chunk to 150 characters with zero overlap for comprehensive document coverage. In the embedding generation phase, we use the MiniLLM model from Nomic AI (2024), known for its efficient production of high-quality, semantically rich embeddings. For retrieval, we implemented a basic similarity search with k=20 to identify the top 20 documents matching the query's context. For response generation, we utilize the LlaMa 3 model, adept at generating instruction-based responses. This process, streamlined by a standard Retrieval-Augmented Generation (RAG) prompt from LangChain's hub, allows us to create structured queries for accurate and relevant response generation. Post Processing In the post-processing phase, we refine model responses to ensure clarity and relevance. We remove repetitive elements and redundant phrases that do not contribute to a concise answer. Additionally, we filter out segments that stray from the question's language and context, RAG for Effective Supply Chain Security Questionnaire Automation \n",
      "Workshop on Information Technology and Systems, Bangkok, Thailand, 2024  7 maintaining focus and accuracy. This polishing ensures clear, contextually appropriate, and applicable responses, enhancing the system's effectiveness in handling supply chain security questionnaires. Experimental Setup  We experiment with chunk sizes from 150 to 512 characters and overlaps up to 100 to ensure the right balance between text granularity and contextual coherence. Different retrieval mechanisms, including similarity search and Maximal Marginal Relevance (MMR) (LangChain, 2023e), are tested to source the most contextually appropriate information. We vary the number of documents retrieved to refine our process further. Prompt engineering is key; we modify the location and details within the prompts to test how these changes affect the clarity and directness of responses. We experiment with different configurations and language-specific instructions to enhance output accuracy. Additionally, we use different models like LlaMa and Mistral Instruct to handle complex queries and generate context-aware answers. These experiments refine our approach and enhance our ability to automate responses to security questionnaires, establishing a robust framework that adapts to diverse document types and processing needs, thus improving our system’s efficacy. Evaluation Metrics We evaluate our proposed RAG-based approach using both semantic-based automatic metrics and human-like evaluation via an LLM. RAG for Effective Supply Chain Security Questionnaire Automation \n",
      "Workshop on Information Technology and Systems, Bangkok, Thailand, 2024  8 Semantic-Based Automatic Metrics: We employ BertScore (Zhang et al., 2020) and METEOR (Banerjee & Lavie, 2005) for their effectiveness in capturing the semantic richness of responses. BertScore utilizes BERT's contextual embeddings to provide precision, recall, and F1 scores, assessing text similarity between generated and reference responses. METEOR enhances n-gram overlap methods by considering alignment and linguistic nuances like synonyms and paraphrasing, offering a comprehensive measure of linguistic richness. G-Eval with EM German Mistral Model: Complementing automatic metrics, G-Eval (Liu et al., 2023) applies a powerful LLM, the EM German Mistral Model, to score responses on Context Precision, Context Recall, Faithfulness, and Answer Relevancy. These metrics evaluate the accuracy, coverage, truthfulness, and relevance of the responses, ensuring they align closely with the contextual demands of the queries. By integrating G-Eval, we incorporate a human-like perspective into our evaluation, addressing nuances potentially overlooked by automated metrics. This dual approach provides a thorough assessment of the RAG model, ensuring responses are not only accurate but contextually apt and linguistically coherent. Results We evaluate the performance of our proposed approach and all the baseline models. Figure 2 shows the results of different model configurations, and the percentage of valid responses returned. We use these results to determine which prompting technique is the most suitable. The configurations can be interpreted as given in Table 1. Configuration Retrieval Technique LLM Model Prompting Technique Chunk Size Excel Handling SLOBE Similarity LLAMA Start of Prompt (O) 150 Excel Separate RAG for Effective Supply Chain Security Questionnaire Automation \n",
      "Workshop on Information Technology and Systems, Bangkok, Thailand, 2024  9 SLOB Similarity LLAMA Start of Prompt (O) 150 Standard SLNC Similarity LLAMA Start and End (N) 512 Standard SMNC Similarity Mistral Start and End (N) 512 Standard MLNC Maximal Marginal Relevance (MMR) LLAMA Start and End (N) 512 Standard MMNC Maximal Marginal Relevance (MMR) Mistral Start and End (N) 512 Standard SLOC Similarity LLAMA Start of Prompt (O) 512 Standard SMOC Similarity Mistral Start of Prompt (O) 512 Standard MLOC Maximal Marginal Relevance (MMR) LLAMA Start of Prompt (O) 512 Standard MMOC Maximal Marginal Relevance (MMR) Mistral Start of Prompt (O) 512 Standard Table 1: Different configurations used for experimentation.  Figure 2 shows the percentage of valid responses across different model configurations. Each bar represents a specific combination of retrieval technique, LLM model, prompting technique, and chunk size. Configurations using prompt O (start of the prompt) consistently have higher valid response rates compared to prompt N (start and end). The highest rate is for SLOC, which uses Similarity retrieval, LLAMA, and prompt O with a 512-token chunk size. Based on these results, we focus further testing on configurations with prompt O to streamline evaluation and prioritize configurations with higher valid response rates. \n",
      " Figure 2: Valid Responses \n",
      "RAG for Effective Supply Chain Security Questionnaire Automation \n",
      "Workshop on Information Technology and Systems, Bangkok, Thailand, 2024  10 The data in Table 2 shows QuestSecure's superiority in generating responses, with improvements in METEOR and BertScore metrics. This reflects the model's enhanced ability to understand and generate semantically rich and precise responses. Metric/ Model METEOR  BertScore (Precision)  BertScore (Recall)  BertScore (F1)  Baseline (SLOBE) 0.114  0.634  0.655  0.643  QuestSecure (SLOB)  0.139  0.693  0.692  0.692  SLNC  0.128  0.694  0.689  0.691  SMNC  0.093  0.699  0.675  0.686  MLNC  0.133  0.694  0.689  0.691  MMNC  0.111  0.698  0.682  0.689  SLOC  0.138  0.683  0.691  0.687 SMOC 0.101 0.683 0.6708 0.676 MLOC 0.149 0.688 0.694 0.691 MMOC 0.108 0.681 0.6702 0.674 Table 2: Comparison of QuestSecure with other configurations for Base Metrics  Table 3 provides insight into the human-like quality of the responses, evaluating them on criteria that mimic human judgment. The QuestSecure configuration notably excels in all evaluated aspects, particularly in Contextual Precision and Answer Relevancy, affirming its applicability and effectiveness in real-world settings. Due to limited resources, we were only able to run this on 3 configurations. Performance Metric QuestSecure(SLOB) SLNC SLOC G-Eval  (Contextual Precision) 4.0535 3.568 3.6206 G-Eval (Contextual Recall) 3.689 3.281 3.339 G-Eval (Faithfulness) 3.5 2.35 2.078 G-Eval (Answer Relevancy) 4.5 3 3.68 Table 3: G-Eval Results Discussion Our results reveal key insights into the effectiveness of different configurations for automating supply chain security questionnaires. Prompts with instructions only at the start (prompt O) RAG for Effective Supply Chain Security Questionnaire Automation \n",
      "Workshop on Information Technology and Systems, Bangkok, Thailand, 2024  11 consistently led to higher valid response rates, suggesting that simplifying instruction placement enhances accuracy by reducing cognitive load and irrelevant content generation. Maximal Marginal Relevance (MMR) proved particularly effective in tasks requiring precise differentiation between similar documents, demonstrating its strength in high-precision contexts. Larger chunk sizes also improved performance by capturing more contextual information, leading to higher METEOR and BertScore (Recall) metrics due to enhanced semantic richness and better query alignment. The Llama model outperformed Mistral Instruct, likely due to its extensive training on diverse datasets, allowing it to better handle the complexity of security-related queries. G-Eval metrics provided a nuanced view of model performance, assessing contextual precision, recall, faithfulness, and relevancy of responses. While the basic configuration scored well, QuestSecure (SLOB) showed notable improvements across all G-Eval metrics. Further testing with more resources could provide deeper insights into other configurations. Conclusion Our study demonstrates the effectiveness of Natural Language Processing (NLP) and Retrieval-Augmented Generation (RAG) frameworks in automating responses to supply chain security questionnaires, significantly enhancing efficiency and accuracy. Simplified prompts, advanced retrieval techniques like MMR, and larger data chunk sizes have collectively contributed to improved response quality. The Llama model has shown exceptional performance due to its comprehensive training on diverse datasets. This reduces the burden on IT security teams and minimizes error potential, thereby improving compliance and security standards. The inclusion of RAG for Effective Supply Chain Security Questionnaire Automation \n",
      "Workshop on Information Technology and Systems, Bangkok, Thailand, 2024  12 human-like evaluation metrics such as the G-Eval ensures that the automated responses align with nuanced human judgment, essential for maintaining response reliability in security settings. Limitations and Future Work Our study faced several limitations that affected the depth of our experimentation. Resource constraints limited our ability to test a wider range of model configurations, potentially missing insights into optimal settings. We also lacked access to more advanced LLMs, such as GPT-4 from Azure OpenAI, which restricted our ability to fully exploit the latest NLP advancements. Enhanced access to these models could significantly improve the accuracy and contextual relevance of the automated responses. Looking ahead, future work could focus on integrating more advanced LLMs to further refine response quality, benefiting from the latest AI and machine learning advancements. With increased computational resources, we could also explore more thorough hyperparameter tuning, optimizing factors like chunk size and document retrieval through methods like random search. References Banerjee, S., & Lavie, A. (2005). METEOR: An automatic metric for MT evaluation with improved correlation with human judgments. Proceedings of the ACL Workshop on Intrinsic and Extrinsic Evaluation Measures for Machine Translation and/or Summarization, 65-72. https://aclanthology.org/W05-0909.pdf Bucur, M. (2023). Exploring large language models and retrieval augmented generation for automated form filling. University of Twente. Bundesamt für Sicherheit in der Informationstechnik. (n.d.). IT-Grundschutz compendium. Bundesamt für Sicherheit in der Informationstechnik. Retrieved from RAG for Effective Supply Chain Security Questionnaire Automation \n",
      "Workshop on Information Technology and Systems, Bangkok, Thailand, 2024  13 https://www.bsi.bund.de/DE/Themen/Unternehmen-und-Organisationen/Standards-und-Zertifizierung/IT-Grundschutz/IT-Grundschutz-Kompendium/Hilfsmittel-und-Anwenderbeitraege/Recplast/recplast_node.html Carbonell, J., & Goldstein, J. (1999). The use of MMR, diversity-based reranking for reordering documents and producing summaries. Proceedings of the 22nd Annual International ACM SIGIR Conference on Research and Development in Information Retrieval, 290-298. https://doi.org/10.1145/290941.291025 Chase, H. (2022). LangChain [Computer software]. GitHub. https://github.com/langchain-ai/langchain Elastic. (2023). Elasticsearch: The official distributed search & analytics engine. Elastic. https://www.elastic.co/elasticsearch Fan, W., Ding, Y., Ning, L., Wang, S., Li, H., Yin, D., Chua, T. S., & Li, Q. (2024). A survey on RAG meeting LLMs: Towards retrieval-augmented large language models. arXiv preprint, arXiv:2405.06211. https://arxiv.org/abs/2405.06211 Fuchs, G., Roitman, H., & Mandelbrod, M. (2021). Automatic form filling with Form-BERT. In Proceedings of the 44th International ACM SIGIR Conference on Research and Development in Information Retrieval (SIGIR '21). https://doi.org/10.1145/3404835.3463063 Harries, J.P. (2023). em_german_mistral. GitHub. https://github.com/jphme/EM_German Izacard, G., Lewis, P., Lomeli, M., Hosseini, L., Petroni, F., Schick, T., Dwivedi-Yu, J., Joulin, A., Riedel, S., & Grave, E. (2022). Atlas: Few-shot learning with retrieval augmented language models. arXiv preprint, arXiv:2208.03299. https://arxiv.org/abs/2208.03299 Jeong, C. (2023). Generative AI service implementation using LLM application architecture: Based on RAG model and LangChain framework. Journal of Intelligent Information Systems. RAG for Effective Supply Chain Security Questionnaire Automation \n",
      "Workshop on Information Technology and Systems, Bangkok, Thailand, 2024  14 Johnson, J., Douze, M., & Jégou, H. (2017). Billion-scale similarity search with GPUs. arXiv preprint, arXiv:1702.08734. LangChain. (2021). Document transformers. Retrieved from https://python.langchain.com/v0.1/docs/modules/data_connection/document_transformers/ LangChain. (2023). LangChain documentation. LangChain. https://langchain.readthedocs.io LangChain. (2023a). PyPDFLoader documentation. LangChain. https://api.python.langchain.com/en/latest/document_loaders/langchain_community.document_loaders.pdf.PyPDFLoader.html LangChain. (2023b). CSVLoader documentation. LangChain. https://api.python.langchain.com/en/latest/document_loaders/langchain_community.document_loaders.csv_loader.CSVLoader.html LangChain. (2023c). RecursiveCharacterTextSplitter documentation. LangChain. https://api.python.langchain.com/en/latest/character/langchain_text_splitters.character.RecursiveCharacterTextSplitter.html LangChain. (2023d). CharacterTextSplitter documentation. LangChain. https://api.python.langchain.com/en/latest/character/langchain_text_splitters.character.CharacterTextSplitter.html LangChain. (2023e). Maximal Marginal Relevance (MMR) documentation. LangChain. https://api.python.langchain.com/en/latest/example_selectors/langchain_core.example_selectors.semantic_similarity.MaxMarginalRelevanceExampleSelector.html Lewis, P., Perez, E., Piktus, A., Petroni, F., Karpukhin, V., Goyal, N., Küttler, H., Lewis, M., Yih, W.-t., Rocktäschel, T., Riedel, S., & Kiela, D. (2020). Retrieval-augmented generation for knowledge-intensive NLP tasks. arXiv preprint, arXiv:2005.11401v4. RAG for Effective Supply Chain Security Questionnaire Automation \n",
      "Workshop on Information Technology and Systems, Bangkok, Thailand, 2024  15 Liu, Y., Iter, D., Xu, Y., Wang, S., Xu, R., & Zhu, C. (2023). G-Eval: NLG evaluation using GPT-4 with better human alignment. arXiv preprint, arXiv:2303.16634. https://arxiv.org/abs/2303.16634 Nomic AI. (2024). gpt4all. GitHub. https://github.com/nomic-ai/gpt4all Parsons, K., McCormac, A., Butavicius, M., Pattinson, M., & Jerram, C. (2014). Determining employee awareness using the Human Aspects of Information Security Questionnaire (HAIS-Q). Computers & Security, 42, 165-176. Saenz, M.J., Koufteros, X., Hohenstein, N.O., Feisel, E., Hartmann, E., & Giunipero, L. (2015). Research on the phenomenon of supply chain resilience. International Journal of Physical Distribution and Logistics Management, 45(1-2), 90-117. Streamlit. (2023). Streamlit: The fastest way to build data apps. Streamlit. https://streamlit.io Zhang, T., Kishore, V., Wu, F., Weinberger, K. Q., & Artz, Y. (2020). BERTScore: Evaluating text generation with BERT. arXiv preprint, arXiv:1904.09675. \n"
     ]
    }
   ],
   "source": [
    "print(arxiv_scraper.download_pdf(article_url))"
   ]
  },
  {
   "cell_type": "markdown",
   "id": "872b840a-2698-47dd-b4dc-a9b4d72e9cf3",
   "metadata": {
    "id": "U_obwR8tE-Dp",
    "panel-layout": {
     "height": 50.82386016845703,
     "visible": true,
     "width": 100
    }
   },
   "source": [
    "## <span style=\"color:blue\">Extraer metadata de Google Scholar por medio de Scholarly</span>"
   ]
  },
  {
   "cell_type": "code",
   "execution_count": 8,
   "id": "16ee84a4-2dfc-4881-9555-85ac86e112a9",
   "metadata": {},
   "outputs": [],
   "source": [
    "import sys\n",
    "sys.path.append('../../../src/')\n",
    "\n",
    "from google_scholar_scraper_classic import GoogleScholarScraper"
   ]
  },
  {
   "cell_type": "code",
   "execution_count": 9,
   "id": "7df3a745-a302-4663-8243-0dc94f0944f7",
   "metadata": {},
   "outputs": [
    {
     "name": "stdout",
     "output_type": "stream",
     "text": [
      "Scholarly - Artículo 1: Reinforcement learning: A survey\n",
      "Scholarly - Artículo 2: Reinforcement learning\n",
      "Scholarly - Artículo 3: Deep reinforcement learning: A brief survey\n",
      "Scholarly - Artículo 4: Reinforcement learning\n",
      "Scholarly - Artículo 5: Reinforcement learning\n",
      "Scholarly - Artículo 6: Deep reinforcement learning: An overview\n",
      "Scholarly - Artículo 7: Introduction to reinforcement learning\n",
      "Scholarly - Artículo 8: Algorithms for reinforcement learning\n",
      "Scholarly - Artículo 9: Reinforcement learning: A tutorial\n",
      "Scholarly - Artículo 10: Reinforcement learning: An introduction\n"
     ]
    }
   ],
   "source": [
    "scraper = GoogleScholarScraper()\n",
    "\n",
    "scraper.search_articles(query=\"reinforcement learning\", max_results=10)\n",
    "\n",
    "df = scraper.get_dataframe()"
   ]
  },
  {
   "cell_type": "code",
   "execution_count": 10,
   "id": "2eb1ac71-2573-45c3-bd4b-cd5b6622b76a",
   "metadata": {},
   "outputs": [
    {
     "data": {
      "text/html": [
       "<div>\n",
       "<style scoped>\n",
       "    .dataframe tbody tr th:only-of-type {\n",
       "        vertical-align: middle;\n",
       "    }\n",
       "\n",
       "    .dataframe tbody tr th {\n",
       "        vertical-align: top;\n",
       "    }\n",
       "\n",
       "    .dataframe thead th {\n",
       "        text-align: right;\n",
       "    }\n",
       "</style>\n",
       "<table border=\"1\" class=\"dataframe\">\n",
       "  <thead>\n",
       "    <tr style=\"text-align: right;\">\n",
       "      <th></th>\n",
       "      <th>published</th>\n",
       "      <th>title</th>\n",
       "      <th>summary</th>\n",
       "      <th>authors</th>\n",
       "      <th>link_article</th>\n",
       "    </tr>\n",
       "  </thead>\n",
       "  <tbody>\n",
       "    <tr>\n",
       "      <th>0</th>\n",
       "      <td>1996-01-01</td>\n",
       "      <td>Reinforcement learning: A survey</td>\n",
       "      <td>This paper surveys the field of reinforcement ...</td>\n",
       "      <td>LP Kaelbling, ML Littman, AW Moore</td>\n",
       "      <td>https://www.jair.org/index.php/jair/article/vi...</td>\n",
       "    </tr>\n",
       "    <tr>\n",
       "      <th>1</th>\n",
       "      <td>2012-01-01</td>\n",
       "      <td>Reinforcement learning</td>\n",
       "      <td>This includes PhD and master students, researc...</td>\n",
       "      <td>MA Wiering, M Van Otterlo</td>\n",
       "      <td>https://link.springer.com/content/pdf/10.1007/...</td>\n",
       "    </tr>\n",
       "    <tr>\n",
       "      <th>2</th>\n",
       "      <td>2017-01-01</td>\n",
       "      <td>Deep reinforcement learning: A brief survey</td>\n",
       "      <td>learning is enabling reinforcement learning (R...</td>\n",
       "      <td>K Arulkumaran, MP Deisenroth</td>\n",
       "      <td>https://ieeexplore.ieee.org/abstract/document/...</td>\n",
       "    </tr>\n",
       "    <tr>\n",
       "      <th>3</th>\n",
       "      <td>1999-01-01</td>\n",
       "      <td>Reinforcement learning</td>\n",
       "      <td>algorithms that learn a  reinforcement learnin...</td>\n",
       "      <td>RS Sutton, AG Barto</td>\n",
       "      <td>https://www.academia.edu/download/6985553/ivry...</td>\n",
       "    </tr>\n",
       "    <tr>\n",
       "      <th>4</th>\n",
       "      <td>1997-01-01</td>\n",
       "      <td>Reinforcement learning</td>\n",
       "      <td>Reinforcement learning allows autonomous syste...</td>\n",
       "      <td>AG Barto</td>\n",
       "      <td>https://www.sciencedirect.com/science/article/...</td>\n",
       "    </tr>\n",
       "    <tr>\n",
       "      <th>5</th>\n",
       "      <td>2017-01-01</td>\n",
       "      <td>Deep reinforcement learning: An overview</td>\n",
       "      <td>exciting achievements of deep reinforcement le...</td>\n",
       "      <td>Y Li</td>\n",
       "      <td>https://arxiv.org/abs/1701.07274</td>\n",
       "    </tr>\n",
       "    <tr>\n",
       "      <th>6</th>\n",
       "      <td>2024-01-01</td>\n",
       "      <td>Introduction to reinforcement learning</td>\n",
       "      <td>To obtain a lot of reward, a reinforcement lea...</td>\n",
       "      <td>D Ernst, A Louette</td>\n",
       "      <td>https://damien-ernst.be/wp-content/uploads/202...</td>\n",
       "    </tr>\n",
       "    <tr>\n",
       "      <th>7</th>\n",
       "      <td>2022-01-01</td>\n",
       "      <td>Algorithms for reinforcement learning</td>\n",
       "      <td>Reinforcement learning is of great interest  o...</td>\n",
       "      <td>C Szepesvári</td>\n",
       "      <td>https://books.google.com/books?hl=en&amp;lr=&amp;id=g4...</td>\n",
       "    </tr>\n",
       "    <tr>\n",
       "      <th>8</th>\n",
       "      <td>1996-01-01</td>\n",
       "      <td>Reinforcement learning: A tutorial</td>\n",
       "      <td>The purpose of this tutorial is to provide an ...</td>\n",
       "      <td>ME Harmon, SS Harmon</td>\n",
       "      <td>https://www.applied-mathematics.net/qlearning/...</td>\n",
       "    </tr>\n",
       "    <tr>\n",
       "      <th>9</th>\n",
       "      <td>2018-01-01</td>\n",
       "      <td>Reinforcement learning: An introduction</td>\n",
       "      <td>, but by itself does not address the reinforce...</td>\n",
       "      <td>RS Sutton, AG Barto</td>\n",
       "      <td>https://books.google.com/books?hl=en&amp;lr=&amp;id=uW...</td>\n",
       "    </tr>\n",
       "  </tbody>\n",
       "</table>\n",
       "</div>"
      ],
      "text/plain": [
       "   published                                        title  \\\n",
       "0 1996-01-01             Reinforcement learning: A survey   \n",
       "1 2012-01-01                       Reinforcement learning   \n",
       "2 2017-01-01  Deep reinforcement learning: A brief survey   \n",
       "3 1999-01-01                       Reinforcement learning   \n",
       "4 1997-01-01                       Reinforcement learning   \n",
       "5 2017-01-01     Deep reinforcement learning: An overview   \n",
       "6 2024-01-01       Introduction to reinforcement learning   \n",
       "7 2022-01-01        Algorithms for reinforcement learning   \n",
       "8 1996-01-01           Reinforcement learning: A tutorial   \n",
       "9 2018-01-01      Reinforcement learning: An introduction   \n",
       "\n",
       "                                             summary  \\\n",
       "0  This paper surveys the field of reinforcement ...   \n",
       "1  This includes PhD and master students, researc...   \n",
       "2  learning is enabling reinforcement learning (R...   \n",
       "3  algorithms that learn a  reinforcement learnin...   \n",
       "4  Reinforcement learning allows autonomous syste...   \n",
       "5  exciting achievements of deep reinforcement le...   \n",
       "6  To obtain a lot of reward, a reinforcement lea...   \n",
       "7  Reinforcement learning is of great interest  o...   \n",
       "8  The purpose of this tutorial is to provide an ...   \n",
       "9  , but by itself does not address the reinforce...   \n",
       "\n",
       "                              authors  \\\n",
       "0  LP Kaelbling, ML Littman, AW Moore   \n",
       "1           MA Wiering, M Van Otterlo   \n",
       "2        K Arulkumaran, MP Deisenroth   \n",
       "3                 RS Sutton, AG Barto   \n",
       "4                            AG Barto   \n",
       "5                                Y Li   \n",
       "6                  D Ernst, A Louette   \n",
       "7                        C Szepesvári   \n",
       "8                ME Harmon, SS Harmon   \n",
       "9                 RS Sutton, AG Barto   \n",
       "\n",
       "                                        link_article  \n",
       "0  https://www.jair.org/index.php/jair/article/vi...  \n",
       "1  https://link.springer.com/content/pdf/10.1007/...  \n",
       "2  https://ieeexplore.ieee.org/abstract/document/...  \n",
       "3  https://www.academia.edu/download/6985553/ivry...  \n",
       "4  https://www.sciencedirect.com/science/article/...  \n",
       "5                   https://arxiv.org/abs/1701.07274  \n",
       "6  https://damien-ernst.be/wp-content/uploads/202...  \n",
       "7  https://books.google.com/books?hl=en&lr=&id=g4...  \n",
       "8  https://www.applied-mathematics.net/qlearning/...  \n",
       "9  https://books.google.com/books?hl=en&lr=&id=uW...  "
      ]
     },
     "execution_count": 10,
     "metadata": {},
     "output_type": "execute_result"
    }
   ],
   "source": [
    "df"
   ]
  },
  {
   "cell_type": "markdown",
   "id": "f4198b5c",
   "metadata": {
    "panel-layout": {
     "height": 50.82386016845703,
     "visible": true,
     "width": 100
    }
   },
   "source": [
    "## <span style=\"color:blue\">Extraer metadata de Google Scholar por medio de Serpapi</span>"
   ]
  },
  {
   "cell_type": "code",
   "execution_count": 11,
   "id": "d6099234-596b-402d-8b85-27303ebf19da",
   "metadata": {
    "panel-layout": {
     "height": 51.13636016845703,
     "visible": true,
     "width": 100
    }
   },
   "outputs": [],
   "source": [
    "import sys\n",
    "from dotenv import load_dotenv\n",
    "import os\n",
    "sys.path.append('../../../src/')\n",
    "\n",
    "from google_scholar_scraper_classic import GoogleScholarScraper"
   ]
  },
  {
   "cell_type": "code",
   "execution_count": 12,
   "id": "fd19e720-63e4-4c75-a773-78685f4f8762",
   "metadata": {},
   "outputs": [
    {
     "data": {
      "text/plain": [
       "True"
      ]
     },
     "execution_count": 12,
     "metadata": {},
     "output_type": "execute_result"
    }
   ],
   "source": [
    "load_dotenv('../../../.env')"
   ]
  },
  {
   "cell_type": "code",
   "execution_count": 13,
   "id": "302bfc20-6ee1-4a41-a0a0-d969b3369612",
   "metadata": {},
   "outputs": [],
   "source": [
    "serpapi_key = os.getenv('SERPAPI_KEY')"
   ]
  },
  {
   "cell_type": "code",
   "execution_count": 14,
   "id": "0ac1e143-cd3d-492d-9b14-0d4015b0acdd",
   "metadata": {},
   "outputs": [],
   "source": [
    "google_scholar_scraper = GoogleScholarScraper(method='serpapi', api_key=serpapi_key)"
   ]
  },
  {
   "cell_type": "code",
   "execution_count": 15,
   "id": "a5da872e-5b64-42b5-a8c4-c0b07d91c753",
   "metadata": {},
   "outputs": [
    {
     "name": "stdout",
     "output_type": "stream",
     "text": [
      "SerpAPI - Artículo 1: Reinforcement learning: A survey\n",
      "SerpAPI - Artículo 2: Reinforcement learning\n",
      "SerpAPI - Artículo 3: Deep reinforcement learning: A brief survey\n",
      "SerpAPI - Artículo 4: Reinforcement learning\n",
      "SerpAPI - Artículo 5: Reinforcement learning\n",
      "SerpAPI - Artículo 6: Deep reinforcement learning: An overview\n",
      "SerpAPI - Artículo 7: Introduction to reinforcement learning\n",
      "SerpAPI - Artículo 8: Algorithms for reinforcement learning\n",
      "SerpAPI - Artículo 9: Reinforcement learning: A tutorial\n",
      "SerpAPI - Artículo 10: Reinforcement learning: An introduction\n"
     ]
    }
   ],
   "source": [
    "google_scholar_scraper.search_articles(query=\"reinforcement learning\", max_results=10)\n",
    "\n",
    "df = google_scholar_scraper.get_dataframe()"
   ]
  },
  {
   "cell_type": "code",
   "execution_count": 16,
   "id": "709d2c37-682d-4351-8b96-9408c85c3301",
   "metadata": {},
   "outputs": [
    {
     "data": {
      "text/html": [
       "<div>\n",
       "<style scoped>\n",
       "    .dataframe tbody tr th:only-of-type {\n",
       "        vertical-align: middle;\n",
       "    }\n",
       "\n",
       "    .dataframe tbody tr th {\n",
       "        vertical-align: top;\n",
       "    }\n",
       "\n",
       "    .dataframe thead th {\n",
       "        text-align: right;\n",
       "    }\n",
       "</style>\n",
       "<table border=\"1\" class=\"dataframe\">\n",
       "  <thead>\n",
       "    <tr style=\"text-align: right;\">\n",
       "      <th></th>\n",
       "      <th>published</th>\n",
       "      <th>title</th>\n",
       "      <th>summary</th>\n",
       "      <th>authors</th>\n",
       "      <th>link_article</th>\n",
       "    </tr>\n",
       "  </thead>\n",
       "  <tbody>\n",
       "    <tr>\n",
       "      <th>0</th>\n",
       "      <td>None</td>\n",
       "      <td>Reinforcement learning: A survey</td>\n",
       "      <td>… This paper surveys the field of reinforcemen...</td>\n",
       "      <td>[{'name': 'LP Kaelbling', 'link': 'https://sch...</td>\n",
       "      <td>https://www.jair.org/index.php/jair/article/vi...</td>\n",
       "    </tr>\n",
       "    <tr>\n",
       "      <th>1</th>\n",
       "      <td>None</td>\n",
       "      <td>Reinforcement learning</td>\n",
       "      <td>… This includes PhD and master students, resea...</td>\n",
       "      <td>[{'name': 'MA Wiering', 'link': 'https://schol...</td>\n",
       "      <td>https://link.springer.com/content/pdf/10.1007/...</td>\n",
       "    </tr>\n",
       "    <tr>\n",
       "      <th>2</th>\n",
       "      <td>None</td>\n",
       "      <td>Deep reinforcement learning: A brief survey</td>\n",
       "      <td>… learning is enabling reinforcement learning ...</td>\n",
       "      <td>[{'name': 'K Arulkumaran', 'link': 'https://sc...</td>\n",
       "      <td>https://ieeexplore.ieee.org/abstract/document/...</td>\n",
       "    </tr>\n",
       "    <tr>\n",
       "      <th>3</th>\n",
       "      <td>None</td>\n",
       "      <td>Reinforcement learning</td>\n",
       "      <td>… algorithms that learn a … reinforcement lear...</td>\n",
       "      <td>[{'name': 'RS Sutton', 'link': 'https://schola...</td>\n",
       "      <td>https://www.academia.edu/download/6985553/ivry...</td>\n",
       "    </tr>\n",
       "    <tr>\n",
       "      <th>4</th>\n",
       "      <td>None</td>\n",
       "      <td>Reinforcement learning</td>\n",
       "      <td>… Reinforcement learning allows autonomous sys...</td>\n",
       "      <td>[{'name': 'AG Barto', 'link': 'https://scholar...</td>\n",
       "      <td>https://www.sciencedirect.com/science/article/...</td>\n",
       "    </tr>\n",
       "    <tr>\n",
       "      <th>5</th>\n",
       "      <td>None</td>\n",
       "      <td>Deep reinforcement learning: An overview</td>\n",
       "      <td>… exciting achievements of deep reinforcement ...</td>\n",
       "      <td>N/A</td>\n",
       "      <td>https://arxiv.org/abs/1701.07274</td>\n",
       "    </tr>\n",
       "    <tr>\n",
       "      <th>6</th>\n",
       "      <td>None</td>\n",
       "      <td>Introduction to reinforcement learning</td>\n",
       "      <td>… To obtain a lot of reward, a reinforcement l...</td>\n",
       "      <td>N/A</td>\n",
       "      <td>https://damien-ernst.be/wp-content/uploads/202...</td>\n",
       "    </tr>\n",
       "    <tr>\n",
       "      <th>7</th>\n",
       "      <td>None</td>\n",
       "      <td>Algorithms for reinforcement learning</td>\n",
       "      <td>… Reinforcement learning is of great interest ...</td>\n",
       "      <td>[{'name': 'C Szepesvári', 'link': 'https://sch...</td>\n",
       "      <td>https://books.google.com/books?hl=en&amp;lr=&amp;id=g4...</td>\n",
       "    </tr>\n",
       "    <tr>\n",
       "      <th>8</th>\n",
       "      <td>None</td>\n",
       "      <td>Reinforcement learning: A tutorial</td>\n",
       "      <td>… The purpose of this tutorial is to provide a...</td>\n",
       "      <td>N/A</td>\n",
       "      <td>https://www.applied-mathematics.net/qlearning/...</td>\n",
       "    </tr>\n",
       "    <tr>\n",
       "      <th>9</th>\n",
       "      <td>None</td>\n",
       "      <td>Reinforcement learning: An introduction</td>\n",
       "      <td>Reinforcement learning: An introduction Reinfo...</td>\n",
       "      <td>[{'name': 'RS Sutton', 'link': 'https://schola...</td>\n",
       "      <td>https://books.google.com/books?hl=en&amp;lr=&amp;id=sW...</td>\n",
       "    </tr>\n",
       "  </tbody>\n",
       "</table>\n",
       "</div>"
      ],
      "text/plain": [
       "  published                                        title  \\\n",
       "0      None             Reinforcement learning: A survey   \n",
       "1      None                       Reinforcement learning   \n",
       "2      None  Deep reinforcement learning: A brief survey   \n",
       "3      None                       Reinforcement learning   \n",
       "4      None                       Reinforcement learning   \n",
       "5      None     Deep reinforcement learning: An overview   \n",
       "6      None       Introduction to reinforcement learning   \n",
       "7      None        Algorithms for reinforcement learning   \n",
       "8      None           Reinforcement learning: A tutorial   \n",
       "9      None      Reinforcement learning: An introduction   \n",
       "\n",
       "                                             summary  \\\n",
       "0  … This paper surveys the field of reinforcemen...   \n",
       "1  … This includes PhD and master students, resea...   \n",
       "2  … learning is enabling reinforcement learning ...   \n",
       "3  … algorithms that learn a … reinforcement lear...   \n",
       "4  … Reinforcement learning allows autonomous sys...   \n",
       "5  … exciting achievements of deep reinforcement ...   \n",
       "6  … To obtain a lot of reward, a reinforcement l...   \n",
       "7  … Reinforcement learning is of great interest ...   \n",
       "8  … The purpose of this tutorial is to provide a...   \n",
       "9  Reinforcement learning: An introduction Reinfo...   \n",
       "\n",
       "                                             authors  \\\n",
       "0  [{'name': 'LP Kaelbling', 'link': 'https://sch...   \n",
       "1  [{'name': 'MA Wiering', 'link': 'https://schol...   \n",
       "2  [{'name': 'K Arulkumaran', 'link': 'https://sc...   \n",
       "3  [{'name': 'RS Sutton', 'link': 'https://schola...   \n",
       "4  [{'name': 'AG Barto', 'link': 'https://scholar...   \n",
       "5                                                N/A   \n",
       "6                                                N/A   \n",
       "7  [{'name': 'C Szepesvári', 'link': 'https://sch...   \n",
       "8                                                N/A   \n",
       "9  [{'name': 'RS Sutton', 'link': 'https://schola...   \n",
       "\n",
       "                                        link_article  \n",
       "0  https://www.jair.org/index.php/jair/article/vi...  \n",
       "1  https://link.springer.com/content/pdf/10.1007/...  \n",
       "2  https://ieeexplore.ieee.org/abstract/document/...  \n",
       "3  https://www.academia.edu/download/6985553/ivry...  \n",
       "4  https://www.sciencedirect.com/science/article/...  \n",
       "5                   https://arxiv.org/abs/1701.07274  \n",
       "6  https://damien-ernst.be/wp-content/uploads/202...  \n",
       "7  https://books.google.com/books?hl=en&lr=&id=g4...  \n",
       "8  https://www.applied-mathematics.net/qlearning/...  \n",
       "9  https://books.google.com/books?hl=en&lr=&id=sW...  "
      ]
     },
     "execution_count": 16,
     "metadata": {},
     "output_type": "execute_result"
    }
   ],
   "source": [
    "df"
   ]
  },
  {
   "cell_type": "markdown",
   "id": "72a1f88d-40be-4974-bd97-bd2c9452d935",
   "metadata": {
    "id": "U_obwR8tE-Dp",
    "panel-layout": {
     "height": 50.82386016845703,
     "visible": true,
     "width": 100
    }
   },
   "source": [
    "## <span style=\"color:blue\">Conclusiones</span>"
   ]
  },
  {
   "cell_type": "markdown",
   "id": "1a7a85eb-beb6-4333-a7d3-ba3e5464a436",
   "metadata": {
    "panel-layout": {
     "height": 51.13636016845703,
     "visible": true,
     "width": 100
    }
   },
   "source": [
    "Conclusiones del Notebook"
   ]
  },
  {
   "cell_type": "markdown",
   "id": "e6b1f3c0-4813-4cbd-b2c2-01d89f8ed6a9",
   "metadata": {
    "id": "U_obwR8tE-Dp",
    "panel-layout": {
     "height": 50.82386016845703,
     "visible": true,
     "width": 100
    }
   },
   "source": [
    "## <span style=\"color:blue\">Recomendaciones</span>"
   ]
  },
  {
   "cell_type": "markdown",
   "id": "6687ef35-2ae8-4c5f-ac6a-771e0ef6a25d",
   "metadata": {
    "panel-layout": {
     "height": 51.13636016845703,
     "visible": true,
     "width": 100
    }
   },
   "source": [
    "Recomendaciones del estudio hecho."
   ]
  },
  {
   "cell_type": "markdown",
   "id": "18f0ee6b",
   "metadata": {
    "panel-layout": {
     "height": 50.82386016845703,
     "visible": true,
     "width": 100
    }
   },
   "source": [
    "## <span style=\"color:blue\">Referencias</span>"
   ]
  },
  {
   "cell_type": "markdown",
   "id": "0434f720",
   "metadata": {
    "panel-layout": {
     "height": 51.13636016845703,
     "visible": true,
     "width": 100
    }
   },
   "source": [
    "1. [Referencia]()"
   ]
  }
 ],
 "metadata": {
  "kernelspec": {
   "display_name": "Python 3 (ipykernel)",
   "language": "python",
   "name": "python3"
  },
  "language_info": {
   "codemirror_mode": {
    "name": "ipython",
    "version": 3
   },
   "file_extension": ".py",
   "mimetype": "text/x-python",
   "name": "python",
   "nbconvert_exporter": "python",
   "pygments_lexer": "ipython3",
   "version": "3.10.16"
  },
  "panel-cell-order": [
   "ec9e70bb-7590-453d-a8d3-812cafd38e4f",
   "238a838e",
   "90900f32-cc2c-4091-b8b5-a4ddae6d985b",
   "ce21be2b-d8e7-4ff8-b363-0618e20ddd43",
   "67854eb0",
   "54404e38",
   "95e0fbf5",
   "c4aeb6bb-639c-4e90-8bba-8e80dd8fd2f1",
   "29011358-42e3-4aa8-b30e-fa848c6d7c2e",
   "b9267d9a-df22-438d-9b06-e78fdb738638",
   "548b697f-8e7f-4c93-895a-d20db4633440",
   "ccb61fba-f736-408e-9227-f3679568f076",
   "872b840a-2698-47dd-b4dc-a9b4d72e9cf3",
   "636adabb-52c4-45b2-9037-bed9ee3850e0",
   "f4198b5c",
   "5e38ff2d",
   "72a1f88d-40be-4974-bd97-bd2c9452d935",
   "1a7a85eb-beb6-4333-a7d3-ba3e5464a436",
   "e6b1f3c0-4813-4cbd-b2c2-01d89f8ed6a9",
   "6687ef35-2ae8-4c5f-ac6a-771e0ef6a25d",
   "18f0ee6b",
   "0434f720"
  ]
 },
 "nbformat": 4,
 "nbformat_minor": 5
}
