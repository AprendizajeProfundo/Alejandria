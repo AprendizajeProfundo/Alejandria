{
 "cells": [
  {
   "cell_type": "markdown",
   "id": "ec9e70bb-7590-453d-a8d3-812cafd38e4f",
   "metadata": {
    "jp-MarkdownHeadingCollapsed": true
   },
   "source": [
    "<figure>\n",
    "    <img src=\"../../figures/logo_ap.png\"  width=\"80\" height=\"80\" align=\"left\"/>\n",
    "</figure>\n",
    "\n",
    "# <span style=\"color:blue\"><blue><br><br><br><br><center>&nbsp;&nbsp;&nbsp;Aprendizaje Profundo</center></span>"
   ]
  },
  {
   "cell_type": "markdown",
   "id": "238a838e",
   "metadata": {},
   "source": [
    "# <span style=\"color:red\"><center>Librería Alejandría</center></span>"
   ]
  },
  {
   "cell_type": "markdown",
   "id": "90900f32-cc2c-4091-b8b5-a4ddae6d985b",
   "metadata": {
    "editable": true,
    "slideshow": {
     "slide_type": ""
    },
    "tags": []
   },
   "source": [
    "## <span style=\"color:green\"><center>Tema del Notebook</center></span>"
   ]
  },
  {
   "cell_type": "markdown",
   "id": "ce21be2b-d8e7-4ff8-b363-0618e20ddd43",
   "metadata": {
    "id": "U_obwR8tE-Dp"
   },
   "source": [
    "## <span style=\"color:blue\">Autores</span>"
   ]
  },
  {
   "cell_type": "markdown",
   "id": "67854eb0",
   "metadata": {},
   "source": [
    "1. Álvaro Montenegro, alvaro.montenegro@aprendizajeprofundo.ai\n",
    "1. Daniel Montenegro, daniel.montenegro@aprendizajeprofundo.ai"
   ]
  },
  {
   "cell_type": "markdown",
   "id": "54404e38",
   "metadata": {},
   "source": [
    "## <span style=\"color:blue\">Contenido</span>"
   ]
  },
  {
   "cell_type": "markdown",
   "id": "95e0fbf5",
   "metadata": {},
   "source": [
    "* [Librerías Necesarias](#Librerías-Necesarias)\n",
    "* [Sección X](#Sección-X)\n",
    "    * [Subsección X](#Subsección-X)\n",
    "* [Automatización](#Automatización)\n",
    "* [Conclusiones](#Conclusiones)\n",
    "* [Recomendaciones](#Recomendaciones)"
   ]
  },
  {
   "cell_type": "markdown",
   "id": "c4aeb6bb-639c-4e90-8bba-8e80dd8fd2f1",
   "metadata": {
    "id": "U_obwR8tE-Dp"
   },
   "source": [
    "## <span style=\"color:blue\">Librerías Necesarias</span>"
   ]
  },
  {
   "cell_type": "code",
   "execution_count": 1,
   "id": "69342fd9-67a4-4527-b96a-1e1e22686650",
   "metadata": {},
   "outputs": [],
   "source": [
    "# Ejemplo\n",
    "#import pandas as pd"
   ]
  },
  {
   "cell_type": "markdown",
   "id": "29011358-42e3-4aa8-b30e-fa848c6d7c2e",
   "metadata": {
    "id": "U_obwR8tE-Dp"
   },
   "source": [
    "## <span style=\"color:blue\">Sección X</span>"
   ]
  },
  {
   "cell_type": "markdown",
   "id": "b9267d9a-df22-438d-9b06-e78fdb738638",
   "metadata": {},
   "source": [
    "Texto de la sección X"
   ]
  },
  {
   "cell_type": "code",
   "execution_count": 2,
   "id": "8b77748a-35bc-4285-996b-7b15e0d74a01",
   "metadata": {},
   "outputs": [],
   "source": [
    "# Código de la sección X"
   ]
  },
  {
   "cell_type": "markdown",
   "id": "548b697f-8e7f-4c93-895a-d20db4633440",
   "metadata": {
    "id": "U_obwR8tE-Dp"
   },
   "source": [
    "### <span style=\"color:#4CC9F0\">Subsección X</span>"
   ]
  },
  {
   "cell_type": "markdown",
   "id": "ccb61fba-f736-408e-9227-f3679568f076",
   "metadata": {},
   "source": [
    "Texto de la subsección X"
   ]
  },
  {
   "cell_type": "code",
   "execution_count": 3,
   "id": "ecbe51a4-e1a5-444a-a5f8-6e1868706f43",
   "metadata": {},
   "outputs": [],
   "source": [
    "# Código de la subsección X"
   ]
  },
  {
   "cell_type": "markdown",
   "id": "872b840a-2698-47dd-b4dc-a9b4d72e9cf3",
   "metadata": {
    "id": "U_obwR8tE-Dp"
   },
   "source": [
    "## <span style=\"color:blue\">Automatización</span>"
   ]
  },
  {
   "cell_type": "markdown",
   "id": "636adabb-52c4-45b2-9037-bed9ee3850e0",
   "metadata": {},
   "source": [
    "Automatización del proceso"
   ]
  },
  {
   "cell_type": "markdown",
   "id": "f4198b5c",
   "metadata": {},
   "source": [
    "## <span style=\"color:blue\">Uso de la Automatización</span>"
   ]
  },
  {
   "cell_type": "markdown",
   "id": "5e38ff2d",
   "metadata": {},
   "source": [
    "Uso de la Automatización explicada"
   ]
  },
  {
   "cell_type": "markdown",
   "id": "72a1f88d-40be-4974-bd97-bd2c9452d935",
   "metadata": {
    "id": "U_obwR8tE-Dp"
   },
   "source": [
    "## <span style=\"color:blue\">Conclusiones</span>"
   ]
  },
  {
   "cell_type": "markdown",
   "id": "1a7a85eb-beb6-4333-a7d3-ba3e5464a436",
   "metadata": {},
   "source": [
    "Conclusiones del Notebook"
   ]
  },
  {
   "cell_type": "markdown",
   "id": "e6b1f3c0-4813-4cbd-b2c2-01d89f8ed6a9",
   "metadata": {
    "id": "U_obwR8tE-Dp"
   },
   "source": [
    "## <span style=\"color:blue\">Recomendaciones</span>"
   ]
  },
  {
   "cell_type": "markdown",
   "id": "6687ef35-2ae8-4c5f-ac6a-771e0ef6a25d",
   "metadata": {},
   "source": [
    "Recomendaciones del estudio hecho."
   ]
  },
  {
   "cell_type": "markdown",
   "id": "18f0ee6b",
   "metadata": {},
   "source": [
    "## <span style=\"color:blue\">Referencias</span>"
   ]
  },
  {
   "cell_type": "markdown",
   "id": "0434f720",
   "metadata": {},
   "source": [
    "1. [Referencia]()"
   ]
  }
 ],
 "metadata": {
  "kernelspec": {
   "display_name": "Python 3 (ipykernel)",
   "language": "python",
   "name": "python3"
  },
  "language_info": {
   "codemirror_mode": {
    "name": "ipython",
    "version": 3
   },
   "file_extension": ".py",
   "mimetype": "text/x-python",
   "name": "python",
   "nbconvert_exporter": "python",
   "pygments_lexer": "ipython3",
   "version": "3.12.2"
  }
 },
 "nbformat": 4,
 "nbformat_minor": 5
}
