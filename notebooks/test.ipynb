{
 "cells": [
  {
   "cell_type": "markdown",
   "id": "b607a7b3",
   "metadata": {},
   "source": [
    "# Título del Notebook\n",
    "Esta es una celda Markdown donde puedes escribir **texto formateado** y explicaciones."
   ]
  },
  {
   "cell_type": "code",
   "execution_count": 1,
   "id": "fb0f4c01",
   "metadata": {},
   "outputs": [],
   "source": [
    "print('Hola, mundo!')"
   ]
  }
 ],
 "metadata": {
  "kernelspec": {
   "display_name": "Python 3 (ipykernel)",
   "language": "python",
   "name": "python3"
  },
  "language_info": {
   "codemirror_mode": {
    "name": "ipython",
    "version": 3
   },
   "file_extension": ".py",
   "mimetype": "text/x-python",
   "name": "python",
   "nbconvert_exporter": "python",
   "pygments_lexer": "ipython3",
   "version": "3.10.15"
  },
  "panel-cell-order": [
   "3e7ac4a8",
   "ec0acc90"
  ]
 },
 "nbformat": 4,
 "nbformat_minor": 5
}
